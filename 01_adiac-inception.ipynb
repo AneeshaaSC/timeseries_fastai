{
 "cells": [
  {
   "cell_type": "code",
   "execution_count": 1,
   "metadata": {},
   "outputs": [],
   "source": [
    "%load_ext autoreload\n",
    "%autoreload 2"
   ]
  },
  {
   "cell_type": "code",
   "execution_count": 2,
   "metadata": {},
   "outputs": [],
   "source": [
    "import seaborn as sns\n",
    "import pandas as pd\n",
    "from pathlib import Path\n",
    "from utils import *\n",
    "from inception import *\n",
    "from models import *\n",
    "from ucr import *\n",
    "from sklearn.metrics import confusion_matrix\n",
    "\n",
    "import torch\n",
    "import torch.nn as nn\n",
    "import fastai\n",
    "from fastai.vision import *"
   ]
  },
  {
   "cell_type": "code",
   "execution_count": 3,
   "metadata": {},
   "outputs": [],
   "source": [
    "DATAPATH = Path.cwd()/'Univariate_arff'"
   ]
  },
  {
   "cell_type": "code",
   "execution_count": 4,
   "metadata": {},
   "outputs": [
    {
     "data": {
      "text/plain": [
       "[PosixPath('/home/tc256760/Documents/TimeSeries_fastai/Univariate_arff/ACSF1'),\n",
       " PosixPath('/home/tc256760/Documents/TimeSeries_fastai/Univariate_arff/Adiac'),\n",
       " PosixPath('/home/tc256760/Documents/TimeSeries_fastai/Univariate_arff/AllGestureWiimoteX'),\n",
       " PosixPath('/home/tc256760/Documents/TimeSeries_fastai/Univariate_arff/AllGestureWiimoteY'),\n",
       " PosixPath('/home/tc256760/Documents/TimeSeries_fastai/Univariate_arff/AllGestureWiimoteZ'),\n",
       " PosixPath('/home/tc256760/Documents/TimeSeries_fastai/Univariate_arff/ArrowHead'),\n",
       " PosixPath('/home/tc256760/Documents/TimeSeries_fastai/Univariate_arff/BME'),\n",
       " PosixPath('/home/tc256760/Documents/TimeSeries_fastai/Univariate_arff/Beef'),\n",
       " PosixPath('/home/tc256760/Documents/TimeSeries_fastai/Univariate_arff/BeetleFly'),\n",
       " PosixPath('/home/tc256760/Documents/TimeSeries_fastai/Univariate_arff/BirdChicken'),\n",
       " PosixPath('/home/tc256760/Documents/TimeSeries_fastai/Univariate_arff/CBF'),\n",
       " PosixPath('/home/tc256760/Documents/TimeSeries_fastai/Univariate_arff/Car'),\n",
       " PosixPath('/home/tc256760/Documents/TimeSeries_fastai/Univariate_arff/Chinatown'),\n",
       " PosixPath('/home/tc256760/Documents/TimeSeries_fastai/Univariate_arff/ChlorineConcentration'),\n",
       " PosixPath('/home/tc256760/Documents/TimeSeries_fastai/Univariate_arff/CinCECGTorso'),\n",
       " PosixPath('/home/tc256760/Documents/TimeSeries_fastai/Univariate_arff/Coffee'),\n",
       " PosixPath('/home/tc256760/Documents/TimeSeries_fastai/Univariate_arff/Computers'),\n",
       " PosixPath('/home/tc256760/Documents/TimeSeries_fastai/Univariate_arff/CricketX'),\n",
       " PosixPath('/home/tc256760/Documents/TimeSeries_fastai/Univariate_arff/CricketY'),\n",
       " PosixPath('/home/tc256760/Documents/TimeSeries_fastai/Univariate_arff/CricketZ'),\n",
       " PosixPath('/home/tc256760/Documents/TimeSeries_fastai/Univariate_arff/Crop'),\n",
       " PosixPath('/home/tc256760/Documents/TimeSeries_fastai/Univariate_arff/DataSummaryExpanded_NoMissingVals.xlsx'),\n",
       " PosixPath('/home/tc256760/Documents/TimeSeries_fastai/Univariate_arff/DataSummaryExpanded_v03.xlsx'),\n",
       " PosixPath('/home/tc256760/Documents/TimeSeries_fastai/Univariate_arff/DiatomSizeReduction'),\n",
       " PosixPath('/home/tc256760/Documents/TimeSeries_fastai/Univariate_arff/DistalPhalanxOutlineAgeGroup'),\n",
       " PosixPath('/home/tc256760/Documents/TimeSeries_fastai/Univariate_arff/DistalPhalanxOutlineCorrect'),\n",
       " PosixPath('/home/tc256760/Documents/TimeSeries_fastai/Univariate_arff/DistalPhalanxTW'),\n",
       " PosixPath('/home/tc256760/Documents/TimeSeries_fastai/Univariate_arff/DodgerLoopDay'),\n",
       " PosixPath('/home/tc256760/Documents/TimeSeries_fastai/Univariate_arff/DodgerLoopGame'),\n",
       " PosixPath('/home/tc256760/Documents/TimeSeries_fastai/Univariate_arff/DodgerLoopWeekend'),\n",
       " PosixPath('/home/tc256760/Documents/TimeSeries_fastai/Univariate_arff/ECG200'),\n",
       " PosixPath('/home/tc256760/Documents/TimeSeries_fastai/Univariate_arff/ECG5000'),\n",
       " PosixPath('/home/tc256760/Documents/TimeSeries_fastai/Univariate_arff/ECGFiveDays'),\n",
       " PosixPath('/home/tc256760/Documents/TimeSeries_fastai/Univariate_arff/EOGHorizontalSignal'),\n",
       " PosixPath('/home/tc256760/Documents/TimeSeries_fastai/Univariate_arff/EOGVerticalSignal'),\n",
       " PosixPath('/home/tc256760/Documents/TimeSeries_fastai/Univariate_arff/Earthquakes'),\n",
       " PosixPath('/home/tc256760/Documents/TimeSeries_fastai/Univariate_arff/ElectricDevices'),\n",
       " PosixPath('/home/tc256760/Documents/TimeSeries_fastai/Univariate_arff/EthanolLevel'),\n",
       " PosixPath('/home/tc256760/Documents/TimeSeries_fastai/Univariate_arff/FaceAll'),\n",
       " PosixPath('/home/tc256760/Documents/TimeSeries_fastai/Univariate_arff/FaceFour'),\n",
       " PosixPath('/home/tc256760/Documents/TimeSeries_fastai/Univariate_arff/FacesUCR'),\n",
       " PosixPath('/home/tc256760/Documents/TimeSeries_fastai/Univariate_arff/FiftyWords'),\n",
       " PosixPath('/home/tc256760/Documents/TimeSeries_fastai/Univariate_arff/Fish'),\n",
       " PosixPath('/home/tc256760/Documents/TimeSeries_fastai/Univariate_arff/FordA'),\n",
       " PosixPath('/home/tc256760/Documents/TimeSeries_fastai/Univariate_arff/FordB'),\n",
       " PosixPath('/home/tc256760/Documents/TimeSeries_fastai/Univariate_arff/FreezerRegularTrain'),\n",
       " PosixPath('/home/tc256760/Documents/TimeSeries_fastai/Univariate_arff/FreezerSmallTrain'),\n",
       " PosixPath('/home/tc256760/Documents/TimeSeries_fastai/Univariate_arff/Fungi'),\n",
       " PosixPath('/home/tc256760/Documents/TimeSeries_fastai/Univariate_arff/GestureMidAirD1'),\n",
       " PosixPath('/home/tc256760/Documents/TimeSeries_fastai/Univariate_arff/GestureMidAirD2'),\n",
       " PosixPath('/home/tc256760/Documents/TimeSeries_fastai/Univariate_arff/GestureMidAirD3'),\n",
       " PosixPath('/home/tc256760/Documents/TimeSeries_fastai/Univariate_arff/GesturePebbleZ1'),\n",
       " PosixPath('/home/tc256760/Documents/TimeSeries_fastai/Univariate_arff/GesturePebbleZ2'),\n",
       " PosixPath('/home/tc256760/Documents/TimeSeries_fastai/Univariate_arff/GunPoint'),\n",
       " PosixPath('/home/tc256760/Documents/TimeSeries_fastai/Univariate_arff/GunPointAgeSpan'),\n",
       " PosixPath('/home/tc256760/Documents/TimeSeries_fastai/Univariate_arff/GunPointMaleVersusFemale'),\n",
       " PosixPath('/home/tc256760/Documents/TimeSeries_fastai/Univariate_arff/GunPointOldVersusYoung'),\n",
       " PosixPath('/home/tc256760/Documents/TimeSeries_fastai/Univariate_arff/Ham'),\n",
       " PosixPath('/home/tc256760/Documents/TimeSeries_fastai/Univariate_arff/HandOutlines'),\n",
       " PosixPath('/home/tc256760/Documents/TimeSeries_fastai/Univariate_arff/Haptics'),\n",
       " PosixPath('/home/tc256760/Documents/TimeSeries_fastai/Univariate_arff/Herring'),\n",
       " PosixPath('/home/tc256760/Documents/TimeSeries_fastai/Univariate_arff/HouseTwenty'),\n",
       " PosixPath('/home/tc256760/Documents/TimeSeries_fastai/Univariate_arff/InlineSkate'),\n",
       " PosixPath('/home/tc256760/Documents/TimeSeries_fastai/Univariate_arff/InsectEPGRegularTrain'),\n",
       " PosixPath('/home/tc256760/Documents/TimeSeries_fastai/Univariate_arff/InsectEPGSmallTrain'),\n",
       " PosixPath('/home/tc256760/Documents/TimeSeries_fastai/Univariate_arff/InsectWingbeatSound'),\n",
       " PosixPath('/home/tc256760/Documents/TimeSeries_fastai/Univariate_arff/ItalyPowerDemand'),\n",
       " PosixPath('/home/tc256760/Documents/TimeSeries_fastai/Univariate_arff/LargeKitchenAppliances'),\n",
       " PosixPath('/home/tc256760/Documents/TimeSeries_fastai/Univariate_arff/Lightning2'),\n",
       " PosixPath('/home/tc256760/Documents/TimeSeries_fastai/Univariate_arff/Lightning7'),\n",
       " PosixPath('/home/tc256760/Documents/TimeSeries_fastai/Univariate_arff/Mallat'),\n",
       " PosixPath('/home/tc256760/Documents/TimeSeries_fastai/Univariate_arff/Meat'),\n",
       " PosixPath('/home/tc256760/Documents/TimeSeries_fastai/Univariate_arff/MedicalImages'),\n",
       " PosixPath('/home/tc256760/Documents/TimeSeries_fastai/Univariate_arff/MelbournePedestrian'),\n",
       " PosixPath('/home/tc256760/Documents/TimeSeries_fastai/Univariate_arff/MiddlePhalanxOutlineAgeGroup'),\n",
       " PosixPath('/home/tc256760/Documents/TimeSeries_fastai/Univariate_arff/MiddlePhalanxOutlineCorrect'),\n",
       " PosixPath('/home/tc256760/Documents/TimeSeries_fastai/Univariate_arff/MiddlePhalanxTW'),\n",
       " PosixPath('/home/tc256760/Documents/TimeSeries_fastai/Univariate_arff/MixedShapesRegularTrain'),\n",
       " PosixPath('/home/tc256760/Documents/TimeSeries_fastai/Univariate_arff/MixedShapesSmallTrain'),\n",
       " PosixPath('/home/tc256760/Documents/TimeSeries_fastai/Univariate_arff/MoteStrain'),\n",
       " PosixPath('/home/tc256760/Documents/TimeSeries_fastai/Univariate_arff/NonInvasiveFetalECGThorax1'),\n",
       " PosixPath('/home/tc256760/Documents/TimeSeries_fastai/Univariate_arff/NonInvasiveFetalECGThorax2'),\n",
       " PosixPath('/home/tc256760/Documents/TimeSeries_fastai/Univariate_arff/OSULeaf'),\n",
       " PosixPath('/home/tc256760/Documents/TimeSeries_fastai/Univariate_arff/OliveOil'),\n",
       " PosixPath('/home/tc256760/Documents/TimeSeries_fastai/Univariate_arff/PLAID'),\n",
       " PosixPath('/home/tc256760/Documents/TimeSeries_fastai/Univariate_arff/PhalangesOutlinesCorrect'),\n",
       " PosixPath('/home/tc256760/Documents/TimeSeries_fastai/Univariate_arff/Phoneme'),\n",
       " PosixPath('/home/tc256760/Documents/TimeSeries_fastai/Univariate_arff/PickupGestureWiimoteZ'),\n",
       " PosixPath('/home/tc256760/Documents/TimeSeries_fastai/Univariate_arff/Pictures'),\n",
       " PosixPath('/home/tc256760/Documents/TimeSeries_fastai/Univariate_arff/PigAirwayPressure'),\n",
       " PosixPath('/home/tc256760/Documents/TimeSeries_fastai/Univariate_arff/PigArtPressure'),\n",
       " PosixPath('/home/tc256760/Documents/TimeSeries_fastai/Univariate_arff/PigCVP'),\n",
       " PosixPath('/home/tc256760/Documents/TimeSeries_fastai/Univariate_arff/Plane'),\n",
       " PosixPath('/home/tc256760/Documents/TimeSeries_fastai/Univariate_arff/PowerCons'),\n",
       " PosixPath('/home/tc256760/Documents/TimeSeries_fastai/Univariate_arff/ProximalPhalanxOutlineAgeGroup'),\n",
       " PosixPath('/home/tc256760/Documents/TimeSeries_fastai/Univariate_arff/ProximalPhalanxOutlineCorrect'),\n",
       " PosixPath('/home/tc256760/Documents/TimeSeries_fastai/Univariate_arff/ProximalPhalanxTW'),\n",
       " PosixPath('/home/tc256760/Documents/TimeSeries_fastai/Univariate_arff/RefrigerationDevices'),\n",
       " PosixPath('/home/tc256760/Documents/TimeSeries_fastai/Univariate_arff/Rock'),\n",
       " PosixPath('/home/tc256760/Documents/TimeSeries_fastai/Univariate_arff/ScreenType'),\n",
       " PosixPath('/home/tc256760/Documents/TimeSeries_fastai/Univariate_arff/SemgHandGenderCh2'),\n",
       " PosixPath('/home/tc256760/Documents/TimeSeries_fastai/Univariate_arff/SemgHandMovementCh2'),\n",
       " PosixPath('/home/tc256760/Documents/TimeSeries_fastai/Univariate_arff/SemgHandSubjectCh2'),\n",
       " PosixPath('/home/tc256760/Documents/TimeSeries_fastai/Univariate_arff/ShakeGestureWiimoteZ'),\n",
       " PosixPath('/home/tc256760/Documents/TimeSeries_fastai/Univariate_arff/ShapeletSim'),\n",
       " PosixPath('/home/tc256760/Documents/TimeSeries_fastai/Univariate_arff/ShapesAll'),\n",
       " PosixPath('/home/tc256760/Documents/TimeSeries_fastai/Univariate_arff/SmallKitchenAppliances'),\n",
       " PosixPath('/home/tc256760/Documents/TimeSeries_fastai/Univariate_arff/SmoothSubspace'),\n",
       " PosixPath('/home/tc256760/Documents/TimeSeries_fastai/Univariate_arff/SonyAIBORobotSurface1'),\n",
       " PosixPath('/home/tc256760/Documents/TimeSeries_fastai/Univariate_arff/SonyAIBORobotSurface2'),\n",
       " PosixPath('/home/tc256760/Documents/TimeSeries_fastai/Univariate_arff/StarLightCurves'),\n",
       " PosixPath('/home/tc256760/Documents/TimeSeries_fastai/Univariate_arff/Strawberry'),\n",
       " PosixPath('/home/tc256760/Documents/TimeSeries_fastai/Univariate_arff/SummaryData.csv'),\n",
       " PosixPath('/home/tc256760/Documents/TimeSeries_fastai/Univariate_arff/SwedishLeaf'),\n",
       " PosixPath('/home/tc256760/Documents/TimeSeries_fastai/Univariate_arff/Symbols'),\n",
       " PosixPath('/home/tc256760/Documents/TimeSeries_fastai/Univariate_arff/SyntheticControl'),\n",
       " PosixPath('/home/tc256760/Documents/TimeSeries_fastai/Univariate_arff/ToeSegmentation1'),\n",
       " PosixPath('/home/tc256760/Documents/TimeSeries_fastai/Univariate_arff/ToeSegmentation2'),\n",
       " PosixPath('/home/tc256760/Documents/TimeSeries_fastai/Univariate_arff/Trace'),\n",
       " PosixPath('/home/tc256760/Documents/TimeSeries_fastai/Univariate_arff/TwoClassProblems.csv'),\n",
       " PosixPath('/home/tc256760/Documents/TimeSeries_fastai/Univariate_arff/TwoLeadECG'),\n",
       " PosixPath('/home/tc256760/Documents/TimeSeries_fastai/Univariate_arff/TwoPatterns'),\n",
       " PosixPath('/home/tc256760/Documents/TimeSeries_fastai/Univariate_arff/UMD'),\n",
       " PosixPath('/home/tc256760/Documents/TimeSeries_fastai/Univariate_arff/UWaveGestureLibraryAll'),\n",
       " PosixPath('/home/tc256760/Documents/TimeSeries_fastai/Univariate_arff/UWaveGestureLibraryX'),\n",
       " PosixPath('/home/tc256760/Documents/TimeSeries_fastai/Univariate_arff/UWaveGestureLibraryY'),\n",
       " PosixPath('/home/tc256760/Documents/TimeSeries_fastai/Univariate_arff/UWaveGestureLibraryZ'),\n",
       " PosixPath('/home/tc256760/Documents/TimeSeries_fastai/Univariate_arff/Wafer'),\n",
       " PosixPath('/home/tc256760/Documents/TimeSeries_fastai/Univariate_arff/Wine'),\n",
       " PosixPath('/home/tc256760/Documents/TimeSeries_fastai/Univariate_arff/WordSynonyms'),\n",
       " PosixPath('/home/tc256760/Documents/TimeSeries_fastai/Univariate_arff/Worms'),\n",
       " PosixPath('/home/tc256760/Documents/TimeSeries_fastai/Univariate_arff/WormsTwoClass'),\n",
       " PosixPath('/home/tc256760/Documents/TimeSeries_fastai/Univariate_arff/Yoga'),\n",
       " PosixPath('/home/tc256760/Documents/TimeSeries_fastai/Univariate_arff/dataset.csv'),\n",
       " PosixPath('/home/tc256760/Documents/TimeSeries_fastai/Univariate_arff/newProblemsUpload.csv')]"
      ]
     },
     "execution_count": 4,
     "metadata": {},
     "output_type": "execute_result"
    }
   ],
   "source": [
    "sorted(list(DATAPATH.iterdir()))"
   ]
  },
  {
   "cell_type": "code",
   "execution_count": 5,
   "metadata": {
    "scrolled": true
   },
   "outputs": [
    {
     "name": "stdout",
     "output_type": "stream",
     "text": [
      "Loading files from: /home/tc256760/Documents/TimeSeries_fastai/Univariate_arff/Adiac\n"
     ]
    }
   ],
   "source": [
    "task = 'Adiac'\n",
    "df_train, df_test = load_df(DATAPATH, task)"
   ]
  },
  {
   "cell_type": "code",
   "execution_count": 6,
   "metadata": {},
   "outputs": [
    {
     "data": {
      "text/plain": [
       "37"
      ]
     },
     "execution_count": 6,
     "metadata": {},
     "output_type": "execute_result"
    }
   ],
   "source": [
    "num_classes = df_train.target.nunique(); num_classes"
   ]
  },
  {
   "cell_type": "markdown",
   "metadata": {},
   "source": [
    "# DL"
   ]
  },
  {
   "cell_type": "code",
   "execution_count": 7,
   "metadata": {},
   "outputs": [],
   "source": [
    "x_train, y_train, x_test, y_test = process_dfs(df_train, df_test)"
   ]
  },
  {
   "cell_type": "code",
   "execution_count": 8,
   "metadata": {},
   "outputs": [
    {
     "data": {
      "text/plain": [
       "((390, 176), (391, 176))"
      ]
     },
     "execution_count": 8,
     "metadata": {},
     "output_type": "execute_result"
    }
   ],
   "source": [
    "x_train.shape, x_test.shape"
   ]
  },
  {
   "cell_type": "code",
   "execution_count": 9,
   "metadata": {},
   "outputs": [],
   "source": [
    "tr_ds, val_ds = to_TDS(x_train, y_train), to_TDS(x_test, y_test)"
   ]
  },
  {
   "cell_type": "code",
   "execution_count": 10,
   "metadata": {},
   "outputs": [],
   "source": [
    "db = create_databunch(tr_ds, val_ds, 32)"
   ]
  },
  {
   "cell_type": "markdown",
   "metadata": {},
   "source": [
    "Testing dims at input/output"
   ]
  },
  {
   "cell_type": "code",
   "execution_count": 11,
   "metadata": {},
   "outputs": [
    {
     "name": "stdout",
     "output_type": "stream",
     "text": [
      "torch.Size([32, 1, 176]) torch.Size([32])\n",
      "torch.Size([32, 1, 176]) torch.Size([32])\n",
      "torch.Size([32, 1, 176]) torch.Size([32])\n",
      "torch.Size([32, 1, 176]) torch.Size([32])\n",
      "torch.Size([32, 1, 176]) torch.Size([32])\n",
      "torch.Size([32, 1, 176]) torch.Size([32])\n",
      "torch.Size([32, 1, 176]) torch.Size([32])\n",
      "torch.Size([32, 1, 176]) torch.Size([32])\n",
      "torch.Size([32, 1, 176]) torch.Size([32])\n",
      "torch.Size([32, 1, 176]) torch.Size([32])\n",
      "torch.Size([32, 1, 176]) torch.Size([32])\n",
      "torch.Size([32, 1, 176]) torch.Size([32])\n",
      "torch.Size([6, 1, 176]) torch.Size([6])\n"
     ]
    }
   ],
   "source": [
    "for tx, ty in db.train_dl:\n",
    "    print(tx.shape, ty.shape)"
   ]
  },
  {
   "cell_type": "markdown",
   "metadata": {},
   "source": [
    "## Inception Time"
   ]
  },
  {
   "cell_type": "code",
   "execution_count": 12,
   "metadata": {},
   "outputs": [],
   "source": [
    "model = create_inception(1, num_classes).cuda()"
   ]
  },
  {
   "cell_type": "code",
   "execution_count": 13,
   "metadata": {},
   "outputs": [],
   "source": [
    "# model = create_inception_resnet(1, num_classes, kss=[39, 19, 9], conv_sizes=[128, 128, 256]).cuda()"
   ]
  },
  {
   "cell_type": "code",
   "execution_count": 14,
   "metadata": {
    "scrolled": false
   },
   "outputs": [
    {
     "data": {
      "text/plain": [
       "Sequential(\n",
       "  (0): InceptionModule(\n",
       "    (convs): ModuleList(\n",
       "      (0): Conv1d(1, 32, kernel_size=(39,), stride=(1,), padding=(19,), bias=False)\n",
       "      (1): Conv1d(1, 32, kernel_size=(19,), stride=(1,), padding=(9,), bias=False)\n",
       "      (2): Conv1d(1, 32, kernel_size=(9,), stride=(1,), padding=(4,), bias=False)\n",
       "    )\n",
       "    (conv_bottle): Sequential(\n",
       "      (0): MaxPool1d(kernel_size=3, stride=1, padding=1, dilation=1, ceil_mode=False)\n",
       "      (1): Conv1d(1, 32, kernel_size=(1,), stride=(1,), bias=False)\n",
       "    )\n",
       "    (bn_relu): Sequential(\n",
       "      (0): BatchNorm1d(128, eps=1e-05, momentum=0.1, affine=True, track_running_stats=True)\n",
       "      (1): ReLU()\n",
       "    )\n",
       "  )\n",
       "  (1): SequentialEx(\n",
       "    (layers): ModuleList(\n",
       "      (0): Sequential(\n",
       "        (0): Conv1d(128, 128, kernel_size=(19,), stride=(1,), padding=(9,), bias=False)\n",
       "        (1): BatchNorm1d(128, eps=1e-05, momentum=0.1, affine=True, track_running_stats=True)\n",
       "        (2): ReLU(inplace=True)\n",
       "      )\n",
       "      (1): Sequential(\n",
       "        (0): Conv1d(128, 128, kernel_size=(9,), stride=(1,), padding=(4,), bias=False)\n",
       "        (1): BatchNorm1d(128, eps=1e-05, momentum=0.1, affine=True, track_running_stats=True)\n",
       "      )\n",
       "      (2): MergeLayer()\n",
       "    )\n",
       "  )\n",
       "  (2): Sequential(\n",
       "    (0): Conv1d(128, 128, kernel_size=(39,), stride=(1,), padding=(19,), bias=False)\n",
       "    (1): BatchNorm1d(128, eps=1e-05, momentum=0.1, affine=True, track_running_stats=True)\n",
       "    (2): ReLU(inplace=True)\n",
       "  )\n",
       "  (3): SequentialEx(\n",
       "    (layers): ModuleList(\n",
       "      (0): Sequential(\n",
       "        (0): Conv1d(128, 128, kernel_size=(19,), stride=(1,), padding=(9,), bias=False)\n",
       "        (1): BatchNorm1d(128, eps=1e-05, momentum=0.1, affine=True, track_running_stats=True)\n",
       "        (2): ReLU(inplace=True)\n",
       "      )\n",
       "      (1): Sequential(\n",
       "        (0): Conv1d(128, 128, kernel_size=(9,), stride=(1,), padding=(4,), bias=False)\n",
       "        (1): BatchNorm1d(128, eps=1e-05, momentum=0.1, affine=True, track_running_stats=True)\n",
       "      )\n",
       "      (2): MergeLayer()\n",
       "    )\n",
       "  )\n",
       "  (4): Sequential(\n",
       "    (0): Conv1d(128, 256, kernel_size=(39,), stride=(1,), padding=(19,), bias=False)\n",
       "    (1): BatchNorm1d(256, eps=1e-05, momentum=0.1, affine=True, track_running_stats=True)\n",
       "    (2): ReLU(inplace=True)\n",
       "  )\n",
       "  (5): SequentialEx(\n",
       "    (layers): ModuleList(\n",
       "      (0): Sequential(\n",
       "        (0): Conv1d(256, 256, kernel_size=(19,), stride=(1,), padding=(9,), bias=False)\n",
       "        (1): BatchNorm1d(256, eps=1e-05, momentum=0.1, affine=True, track_running_stats=True)\n",
       "        (2): ReLU(inplace=True)\n",
       "      )\n",
       "      (1): Sequential(\n",
       "        (0): Conv1d(256, 256, kernel_size=(9,), stride=(1,), padding=(4,), bias=False)\n",
       "        (1): BatchNorm1d(256, eps=1e-05, momentum=0.1, affine=True, track_running_stats=True)\n",
       "      )\n",
       "      (2): MergeLayer()\n",
       "    )\n",
       "  )\n",
       "  (6): AdaptiveConcatPool1d(\n",
       "    (ap): AdaptiveAvgPool1d(output_size=1)\n",
       "    (mp): AdaptiveMaxPool1d(output_size=1)\n",
       "  )\n",
       "  (7): Flatten()\n",
       "  (8): Linear(in_features=512, out_features=37, bias=True)\n",
       ")"
      ]
     },
     "execution_count": 14,
     "metadata": {},
     "output_type": "execute_result"
    }
   ],
   "source": [
    "model"
   ]
  },
  {
   "cell_type": "code",
   "execution_count": 15,
   "metadata": {},
   "outputs": [
    {
     "data": {
      "text/plain": [
       "torch.Size([6, 37])"
      ]
     },
     "execution_count": 15,
     "metadata": {},
     "output_type": "execute_result"
    }
   ],
   "source": [
    "model(tx).shape"
   ]
  },
  {
   "cell_type": "code",
   "execution_count": 17,
   "metadata": {},
   "outputs": [],
   "source": [
    "learn_res = fastai.basic_train.Learner(db, \n",
    "                                       model, \n",
    "                                       loss_func = CrossEntropyFlat(), \n",
    "                                       metrics=[error_rate],\n",
    "                                       wd=1e-2)"
   ]
  },
  {
   "cell_type": "code",
   "execution_count": 19,
   "metadata": {},
   "outputs": [
    {
     "data": {
      "text/html": [],
      "text/plain": [
       "<IPython.core.display.HTML object>"
      ]
     },
     "metadata": {},
     "output_type": "display_data"
    },
    {
     "name": "stdout",
     "output_type": "stream",
     "text": [
      "LR Finder is complete, type {learner_name}.recorder.plot() to see the graph.\n",
      "Min numerical gradient: 1.91E-06\n",
      "Min loss divided by 10: 1.74E-04\n"
     ]
    },
    {
     "data": {
      "image/png": "[encoded data removed]",
      "text/plain": [
       "<Figure size 432x288 with 1 Axes>"
      ]
     },
     "metadata": {
      "needs_background": "light"
     },
     "output_type": "display_data"
    }
   ],
   "source": [
    "learn_res.lr_find(); learn_res.recorder.plot(suggestion=True)"
   ]
  },
  {
   "cell_type": "code",
   "execution_count": 20,
   "metadata": {
    "scrolled": true
   },
   "outputs": [
    {
     "data": {
      "text/html": [
       "<table border=\"1\" class=\"dataframe\">\n",
       "  <thead>\n",
       "    <tr style=\"text-align: left;\">\n",
       "      <th>epoch</th>\n",
       "      <th>train_loss</th>\n",
       "      <th>valid_loss</th>\n",
       "      <th>error_rate</th>\n",
       "      <th>time</th>\n",
       "    </tr>\n",
       "  </thead>\n",
       "  <tbody>\n",
       "    <tr>\n",
       "      <td>0</td>\n",
       "      <td>3.840801</td>\n",
       "      <td>4.158364</td>\n",
       "      <td>0.953964</td>\n",
       "      <td>00:00</td>\n",
       "    </tr>\n",
       "    <tr>\n",
       "      <td>1</td>\n",
       "      <td>3.747856</td>\n",
       "      <td>3.733966</td>\n",
       "      <td>0.971867</td>\n",
       "      <td>00:00</td>\n",
       "    </tr>\n",
       "    <tr>\n",
       "      <td>2</td>\n",
       "      <td>3.707987</td>\n",
       "      <td>3.588137</td>\n",
       "      <td>0.951407</td>\n",
       "      <td>00:00</td>\n",
       "    </tr>\n",
       "    <tr>\n",
       "      <td>3</td>\n",
       "      <td>3.636826</td>\n",
       "      <td>3.489943</td>\n",
       "      <td>0.946292</td>\n",
       "      <td>00:00</td>\n",
       "    </tr>\n",
       "    <tr>\n",
       "      <td>4</td>\n",
       "      <td>3.544275</td>\n",
       "      <td>3.281200</td>\n",
       "      <td>0.915601</td>\n",
       "      <td>00:00</td>\n",
       "    </tr>\n",
       "    <tr>\n",
       "      <td>5</td>\n",
       "      <td>3.448336</td>\n",
       "      <td>3.153179</td>\n",
       "      <td>0.884910</td>\n",
       "      <td>00:00</td>\n",
       "    </tr>\n",
       "    <tr>\n",
       "      <td>6</td>\n",
       "      <td>3.325364</td>\n",
       "      <td>2.940802</td>\n",
       "      <td>0.820972</td>\n",
       "      <td>00:00</td>\n",
       "    </tr>\n",
       "    <tr>\n",
       "      <td>7</td>\n",
       "      <td>3.189197</td>\n",
       "      <td>2.954613</td>\n",
       "      <td>0.861893</td>\n",
       "      <td>00:00</td>\n",
       "    </tr>\n",
       "    <tr>\n",
       "      <td>8</td>\n",
       "      <td>3.064853</td>\n",
       "      <td>2.736009</td>\n",
       "      <td>0.823529</td>\n",
       "      <td>00:00</td>\n",
       "    </tr>\n",
       "    <tr>\n",
       "      <td>9</td>\n",
       "      <td>2.946997</td>\n",
       "      <td>2.480475</td>\n",
       "      <td>0.744246</td>\n",
       "      <td>00:00</td>\n",
       "    </tr>\n",
       "    <tr>\n",
       "      <td>10</td>\n",
       "      <td>2.826156</td>\n",
       "      <td>2.623057</td>\n",
       "      <td>0.795396</td>\n",
       "      <td>00:00</td>\n",
       "    </tr>\n",
       "    <tr>\n",
       "      <td>11</td>\n",
       "      <td>2.690239</td>\n",
       "      <td>2.321298</td>\n",
       "      <td>0.680307</td>\n",
       "      <td>00:00</td>\n",
       "    </tr>\n",
       "    <tr>\n",
       "      <td>12</td>\n",
       "      <td>2.549282</td>\n",
       "      <td>2.417078</td>\n",
       "      <td>0.769821</td>\n",
       "      <td>00:00</td>\n",
       "    </tr>\n",
       "    <tr>\n",
       "      <td>13</td>\n",
       "      <td>2.389435</td>\n",
       "      <td>2.022121</td>\n",
       "      <td>0.613811</td>\n",
       "      <td>00:00</td>\n",
       "    </tr>\n",
       "    <tr>\n",
       "      <td>14</td>\n",
       "      <td>2.263449</td>\n",
       "      <td>2.758945</td>\n",
       "      <td>0.803069</td>\n",
       "      <td>00:00</td>\n",
       "    </tr>\n",
       "    <tr>\n",
       "      <td>15</td>\n",
       "      <td>2.149103</td>\n",
       "      <td>1.683241</td>\n",
       "      <td>0.475703</td>\n",
       "      <td>00:00</td>\n",
       "    </tr>\n",
       "    <tr>\n",
       "      <td>16</td>\n",
       "      <td>2.037515</td>\n",
       "      <td>1.571821</td>\n",
       "      <td>0.514067</td>\n",
       "      <td>00:00</td>\n",
       "    </tr>\n",
       "    <tr>\n",
       "      <td>17</td>\n",
       "      <td>1.928038</td>\n",
       "      <td>1.495976</td>\n",
       "      <td>0.409207</td>\n",
       "      <td>00:00</td>\n",
       "    </tr>\n",
       "    <tr>\n",
       "      <td>18</td>\n",
       "      <td>1.840780</td>\n",
       "      <td>1.502650</td>\n",
       "      <td>0.496164</td>\n",
       "      <td>00:00</td>\n",
       "    </tr>\n",
       "    <tr>\n",
       "      <td>19</td>\n",
       "      <td>1.752094</td>\n",
       "      <td>1.458846</td>\n",
       "      <td>0.457801</td>\n",
       "      <td>00:00</td>\n",
       "    </tr>\n",
       "    <tr>\n",
       "      <td>20</td>\n",
       "      <td>1.639820</td>\n",
       "      <td>1.406075</td>\n",
       "      <td>0.404092</td>\n",
       "      <td>00:00</td>\n",
       "    </tr>\n",
       "    <tr>\n",
       "      <td>21</td>\n",
       "      <td>1.534443</td>\n",
       "      <td>1.591895</td>\n",
       "      <td>0.503836</td>\n",
       "      <td>00:00</td>\n",
       "    </tr>\n",
       "    <tr>\n",
       "      <td>22</td>\n",
       "      <td>1.455945</td>\n",
       "      <td>1.621980</td>\n",
       "      <td>0.496164</td>\n",
       "      <td>00:00</td>\n",
       "    </tr>\n",
       "    <tr>\n",
       "      <td>23</td>\n",
       "      <td>1.378498</td>\n",
       "      <td>1.373787</td>\n",
       "      <td>0.421995</td>\n",
       "      <td>00:00</td>\n",
       "    </tr>\n",
       "    <tr>\n",
       "      <td>24</td>\n",
       "      <td>1.303891</td>\n",
       "      <td>1.077523</td>\n",
       "      <td>0.289003</td>\n",
       "      <td>00:00</td>\n",
       "    </tr>\n",
       "    <tr>\n",
       "      <td>25</td>\n",
       "      <td>1.213489</td>\n",
       "      <td>1.433999</td>\n",
       "      <td>0.447570</td>\n",
       "      <td>00:00</td>\n",
       "    </tr>\n",
       "    <tr>\n",
       "      <td>26</td>\n",
       "      <td>1.155387</td>\n",
       "      <td>1.451860</td>\n",
       "      <td>0.473146</td>\n",
       "      <td>00:00</td>\n",
       "    </tr>\n",
       "    <tr>\n",
       "      <td>27</td>\n",
       "      <td>1.116493</td>\n",
       "      <td>1.081032</td>\n",
       "      <td>0.324808</td>\n",
       "      <td>00:00</td>\n",
       "    </tr>\n",
       "    <tr>\n",
       "      <td>28</td>\n",
       "      <td>1.043504</td>\n",
       "      <td>1.004019</td>\n",
       "      <td>0.273657</td>\n",
       "      <td>00:00</td>\n",
       "    </tr>\n",
       "    <tr>\n",
       "      <td>29</td>\n",
       "      <td>0.988208</td>\n",
       "      <td>1.245996</td>\n",
       "      <td>0.401535</td>\n",
       "      <td>00:00</td>\n",
       "    </tr>\n",
       "    <tr>\n",
       "      <td>30</td>\n",
       "      <td>0.939270</td>\n",
       "      <td>1.495136</td>\n",
       "      <td>0.439898</td>\n",
       "      <td>00:00</td>\n",
       "    </tr>\n",
       "    <tr>\n",
       "      <td>31</td>\n",
       "      <td>0.875527</td>\n",
       "      <td>1.217203</td>\n",
       "      <td>0.396419</td>\n",
       "      <td>00:00</td>\n",
       "    </tr>\n",
       "    <tr>\n",
       "      <td>32</td>\n",
       "      <td>0.851702</td>\n",
       "      <td>1.022612</td>\n",
       "      <td>0.329923</td>\n",
       "      <td>00:00</td>\n",
       "    </tr>\n",
       "    <tr>\n",
       "      <td>33</td>\n",
       "      <td>0.830010</td>\n",
       "      <td>1.723105</td>\n",
       "      <td>0.488491</td>\n",
       "      <td>00:00</td>\n",
       "    </tr>\n",
       "    <tr>\n",
       "      <td>34</td>\n",
       "      <td>0.826525</td>\n",
       "      <td>0.989759</td>\n",
       "      <td>0.306905</td>\n",
       "      <td>00:00</td>\n",
       "    </tr>\n",
       "    <tr>\n",
       "      <td>35</td>\n",
       "      <td>0.804111</td>\n",
       "      <td>0.941360</td>\n",
       "      <td>0.304348</td>\n",
       "      <td>00:00</td>\n",
       "    </tr>\n",
       "    <tr>\n",
       "      <td>36</td>\n",
       "      <td>0.761327</td>\n",
       "      <td>1.137176</td>\n",
       "      <td>0.358056</td>\n",
       "      <td>00:00</td>\n",
       "    </tr>\n",
       "    <tr>\n",
       "      <td>37</td>\n",
       "      <td>0.708513</td>\n",
       "      <td>1.042011</td>\n",
       "      <td>0.324808</td>\n",
       "      <td>00:00</td>\n",
       "    </tr>\n",
       "    <tr>\n",
       "      <td>38</td>\n",
       "      <td>0.662588</td>\n",
       "      <td>0.867670</td>\n",
       "      <td>0.258312</td>\n",
       "      <td>00:00</td>\n",
       "    </tr>\n",
       "    <tr>\n",
       "      <td>39</td>\n",
       "      <td>0.629502</td>\n",
       "      <td>0.788011</td>\n",
       "      <td>0.245524</td>\n",
       "      <td>00:00</td>\n",
       "    </tr>\n",
       "  </tbody>\n",
       "</table>"
      ],
      "text/plain": [
       "<IPython.core.display.HTML object>"
      ]
     },
     "metadata": {},
     "output_type": "display_data"
    }
   ],
   "source": [
    "learn_res.fit(40, 1e-3)"
   ]
  },
  {
   "cell_type": "code",
   "execution_count": 18,
   "metadata": {},
   "outputs": [],
   "source": [
    "p, t = learn_res.get_preds()"
   ]
  },
  {
   "cell_type": "code",
   "execution_count": 19,
   "metadata": {},
   "outputs": [
    {
     "data": {
      "text/plain": [
       "tensor(0.2558)"
      ]
     },
     "execution_count": 19,
     "metadata": {},
     "output_type": "execute_result"
    }
   ],
   "source": [
    "error_rate(p,t)"
   ]
  },
  {
   "cell_type": "code",
   "execution_count": 20,
   "metadata": {},
   "outputs": [],
   "source": [
    "def get_cm(p, t): return confusion_matrix(t, p.softmax(dim=1).argmax(1))"
   ]
  },
  {
   "cell_type": "markdown",
   "metadata": {},
   "source": [
    "Confusion Matrix"
   ]
  },
  {
   "cell_type": "code",
   "execution_count": 21,
   "metadata": {
    "scrolled": true
   },
   "outputs": [
    {
     "data": {
      "text/plain": [
       "<matplotlib.axes._subplots.AxesSubplot at 0x7f885090e550>"
      ]
     },
     "execution_count": 21,
     "metadata": {},
     "output_type": "execute_result"
    },
    {
     "data": {
      "image/png": "[encoded data removed]",
      "text/plain": [
       "<Figure size 432x288 with 2 Axes>"
      ]
     },
     "metadata": {
      "needs_background": "light"
     },
     "output_type": "display_data"
    }
   ],
   "source": [
    "sns.heatmap(get_cm(p,t), cmap='inferno')"
   ]
  },
  {
   "cell_type": "code",
   "execution_count": null,
   "metadata": {},
   "outputs": [],
   "source": []
  }
 ],
 "metadata": {
  "kernelspec": {
   "display_name": "Python 3",
   "language": "python",
   "name": "python3"
  },
  "language_info": {
   "codemirror_mode": {
    "name": "ipython",
    "version": 3
   },
   "file_extension": ".py",
   "mimetype": "text/x-python",
   "name": "python",
   "nbconvert_exporter": "python",
   "pygments_lexer": "ipython3",
   "version": "3.7.4"
  }
 },
 "nbformat": 4,
 "nbformat_minor": 4
}
