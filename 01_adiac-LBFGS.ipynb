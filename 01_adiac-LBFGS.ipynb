{
 "cells": [
  {
   "cell_type": "code",
   "execution_count": 1,
   "metadata": {},
   "outputs": [],
   "source": [
    "%load_ext autoreload\n",
    "%autoreload 2"
   ]
  },
  {
   "cell_type": "code",
   "execution_count": 2,
   "metadata": {},
   "outputs": [],
   "source": [
    "import seaborn as sns\n",
    "import pandas as pd\n",
    "from pathlib import Path\n",
    "from utils import *\n",
    "from models import *\n",
    "from ucr import *\n",
    "from inception import *\n",
    "from sklearn.metrics import confusion_matrix\n",
    "\n",
    "import torch\n",
    "import torch.nn as nn\n",
    "import fastai\n",
    "from fastai.vision import *"
   ]
  },
  {
   "cell_type": "code",
   "execution_count": 3,
   "metadata": {},
   "outputs": [],
   "source": [
    "DATAPATH = Path.cwd()/'Univariate_arff'"
   ]
  },
  {
   "cell_type": "code",
   "execution_count": 4,
   "metadata": {},
   "outputs": [
    {
     "data": {
      "text/plain": [
       "[PosixPath('/home/tc256760/Documents/TimeSeries_fastai/Univariate_arff/ACSF1'),\n",
       " PosixPath('/home/tc256760/Documents/TimeSeries_fastai/Univariate_arff/Adiac'),\n",
       " PosixPath('/home/tc256760/Documents/TimeSeries_fastai/Univariate_arff/AllGestureWiimoteX'),\n",
       " PosixPath('/home/tc256760/Documents/TimeSeries_fastai/Univariate_arff/AllGestureWiimoteY'),\n",
       " PosixPath('/home/tc256760/Documents/TimeSeries_fastai/Univariate_arff/AllGestureWiimoteZ'),\n",
       " PosixPath('/home/tc256760/Documents/TimeSeries_fastai/Univariate_arff/ArrowHead'),\n",
       " PosixPath('/home/tc256760/Documents/TimeSeries_fastai/Univariate_arff/BME'),\n",
       " PosixPath('/home/tc256760/Documents/TimeSeries_fastai/Univariate_arff/Beef'),\n",
       " PosixPath('/home/tc256760/Documents/TimeSeries_fastai/Univariate_arff/BeetleFly'),\n",
       " PosixPath('/home/tc256760/Documents/TimeSeries_fastai/Univariate_arff/BirdChicken'),\n",
       " PosixPath('/home/tc256760/Documents/TimeSeries_fastai/Univariate_arff/CBF'),\n",
       " PosixPath('/home/tc256760/Documents/TimeSeries_fastai/Univariate_arff/Car'),\n",
       " PosixPath('/home/tc256760/Documents/TimeSeries_fastai/Univariate_arff/Chinatown'),\n",
       " PosixPath('/home/tc256760/Documents/TimeSeries_fastai/Univariate_arff/ChlorineConcentration'),\n",
       " PosixPath('/home/tc256760/Documents/TimeSeries_fastai/Univariate_arff/CinCECGTorso'),\n",
       " PosixPath('/home/tc256760/Documents/TimeSeries_fastai/Univariate_arff/Coffee'),\n",
       " PosixPath('/home/tc256760/Documents/TimeSeries_fastai/Univariate_arff/Computers'),\n",
       " PosixPath('/home/tc256760/Documents/TimeSeries_fastai/Univariate_arff/CricketX'),\n",
       " PosixPath('/home/tc256760/Documents/TimeSeries_fastai/Univariate_arff/CricketY'),\n",
       " PosixPath('/home/tc256760/Documents/TimeSeries_fastai/Univariate_arff/CricketZ'),\n",
       " PosixPath('/home/tc256760/Documents/TimeSeries_fastai/Univariate_arff/Crop'),\n",
       " PosixPath('/home/tc256760/Documents/TimeSeries_fastai/Univariate_arff/DataSummaryExpanded_NoMissingVals.xlsx'),\n",
       " PosixPath('/home/tc256760/Documents/TimeSeries_fastai/Univariate_arff/DataSummaryExpanded_v03.xlsx'),\n",
       " PosixPath('/home/tc256760/Documents/TimeSeries_fastai/Univariate_arff/DiatomSizeReduction'),\n",
       " PosixPath('/home/tc256760/Documents/TimeSeries_fastai/Univariate_arff/DistalPhalanxOutlineAgeGroup'),\n",
       " PosixPath('/home/tc256760/Documents/TimeSeries_fastai/Univariate_arff/DistalPhalanxOutlineCorrect'),\n",
       " PosixPath('/home/tc256760/Documents/TimeSeries_fastai/Univariate_arff/DistalPhalanxTW'),\n",
       " PosixPath('/home/tc256760/Documents/TimeSeries_fastai/Univariate_arff/DodgerLoopDay'),\n",
       " PosixPath('/home/tc256760/Documents/TimeSeries_fastai/Univariate_arff/DodgerLoopGame'),\n",
       " PosixPath('/home/tc256760/Documents/TimeSeries_fastai/Univariate_arff/DodgerLoopWeekend'),\n",
       " PosixPath('/home/tc256760/Documents/TimeSeries_fastai/Univariate_arff/ECG200'),\n",
       " PosixPath('/home/tc256760/Documents/TimeSeries_fastai/Univariate_arff/ECG5000'),\n",
       " PosixPath('/home/tc256760/Documents/TimeSeries_fastai/Univariate_arff/ECGFiveDays'),\n",
       " PosixPath('/home/tc256760/Documents/TimeSeries_fastai/Univariate_arff/EOGHorizontalSignal'),\n",
       " PosixPath('/home/tc256760/Documents/TimeSeries_fastai/Univariate_arff/EOGVerticalSignal'),\n",
       " PosixPath('/home/tc256760/Documents/TimeSeries_fastai/Univariate_arff/Earthquakes'),\n",
       " PosixPath('/home/tc256760/Documents/TimeSeries_fastai/Univariate_arff/ElectricDevices'),\n",
       " PosixPath('/home/tc256760/Documents/TimeSeries_fastai/Univariate_arff/EthanolLevel'),\n",
       " PosixPath('/home/tc256760/Documents/TimeSeries_fastai/Univariate_arff/FaceAll'),\n",
       " PosixPath('/home/tc256760/Documents/TimeSeries_fastai/Univariate_arff/FaceFour'),\n",
       " PosixPath('/home/tc256760/Documents/TimeSeries_fastai/Univariate_arff/FacesUCR'),\n",
       " PosixPath('/home/tc256760/Documents/TimeSeries_fastai/Univariate_arff/FiftyWords'),\n",
       " PosixPath('/home/tc256760/Documents/TimeSeries_fastai/Univariate_arff/Fish'),\n",
       " PosixPath('/home/tc256760/Documents/TimeSeries_fastai/Univariate_arff/FordA'),\n",
       " PosixPath('/home/tc256760/Documents/TimeSeries_fastai/Univariate_arff/FordB'),\n",
       " PosixPath('/home/tc256760/Documents/TimeSeries_fastai/Univariate_arff/FreezerRegularTrain'),\n",
       " PosixPath('/home/tc256760/Documents/TimeSeries_fastai/Univariate_arff/FreezerSmallTrain'),\n",
       " PosixPath('/home/tc256760/Documents/TimeSeries_fastai/Univariate_arff/Fungi'),\n",
       " PosixPath('/home/tc256760/Documents/TimeSeries_fastai/Univariate_arff/GestureMidAirD1'),\n",
       " PosixPath('/home/tc256760/Documents/TimeSeries_fastai/Univariate_arff/GestureMidAirD2'),\n",
       " PosixPath('/home/tc256760/Documents/TimeSeries_fastai/Univariate_arff/GestureMidAirD3'),\n",
       " PosixPath('/home/tc256760/Documents/TimeSeries_fastai/Univariate_arff/GesturePebbleZ1'),\n",
       " PosixPath('/home/tc256760/Documents/TimeSeries_fastai/Univariate_arff/GesturePebbleZ2'),\n",
       " PosixPath('/home/tc256760/Documents/TimeSeries_fastai/Univariate_arff/GunPoint'),\n",
       " PosixPath('/home/tc256760/Documents/TimeSeries_fastai/Univariate_arff/GunPointAgeSpan'),\n",
       " PosixPath('/home/tc256760/Documents/TimeSeries_fastai/Univariate_arff/GunPointMaleVersusFemale'),\n",
       " PosixPath('/home/tc256760/Documents/TimeSeries_fastai/Univariate_arff/GunPointOldVersusYoung'),\n",
       " PosixPath('/home/tc256760/Documents/TimeSeries_fastai/Univariate_arff/Ham'),\n",
       " PosixPath('/home/tc256760/Documents/TimeSeries_fastai/Univariate_arff/HandOutlines'),\n",
       " PosixPath('/home/tc256760/Documents/TimeSeries_fastai/Univariate_arff/Haptics'),\n",
       " PosixPath('/home/tc256760/Documents/TimeSeries_fastai/Univariate_arff/Herring'),\n",
       " PosixPath('/home/tc256760/Documents/TimeSeries_fastai/Univariate_arff/HouseTwenty'),\n",
       " PosixPath('/home/tc256760/Documents/TimeSeries_fastai/Univariate_arff/InlineSkate'),\n",
       " PosixPath('/home/tc256760/Documents/TimeSeries_fastai/Univariate_arff/InsectEPGRegularTrain'),\n",
       " PosixPath('/home/tc256760/Documents/TimeSeries_fastai/Univariate_arff/InsectEPGSmallTrain'),\n",
       " PosixPath('/home/tc256760/Documents/TimeSeries_fastai/Univariate_arff/InsectWingbeatSound'),\n",
       " PosixPath('/home/tc256760/Documents/TimeSeries_fastai/Univariate_arff/ItalyPowerDemand'),\n",
       " PosixPath('/home/tc256760/Documents/TimeSeries_fastai/Univariate_arff/LargeKitchenAppliances'),\n",
       " PosixPath('/home/tc256760/Documents/TimeSeries_fastai/Univariate_arff/Lightning2'),\n",
       " PosixPath('/home/tc256760/Documents/TimeSeries_fastai/Univariate_arff/Lightning7'),\n",
       " PosixPath('/home/tc256760/Documents/TimeSeries_fastai/Univariate_arff/Mallat'),\n",
       " PosixPath('/home/tc256760/Documents/TimeSeries_fastai/Univariate_arff/Meat'),\n",
       " PosixPath('/home/tc256760/Documents/TimeSeries_fastai/Univariate_arff/MedicalImages'),\n",
       " PosixPath('/home/tc256760/Documents/TimeSeries_fastai/Univariate_arff/MelbournePedestrian'),\n",
       " PosixPath('/home/tc256760/Documents/TimeSeries_fastai/Univariate_arff/MiddlePhalanxOutlineAgeGroup'),\n",
       " PosixPath('/home/tc256760/Documents/TimeSeries_fastai/Univariate_arff/MiddlePhalanxOutlineCorrect'),\n",
       " PosixPath('/home/tc256760/Documents/TimeSeries_fastai/Univariate_arff/MiddlePhalanxTW'),\n",
       " PosixPath('/home/tc256760/Documents/TimeSeries_fastai/Univariate_arff/MixedShapesRegularTrain'),\n",
       " PosixPath('/home/tc256760/Documents/TimeSeries_fastai/Univariate_arff/MixedShapesSmallTrain'),\n",
       " PosixPath('/home/tc256760/Documents/TimeSeries_fastai/Univariate_arff/MoteStrain'),\n",
       " PosixPath('/home/tc256760/Documents/TimeSeries_fastai/Univariate_arff/NonInvasiveFetalECGThorax1'),\n",
       " PosixPath('/home/tc256760/Documents/TimeSeries_fastai/Univariate_arff/NonInvasiveFetalECGThorax2'),\n",
       " PosixPath('/home/tc256760/Documents/TimeSeries_fastai/Univariate_arff/OSULeaf'),\n",
       " PosixPath('/home/tc256760/Documents/TimeSeries_fastai/Univariate_arff/OliveOil'),\n",
       " PosixPath('/home/tc256760/Documents/TimeSeries_fastai/Univariate_arff/PLAID'),\n",
       " PosixPath('/home/tc256760/Documents/TimeSeries_fastai/Univariate_arff/PhalangesOutlinesCorrect'),\n",
       " PosixPath('/home/tc256760/Documents/TimeSeries_fastai/Univariate_arff/Phoneme'),\n",
       " PosixPath('/home/tc256760/Documents/TimeSeries_fastai/Univariate_arff/PickupGestureWiimoteZ'),\n",
       " PosixPath('/home/tc256760/Documents/TimeSeries_fastai/Univariate_arff/Pictures'),\n",
       " PosixPath('/home/tc256760/Documents/TimeSeries_fastai/Univariate_arff/PigAirwayPressure'),\n",
       " PosixPath('/home/tc256760/Documents/TimeSeries_fastai/Univariate_arff/PigArtPressure'),\n",
       " PosixPath('/home/tc256760/Documents/TimeSeries_fastai/Univariate_arff/PigCVP'),\n",
       " PosixPath('/home/tc256760/Documents/TimeSeries_fastai/Univariate_arff/Plane'),\n",
       " PosixPath('/home/tc256760/Documents/TimeSeries_fastai/Univariate_arff/PowerCons'),\n",
       " PosixPath('/home/tc256760/Documents/TimeSeries_fastai/Univariate_arff/ProximalPhalanxOutlineAgeGroup'),\n",
       " PosixPath('/home/tc256760/Documents/TimeSeries_fastai/Univariate_arff/ProximalPhalanxOutlineCorrect'),\n",
       " PosixPath('/home/tc256760/Documents/TimeSeries_fastai/Univariate_arff/ProximalPhalanxTW'),\n",
       " PosixPath('/home/tc256760/Documents/TimeSeries_fastai/Univariate_arff/RefrigerationDevices'),\n",
       " PosixPath('/home/tc256760/Documents/TimeSeries_fastai/Univariate_arff/Rock'),\n",
       " PosixPath('/home/tc256760/Documents/TimeSeries_fastai/Univariate_arff/ScreenType'),\n",
       " PosixPath('/home/tc256760/Documents/TimeSeries_fastai/Univariate_arff/SemgHandGenderCh2'),\n",
       " PosixPath('/home/tc256760/Documents/TimeSeries_fastai/Univariate_arff/SemgHandMovementCh2'),\n",
       " PosixPath('/home/tc256760/Documents/TimeSeries_fastai/Univariate_arff/SemgHandSubjectCh2'),\n",
       " PosixPath('/home/tc256760/Documents/TimeSeries_fastai/Univariate_arff/ShakeGestureWiimoteZ'),\n",
       " PosixPath('/home/tc256760/Documents/TimeSeries_fastai/Univariate_arff/ShapeletSim'),\n",
       " PosixPath('/home/tc256760/Documents/TimeSeries_fastai/Univariate_arff/ShapesAll'),\n",
       " PosixPath('/home/tc256760/Documents/TimeSeries_fastai/Univariate_arff/SmallKitchenAppliances'),\n",
       " PosixPath('/home/tc256760/Documents/TimeSeries_fastai/Univariate_arff/SmoothSubspace'),\n",
       " PosixPath('/home/tc256760/Documents/TimeSeries_fastai/Univariate_arff/SonyAIBORobotSurface1'),\n",
       " PosixPath('/home/tc256760/Documents/TimeSeries_fastai/Univariate_arff/SonyAIBORobotSurface2'),\n",
       " PosixPath('/home/tc256760/Documents/TimeSeries_fastai/Univariate_arff/StarLightCurves'),\n",
       " PosixPath('/home/tc256760/Documents/TimeSeries_fastai/Univariate_arff/Strawberry'),\n",
       " PosixPath('/home/tc256760/Documents/TimeSeries_fastai/Univariate_arff/SummaryData.csv'),\n",
       " PosixPath('/home/tc256760/Documents/TimeSeries_fastai/Univariate_arff/SwedishLeaf'),\n",
       " PosixPath('/home/tc256760/Documents/TimeSeries_fastai/Univariate_arff/Symbols'),\n",
       " PosixPath('/home/tc256760/Documents/TimeSeries_fastai/Univariate_arff/SyntheticControl'),\n",
       " PosixPath('/home/tc256760/Documents/TimeSeries_fastai/Univariate_arff/ToeSegmentation1'),\n",
       " PosixPath('/home/tc256760/Documents/TimeSeries_fastai/Univariate_arff/ToeSegmentation2'),\n",
       " PosixPath('/home/tc256760/Documents/TimeSeries_fastai/Univariate_arff/Trace'),\n",
       " PosixPath('/home/tc256760/Documents/TimeSeries_fastai/Univariate_arff/TwoClassProblems.csv'),\n",
       " PosixPath('/home/tc256760/Documents/TimeSeries_fastai/Univariate_arff/TwoLeadECG'),\n",
       " PosixPath('/home/tc256760/Documents/TimeSeries_fastai/Univariate_arff/TwoPatterns'),\n",
       " PosixPath('/home/tc256760/Documents/TimeSeries_fastai/Univariate_arff/UMD'),\n",
       " PosixPath('/home/tc256760/Documents/TimeSeries_fastai/Univariate_arff/UWaveGestureLibraryAll'),\n",
       " PosixPath('/home/tc256760/Documents/TimeSeries_fastai/Univariate_arff/UWaveGestureLibraryX'),\n",
       " PosixPath('/home/tc256760/Documents/TimeSeries_fastai/Univariate_arff/UWaveGestureLibraryY'),\n",
       " PosixPath('/home/tc256760/Documents/TimeSeries_fastai/Univariate_arff/UWaveGestureLibraryZ'),\n",
       " PosixPath('/home/tc256760/Documents/TimeSeries_fastai/Univariate_arff/Wafer'),\n",
       " PosixPath('/home/tc256760/Documents/TimeSeries_fastai/Univariate_arff/Wine'),\n",
       " PosixPath('/home/tc256760/Documents/TimeSeries_fastai/Univariate_arff/WordSynonyms'),\n",
       " PosixPath('/home/tc256760/Documents/TimeSeries_fastai/Univariate_arff/Worms'),\n",
       " PosixPath('/home/tc256760/Documents/TimeSeries_fastai/Univariate_arff/WormsTwoClass'),\n",
       " PosixPath('/home/tc256760/Documents/TimeSeries_fastai/Univariate_arff/Yoga'),\n",
       " PosixPath('/home/tc256760/Documents/TimeSeries_fastai/Univariate_arff/dataset.csv'),\n",
       " PosixPath('/home/tc256760/Documents/TimeSeries_fastai/Univariate_arff/newProblemsUpload.csv')]"
      ]
     },
     "execution_count": 4,
     "metadata": {},
     "output_type": "execute_result"
    }
   ],
   "source": [
    "sorted(list(DATAPATH.iterdir()))"
   ]
  },
  {
   "cell_type": "code",
   "execution_count": 5,
   "metadata": {
    "scrolled": true
   },
   "outputs": [
    {
     "name": "stdout",
     "output_type": "stream",
     "text": [
      "Loading files from: /home/tc256760/Documents/TimeSeries_fastai/Univariate_arff/StarLightCurves\n"
     ]
    }
   ],
   "source": [
    "task = 'StarLightCurves'\n",
    "df_train, df_test = load_df(DATAPATH, task)"
   ]
  },
  {
   "cell_type": "code",
   "execution_count": 6,
   "metadata": {},
   "outputs": [
    {
     "data": {
      "text/plain": [
       "3"
      ]
     },
     "execution_count": 6,
     "metadata": {},
     "output_type": "execute_result"
    }
   ],
   "source": [
    "num_classes = df_train.target.nunique(); num_classes"
   ]
  },
  {
   "cell_type": "markdown",
   "metadata": {},
   "source": [
    "# DL"
   ]
  },
  {
   "cell_type": "code",
   "execution_count": 7,
   "metadata": {},
   "outputs": [
    {
     "data": {
      "text/plain": [
       "(1000, 1, 1024)"
      ]
     },
     "execution_count": 7,
     "metadata": {},
     "output_type": "execute_result"
    }
   ],
   "source": [
    "X_train, y_train, X_test, y_test = process_dfs(df_train, df_test, True); X_train.shape"
   ]
  },
  {
   "cell_type": "markdown",
   "metadata": {},
   "source": [
    "## Resnet 1D"
   ]
  },
  {
   "cell_type": "code",
   "execution_count": 8,
   "metadata": {
    "scrolled": true
   },
   "outputs": [],
   "source": [
    "# model = create_resnet(1, num_classes, conv_sizes=[64, 128, 256], stride=1).cuda()"
   ]
  },
  {
   "cell_type": "code",
   "execution_count": 9,
   "metadata": {},
   "outputs": [],
   "source": [
    "# model = create_inception(1, num_classes).cuda()"
   ]
  },
  {
   "cell_type": "code",
   "execution_count": 10,
   "metadata": {},
   "outputs": [],
   "source": [
    "model = create_mlp(X_train[0].shape[-1], num_classes).cuda()"
   ]
  },
  {
   "cell_type": "code",
   "execution_count": 11,
   "metadata": {},
   "outputs": [],
   "source": [
    "# model = create_fcn(1, num_classes)"
   ]
  },
  {
   "cell_type": "code",
   "execution_count": 12,
   "metadata": {},
   "outputs": [],
   "source": [
    "model = model.cuda()"
   ]
  },
  {
   "cell_type": "markdown",
   "metadata": {},
   "source": [
    "## LBFGS"
   ]
  },
  {
   "cell_type": "code",
   "execution_count": 13,
   "metadata": {},
   "outputs": [],
   "source": [
    "from lbfgs import *"
   ]
  },
  {
   "cell_type": "code",
   "execution_count": 14,
   "metadata": {},
   "outputs": [],
   "source": [
    "optimizer = FullBatchLBFGS(model.parameters(), lr=6, history_size=10, line_search='Wolfe', debug=True)\n",
    "loss_fn = CrossEntropyFlat()"
   ]
  },
  {
   "cell_type": "code",
   "execution_count": 15,
   "metadata": {},
   "outputs": [
    {
     "data": {
      "text/plain": [
       "((1000, 1, 1024), (1000,), dtype('float64'))"
      ]
     },
     "execution_count": 15,
     "metadata": {},
     "output_type": "execute_result"
    }
   ],
   "source": [
    "X_train.shape, y_train.shape, y_train.dtype"
   ]
  },
  {
   "cell_type": "code",
   "execution_count": 16,
   "metadata": {},
   "outputs": [],
   "source": [
    "#%% Main training loop\n",
    "X_train = torch.Tensor(X_train).float().cuda()\n",
    "y_train = torch.Tensor(y_train).long().cuda()\n",
    "\n",
    "X_test = torch.Tensor(X_test).float().cuda()\n",
    "y_test = torch.Tensor(y_test).long().cuda()\n",
    "\n",
    "no_samples = X_train.shape[0]"
   ]
  },
  {
   "cell_type": "code",
   "execution_count": 17,
   "metadata": {},
   "outputs": [],
   "source": [
    "# Do the forward pass, then compute the accuracy\n",
    "accfun   = lambda op, y: accuracy(op, y)\n",
    "opfun = lambda X: model(X)"
   ]
  },
  {
   "cell_type": "code",
   "execution_count": 18,
   "metadata": {},
   "outputs": [],
   "source": [
    "def stats(model,X_test, y_test):\n",
    "    y_pred_test = model(X_test)\n",
    "    return error_rate(y_pred_test, y_test).data.item()"
   ]
  },
  {
   "cell_type": "code",
   "execution_count": 19,
   "metadata": {},
   "outputs": [
    {
     "data": {
      "text/html": [
       "\n",
       "    <div>\n",
       "        <style>\n",
       "            /* Turns off some styling */\n",
       "            progress {\n",
       "                /* gets rid of default border in Firefox and Opera. */\n",
       "                border: none;\n",
       "                /* Needs to be in here for Safari polyfill so background images work as expected. */\n",
       "                background-size: auto;\n",
       "            }\n",
       "            .progress-bar-interrupted, .progress-bar-interrupted::-webkit-progress-bar {\n",
       "                background: #F44336;\n",
       "            }\n",
       "        </style>\n",
       "      <progress value='100' class='' max='100', style='width:300px; height:20px; vertical-align: middle;'></progress>\n",
       "      100.00% [100/100 00:01<00:00]\n",
       "    </div>\n",
       "    "
      ],
      "text/plain": [
       "<IPython.core.display.HTML object>"
      ]
     },
     "metadata": {},
     "output_type": "display_data"
    },
    {
     "name": "stdout",
     "output_type": "stream",
     "text": [
      "Not a descent direction!\n",
      "0 - train_loss: 1.3112421035766602, error_rate: 0.801481306552887, lr: 1.2000000000000002\n",
      "Curvature pair skipped due to failed criterion\n",
      "1 - train_loss: 1.1363433599472046, error_rate: 0.42277806997299194, lr: 0.3495715315901232\n",
      "2 - train_loss: 0.653957188129425, error_rate: 0.42277806997299194, lr: 0.24039365054042042\n",
      "3 - train_loss: 0.43803003430366516, error_rate: 0.42156386375427246, lr: 2.6483375266768334\n",
      "4 - train_loss: 0.4483322203159332, error_rate: 0.26311320066452026, lr: 2.2054987143391744\n",
      "5 - train_loss: 0.29575061798095703, error_rate: 0.20058280229568481, lr: 1.6711332609549823\n",
      "6 - train_loss: 0.2928984463214874, error_rate: 0.16257894039154053, lr: 2.9361961694867422\n",
      "7 - train_loss: 0.28041404485702515, error_rate: 0.15225839614868164, lr: 2.061516187983007\n",
      "8 - train_loss: 0.27060917019844055, error_rate: 0.1472802758216858, lr: 2.461389483990182\n",
      "9 - train_loss: 0.2571185529232025, error_rate: 0.1457018256187439, lr: 2.0835428534206635\n",
      "10 - train_loss: 0.25325125455856323, error_rate: 0.14485186338424683, lr: 2.752527961679754\n",
      "11 - train_loss: 0.23733258247375488, error_rate: 0.1243322491645813, lr: 6\n",
      "12 - train_loss: 0.22100694477558136, error_rate: 0.12190383672714233, lr: 0.6899197713051574\n",
      "13 - train_loss: 0.22382859885692596, error_rate: 0.12153959274291992, lr: 1.8211815586228732\n",
      "14 - train_loss: 0.22274897992610931, error_rate: 0.08414280414581299, lr: 6\n",
      "15 - train_loss: 0.19895657896995544, error_rate: 0.08936381340026855, lr: 1.8955491538066407\n",
      "16 - train_loss: 0.20746734738349915, error_rate: 0.07430791854858398, lr: 2.208513952233864\n",
      "17 - train_loss: 0.20248767733573914, error_rate: 0.07904326915740967, lr: 2.5897818237248025\n",
      "18 - train_loss: 0.19568343460559845, error_rate: 0.0808645486831665, lr: 1.917842374543075\n",
      "19 - train_loss: 0.1914757490158081, error_rate: 0.08280718326568604, lr: 8.087228055782931e-06\n",
      "20 - train_loss: 0.19232618808746338, error_rate: 0.08414280414581299, lr: 0.001920000000000001\n",
      "21 - train_loss: 0.20640908181667328, error_rate: 0.07685774564743042, lr: 1.2000000000000002\n",
      "22 - train_loss: 0.190072163939476, error_rate: 0.09033513069152832, lr: 6\n",
      "23 - train_loss: 0.20115065574645996, error_rate: 0.10599809885025024, lr: 0.09843442919914222\n",
      "24 - train_loss: 0.1878066211938858, error_rate: 0.08268576860427856, lr: 1.2000000000000002\n",
      "25 - train_loss: 0.1892213374376297, error_rate: 0.07746481895446777, lr: 0.9403815222320056\n",
      "26 - train_loss: 0.19214285910129547, error_rate: 0.0860854983329773, lr: 6\n",
      "27 - train_loss: 0.18823453783988953, error_rate: 0.07770764827728271, lr: 0.024114753100359355\n",
      "28 - train_loss: 0.20012091100215912, error_rate: 0.0726081132888794, lr: 1.6496975541472072\n",
      "29 - train_loss: 0.18153074383735657, error_rate: 0.08232152462005615, lr: 0.5065051775587208\n",
      "30 - train_loss: 0.1818000227212906, error_rate: 0.08074307441711426, lr: 0.010165631737213394\n",
      "31 - train_loss: 0.18237456679344177, error_rate: 0.07600778341293335, lr: 1.2000000000000002\n",
      "32 - train_loss: 0.19084054231643677, error_rate: 0.07127249240875244, lr: 1.2000000000000002\n",
      "33 - train_loss: 0.18642941117286682, error_rate: 0.06847989559173584, lr: 6\n",
      "34 - train_loss: 0.182956725358963, error_rate: 0.0683584213256836, lr: 1.6818804379325643\n",
      "35 - train_loss: 0.1924278289079666, error_rate: 0.0675085186958313, lr: 0\n",
      "Line search failed; curvature pair update skipped\n",
      "36 - train_loss: 0.17027807235717773, error_rate: 0.07005828619003296, lr: 0.49553898874501845\n",
      "37 - train_loss: 0.17935892939567566, error_rate: 0.07090824842453003, lr: 0.2959111385727463\n",
      "38 - train_loss: 0.1721300184726715, error_rate: 0.06386595964431763, lr: 6\n",
      "39 - train_loss: 0.16104738414287567, error_rate: 0.06811559200286865, lr: 1.293156150342256\n",
      "40 - train_loss: 0.17361044883728027, error_rate: 0.06520158052444458, lr: 2.522787926742923\n",
      "41 - train_loss: 0.15780693292617798, error_rate: 0.07600778341293335, lr: 2.6235229734634076\n",
      "42 - train_loss: 0.16567741334438324, error_rate: 0.05925208330154419, lr: 1.694478602715392\n",
      "43 - train_loss: 0.17365480959415436, error_rate: 0.06775134801864624, lr: 1.8003271555428935\n",
      "44 - train_loss: 0.15834352374076843, error_rate: 0.06253039836883545, lr: 0.00017771968629491265\n",
      "45 - train_loss: 0.1556546688079834, error_rate: 0.058402180671691895, lr: 0.6214870723578505\n",
      "46 - train_loss: 0.15679746866226196, error_rate: 0.06447309255599976, lr: 1.2000000000000002\n",
      "47 - train_loss: 0.15551809966564178, error_rate: 0.06532299518585205, lr: 1.3996097773622074\n",
      "48 - train_loss: 0.16234059631824493, error_rate: 0.06204468011856079, lr: 0\n",
      "Line search failed; curvature pair update skipped\n",
      "49 - train_loss: 0.16016218066215515, error_rate: 0.06435167789459229, lr: 2.301496698314352\n",
      "50 - train_loss: 0.143920436501503, error_rate: 0.06277322769165039, lr: 2.2211479020459786\n",
      "51 - train_loss: 0.16060127317905426, error_rate: 0.06410878896713257, lr: 2.6148758136020724\n",
      "52 - train_loss: 0.14833013713359833, error_rate: 0.08499276638031006, lr: 1.8323409284234722\n",
      "53 - train_loss: 0.1379462629556656, error_rate: 0.0726081132888794, lr: 0.6118858477206838\n",
      "54 - train_loss: 0.14790469408035278, error_rate: 0.06544440984725952, lr: 0.5063777893203313\n",
      "55 - train_loss: 0.1404363065958023, error_rate: 0.0603448748588562, lr: 1.2000000000000002\n",
      "56 - train_loss: 0.1435241401195526, error_rate: 0.0710296630859375, lr: 6\n",
      "57 - train_loss: 0.1394219696521759, error_rate: 0.061073362827301025, lr: 2.33729364706193\n",
      "58 - train_loss: 0.12875168025493622, error_rate: 0.06070911884307861, lr: 0.05834603087754201\n",
      "59 - train_loss: 0.1308756172657013, error_rate: 0.06240898370742798, lr: 2.682761075870208\n",
      "60 - train_loss: 0.1393386274576187, error_rate: 0.06629431247711182, lr: 1.2000000000000002\n",
      "61 - train_loss: 0.1378820836544037, error_rate: 0.05658090114593506, lr: 2.202291004035581\n",
      "62 - train_loss: 0.1260451078414917, error_rate: 0.06204468011856079, lr: 1.5233893965309258\n",
      "63 - train_loss: 0.13325925171375275, error_rate: 0.06058770418167114, lr: 0.7134975160004327\n",
      "64 - train_loss: 0.1323481649160385, error_rate: 0.056095242500305176, lr: 6\n",
      "65 - train_loss: 0.13560809195041656, error_rate: 0.06374454498291016, lr: 1.6708571292117607\n",
      "66 - train_loss: 0.12430636584758759, error_rate: 0.06678003072738647, lr: 2.6836739403144128\n",
      "67 - train_loss: 0.12938982248306274, error_rate: 0.05900925397872925, lr: 1.9260453014202545\n",
      "68 - train_loss: 0.12576833367347717, error_rate: 0.0647159218788147, lr: 1.501235147923707\n",
      "69 - train_loss: 0.10857279598712921, error_rate: 0.0603448748588562, lr: 2.1625812157083106\n",
      "70 - train_loss: 0.1119127944111824, error_rate: 0.06046628952026367, lr: 0.6749992717787817\n",
      "71 - train_loss: 0.1320682317018509, error_rate: 0.057795047760009766, lr: 1.8901530965682947\n",
      "72 - train_loss: 0.11196240037679672, error_rate: 0.05560952425003052, lr: 0.00377712857942413\n",
      "73 - train_loss: 0.12955507636070251, error_rate: 0.05475962162017822, lr: 0\n",
      "Line search failed; curvature pair update skipped\n",
      "74 - train_loss: 0.12235366553068161, error_rate: 0.06932979822158813, lr: 6\n",
      "75 - train_loss: 0.1327054500579834, error_rate: 0.055245280265808105, lr: 1.2000000000000002\n",
      "76 - train_loss: 0.11262597143650055, error_rate: 0.055366694927215576, lr: 0.048000000000000015\n",
      "77 - train_loss: 0.11436503380537033, error_rate: 0.06410878896713257, lr: 6\n",
      "78 - train_loss: 0.12010461091995239, error_rate: 0.06216609477996826, lr: 0.021770088986207914\n",
      "79 - train_loss: 0.11207769811153412, error_rate: 0.06386595964431763, lr: 4.386843880359916e-06\n",
      "80 - train_loss: 0.11856778711080551, error_rate: 0.06301605701446533, lr: 7.2\n",
      "81 - train_loss: 0.11351008713245392, error_rate: 0.058523595333099365, lr: 0.24000000000000005\n",
      "82 - train_loss: 0.11361964046955109, error_rate: 0.056216657161712646, lr: 1.40733684355784\n",
      "83 - train_loss: 0.11099284887313843, error_rate: 0.05937349796295166, lr: 0.9383832849986118\n",
      "84 - train_loss: 0.1112709492444992, error_rate: 0.06058770418167114, lr: 0.5669520944368719\n",
      "85 - train_loss: 0.1150725856423378, error_rate: 0.05439537763595581, lr: 1.2000000000000002\n",
      "86 - train_loss: 0.12008950859308243, error_rate: 0.07309377193450928, lr: 6\n",
      "87 - train_loss: 0.11882505565881729, error_rate: 0.06289464235305786, lr: 1.5766962346524909\n"
     ]
    },
    {
     "name": "stdout",
     "output_type": "stream",
     "text": [
      "88 - train_loss: 0.11151853203773499, error_rate: 0.057795047760009766, lr: 0\n",
      "Line search failed; curvature pair update skipped\n",
      "89 - train_loss: 0.11615397781133652, error_rate: 0.052452683448791504, lr: 0.43504411888171285\n",
      "90 - train_loss: 0.11168014258146286, error_rate: 0.05730938911437988, lr: 0.6471241973168671\n",
      "91 - train_loss: 0.12168976664543152, error_rate: 0.06483733654022217, lr: 6\n",
      "92 - train_loss: 0.10248839110136032, error_rate: 0.055002450942993164, lr: 2.2798009815056752\n",
      "93 - train_loss: 0.1007026955485344, error_rate: 0.05475962162017822, lr: 0.3695373681346839\n",
      "94 - train_loss: 0.10724762827157974, error_rate: 0.05973774194717407, lr: 1.621039464250086\n",
      "95 - train_loss: 0.10839884728193283, error_rate: 0.0596163272857666, lr: 0.7978958876968055\n",
      "96 - train_loss: 0.1205783486366272, error_rate: 0.058645009994506836, lr: 1.0842597892806483\n",
      "97 - train_loss: 0.08783353120088577, error_rate: 0.05645948648452759, lr: 1.3987497849634425\n",
      "98 - train_loss: 0.11080218851566315, error_rate: 0.058280766010284424, lr: 1.8049689959324529\n",
      "99 - train_loss: 0.10208941996097565, error_rate: 0.06180185079574585, lr: 1.6653086028983637\n"
     ]
    }
   ],
   "source": [
    "# main loop\n",
    "max_iter=100\n",
    "\n",
    "for n_iter in progress_bar(range(max_iter)):\n",
    "\n",
    "    # training mode\n",
    "    model.train()\n",
    "\n",
    "    # define closure for line search\n",
    "    def closure():\n",
    "        optimizer.zero_grad()\n",
    "        y_pred = model(X_train) \n",
    "        loss = loss_fn(y_pred, y_train)\n",
    "        return loss\n",
    "\n",
    "    # perform line search step\n",
    "    if n_iter==0: options = {'closure': closure}#, 'current_loss': obj}\n",
    "    else:  {'closure': closure, 'current_loss': obj}\n",
    "    obj, grad, lr, _,_,_, _, _= optimizer.step(options)\n",
    "    \n",
    "    model.eval()\n",
    "\n",
    "    print(f'{n_iter} - train_loss: {obj.data.item()}, error_rate: {stats(model, X_test, y_test)}, lr: {lr}')"
   ]
  },
  {
   "cell_type": "markdown",
   "metadata": {},
   "source": [
    "## Eval"
   ]
  },
  {
   "cell_type": "code",
   "execution_count": 20,
   "metadata": {},
   "outputs": [],
   "source": [
    "model.eval()\n",
    "p = model(X_test)"
   ]
  },
  {
   "cell_type": "code",
   "execution_count": 21,
   "metadata": {},
   "outputs": [
    {
     "data": {
      "text/plain": [
       "tensor(0.0618, device='cuda:0')"
      ]
     },
     "execution_count": 21,
     "metadata": {},
     "output_type": "execute_result"
    }
   ],
   "source": [
    "error_rate(p, y_test)"
   ]
  },
  {
   "cell_type": "code",
   "execution_count": 22,
   "metadata": {},
   "outputs": [],
   "source": [
    "def get_cm(p, t): return confusion_matrix(t, p.softmax(dim=1).argmax(1))"
   ]
  },
  {
   "cell_type": "markdown",
   "metadata": {},
   "source": [
    "Confusion Matrix"
   ]
  },
  {
   "cell_type": "code",
   "execution_count": 23,
   "metadata": {},
   "outputs": [
    {
     "data": {
      "text/plain": [
       "<matplotlib.axes._subplots.AxesSubplot at 0x7f3b7277dd90>"
      ]
     },
     "execution_count": 23,
     "metadata": {},
     "output_type": "execute_result"
    },
    {
     "data": {
      "image/png": "[encoded data removed]",
      "text/plain": [
       "<Figure size 432x288 with 2 Axes>"
      ]
     },
     "metadata": {
      "needs_background": "light"
     },
     "output_type": "display_data"
    }
   ],
   "source": [
    "sns.heatmap(get_cm(p,y_test), cmap='inferno')"
   ]
  },
  {
   "cell_type": "code",
   "execution_count": null,
   "metadata": {},
   "outputs": [],
   "source": []
  }
 ],
 "metadata": {
  "kernelspec": {
   "display_name": "Python 3",
   "language": "python",
   "name": "python3"
  },
  "language_info": {
   "codemirror_mode": {
    "name": "ipython",
    "version": 3
   },
   "file_extension": ".py",
   "mimetype": "text/x-python",
   "name": "python",
   "nbconvert_exporter": "python",
   "pygments_lexer": "ipython3",
   "version": "3.7.4"
  }
 },
 "nbformat": 4,
 "nbformat_minor": 4
}
