{
 "cells": [
  {
   "cell_type": "code",
   "execution_count": 1,
   "metadata": {},
   "outputs": [],
   "source": [
    "%load_ext autoreload\n",
    "%autoreload 2"
   ]
  },
  {
   "cell_type": "code",
   "execution_count": 2,
   "metadata": {},
   "outputs": [],
   "source": [
    "import seaborn as sns\n",
    "import pandas as pd\n",
    "from pathlib import Path\n",
    "from utils import *\n",
    "from models import *\n",
    "from ucr import *\n",
    "from inception import *\n",
    "from sklearn.metrics import confusion_matrix\n",
    "\n",
    "import torch\n",
    "import torch.nn as nn\n",
    "import fastai\n",
    "from fastai.vision import *"
   ]
  },
  {
   "cell_type": "code",
   "execution_count": 3,
   "metadata": {},
   "outputs": [],
   "source": [
    "DATAPATH = Path.cwd()/'Univariate_arff'"
   ]
  },
  {
   "cell_type": "code",
   "execution_count": 4,
   "metadata": {},
   "outputs": [
    {
     "data": {
      "text/plain": [
       "[PosixPath('/home/tc256760/Documents/TimeSeries_fastai/Univariate_arff/PowerCons'),\n",
       " PosixPath('/home/tc256760/Documents/TimeSeries_fastai/Univariate_arff/PhalangesOutlinesCorrect'),\n",
       " PosixPath('/home/tc256760/Documents/TimeSeries_fastai/Univariate_arff/Herring'),\n",
       " PosixPath('/home/tc256760/Documents/TimeSeries_fastai/Univariate_arff/ElectricDevices'),\n",
       " PosixPath('/home/tc256760/Documents/TimeSeries_fastai/Univariate_arff/CBF'),\n",
       " PosixPath('/home/tc256760/Documents/TimeSeries_fastai/Univariate_arff/Plane'),\n",
       " PosixPath('/home/tc256760/Documents/TimeSeries_fastai/Univariate_arff/DataSummaryExpanded_v03.xlsx'),\n",
       " PosixPath('/home/tc256760/Documents/TimeSeries_fastai/Univariate_arff/MiddlePhalanxTW'),\n",
       " PosixPath('/home/tc256760/Documents/TimeSeries_fastai/Univariate_arff/ECG5000'),\n",
       " PosixPath('/home/tc256760/Documents/TimeSeries_fastai/Univariate_arff/CricketZ'),\n",
       " PosixPath('/home/tc256760/Documents/TimeSeries_fastai/Univariate_arff/WormsTwoClass'),\n",
       " PosixPath('/home/tc256760/Documents/TimeSeries_fastai/Univariate_arff/BirdChicken'),\n",
       " PosixPath('/home/tc256760/Documents/TimeSeries_fastai/Univariate_arff/Car'),\n",
       " PosixPath('/home/tc256760/Documents/TimeSeries_fastai/Univariate_arff/ToeSegmentation1'),\n",
       " PosixPath('/home/tc256760/Documents/TimeSeries_fastai/Univariate_arff/BME'),\n",
       " PosixPath('/home/tc256760/Documents/TimeSeries_fastai/Univariate_arff/MixedShapesRegularTrain'),\n",
       " PosixPath('/home/tc256760/Documents/TimeSeries_fastai/Univariate_arff/GestureMidAirD1'),\n",
       " PosixPath('/home/tc256760/Documents/TimeSeries_fastai/Univariate_arff/DodgerLoopDay'),\n",
       " PosixPath('/home/tc256760/Documents/TimeSeries_fastai/Univariate_arff/MedicalImages'),\n",
       " PosixPath('/home/tc256760/Documents/TimeSeries_fastai/Univariate_arff/BeetleFly'),\n",
       " PosixPath('/home/tc256760/Documents/TimeSeries_fastai/Univariate_arff/NonInvasiveFetalECGThorax2'),\n",
       " PosixPath('/home/tc256760/Documents/TimeSeries_fastai/Univariate_arff/Wine'),\n",
       " PosixPath('/home/tc256760/Documents/TimeSeries_fastai/Univariate_arff/GunPointAgeSpan'),\n",
       " PosixPath('/home/tc256760/Documents/TimeSeries_fastai/Univariate_arff/Yoga'),\n",
       " PosixPath('/home/tc256760/Documents/TimeSeries_fastai/Univariate_arff/SonyAIBORobotSurface2'),\n",
       " PosixPath('/home/tc256760/Documents/TimeSeries_fastai/Univariate_arff/AllGestureWiimoteZ'),\n",
       " PosixPath('/home/tc256760/Documents/TimeSeries_fastai/Univariate_arff/ACSF1'),\n",
       " PosixPath('/home/tc256760/Documents/TimeSeries_fastai/Univariate_arff/DataSummaryExpanded_NoMissingVals.xlsx'),\n",
       " PosixPath('/home/tc256760/Documents/TimeSeries_fastai/Univariate_arff/LargeKitchenAppliances'),\n",
       " PosixPath('/home/tc256760/Documents/TimeSeries_fastai/Univariate_arff/Lightning2'),\n",
       " PosixPath('/home/tc256760/Documents/TimeSeries_fastai/Univariate_arff/PLAID'),\n",
       " PosixPath('/home/tc256760/Documents/TimeSeries_fastai/Univariate_arff/TwoLeadECG'),\n",
       " PosixPath('/home/tc256760/Documents/TimeSeries_fastai/Univariate_arff/dataset.csv'),\n",
       " PosixPath('/home/tc256760/Documents/TimeSeries_fastai/Univariate_arff/OSULeaf'),\n",
       " PosixPath('/home/tc256760/Documents/TimeSeries_fastai/Univariate_arff/MixedShapesSmallTrain'),\n",
       " PosixPath('/home/tc256760/Documents/TimeSeries_fastai/Univariate_arff/ProximalPhalanxOutlineAgeGroup'),\n",
       " PosixPath('/home/tc256760/Documents/TimeSeries_fastai/Univariate_arff/ECGFiveDays'),\n",
       " PosixPath('/home/tc256760/Documents/TimeSeries_fastai/Univariate_arff/GestureMidAirD3'),\n",
       " PosixPath('/home/tc256760/Documents/TimeSeries_fastai/Univariate_arff/ChlorineConcentration'),\n",
       " PosixPath('/home/tc256760/Documents/TimeSeries_fastai/Univariate_arff/SonyAIBORobotSurface1'),\n",
       " PosixPath('/home/tc256760/Documents/TimeSeries_fastai/Univariate_arff/FordB'),\n",
       " PosixPath('/home/tc256760/Documents/TimeSeries_fastai/Univariate_arff/AllGestureWiimoteX'),\n",
       " PosixPath('/home/tc256760/Documents/TimeSeries_fastai/Univariate_arff/UWaveGestureLibraryX'),\n",
       " PosixPath('/home/tc256760/Documents/TimeSeries_fastai/Univariate_arff/GesturePebbleZ2'),\n",
       " PosixPath('/home/tc256760/Documents/TimeSeries_fastai/Univariate_arff/SemgHandSubjectCh2'),\n",
       " PosixPath('/home/tc256760/Documents/TimeSeries_fastai/Univariate_arff/PigCVP'),\n",
       " PosixPath('/home/tc256760/Documents/TimeSeries_fastai/Univariate_arff/MiddlePhalanxOutlineAgeGroup'),\n",
       " PosixPath('/home/tc256760/Documents/TimeSeries_fastai/Univariate_arff/EthanolLevel'),\n",
       " PosixPath('/home/tc256760/Documents/TimeSeries_fastai/Univariate_arff/EOGHorizontalSignal'),\n",
       " PosixPath('/home/tc256760/Documents/TimeSeries_fastai/Univariate_arff/Fungi'),\n",
       " PosixPath('/home/tc256760/Documents/TimeSeries_fastai/Univariate_arff/Strawberry'),\n",
       " PosixPath('/home/tc256760/Documents/TimeSeries_fastai/Univariate_arff/ShakeGestureWiimoteZ'),\n",
       " PosixPath('/home/tc256760/Documents/TimeSeries_fastai/Univariate_arff/CricketY'),\n",
       " PosixPath('/home/tc256760/Documents/TimeSeries_fastai/Univariate_arff/Crop'),\n",
       " PosixPath('/home/tc256760/Documents/TimeSeries_fastai/Univariate_arff/FaceAll'),\n",
       " PosixPath('/home/tc256760/Documents/TimeSeries_fastai/Univariate_arff/Symbols'),\n",
       " PosixPath('/home/tc256760/Documents/TimeSeries_fastai/Univariate_arff/FordA'),\n",
       " PosixPath('/home/tc256760/Documents/TimeSeries_fastai/Univariate_arff/GunPointMaleVersusFemale'),\n",
       " PosixPath('/home/tc256760/Documents/TimeSeries_fastai/Univariate_arff/MiddlePhalanxOutlineCorrect'),\n",
       " PosixPath('/home/tc256760/Documents/TimeSeries_fastai/Univariate_arff/Meat'),\n",
       " PosixPath('/home/tc256760/Documents/TimeSeries_fastai/Univariate_arff/SmallKitchenAppliances'),\n",
       " PosixPath('/home/tc256760/Documents/TimeSeries_fastai/Univariate_arff/EOGVerticalSignal'),\n",
       " PosixPath('/home/tc256760/Documents/TimeSeries_fastai/Univariate_arff/SmoothSubspace'),\n",
       " PosixPath('/home/tc256760/Documents/TimeSeries_fastai/Univariate_arff/Chinatown'),\n",
       " PosixPath('/home/tc256760/Documents/TimeSeries_fastai/Univariate_arff/SemgHandMovementCh2'),\n",
       " PosixPath('/home/tc256760/Documents/TimeSeries_fastai/Univariate_arff/newProblemsUpload.csv'),\n",
       " PosixPath('/home/tc256760/Documents/TimeSeries_fastai/Univariate_arff/ProximalPhalanxOutlineCorrect'),\n",
       " PosixPath('/home/tc256760/Documents/TimeSeries_fastai/Univariate_arff/Ham'),\n",
       " PosixPath('/home/tc256760/Documents/TimeSeries_fastai/Univariate_arff/InsectWingbeatSound'),\n",
       " PosixPath('/home/tc256760/Documents/TimeSeries_fastai/Univariate_arff/ArrowHead'),\n",
       " PosixPath('/home/tc256760/Documents/TimeSeries_fastai/Univariate_arff/FacesUCR'),\n",
       " PosixPath('/home/tc256760/Documents/TimeSeries_fastai/Univariate_arff/MoteStrain'),\n",
       " PosixPath('/home/tc256760/Documents/TimeSeries_fastai/Univariate_arff/Computers'),\n",
       " PosixPath('/home/tc256760/Documents/TimeSeries_fastai/Univariate_arff/AllGestureWiimoteY'),\n",
       " PosixPath('/home/tc256760/Documents/TimeSeries_fastai/Univariate_arff/Mallat'),\n",
       " PosixPath('/home/tc256760/Documents/TimeSeries_fastai/Univariate_arff/PigAirwayPressure'),\n",
       " PosixPath('/home/tc256760/Documents/TimeSeries_fastai/Univariate_arff/Lightning7'),\n",
       " PosixPath('/home/tc256760/Documents/TimeSeries_fastai/Univariate_arff/ScreenType'),\n",
       " PosixPath('/home/tc256760/Documents/TimeSeries_fastai/Univariate_arff/Worms'),\n",
       " PosixPath('/home/tc256760/Documents/TimeSeries_fastai/Univariate_arff/PigArtPressure'),\n",
       " PosixPath('/home/tc256760/Documents/TimeSeries_fastai/Univariate_arff/GunPointOldVersusYoung'),\n",
       " PosixPath('/home/tc256760/Documents/TimeSeries_fastai/Univariate_arff/Coffee'),\n",
       " PosixPath('/home/tc256760/Documents/TimeSeries_fastai/Univariate_arff/UWaveGestureLibraryAll'),\n",
       " PosixPath('/home/tc256760/Documents/TimeSeries_fastai/Univariate_arff/DistalPhalanxOutlineCorrect'),\n",
       " PosixPath('/home/tc256760/Documents/TimeSeries_fastai/Univariate_arff/ECG200'),\n",
       " PosixPath('/home/tc256760/Documents/TimeSeries_fastai/Univariate_arff/ShapeletSim'),\n",
       " PosixPath('/home/tc256760/Documents/TimeSeries_fastai/Univariate_arff/Adiac'),\n",
       " PosixPath('/home/tc256760/Documents/TimeSeries_fastai/Univariate_arff/ProximalPhalanxTW'),\n",
       " PosixPath('/home/tc256760/Documents/TimeSeries_fastai/Univariate_arff/HouseTwenty'),\n",
       " PosixPath('/home/tc256760/Documents/TimeSeries_fastai/Univariate_arff/CinCECGTorso'),\n",
       " PosixPath('/home/tc256760/Documents/TimeSeries_fastai/Univariate_arff/FreezerRegularTrain'),\n",
       " PosixPath('/home/tc256760/Documents/TimeSeries_fastai/Univariate_arff/Rock'),\n",
       " PosixPath('/home/tc256760/Documents/TimeSeries_fastai/Univariate_arff/FiftyWords'),\n",
       " PosixPath('/home/tc256760/Documents/TimeSeries_fastai/Univariate_arff/GunPoint'),\n",
       " PosixPath('/home/tc256760/Documents/TimeSeries_fastai/Univariate_arff/DodgerLoopGame'),\n",
       " PosixPath('/home/tc256760/Documents/TimeSeries_fastai/Univariate_arff/StarLightCurves'),\n",
       " PosixPath('/home/tc256760/Documents/TimeSeries_fastai/Univariate_arff/DistalPhalanxOutlineAgeGroup'),\n",
       " PosixPath('/home/tc256760/Documents/TimeSeries_fastai/Univariate_arff/GestureMidAirD2'),\n",
       " PosixPath('/home/tc256760/Documents/TimeSeries_fastai/Univariate_arff/InsectEPGSmallTrain'),\n",
       " PosixPath('/home/tc256760/Documents/TimeSeries_fastai/Univariate_arff/DiatomSizeReduction'),\n",
       " PosixPath('/home/tc256760/Documents/TimeSeries_fastai/Univariate_arff/UWaveGestureLibraryY'),\n",
       " PosixPath('/home/tc256760/Documents/TimeSeries_fastai/Univariate_arff/RefrigerationDevices'),\n",
       " PosixPath('/home/tc256760/Documents/TimeSeries_fastai/Univariate_arff/DistalPhalanxTW'),\n",
       " PosixPath('/home/tc256760/Documents/TimeSeries_fastai/Univariate_arff/Wafer'),\n",
       " PosixPath('/home/tc256760/Documents/TimeSeries_fastai/Univariate_arff/ShapesAll'),\n",
       " PosixPath('/home/tc256760/Documents/TimeSeries_fastai/Univariate_arff/GesturePebbleZ1'),\n",
       " PosixPath('/home/tc256760/Documents/TimeSeries_fastai/Univariate_arff/ItalyPowerDemand'),\n",
       " PosixPath('/home/tc256760/Documents/TimeSeries_fastai/Univariate_arff/Fish'),\n",
       " PosixPath('/home/tc256760/Documents/TimeSeries_fastai/Univariate_arff/TwoClassProblems.csv'),\n",
       " PosixPath('/home/tc256760/Documents/TimeSeries_fastai/Univariate_arff/UWaveGestureLibraryZ'),\n",
       " PosixPath('/home/tc256760/Documents/TimeSeries_fastai/Univariate_arff/NonInvasiveFetalECGThorax1'),\n",
       " PosixPath('/home/tc256760/Documents/TimeSeries_fastai/Univariate_arff/FaceFour'),\n",
       " PosixPath('/home/tc256760/Documents/TimeSeries_fastai/Univariate_arff/Pictures'),\n",
       " PosixPath('/home/tc256760/Documents/TimeSeries_fastai/Univariate_arff/TwoPatterns'),\n",
       " PosixPath('/home/tc256760/Documents/TimeSeries_fastai/Univariate_arff/SemgHandGenderCh2'),\n",
       " PosixPath('/home/tc256760/Documents/TimeSeries_fastai/Univariate_arff/InlineSkate'),\n",
       " PosixPath('/home/tc256760/Documents/TimeSeries_fastai/Univariate_arff/DodgerLoopWeekend'),\n",
       " PosixPath('/home/tc256760/Documents/TimeSeries_fastai/Univariate_arff/FreezerSmallTrain'),\n",
       " PosixPath('/home/tc256760/Documents/TimeSeries_fastai/Univariate_arff/MelbournePedestrian'),\n",
       " PosixPath('/home/tc256760/Documents/TimeSeries_fastai/Univariate_arff/OliveOil'),\n",
       " PosixPath('/home/tc256760/Documents/TimeSeries_fastai/Univariate_arff/CricketX'),\n",
       " PosixPath('/home/tc256760/Documents/TimeSeries_fastai/Univariate_arff/SummaryData.csv'),\n",
       " PosixPath('/home/tc256760/Documents/TimeSeries_fastai/Univariate_arff/SwedishLeaf'),\n",
       " PosixPath('/home/tc256760/Documents/TimeSeries_fastai/Univariate_arff/ToeSegmentation2'),\n",
       " PosixPath('/home/tc256760/Documents/TimeSeries_fastai/Univariate_arff/Phoneme'),\n",
       " PosixPath('/home/tc256760/Documents/TimeSeries_fastai/Univariate_arff/Beef'),\n",
       " PosixPath('/home/tc256760/Documents/TimeSeries_fastai/Univariate_arff/Earthquakes'),\n",
       " PosixPath('/home/tc256760/Documents/TimeSeries_fastai/Univariate_arff/UMD'),\n",
       " PosixPath('/home/tc256760/Documents/TimeSeries_fastai/Univariate_arff/HandOutlines'),\n",
       " PosixPath('/home/tc256760/Documents/TimeSeries_fastai/Univariate_arff/SyntheticControl'),\n",
       " PosixPath('/home/tc256760/Documents/TimeSeries_fastai/Univariate_arff/WordSynonyms'),\n",
       " PosixPath('/home/tc256760/Documents/TimeSeries_fastai/Univariate_arff/InsectEPGRegularTrain'),\n",
       " PosixPath('/home/tc256760/Documents/TimeSeries_fastai/Univariate_arff/PickupGestureWiimoteZ'),\n",
       " PosixPath('/home/tc256760/Documents/TimeSeries_fastai/Univariate_arff/Haptics'),\n",
       " PosixPath('/home/tc256760/Documents/TimeSeries_fastai/Univariate_arff/Trace')]"
      ]
     },
     "execution_count": 4,
     "metadata": {},
     "output_type": "execute_result"
    }
   ],
   "source": [
    "DATAPATH.ls()"
   ]
  },
  {
   "cell_type": "code",
   "execution_count": 5,
   "metadata": {},
   "outputs": [
    {
     "name": "stdout",
     "output_type": "stream",
     "text": [
      "Loading files from: /home/tc256760/Documents/TimeSeries_fastai/Univariate_arff/Adiac\n"
     ]
    }
   ],
   "source": [
    "task = 'Adiac'\n",
    "df_train, df_test = load_df(DATAPATH, task)"
   ]
  },
  {
   "cell_type": "code",
   "execution_count": 6,
   "metadata": {},
   "outputs": [
    {
     "data": {
      "text/plain": [
       "37"
      ]
     },
     "execution_count": 6,
     "metadata": {},
     "output_type": "execute_result"
    }
   ],
   "source": [
    "num_classes = df_train.target.nunique(); num_classes"
   ]
  },
  {
   "cell_type": "markdown",
   "metadata": {},
   "source": [
    "# DL"
   ]
  },
  {
   "cell_type": "code",
   "execution_count": 7,
   "metadata": {},
   "outputs": [
    {
     "data": {
      "text/plain": [
       "(390, 1, 176)"
      ]
     },
     "execution_count": 7,
     "metadata": {},
     "output_type": "execute_result"
    }
   ],
   "source": [
    "X_train, y_train, X_test, y_test = process_dfs(df_train, df_test, True); X_train.shape"
   ]
  },
  {
   "cell_type": "code",
   "execution_count": 8,
   "metadata": {},
   "outputs": [],
   "source": [
    "X_train = torch.Tensor(X_train).float().cuda()\n",
    "y_train = torch.Tensor(y_train).long().cuda()\n",
    "\n",
    "X_test = torch.Tensor(X_test).float().cuda()\n",
    "y_test = torch.Tensor(y_test).long().cuda()\n",
    "\n",
    "no_samples = X_train.shape[0]\n"
   ]
  },
  {
   "cell_type": "markdown",
   "metadata": {},
   "source": [
    "## Resnet 1D"
   ]
  },
  {
   "cell_type": "code",
   "execution_count": 9,
   "metadata": {},
   "outputs": [],
   "source": [
    "# model = create_resnet(1, num_classes, conv_sizes=[64, 128, 256], stride=1).cuda()"
   ]
  },
  {
   "cell_type": "code",
   "execution_count": 10,
   "metadata": {},
   "outputs": [],
   "source": [
    "model = create_inception(1, num_classes).cuda()"
   ]
  },
  {
   "cell_type": "code",
   "execution_count": 11,
   "metadata": {},
   "outputs": [],
   "source": [
    "# model = create_mlp(X_train[0].shape[-1], num_classes).cuda()"
   ]
  },
  {
   "cell_type": "code",
   "execution_count": 12,
   "metadata": {},
   "outputs": [],
   "source": [
    "# model = create_fcn(1, num_classes)"
   ]
  },
  {
   "cell_type": "code",
   "execution_count": 13,
   "metadata": {},
   "outputs": [],
   "source": [
    "model = model.cuda()"
   ]
  },
  {
   "cell_type": "markdown",
   "metadata": {},
   "source": [
    "## LBFGS"
   ]
  },
  {
   "cell_type": "code",
   "execution_count": 14,
   "metadata": {},
   "outputs": [],
   "source": [
    "from lbfgs import *\n",
    "from fastprogress import progress_bar"
   ]
  },
  {
   "cell_type": "code",
   "execution_count": 15,
   "metadata": {},
   "outputs": [],
   "source": [
    "from torch.autograd import Variable\n",
    "def get_grad(optimizer, X, y, opfun, loss_fn):\n",
    "\n",
    "    optimizer.zero_grad()\n",
    "    ops = opfun(X)\n",
    "\n",
    "    # define loss and perform forward-backward pass\n",
    "    loss = loss_fn(ops, y)\n",
    "    loss.backward()\n",
    "\n",
    "    # gather flat gradient\n",
    "    grad = optimizer._gather_flat_grad()\n",
    "\n",
    "    return grad, loss"
   ]
  },
  {
   "cell_type": "code",
   "execution_count": 16,
   "metadata": {},
   "outputs": [],
   "source": [
    "optimizer = LBFGS(model.parameters(), lr=1e-1, history_size=10, line_search='Wolfe', debug=True)\n",
    "loss_fn = CrossEntropyFlat()"
   ]
  },
  {
   "cell_type": "code",
   "execution_count": 17,
   "metadata": {},
   "outputs": [
    {
     "data": {
      "text/plain": [
       "(torch.Size([390, 1, 176]), torch.Size([390]), torch.int64)"
      ]
     },
     "execution_count": 17,
     "metadata": {},
     "output_type": "execute_result"
    }
   ],
   "source": [
    "X_train.shape, y_train.shape, y_train.dtype"
   ]
  },
  {
   "cell_type": "code",
   "execution_count": 18,
   "metadata": {},
   "outputs": [],
   "source": [
    "# Do the forward pass, then compute the accuracy\n",
    "accfun   = lambda op, y: accuracy(op, y)\n",
    "opfun = lambda X: model(X)"
   ]
  },
  {
   "cell_type": "code",
   "execution_count": 19,
   "metadata": {},
   "outputs": [],
   "source": [
    "def stats(model,X_test, y_test):\n",
    "    y_pred_test = model(X_test)\n",
    "    return error_rate(y_pred_test, y_test).data.item()"
   ]
  },
  {
   "cell_type": "code",
   "execution_count": 20,
   "metadata": {
    "scrolled": false
   },
   "outputs": [
    {
     "data": {
      "text/html": [
       "\n",
       "    <div>\n",
       "        <style>\n",
       "            /* Turns off some styling */\n",
       "            progress {\n",
       "                /* gets rid of default border in Firefox and Opera. */\n",
       "                border: none;\n",
       "                /* Needs to be in here for Safari polyfill so background images work as expected. */\n",
       "                background-size: auto;\n",
       "            }\n",
       "            .progress-bar-interrupted, .progress-bar-interrupted::-webkit-progress-bar {\n",
       "                background: #F44336;\n",
       "            }\n",
       "        </style>\n",
       "      <progress value='100' class='' max='100', style='width:300px; height:20px; vertical-align: middle;'></progress>\n",
       "      100.00% [100/100 00:51<00:00]\n",
       "    </div>\n",
       "    "
      ],
      "text/plain": [
       "<IPython.core.display.HTML object>"
      ]
     },
     "metadata": {},
     "output_type": "display_data"
    },
    {
     "name": "stdout",
     "output_type": "stream",
     "text": [
      "0 - train_loss: 4.199389457702637, error_rate: 0.9693094491958618, lr: 0.024545247635888046\n",
      "1 - train_loss: 3.9713547229766846, error_rate: 0.9693094491958618, lr: 0.1\n",
      "2 - train_loss: 3.9018852710723877, error_rate: 0.9693094491958618, lr: 0.2\n",
      "3 - train_loss: 3.8374781608581543, error_rate: 0.9693094491958618, lr: 0.1\n",
      "4 - train_loss: 3.779695749282837, error_rate: 0.9693094491958618, lr: 0.1\n",
      "5 - train_loss: 3.723454475402832, error_rate: 0.9693094491958618, lr: 0.1\n",
      "6 - train_loss: 3.676482915878296, error_rate: 0.9693094491958618, lr: 0.1\n",
      "7 - train_loss: 3.635984182357788, error_rate: 0.9693094491958618, lr: 0.1\n",
      "8 - train_loss: 3.5889883041381836, error_rate: 0.9693094491958618, lr: 0.1\n",
      "9 - train_loss: 3.539710760116577, error_rate: 0.9693094491958618, lr: 0.1\n",
      "10 - train_loss: 3.5020363330841064, error_rate: 0.9693094491958618, lr: 0.1\n",
      "11 - train_loss: 3.4677746295928955, error_rate: 0.9693094491958618, lr: 0.1\n",
      "12 - train_loss: 3.426063060760498, error_rate: 0.9693094491958618, lr: 0.1\n",
      "13 - train_loss: 3.3951058387756348, error_rate: 0.9693094491958618, lr: 0.1\n",
      "14 - train_loss: 3.3650219440460205, error_rate: 0.971867024898529, lr: 0.1\n",
      "15 - train_loss: 3.3305633068084717, error_rate: 0.9590792655944824, lr: 0.1\n",
      "16 - train_loss: 3.2997026443481445, error_rate: 0.9437339901924133, lr: 0.1\n",
      "17 - train_loss: 3.2721610069274902, error_rate: 0.9514066576957703, lr: 0.1\n",
      "18 - train_loss: 3.2397494316101074, error_rate: 0.9130434989929199, lr: 0.1\n",
      "19 - train_loss: 3.21134352684021, error_rate: 0.8721227645874023, lr: 0.1\n",
      "20 - train_loss: 3.175398826599121, error_rate: 0.8567774891853333, lr: 0.1\n",
      "21 - train_loss: 3.139130115509033, error_rate: 0.8414322137832642, lr: 0.1\n",
      "22 - train_loss: 3.105814218521118, error_rate: 0.8414322137832642, lr: 0.1\n",
      "23 - train_loss: 3.069941997528076, error_rate: 0.8363171219825745, lr: 0.1\n",
      "24 - train_loss: 3.040116310119629, error_rate: 0.8312020301818848, lr: 0.1\n",
      "25 - train_loss: 3.0130484104156494, error_rate: 0.8312020301818848, lr: 0.1\n",
      "26 - train_loss: 2.9750418663024902, error_rate: 0.8235294222831726, lr: 0.1\n",
      "27 - train_loss: 2.9365572929382324, error_rate: 0.8209718465805054, lr: 0.1\n",
      "28 - train_loss: 2.907869577407837, error_rate: 0.8184143304824829, lr: 0.1\n",
      "29 - train_loss: 2.874703884124756, error_rate: 0.810741662979126, lr: 0.1\n",
      "30 - train_loss: 2.8464548587799072, error_rate: 0.8030690550804138, lr: 0.1\n",
      "31 - train_loss: 2.8204798698425293, error_rate: 0.8005114793777466, lr: 0.1\n",
      "32 - train_loss: 2.7908527851104736, error_rate: 0.7902812957763672, lr: 0.1\n",
      "33 - train_loss: 2.7603249549865723, error_rate: 0.7877237796783447, lr: 0.1\n",
      "34 - train_loss: 2.7369768619537354, error_rate: 0.7774935960769653, lr: 0.1\n",
      "35 - train_loss: 2.7127068042755127, error_rate: 0.7595908045768738, lr: 0.1\n",
      "36 - train_loss: 2.6812682151794434, error_rate: 0.7237851619720459, lr: 0.1\n",
      "37 - train_loss: 2.653362274169922, error_rate: 0.7084398865699768, lr: 0.1\n",
      "38 - train_loss: 2.629537582397461, error_rate: 0.7135549783706665, lr: 0.1\n",
      "39 - train_loss: 2.604332447052002, error_rate: 0.7058823108673096, lr: 0.1\n",
      "40 - train_loss: 2.5773346424102783, error_rate: 0.7058823108673096, lr: 0.1\n",
      "41 - train_loss: 2.5488297939300537, error_rate: 0.7212276458740234, lr: 0.1\n",
      "42 - train_loss: 2.5194196701049805, error_rate: 0.7135549783706665, lr: 0.1\n",
      "43 - train_loss: 2.4972760677337646, error_rate: 0.7007672786712646, lr: 0.1\n",
      "44 - train_loss: 2.473261594772339, error_rate: 0.695652186870575, lr: 0.1\n",
      "45 - train_loss: 2.4504706859588623, error_rate: 0.6854220032691956, lr: 0.1\n",
      "46 - train_loss: 2.4312267303466797, error_rate: 0.6803069114685059, lr: 0.1\n",
      "47 - train_loss: 2.40911602973938, error_rate: 0.6777493953704834, lr: 0.1\n",
      "48 - train_loss: 2.384104013442993, error_rate: 0.6751918196678162, lr: 0.1\n",
      "49 - train_loss: 2.3556644916534424, error_rate: 0.6649616360664368, lr: 0.1\n",
      "50 - train_loss: 2.3293027877807617, error_rate: 0.6598465442657471, lr: 0.1\n",
      "51 - train_loss: 2.3071935176849365, error_rate: 0.6470588445663452, lr: 0.1\n",
      "52 - train_loss: 2.2837748527526855, error_rate: 0.6470588445663452, lr: 0.1\n",
      "53 - train_loss: 2.2619948387145996, error_rate: 0.6393861770629883, lr: 0.1\n",
      "54 - train_loss: 2.2425267696380615, error_rate: 0.6342711448669434, lr: 0.1\n",
      "55 - train_loss: 2.2178096771240234, error_rate: 0.624040961265564, lr: 0.1\n",
      "56 - train_loss: 2.1964240074157715, error_rate: 0.624040961265564, lr: 0.1\n",
      "57 - train_loss: 2.1764466762542725, error_rate: 0.6189258098602295, lr: 0.1\n",
      "58 - train_loss: 2.154310941696167, error_rate: 0.6189258098602295, lr: 0.1\n",
      "59 - train_loss: 2.1267528533935547, error_rate: 0.6189258098602295, lr: 0.1\n",
      "60 - train_loss: 2.100886583328247, error_rate: 0.6035805940628052, lr: 0.1\n",
      "61 - train_loss: 2.0781705379486084, error_rate: 0.5984654426574707, lr: 0.1\n",
      "62 - train_loss: 2.056095600128174, error_rate: 0.5882352590560913, lr: 0.1\n",
      "63 - train_loss: 2.032801628112793, error_rate: 0.5907928347587585, lr: 0.1\n",
      "64 - train_loss: 2.007127046585083, error_rate: 0.5780050754547119, lr: 0.1\n",
      "65 - train_loss: 1.9847581386566162, error_rate: 0.5780050754547119, lr: 0.1\n",
      "66 - train_loss: 1.957468867301941, error_rate: 0.5780050754547119, lr: 0.1\n",
      "67 - train_loss: 1.93170166015625, error_rate: 0.5754475593566895, lr: 0.1\n",
      "68 - train_loss: 1.910027265548706, error_rate: 0.5754475593566895, lr: 0.1\n",
      "69 - train_loss: 1.8883482217788696, error_rate: 0.572890043258667, lr: 0.1\n",
      "70 - train_loss: 1.8664921522140503, error_rate: 0.5703325271606445, lr: 0.1\n",
      "71 - train_loss: 1.845003604888916, error_rate: 0.5652173757553101, lr: 0.1\n",
      "72 - train_loss: 1.8238035440444946, error_rate: 0.5626598596572876, lr: 0.1\n",
      "73 - train_loss: 1.7994195222854614, error_rate: 0.5601023435592651, lr: 0.1\n",
      "74 - train_loss: 1.7754417657852173, error_rate: 0.5626598596572876, lr: 0.1\n",
      "75 - train_loss: 1.7524573802947998, error_rate: 0.5626598596572876, lr: 0.1\n",
      "76 - train_loss: 1.731652021408081, error_rate: 0.5575447678565979, lr: 0.1\n",
      "77 - train_loss: 1.7069110870361328, error_rate: 0.5549871921539307, lr: 0.1\n",
      "78 - train_loss: 1.6849265098571777, error_rate: 0.5524296760559082, lr: 0.1\n",
      "79 - train_loss: 1.6652345657348633, error_rate: 0.5447570085525513, lr: 0.1\n",
      "80 - train_loss: 1.6444380283355713, error_rate: 0.5396419763565063, lr: 0.1\n",
      "81 - train_loss: 1.6218750476837158, error_rate: 0.52173912525177, lr: 0.1\n",
      "82 - train_loss: 1.5994384288787842, error_rate: 0.52173912525177, lr: 0.1\n",
      "83 - train_loss: 1.581597924232483, error_rate: 0.5063939094543457, lr: 0.1\n",
      "84 - train_loss: 1.5648809671401978, error_rate: 0.49616366624832153, lr: 0.1\n",
      "85 - train_loss: 1.5484520196914673, error_rate: 0.49616366624832153, lr: 0.1\n",
      "86 - train_loss: 1.527687430381775, error_rate: 0.49104857444763184, lr: 0.1\n",
      "87 - train_loss: 1.5090315341949463, error_rate: 0.4757033586502075, lr: 0.1\n",
      "88 - train_loss: 1.4897102117538452, error_rate: 0.4705882668495178, lr: 0.1\n",
      "89 - train_loss: 1.470518946647644, error_rate: 0.45524299144744873, lr: 0.1\n",
      "90 - train_loss: 1.450994849205017, error_rate: 0.4526854157447815, lr: 0.1\n",
      "91 - train_loss: 1.4352213144302368, error_rate: 0.4475703239440918, lr: 0.1\n",
      "92 - train_loss: 1.4150199890136719, error_rate: 0.4603580832481384, lr: 0.1\n",
      "93 - train_loss: 1.3951741456985474, error_rate: 0.4603580832481384, lr: 0.1\n",
      "94 - train_loss: 1.379906415939331, error_rate: 0.4680306911468506, lr: 0.1\n",
      "95 - train_loss: 1.3650604486465454, error_rate: 0.4526854157447815, lr: 0.1\n",
      "96 - train_loss: 1.3493133783340454, error_rate: 0.45012789964675903, lr: 0.1\n",
      "97 - train_loss: 1.3353692293167114, error_rate: 0.45012789964675903, lr: 0.1\n",
      "98 - train_loss: 1.320345163345337, error_rate: 0.4603580832481384, lr: 0.1\n",
      "99 - train_loss: 1.3074082136154175, error_rate: 0.4603580832481384, lr: 0.1\n"
     ]
    }
   ],
   "source": [
    "# main loop\n",
    "max_iter=100\n",
    "\n",
    "grad, obj = get_grad(optimizer, X_train, y_train, opfun, loss_fn)\n",
    "for n_iter in progress_bar(range(max_iter)):\n",
    "\n",
    "    # training mode\n",
    "    model.train()\n",
    "    \n",
    "    p = optimizer.two_loop_recursion(-grad)   \n",
    "    # define closure for line search\n",
    "    def closure():\n",
    "        optimizer.zero_grad()\n",
    "        y_pred = model(X_train) \n",
    "        loss = loss_fn(y_pred, y_train)\n",
    "        return loss\n",
    "\n",
    "    # perform line search step\n",
    "    if n_iter==0: options = {'closure': closure}#, 'current_loss': obj}\n",
    "    else:  {'closure': closure, 'current_loss': obj}\n",
    "    obj, grad, lr, _, _, _, _, _  = optimizer.step(p, grad, options=options)\n",
    "    \n",
    "    optimizer.curvature_update(grad)\n",
    "\n",
    "    model.eval()\n",
    "\n",
    "    print(f'{n_iter} - train_loss: {obj.data.item()}, error_rate: {stats(model, X_test, y_test)}, lr: {lr}')"
   ]
  },
  {
   "cell_type": "markdown",
   "metadata": {},
   "source": [
    "## Eval"
   ]
  },
  {
   "cell_type": "code",
   "execution_count": 59,
   "metadata": {},
   "outputs": [],
   "source": [
    "model.eval()\n",
    "p = model(X_test)"
   ]
  },
  {
   "cell_type": "code",
   "execution_count": 60,
   "metadata": {},
   "outputs": [
    {
     "data": {
      "text/plain": [
       "tensor(0.2660, device='cuda:0')"
      ]
     },
     "execution_count": 60,
     "metadata": {},
     "output_type": "execute_result"
    }
   ],
   "source": [
    "error_rate(p, y_test)"
   ]
  },
  {
   "cell_type": "code",
   "execution_count": 61,
   "metadata": {},
   "outputs": [],
   "source": [
    "def get_cm(p, t): return confusion_matrix(t, p.softmax(dim=1).argmax(1))"
   ]
  },
  {
   "cell_type": "markdown",
   "metadata": {},
   "source": [
    "Confusion Matrix"
   ]
  },
  {
   "cell_type": "code",
   "execution_count": 62,
   "metadata": {},
   "outputs": [
    {
     "data": {
      "text/plain": [
       "<matplotlib.axes._subplots.AxesSubplot at 0x7f14d1d46510>"
      ]
     },
     "execution_count": 62,
     "metadata": {},
     "output_type": "execute_result"
    },
    {
     "data": {
      "image/png": "[encoded data removed]",
      "text/plain": [
       "<Figure size 432x288 with 2 Axes>"
      ]
     },
     "metadata": {
      "needs_background": "light"
     },
     "output_type": "display_data"
    }
   ],
   "source": [
    "sns.heatmap(get_cm(p,y_test), cmap='inferno')"
   ]
  },
  {
   "cell_type": "code",
   "execution_count": null,
   "metadata": {},
   "outputs": [],
   "source": []
  }
 ],
 "metadata": {
  "file_extension": ".py",
  "kernelspec": {
   "display_name": "Python 3",
   "language": "python",
   "name": "python3"
  },
  "language_info": {
   "codemirror_mode": {
    "name": "ipython",
    "version": 3
   },
   "file_extension": ".py",
   "mimetype": "text/x-python",
   "name": "python",
   "nbconvert_exporter": "python",
   "pygments_lexer": "ipython3",
   "version": "3.7.4"
  },
  "mimetype": "text/x-python",
  "name": "python",
  "npconvert_exporter": "python",
  "pygments_lexer": "ipython3",
  "version": 3
 },
 "nbformat": 4,
 "nbformat_minor": 2
}
