{
 "cells": [
  {
   "cell_type": "code",
   "execution_count": null,
   "metadata": {},
   "outputs": [],
   "source": [
    "from timeseries_fastai.imports import *\n",
    "from timeseries_fastai.data import *\n",
    "from timeseries_fastai.core import *\n",
    "from timeseries_fastai.models import *"
   ]
  },
  {
   "cell_type": "code",
   "execution_count": null,
   "metadata": {},
   "outputs": [],
   "source": [
    "PATH = get_ucr()"
   ]
  },
  {
   "cell_type": "code",
   "execution_count": null,
   "metadata": {},
   "outputs": [],
   "source": [
    "from ucr import main"
   ]
  },
  {
   "cell_type": "code",
   "execution_count": null,
   "metadata": {},
   "outputs": [
    {
     "data": {
      "text/plain": [
       "(#136) [Path('/home/tc256760/.fastai/data/Univariate_arff/PowerCons'),Path('/home/tc256760/.fastai/data/Univariate_arff/PhalangesOutlinesCorrect'),Path('/home/tc256760/.fastai/data/Univariate_arff/Herring'),Path('/home/tc256760/.fastai/data/Univariate_arff/ElectricDevices'),Path('/home/tc256760/.fastai/data/Univariate_arff/CBF'),Path('/home/tc256760/.fastai/data/Univariate_arff/Plane'),Path('/home/tc256760/.fastai/data/Univariate_arff/DataSummaryExpanded_v03.xlsx'),Path('/home/tc256760/.fastai/data/Univariate_arff/MiddlePhalanxTW'),Path('/home/tc256760/.fastai/data/Univariate_arff/.~lock.DataSummaryExpanded_NoMissingVals.xlsx#'),Path('/home/tc256760/.fastai/data/Univariate_arff/ECG5000')...]"
      ]
     },
     "execution_count": null,
     "metadata": {},
     "output_type": "execute_result"
    }
   ],
   "source": [
    "PATH.ls()"
   ]
  },
  {
   "cell_type": "code",
   "execution_count": null,
   "metadata": {},
   "outputs": [],
   "source": [
    "summary = pd.read_csv(PATH/'SummaryData.csv', index_col=0)"
   ]
  },
  {
   "cell_type": "code",
   "execution_count": null,
   "metadata": {},
   "outputs": [],
   "source": [
    "tasks = summary.index.to_list()"
   ]
  },
  {
   "cell_type": "code",
   "execution_count": null,
   "metadata": {},
   "outputs": [],
   "source": [
    "def max_bs(N):\n",
    "    N = N//6\n",
    "    k=1\n",
    "    while (N//2**k)>1: k+=1\n",
    "    return min(2**k, 32)"
   ]
  },
  {
   "cell_type": "code",
   "execution_count": null,
   "metadata": {},
   "outputs": [],
   "source": [
    "def get_dls(path, task, bs=None, workers=None):\n",
    "    df_train, df_test = load_df_ucr(path, task)\n",
    "    bs = ifnone(bs, max_bs(len(df_train)))\n",
    "    x_cols = df_train.columns[0:-1].to_list()\n",
    "    return TSDataLoaders.from_dfs(df_train, df_test, x_cols=x_cols, label_col='target', \n",
    "                                  bs=bs, num_workers=workers)"
   ]
  },
  {
   "cell_type": "code",
   "execution_count": null,
   "metadata": {},
   "outputs": [
    {
     "name": "stdout",
     "output_type": "stream",
     "text": [
      "Loading files from: /home/tc256760/.fastai/data/Univariate_arff/Adiac\n"
     ]
    }
   ],
   "source": [
    "dls = get_dls(PATH, 'Adiac')"
   ]
  },
  {
   "cell_type": "code",
   "execution_count": null,
   "metadata": {},
   "outputs": [],
   "source": [
    "def get_model(dls, arch):\n",
    "    num_classes = len(dls.vocab)\n",
    "    arch = arch.lower()\n",
    "    if arch=='resnet':     model = create_resnet(1, num_classes, conv_sizes=[64, 128, 256])\n",
    "    elif arch=='fcn':      model = create_fcn(1, num_classes, ks=9, conv_sizes=[128, 256, 128])\n",
    "    elif arch=='mlp':      model = create_mlp(dls.train_ds[0][0].shape[1], num_classes)\n",
    "    elif arch=='inception':model = create_inception(1, num_classes)\n",
    "    else: \n",
    "        print('Please chosse a model in [resnet, FCN, MLP, inception]')\n",
    "        return None\n",
    "    return model"
   ]
  },
  {
   "cell_type": "code",
   "execution_count": null,
   "metadata": {},
   "outputs": [],
   "source": [
    "def train_task(path, task='Adiac', arch='resnet', epochs=40, lr=5e-4):\n",
    "    \"trains arch over task with params\"\n",
    "    dls = get_dls(path, task)\n",
    "    model = get_model(dls, arch)\n",
    "    learn = Learner(dls, model, wd=1e-2, metrics=[accuracy])\n",
    "    learn.fit_one_cycle(epochs, lr)                          \n",
    "    return learn"
   ]
  },
  {
   "cell_type": "code",
   "execution_count": null,
   "metadata": {},
   "outputs": [
    {
     "name": "stdout",
     "output_type": "stream",
     "text": [
      "Loading files from: /home/tc256760/.fastai/data/Univariate_arff/Adiac\n"
     ]
    },
    {
     "data": {
      "text/html": [
       "<table border=\"1\" class=\"dataframe\">\n",
       "  <thead>\n",
       "    <tr style=\"text-align: left;\">\n",
       "      <th>epoch</th>\n",
       "      <th>train_loss</th>\n",
       "      <th>valid_loss</th>\n",
       "      <th>accuracy</th>\n",
       "      <th>time</th>\n",
       "    </tr>\n",
       "  </thead>\n",
       "  <tbody>\n",
       "    <tr>\n",
       "      <td>0</td>\n",
       "      <td>3.439373</td>\n",
       "      <td>3.561857</td>\n",
       "      <td>0.074169</td>\n",
       "      <td>00:01</td>\n",
       "    </tr>\n",
       "  </tbody>\n",
       "</table>"
      ],
      "text/plain": [
       "<IPython.core.display.HTML object>"
      ]
     },
     "metadata": {},
     "output_type": "display_data"
    }
   ],
   "source": [
    "learn = train_task(PATH, 'Adiac', arch='mlp', epochs=1)"
   ]
  },
  {
   "cell_type": "code",
   "execution_count": null,
   "metadata": {},
   "outputs": [],
   "source": [
    "non_nan_tasks = \"\"\"Adiac\n",
    "ArrowHead\n",
    "Beef\n",
    "BeetleFly\n",
    "BirdChicken\n",
    "Car\n",
    "CBF\n",
    "ChlorineConcentration\n",
    "CinCECGTorso\n",
    "Coffee\n",
    "Computers\n",
    "CricketX\n",
    "CricketY\n",
    "CricketZ\n",
    "DiatomSizeReduction\n",
    "DistalPhalanxOutlineAgeGroup\n",
    "DistalPhalanxOutlineCorrect\n",
    "DistalPhalanxTW\n",
    "Earthquakes\n",
    "ECG200\n",
    "ECG5000\n",
    "ECGFiveDays\n",
    "ElectricDevices\n",
    "FaceAll\n",
    "FaceFour\n",
    "FacesUCR\n",
    "FiftyWords\n",
    "Fish\n",
    "FordA\n",
    "FordB\n",
    "GunPoint\n",
    "Ham\n",
    "HandOutlines\n",
    "Haptics\n",
    "Herring\n",
    "InlineSkate\n",
    "InsectWingbeatSound\n",
    "ItalyPowerDemand\n",
    "LargeKitchenAppliances\n",
    "Lightning2\n",
    "Lightning7\n",
    "Mallat\n",
    "Meat\n",
    "MedicalImages\n",
    "MiddlePhalanxOutlineAgeGroup\n",
    "MiddlePhalanxOutlineCorrect\n",
    "MiddlePhalanxTW\n",
    "MoteStrain\n",
    "NonInvasiveFatalECGThorax1\n",
    "NonInvasiveFatalECGThorax2\n",
    "OliveOil\n",
    "OSULeaf\n",
    "PhalangesOutlinesCorrect\n",
    "Phoneme\n",
    "Plane\n",
    "ProximalPhalanxOutlineAgeGroup\n",
    "ProximalPhalanxOutlineCorrect\n",
    "ProximalPhalanxTW\n",
    "RefrigerationDevices\n",
    "ScreenType\n",
    "ShapeletSim\n",
    "ShapesAll\n",
    "SmallKitchenAppliances\n",
    "SonyAIBORobotSurface1\n",
    "SonyAIBORobotSurface2\n",
    "StarLightCurves\n",
    "Strawberry\n",
    "SwedishLeaf\n",
    "Symbols\n",
    "SyntheticControl\n",
    "ToeSegmentation1\n",
    "ToeSegmentation2\n",
    "Trace\n",
    "TwoLeadECG\n",
    "TwoPatterns\n",
    "UWaveGestureLibraryAll\n",
    "UWaveGestureLibraryX\n",
    "UWaveGestureLibraryY\n",
    "UWaveGestureLibraryZ\n",
    "Wafer\n",
    "Wine\n",
    "WordSynonyms\n",
    "Worms\n",
    "WormsTwoClass\n",
    "Yoga\n",
    "ACSF1\n",
    "BME\n",
    "EthanolLevel\n",
    "FreezerRegularTrain\n",
    "FreezerSmallTrain\n",
    "GunPointAgeSpan\n",
    "GunPointMaleVersusFemale\n",
    "GunPointOldVersusYoung\n",
    "InsectEPGRegularTrain\n",
    "InsectEPGSmallTrain\n",
    "PigAirwayPressure\n",
    "PigArtPressure\n",
    "PigCVP\n",
    "PowerCons\n",
    "SmoothSubspace\n",
    "UMD\n",
    "Fungi\n",
    "HouseTwenty\n",
    "SemgHandGenderCh2\n",
    "SemgHandMovementCh2\n",
    "SemgHandSubjectCh2\n",
    "MixedShapes\n",
    "MixedShapesSmallTrain\n",
    "EOGHorizontalSignal\n",
    "EOGVerticalSignal\n",
    "Rock\n",
    "Crop\n",
    "Chinatown\n",
    "MelbournePedestrian\"\"\".split()"
   ]
  },
  {
   "cell_type": "code",
   "execution_count": null,
   "metadata": {},
   "outputs": [],
   "source": [
    "def compute_metrics(learn):\n",
    "    \"compute oguiza Metrics on UCR\"\n",
    "    results = np.array(learn.recorder.values)\n",
    "    acc_ = results[-1,-1]\n",
    "    accmax_ = results[:, -1].max()\n",
    "    loss_ = results[-1,0]\n",
    "    val_loss_ = results[-1,1]\n",
    "    return acc_, accmax_, loss_, val_loss_ "
   ]
  },
  {
   "cell_type": "code",
   "execution_count": null,
   "metadata": {},
   "outputs": [
    {
     "name": "stdout",
     "output_type": "stream",
     "text": [
      "Loading files from: /home/tc256760/.fastai/data/Univariate_arff/ACSF1\n"
     ]
    },
    {
     "data": {
      "text/html": [
       "<table border=\"1\" class=\"dataframe\">\n",
       "  <thead>\n",
       "    <tr style=\"text-align: left;\">\n",
       "      <th>epoch</th>\n",
       "      <th>train_loss</th>\n",
       "      <th>valid_loss</th>\n",
       "      <th>accuracy</th>\n",
       "      <th>time</th>\n",
       "    </tr>\n",
       "  </thead>\n",
       "  <tbody>\n",
       "    <tr>\n",
       "      <td>0</td>\n",
       "      <td>2.022209</td>\n",
       "      <td>2.272052</td>\n",
       "      <td>0.130000</td>\n",
       "      <td>00:01</td>\n",
       "    </tr>\n",
       "    <tr>\n",
       "      <td>1</td>\n",
       "      <td>1.616853</td>\n",
       "      <td>2.018378</td>\n",
       "      <td>0.390000</td>\n",
       "      <td>00:01</td>\n",
       "    </tr>\n",
       "    <tr>\n",
       "      <td>2</td>\n",
       "      <td>1.377368</td>\n",
       "      <td>1.681458</td>\n",
       "      <td>0.460000</td>\n",
       "      <td>00:01</td>\n",
       "    </tr>\n",
       "    <tr>\n",
       "      <td>3</td>\n",
       "      <td>1.221826</td>\n",
       "      <td>1.339833</td>\n",
       "      <td>0.640000</td>\n",
       "      <td>00:01</td>\n",
       "    </tr>\n",
       "  </tbody>\n",
       "</table>"
      ],
      "text/plain": [
       "<IPython.core.display.HTML object>"
      ]
     },
     "metadata": {},
     "output_type": "display_data"
    }
   ],
   "source": [
    "learn = train_task(PATH, tasks[0], epochs=4)"
   ]
  },
  {
   "cell_type": "code",
   "execution_count": null,
   "metadata": {},
   "outputs": [
    {
     "data": {
      "text/plain": [
       "(0.6399999856948853,\n",
       " 0.6399999856948853,\n",
       " 1.2218255996704102,\n",
       " 1.3398334980010986)"
      ]
     },
     "execution_count": null,
     "metadata": {},
     "output_type": "execute_result"
    }
   ],
   "source": [
    "compute_metrics(learn)"
   ]
  },
  {
   "cell_type": "code",
   "execution_count": null,
   "metadata": {},
   "outputs": [],
   "source": [
    "def run_tasks(tasks, arch='resnet', lr=1e-3, epochs=1):\n",
    "    results = [compute_metrics(train_task(PATH, task, arch, epochs, lr)) for task in tasks]\n",
    "    return pd.DataFrame(data=results, columns=['acc', 'acc_max', 'train_loss', 'val_loss'], index=tasks)"
   ]
  },
  {
   "cell_type": "code",
   "execution_count": null,
   "metadata": {},
   "outputs": [
    {
     "name": "stdout",
     "output_type": "stream",
     "text": [
      "Loading files from: /home/tc256760/.fastai/data/Univariate_arff/Adiac\n"
     ]
    },
    {
     "data": {
      "text/html": [
       "<table border=\"1\" class=\"dataframe\">\n",
       "  <thead>\n",
       "    <tr style=\"text-align: left;\">\n",
       "      <th>epoch</th>\n",
       "      <th>train_loss</th>\n",
       "      <th>valid_loss</th>\n",
       "      <th>accuracy</th>\n",
       "      <th>time</th>\n",
       "    </tr>\n",
       "  </thead>\n",
       "  <tbody>\n",
       "    <tr>\n",
       "      <td>0</td>\n",
       "      <td>2.797986</td>\n",
       "      <td>4.502527</td>\n",
       "      <td>0.025575</td>\n",
       "      <td>00:01</td>\n",
       "    </tr>\n",
       "  </tbody>\n",
       "</table>"
      ],
      "text/plain": [
       "<IPython.core.display.HTML object>"
      ]
     },
     "metadata": {},
     "output_type": "display_data"
    },
    {
     "name": "stdout",
     "output_type": "stream",
     "text": [
      "Loading files from: /home/tc256760/.fastai/data/Univariate_arff/ArrowHead\n"
     ]
    },
    {
     "data": {
      "text/html": [
       "<table border=\"1\" class=\"dataframe\">\n",
       "  <thead>\n",
       "    <tr style=\"text-align: left;\">\n",
       "      <th>epoch</th>\n",
       "      <th>train_loss</th>\n",
       "      <th>valid_loss</th>\n",
       "      <th>accuracy</th>\n",
       "      <th>time</th>\n",
       "    </tr>\n",
       "  </thead>\n",
       "  <tbody>\n",
       "    <tr>\n",
       "      <td>0</td>\n",
       "      <td>1.013532</td>\n",
       "      <td>1.219332</td>\n",
       "      <td>0.274286</td>\n",
       "      <td>00:02</td>\n",
       "    </tr>\n",
       "  </tbody>\n",
       "</table>"
      ],
      "text/plain": [
       "<IPython.core.display.HTML object>"
      ]
     },
     "metadata": {},
     "output_type": "display_data"
    },
    {
     "name": "stdout",
     "output_type": "stream",
     "text": [
      "Loading files from: /home/tc256760/.fastai/data/Univariate_arff/Beef\n"
     ]
    },
    {
     "data": {
      "text/html": [
       "<table border=\"1\" class=\"dataframe\">\n",
       "  <thead>\n",
       "    <tr style=\"text-align: left;\">\n",
       "      <th>epoch</th>\n",
       "      <th>train_loss</th>\n",
       "      <th>valid_loss</th>\n",
       "      <th>accuracy</th>\n",
       "      <th>time</th>\n",
       "    </tr>\n",
       "  </thead>\n",
       "  <tbody>\n",
       "    <tr>\n",
       "      <td>0</td>\n",
       "      <td>1.822442</td>\n",
       "      <td>1.827858</td>\n",
       "      <td>0.200000</td>\n",
       "      <td>00:01</td>\n",
       "    </tr>\n",
       "  </tbody>\n",
       "</table>"
      ],
      "text/plain": [
       "<IPython.core.display.HTML object>"
      ]
     },
     "metadata": {},
     "output_type": "display_data"
    },
    {
     "data": {
      "text/html": [
       "<div>\n",
       "<style scoped>\n",
       "    .dataframe tbody tr th:only-of-type {\n",
       "        vertical-align: middle;\n",
       "    }\n",
       "\n",
       "    .dataframe tbody tr th {\n",
       "        vertical-align: top;\n",
       "    }\n",
       "\n",
       "    .dataframe thead th {\n",
       "        text-align: right;\n",
       "    }\n",
       "</style>\n",
       "<table border=\"1\" class=\"dataframe\">\n",
       "  <thead>\n",
       "    <tr style=\"text-align: right;\">\n",
       "      <th></th>\n",
       "      <th>acc</th>\n",
       "      <th>acc_max</th>\n",
       "      <th>train_loss</th>\n",
       "      <th>val_loss</th>\n",
       "    </tr>\n",
       "  </thead>\n",
       "  <tbody>\n",
       "    <tr>\n",
       "      <th>Adiac</th>\n",
       "      <td>0.025575</td>\n",
       "      <td>0.025575</td>\n",
       "      <td>2.797986</td>\n",
       "      <td>4.502527</td>\n",
       "    </tr>\n",
       "    <tr>\n",
       "      <th>ArrowHead</th>\n",
       "      <td>0.274286</td>\n",
       "      <td>0.274286</td>\n",
       "      <td>1.013532</td>\n",
       "      <td>1.219332</td>\n",
       "    </tr>\n",
       "    <tr>\n",
       "      <th>Beef</th>\n",
       "      <td>0.200000</td>\n",
       "      <td>0.200000</td>\n",
       "      <td>1.822442</td>\n",
       "      <td>1.827858</td>\n",
       "    </tr>\n",
       "  </tbody>\n",
       "</table>\n",
       "</div>"
      ],
      "text/plain": [
       "                acc   acc_max  train_loss  val_loss\n",
       "Adiac      0.025575  0.025575    2.797986  4.502527\n",
       "ArrowHead  0.274286  0.274286    1.013532  1.219332\n",
       "Beef       0.200000  0.200000    1.822442  1.827858"
      ]
     },
     "execution_count": null,
     "metadata": {},
     "output_type": "execute_result"
    }
   ],
   "source": [
    "run_tasks(non_nan_tasks[0:3])"
   ]
  }
 ],
 "metadata": {
  "kernelspec": {
   "display_name": "Python 3",
   "language": "python",
   "name": "python3"
  }
 },
 "nbformat": 4,
 "nbformat_minor": 4
}
