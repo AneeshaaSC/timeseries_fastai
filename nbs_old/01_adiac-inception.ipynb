{
 "cells": [
  {
   "cell_type": "code",
   "execution_count": null,
   "metadata": {},
   "outputs": [],
   "source": [
    "%load_ext autoreload\n",
    "%autoreload 2"
   ]
  },
  {
   "cell_type": "code",
   "execution_count": null,
   "metadata": {},
   "outputs": [],
   "source": [
    "import seaborn as sns\n",
    "import pandas as pd\n",
    "from pathlib import Path\n",
    "from utils import *\n",
    "from inception import *\n",
    "from models import *\n",
    "from ucr import *\n",
    "from sklearn.metrics import confusion_matrix\n",
    "\n",
    "import torch\n",
    "import torch.nn as nn\n",
    "import fastai\n",
    "from fastai.vision import *"
   ]
  },
  {
   "cell_type": "code",
   "execution_count": null,
   "metadata": {},
   "outputs": [],
   "source": [
    "DATAPATH = Path.cwd()/'Univariate_arff'"
   ]
  },
  {
   "cell_type": "code",
   "execution_count": null,
   "metadata": {},
   "outputs": [
    {
     "data": {
      "text/plain": [
       "[PosixPath('/home/tc256760/Documents/TimeSeries_fastai/Univariate_arff/ACSF1'),\n",
       " PosixPath('/home/tc256760/Documents/TimeSeries_fastai/Univariate_arff/Adiac'),\n",
       " PosixPath('/home/tc256760/Documents/TimeSeries_fastai/Univariate_arff/AllGestureWiimoteX'),\n",
       " PosixPath('/home/tc256760/Documents/TimeSeries_fastai/Univariate_arff/AllGestureWiimoteY'),\n",
       " PosixPath('/home/tc256760/Documents/TimeSeries_fastai/Univariate_arff/AllGestureWiimoteZ'),\n",
       " PosixPath('/home/tc256760/Documents/TimeSeries_fastai/Univariate_arff/ArrowHead'),\n",
       " PosixPath('/home/tc256760/Documents/TimeSeries_fastai/Univariate_arff/BME'),\n",
       " PosixPath('/home/tc256760/Documents/TimeSeries_fastai/Univariate_arff/Beef'),\n",
       " PosixPath('/home/tc256760/Documents/TimeSeries_fastai/Univariate_arff/BeetleFly'),\n",
       " PosixPath('/home/tc256760/Documents/TimeSeries_fastai/Univariate_arff/BirdChicken'),\n",
       " PosixPath('/home/tc256760/Documents/TimeSeries_fastai/Univariate_arff/CBF'),\n",
       " PosixPath('/home/tc256760/Documents/TimeSeries_fastai/Univariate_arff/Car'),\n",
       " PosixPath('/home/tc256760/Documents/TimeSeries_fastai/Univariate_arff/Chinatown'),\n",
       " PosixPath('/home/tc256760/Documents/TimeSeries_fastai/Univariate_arff/ChlorineConcentration'),\n",
       " PosixPath('/home/tc256760/Documents/TimeSeries_fastai/Univariate_arff/CinCECGTorso'),\n",
       " PosixPath('/home/tc256760/Documents/TimeSeries_fastai/Univariate_arff/Coffee'),\n",
       " PosixPath('/home/tc256760/Documents/TimeSeries_fastai/Univariate_arff/Computers'),\n",
       " PosixPath('/home/tc256760/Documents/TimeSeries_fastai/Univariate_arff/CricketX'),\n",
       " PosixPath('/home/tc256760/Documents/TimeSeries_fastai/Univariate_arff/CricketY'),\n",
       " PosixPath('/home/tc256760/Documents/TimeSeries_fastai/Univariate_arff/CricketZ'),\n",
       " PosixPath('/home/tc256760/Documents/TimeSeries_fastai/Univariate_arff/Crop'),\n",
       " PosixPath('/home/tc256760/Documents/TimeSeries_fastai/Univariate_arff/DataSummaryExpanded_NoMissingVals.xlsx'),\n",
       " PosixPath('/home/tc256760/Documents/TimeSeries_fastai/Univariate_arff/DataSummaryExpanded_v03.xlsx'),\n",
       " PosixPath('/home/tc256760/Documents/TimeSeries_fastai/Univariate_arff/DiatomSizeReduction'),\n",
       " PosixPath('/home/tc256760/Documents/TimeSeries_fastai/Univariate_arff/DistalPhalanxOutlineAgeGroup'),\n",
       " PosixPath('/home/tc256760/Documents/TimeSeries_fastai/Univariate_arff/DistalPhalanxOutlineCorrect'),\n",
       " PosixPath('/home/tc256760/Documents/TimeSeries_fastai/Univariate_arff/DistalPhalanxTW'),\n",
       " PosixPath('/home/tc256760/Documents/TimeSeries_fastai/Univariate_arff/DodgerLoopDay'),\n",
       " PosixPath('/home/tc256760/Documents/TimeSeries_fastai/Univariate_arff/DodgerLoopGame'),\n",
       " PosixPath('/home/tc256760/Documents/TimeSeries_fastai/Univariate_arff/DodgerLoopWeekend'),\n",
       " PosixPath('/home/tc256760/Documents/TimeSeries_fastai/Univariate_arff/ECG200'),\n",
       " PosixPath('/home/tc256760/Documents/TimeSeries_fastai/Univariate_arff/ECG5000'),\n",
       " PosixPath('/home/tc256760/Documents/TimeSeries_fastai/Univariate_arff/ECGFiveDays'),\n",
       " PosixPath('/home/tc256760/Documents/TimeSeries_fastai/Univariate_arff/EOGHorizontalSignal'),\n",
       " PosixPath('/home/tc256760/Documents/TimeSeries_fastai/Univariate_arff/EOGVerticalSignal'),\n",
       " PosixPath('/home/tc256760/Documents/TimeSeries_fastai/Univariate_arff/Earthquakes'),\n",
       " PosixPath('/home/tc256760/Documents/TimeSeries_fastai/Univariate_arff/ElectricDevices'),\n",
       " PosixPath('/home/tc256760/Documents/TimeSeries_fastai/Univariate_arff/EthanolLevel'),\n",
       " PosixPath('/home/tc256760/Documents/TimeSeries_fastai/Univariate_arff/FaceAll'),\n",
       " PosixPath('/home/tc256760/Documents/TimeSeries_fastai/Univariate_arff/FaceFour'),\n",
       " PosixPath('/home/tc256760/Documents/TimeSeries_fastai/Univariate_arff/FacesUCR'),\n",
       " PosixPath('/home/tc256760/Documents/TimeSeries_fastai/Univariate_arff/FiftyWords'),\n",
       " PosixPath('/home/tc256760/Documents/TimeSeries_fastai/Univariate_arff/Fish'),\n",
       " PosixPath('/home/tc256760/Documents/TimeSeries_fastai/Univariate_arff/FordA'),\n",
       " PosixPath('/home/tc256760/Documents/TimeSeries_fastai/Univariate_arff/FordB'),\n",
       " PosixPath('/home/tc256760/Documents/TimeSeries_fastai/Univariate_arff/FreezerRegularTrain'),\n",
       " PosixPath('/home/tc256760/Documents/TimeSeries_fastai/Univariate_arff/FreezerSmallTrain'),\n",
       " PosixPath('/home/tc256760/Documents/TimeSeries_fastai/Univariate_arff/Fungi'),\n",
       " PosixPath('/home/tc256760/Documents/TimeSeries_fastai/Univariate_arff/GestureMidAirD1'),\n",
       " PosixPath('/home/tc256760/Documents/TimeSeries_fastai/Univariate_arff/GestureMidAirD2'),\n",
       " PosixPath('/home/tc256760/Documents/TimeSeries_fastai/Univariate_arff/GestureMidAirD3'),\n",
       " PosixPath('/home/tc256760/Documents/TimeSeries_fastai/Univariate_arff/GesturePebbleZ1'),\n",
       " PosixPath('/home/tc256760/Documents/TimeSeries_fastai/Univariate_arff/GesturePebbleZ2'),\n",
       " PosixPath('/home/tc256760/Documents/TimeSeries_fastai/Univariate_arff/GunPoint'),\n",
       " PosixPath('/home/tc256760/Documents/TimeSeries_fastai/Univariate_arff/GunPointAgeSpan'),\n",
       " PosixPath('/home/tc256760/Documents/TimeSeries_fastai/Univariate_arff/GunPointMaleVersusFemale'),\n",
       " PosixPath('/home/tc256760/Documents/TimeSeries_fastai/Univariate_arff/GunPointOldVersusYoung'),\n",
       " PosixPath('/home/tc256760/Documents/TimeSeries_fastai/Univariate_arff/Ham'),\n",
       " PosixPath('/home/tc256760/Documents/TimeSeries_fastai/Univariate_arff/HandOutlines'),\n",
       " PosixPath('/home/tc256760/Documents/TimeSeries_fastai/Univariate_arff/Haptics'),\n",
       " PosixPath('/home/tc256760/Documents/TimeSeries_fastai/Univariate_arff/Herring'),\n",
       " PosixPath('/home/tc256760/Documents/TimeSeries_fastai/Univariate_arff/HouseTwenty'),\n",
       " PosixPath('/home/tc256760/Documents/TimeSeries_fastai/Univariate_arff/InlineSkate'),\n",
       " PosixPath('/home/tc256760/Documents/TimeSeries_fastai/Univariate_arff/InsectEPGRegularTrain'),\n",
       " PosixPath('/home/tc256760/Documents/TimeSeries_fastai/Univariate_arff/InsectEPGSmallTrain'),\n",
       " PosixPath('/home/tc256760/Documents/TimeSeries_fastai/Univariate_arff/InsectWingbeatSound'),\n",
       " PosixPath('/home/tc256760/Documents/TimeSeries_fastai/Univariate_arff/ItalyPowerDemand'),\n",
       " PosixPath('/home/tc256760/Documents/TimeSeries_fastai/Univariate_arff/LargeKitchenAppliances'),\n",
       " PosixPath('/home/tc256760/Documents/TimeSeries_fastai/Univariate_arff/Lightning2'),\n",
       " PosixPath('/home/tc256760/Documents/TimeSeries_fastai/Univariate_arff/Lightning7'),\n",
       " PosixPath('/home/tc256760/Documents/TimeSeries_fastai/Univariate_arff/Mallat'),\n",
       " PosixPath('/home/tc256760/Documents/TimeSeries_fastai/Univariate_arff/Meat'),\n",
       " PosixPath('/home/tc256760/Documents/TimeSeries_fastai/Univariate_arff/MedicalImages'),\n",
       " PosixPath('/home/tc256760/Documents/TimeSeries_fastai/Univariate_arff/MelbournePedestrian'),\n",
       " PosixPath('/home/tc256760/Documents/TimeSeries_fastai/Univariate_arff/MiddlePhalanxOutlineAgeGroup'),\n",
       " PosixPath('/home/tc256760/Documents/TimeSeries_fastai/Univariate_arff/MiddlePhalanxOutlineCorrect'),\n",
       " PosixPath('/home/tc256760/Documents/TimeSeries_fastai/Univariate_arff/MiddlePhalanxTW'),\n",
       " PosixPath('/home/tc256760/Documents/TimeSeries_fastai/Univariate_arff/MixedShapesRegularTrain'),\n",
       " PosixPath('/home/tc256760/Documents/TimeSeries_fastai/Univariate_arff/MixedShapesSmallTrain'),\n",
       " PosixPath('/home/tc256760/Documents/TimeSeries_fastai/Univariate_arff/MoteStrain'),\n",
       " PosixPath('/home/tc256760/Documents/TimeSeries_fastai/Univariate_arff/NonInvasiveFetalECGThorax1'),\n",
       " PosixPath('/home/tc256760/Documents/TimeSeries_fastai/Univariate_arff/NonInvasiveFetalECGThorax2'),\n",
       " PosixPath('/home/tc256760/Documents/TimeSeries_fastai/Univariate_arff/OSULeaf'),\n",
       " PosixPath('/home/tc256760/Documents/TimeSeries_fastai/Univariate_arff/OliveOil'),\n",
       " PosixPath('/home/tc256760/Documents/TimeSeries_fastai/Univariate_arff/PLAID'),\n",
       " PosixPath('/home/tc256760/Documents/TimeSeries_fastai/Univariate_arff/PhalangesOutlinesCorrect'),\n",
       " PosixPath('/home/tc256760/Documents/TimeSeries_fastai/Univariate_arff/Phoneme'),\n",
       " PosixPath('/home/tc256760/Documents/TimeSeries_fastai/Univariate_arff/PickupGestureWiimoteZ'),\n",
       " PosixPath('/home/tc256760/Documents/TimeSeries_fastai/Univariate_arff/Pictures'),\n",
       " PosixPath('/home/tc256760/Documents/TimeSeries_fastai/Univariate_arff/PigAirwayPressure'),\n",
       " PosixPath('/home/tc256760/Documents/TimeSeries_fastai/Univariate_arff/PigArtPressure'),\n",
       " PosixPath('/home/tc256760/Documents/TimeSeries_fastai/Univariate_arff/PigCVP'),\n",
       " PosixPath('/home/tc256760/Documents/TimeSeries_fastai/Univariate_arff/Plane'),\n",
       " PosixPath('/home/tc256760/Documents/TimeSeries_fastai/Univariate_arff/PowerCons'),\n",
       " PosixPath('/home/tc256760/Documents/TimeSeries_fastai/Univariate_arff/ProximalPhalanxOutlineAgeGroup'),\n",
       " PosixPath('/home/tc256760/Documents/TimeSeries_fastai/Univariate_arff/ProximalPhalanxOutlineCorrect'),\n",
       " PosixPath('/home/tc256760/Documents/TimeSeries_fastai/Univariate_arff/ProximalPhalanxTW'),\n",
       " PosixPath('/home/tc256760/Documents/TimeSeries_fastai/Univariate_arff/RefrigerationDevices'),\n",
       " PosixPath('/home/tc256760/Documents/TimeSeries_fastai/Univariate_arff/Rock'),\n",
       " PosixPath('/home/tc256760/Documents/TimeSeries_fastai/Univariate_arff/ScreenType'),\n",
       " PosixPath('/home/tc256760/Documents/TimeSeries_fastai/Univariate_arff/SemgHandGenderCh2'),\n",
       " PosixPath('/home/tc256760/Documents/TimeSeries_fastai/Univariate_arff/SemgHandMovementCh2'),\n",
       " PosixPath('/home/tc256760/Documents/TimeSeries_fastai/Univariate_arff/SemgHandSubjectCh2'),\n",
       " PosixPath('/home/tc256760/Documents/TimeSeries_fastai/Univariate_arff/ShakeGestureWiimoteZ'),\n",
       " PosixPath('/home/tc256760/Documents/TimeSeries_fastai/Univariate_arff/ShapeletSim'),\n",
       " PosixPath('/home/tc256760/Documents/TimeSeries_fastai/Univariate_arff/ShapesAll'),\n",
       " PosixPath('/home/tc256760/Documents/TimeSeries_fastai/Univariate_arff/SmallKitchenAppliances'),\n",
       " PosixPath('/home/tc256760/Documents/TimeSeries_fastai/Univariate_arff/SmoothSubspace'),\n",
       " PosixPath('/home/tc256760/Documents/TimeSeries_fastai/Univariate_arff/SonyAIBORobotSurface1'),\n",
       " PosixPath('/home/tc256760/Documents/TimeSeries_fastai/Univariate_arff/SonyAIBORobotSurface2'),\n",
       " PosixPath('/home/tc256760/Documents/TimeSeries_fastai/Univariate_arff/StarLightCurves'),\n",
       " PosixPath('/home/tc256760/Documents/TimeSeries_fastai/Univariate_arff/Strawberry'),\n",
       " PosixPath('/home/tc256760/Documents/TimeSeries_fastai/Univariate_arff/SummaryData.csv'),\n",
       " PosixPath('/home/tc256760/Documents/TimeSeries_fastai/Univariate_arff/SwedishLeaf'),\n",
       " PosixPath('/home/tc256760/Documents/TimeSeries_fastai/Univariate_arff/Symbols'),\n",
       " PosixPath('/home/tc256760/Documents/TimeSeries_fastai/Univariate_arff/SyntheticControl'),\n",
       " PosixPath('/home/tc256760/Documents/TimeSeries_fastai/Univariate_arff/ToeSegmentation1'),\n",
       " PosixPath('/home/tc256760/Documents/TimeSeries_fastai/Univariate_arff/ToeSegmentation2'),\n",
       " PosixPath('/home/tc256760/Documents/TimeSeries_fastai/Univariate_arff/Trace'),\n",
       " PosixPath('/home/tc256760/Documents/TimeSeries_fastai/Univariate_arff/TwoClassProblems.csv'),\n",
       " PosixPath('/home/tc256760/Documents/TimeSeries_fastai/Univariate_arff/TwoLeadECG'),\n",
       " PosixPath('/home/tc256760/Documents/TimeSeries_fastai/Univariate_arff/TwoPatterns'),\n",
       " PosixPath('/home/tc256760/Documents/TimeSeries_fastai/Univariate_arff/UMD'),\n",
       " PosixPath('/home/tc256760/Documents/TimeSeries_fastai/Univariate_arff/UWaveGestureLibraryAll'),\n",
       " PosixPath('/home/tc256760/Documents/TimeSeries_fastai/Univariate_arff/UWaveGestureLibraryX'),\n",
       " PosixPath('/home/tc256760/Documents/TimeSeries_fastai/Univariate_arff/UWaveGestureLibraryY'),\n",
       " PosixPath('/home/tc256760/Documents/TimeSeries_fastai/Univariate_arff/UWaveGestureLibraryZ'),\n",
       " PosixPath('/home/tc256760/Documents/TimeSeries_fastai/Univariate_arff/Wafer'),\n",
       " PosixPath('/home/tc256760/Documents/TimeSeries_fastai/Univariate_arff/Wine'),\n",
       " PosixPath('/home/tc256760/Documents/TimeSeries_fastai/Univariate_arff/WordSynonyms'),\n",
       " PosixPath('/home/tc256760/Documents/TimeSeries_fastai/Univariate_arff/Worms'),\n",
       " PosixPath('/home/tc256760/Documents/TimeSeries_fastai/Univariate_arff/WormsTwoClass'),\n",
       " PosixPath('/home/tc256760/Documents/TimeSeries_fastai/Univariate_arff/Yoga'),\n",
       " PosixPath('/home/tc256760/Documents/TimeSeries_fastai/Univariate_arff/dataset.csv'),\n",
       " PosixPath('/home/tc256760/Documents/TimeSeries_fastai/Univariate_arff/models'),\n",
       " PosixPath('/home/tc256760/Documents/TimeSeries_fastai/Univariate_arff/newProblemsUpload.csv')]"
      ]
     },
     "execution_count": null,
     "metadata": {},
     "output_type": "execute_result"
    }
   ],
   "source": [
    "sorted(list(DATAPATH.iterdir()))"
   ]
  },
  {
   "cell_type": "code",
   "execution_count": null,
   "metadata": {},
   "outputs": [
    {
     "name": "stdout",
     "output_type": "stream",
     "text": [
      "Loading files from: /home/tc256760/Documents/TimeSeries_fastai/Univariate_arff/Adiac\n"
     ]
    }
   ],
   "source": [
    "task = 'Adiac'\n",
    "df_train, df_test = load_df(DATAPATH, task)"
   ]
  },
  {
   "cell_type": "code",
   "execution_count": null,
   "metadata": {},
   "outputs": [
    {
     "data": {
      "text/plain": [
       "37"
      ]
     },
     "execution_count": null,
     "metadata": {},
     "output_type": "execute_result"
    }
   ],
   "source": [
    "num_classes = df_train.target.nunique(); num_classes"
   ]
  },
  {
   "cell_type": "markdown",
   "metadata": {},
   "source": [
    "# DL"
   ]
  },
  {
   "cell_type": "code",
   "execution_count": null,
   "metadata": {},
   "outputs": [],
   "source": [
    "x_train, y_train, x_test, y_test = process_dfs(df_train, df_test)\n",
    "\n",
    "#some unsqueezing\n",
    "train_list = ItemList(x_train[:, None, :])\n",
    "test_list = ItemList(x_test[:, None, :])\n",
    "\n",
    "src = ItemLists(DATAPATH, train_list, test_list).label_from_lists(y_train, y_test, label_cls=CategoryList)"
   ]
  },
  {
   "cell_type": "code",
   "execution_count": null,
   "metadata": {},
   "outputs": [
    {
     "data": {
      "text/plain": [
       "176"
      ]
     },
     "execution_count": null,
     "metadata": {},
     "output_type": "execute_result"
    }
   ],
   "source": [
    "src.train[0][0].shape[1]"
   ]
  },
  {
   "cell_type": "code",
   "execution_count": null,
   "metadata": {},
   "outputs": [],
   "source": [
    "db = create_databunch(src, 32)"
   ]
  },
  {
   "cell_type": "markdown",
   "metadata": {},
   "source": [
    "Testing dims at input/output"
   ]
  },
  {
   "cell_type": "code",
   "execution_count": null,
   "metadata": {},
   "outputs": [
    {
     "name": "stdout",
     "output_type": "stream",
     "text": [
      "torch.Size([32, 1, 176]) torch.Size([32])\n",
      "torch.Size([32, 1, 176]) torch.Size([32])\n",
      "torch.Size([32, 1, 176]) torch.Size([32])\n",
      "torch.Size([32, 1, 176]) torch.Size([32])\n",
      "torch.Size([32, 1, 176]) torch.Size([32])\n",
      "torch.Size([32, 1, 176]) torch.Size([32])\n",
      "torch.Size([32, 1, 176]) torch.Size([32])\n",
      "torch.Size([32, 1, 176]) torch.Size([32])\n",
      "torch.Size([32, 1, 176]) torch.Size([32])\n",
      "torch.Size([32, 1, 176]) torch.Size([32])\n",
      "torch.Size([32, 1, 176]) torch.Size([32])\n",
      "torch.Size([32, 1, 176]) torch.Size([32])\n",
      "torch.Size([6, 1, 176]) torch.Size([6])\n"
     ]
    }
   ],
   "source": [
    "for tx, ty in db.train_dl:\n",
    "    print(tx.shape, ty.shape)"
   ]
  },
  {
   "cell_type": "code",
   "execution_count": null,
   "metadata": {},
   "outputs": [
    {
     "data": {
      "text/plain": [
       "torch.float32"
      ]
     },
     "execution_count": null,
     "metadata": {},
     "output_type": "execute_result"
    }
   ],
   "source": [
    "tx.dtype"
   ]
  },
  {
   "cell_type": "markdown",
   "metadata": {},
   "source": [
    "## Inception Time"
   ]
  },
  {
   "cell_type": "code",
   "execution_count": null,
   "metadata": {},
   "outputs": [],
   "source": [
    "model = create_inception(1, num_classes).cuda()"
   ]
  },
  {
   "cell_type": "code",
   "execution_count": null,
   "metadata": {},
   "outputs": [],
   "source": [
    "# model = create_inception_resnet(1, num_classes, kss=[39, 19, 9], conv_sizes=[128, 128, 256]).cuda()"
   ]
  },
  {
   "cell_type": "code",
   "execution_count": null,
   "metadata": {},
   "outputs": [
    {
     "data": {
      "text/plain": [
       "Sequential(\n",
       "  (0): SequentialEx(\n",
       "    (layers): ModuleList(\n",
       "      (0): InceptionModule(\n",
       "        (convs): ModuleList(\n",
       "          (0): Conv1d(1, 32, kernel_size=(39,), stride=(1,), padding=(19,), bias=False)\n",
       "          (1): Conv1d(1, 32, kernel_size=(19,), stride=(1,), padding=(9,), bias=False)\n",
       "          (2): Conv1d(1, 32, kernel_size=(9,), stride=(1,), padding=(4,), bias=False)\n",
       "        )\n",
       "        (conv_bottle): Sequential(\n",
       "          (0): MaxPool1d(kernel_size=3, stride=1, padding=1, dilation=1, ceil_mode=False)\n",
       "          (1): Conv1d(1, 32, kernel_size=(1,), stride=(1,), bias=False)\n",
       "        )\n",
       "        (bn_relu): Sequential(\n",
       "          (0): BatchNorm1d(128, eps=1e-05, momentum=0.1, affine=True, track_running_stats=True)\n",
       "          (1): ReLU()\n",
       "        )\n",
       "      )\n",
       "    )\n",
       "  )\n",
       "  (1): SequentialEx(\n",
       "    (layers): ModuleList(\n",
       "      (0): InceptionModule(\n",
       "        (bottleneck): Conv1d(128, 32, kernel_size=(1,), stride=(1,), bias=False)\n",
       "        (convs): ModuleList(\n",
       "          (0): Conv1d(32, 32, kernel_size=(39,), stride=(1,), padding=(19,), bias=False)\n",
       "          (1): Conv1d(32, 32, kernel_size=(19,), stride=(1,), padding=(9,), bias=False)\n",
       "          (2): Conv1d(32, 32, kernel_size=(9,), stride=(1,), padding=(4,), bias=False)\n",
       "        )\n",
       "        (conv_bottle): Sequential(\n",
       "          (0): MaxPool1d(kernel_size=3, stride=1, padding=1, dilation=1, ceil_mode=False)\n",
       "          (1): Conv1d(128, 32, kernel_size=(1,), stride=(1,), bias=False)\n",
       "        )\n",
       "        (bn_relu): Sequential(\n",
       "          (0): BatchNorm1d(128, eps=1e-05, momentum=0.1, affine=True, track_running_stats=True)\n",
       "          (1): ReLU()\n",
       "        )\n",
       "      )\n",
       "    )\n",
       "  )\n",
       "  (2): SequentialEx(\n",
       "    (layers): ModuleList(\n",
       "      (0): InceptionModule(\n",
       "        (bottleneck): Conv1d(128, 32, kernel_size=(1,), stride=(1,), bias=False)\n",
       "        (convs): ModuleList(\n",
       "          (0): Conv1d(32, 32, kernel_size=(39,), stride=(1,), padding=(19,), bias=False)\n",
       "          (1): Conv1d(32, 32, kernel_size=(19,), stride=(1,), padding=(9,), bias=False)\n",
       "          (2): Conv1d(32, 32, kernel_size=(9,), stride=(1,), padding=(4,), bias=False)\n",
       "        )\n",
       "        (conv_bottle): Sequential(\n",
       "          (0): MaxPool1d(kernel_size=3, stride=1, padding=1, dilation=1, ceil_mode=False)\n",
       "          (1): Conv1d(128, 32, kernel_size=(1,), stride=(1,), bias=False)\n",
       "        )\n",
       "        (bn_relu): Sequential(\n",
       "          (0): BatchNorm1d(128, eps=1e-05, momentum=0.1, affine=True, track_running_stats=True)\n",
       "          (1): ReLU()\n",
       "        )\n",
       "      )\n",
       "      (1): Shortcut(\n",
       "        (act_fn): ReLU(inplace=True)\n",
       "        (conv): Conv1d(128, 128, kernel_size=(1,), stride=(1,), bias=False)\n",
       "        (bn): BatchNorm1d(128, eps=1e-05, momentum=0.1, affine=True, track_running_stats=True)\n",
       "      )\n",
       "    )\n",
       "  )\n",
       "  (3): SequentialEx(\n",
       "    (layers): ModuleList(\n",
       "      (0): InceptionModule(\n",
       "        (bottleneck): Conv1d(128, 32, kernel_size=(1,), stride=(1,), bias=False)\n",
       "        (convs): ModuleList(\n",
       "          (0): Conv1d(32, 32, kernel_size=(39,), stride=(1,), padding=(19,), bias=False)\n",
       "          (1): Conv1d(32, 32, kernel_size=(19,), stride=(1,), padding=(9,), bias=False)\n",
       "          (2): Conv1d(32, 32, kernel_size=(9,), stride=(1,), padding=(4,), bias=False)\n",
       "        )\n",
       "        (conv_bottle): Sequential(\n",
       "          (0): MaxPool1d(kernel_size=3, stride=1, padding=1, dilation=1, ceil_mode=False)\n",
       "          (1): Conv1d(128, 32, kernel_size=(1,), stride=(1,), bias=False)\n",
       "        )\n",
       "        (bn_relu): Sequential(\n",
       "          (0): BatchNorm1d(128, eps=1e-05, momentum=0.1, affine=True, track_running_stats=True)\n",
       "          (1): ReLU()\n",
       "        )\n",
       "      )\n",
       "    )\n",
       "  )\n",
       "  (4): SequentialEx(\n",
       "    (layers): ModuleList(\n",
       "      (0): InceptionModule(\n",
       "        (bottleneck): Conv1d(128, 32, kernel_size=(1,), stride=(1,), bias=False)\n",
       "        (convs): ModuleList(\n",
       "          (0): Conv1d(32, 32, kernel_size=(39,), stride=(1,), padding=(19,), bias=False)\n",
       "          (1): Conv1d(32, 32, kernel_size=(19,), stride=(1,), padding=(9,), bias=False)\n",
       "          (2): Conv1d(32, 32, kernel_size=(9,), stride=(1,), padding=(4,), bias=False)\n",
       "        )\n",
       "        (conv_bottle): Sequential(\n",
       "          (0): MaxPool1d(kernel_size=3, stride=1, padding=1, dilation=1, ceil_mode=False)\n",
       "          (1): Conv1d(128, 32, kernel_size=(1,), stride=(1,), bias=False)\n",
       "        )\n",
       "        (bn_relu): Sequential(\n",
       "          (0): BatchNorm1d(128, eps=1e-05, momentum=0.1, affine=True, track_running_stats=True)\n",
       "          (1): ReLU()\n",
       "        )\n",
       "      )\n",
       "    )\n",
       "  )\n",
       "  (5): SequentialEx(\n",
       "    (layers): ModuleList(\n",
       "      (0): InceptionModule(\n",
       "        (bottleneck): Conv1d(128, 32, kernel_size=(1,), stride=(1,), bias=False)\n",
       "        (convs): ModuleList(\n",
       "          (0): Conv1d(32, 32, kernel_size=(39,), stride=(1,), padding=(19,), bias=False)\n",
       "          (1): Conv1d(32, 32, kernel_size=(19,), stride=(1,), padding=(9,), bias=False)\n",
       "          (2): Conv1d(32, 32, kernel_size=(9,), stride=(1,), padding=(4,), bias=False)\n",
       "        )\n",
       "        (conv_bottle): Sequential(\n",
       "          (0): MaxPool1d(kernel_size=3, stride=1, padding=1, dilation=1, ceil_mode=False)\n",
       "          (1): Conv1d(128, 32, kernel_size=(1,), stride=(1,), bias=False)\n",
       "        )\n",
       "        (bn_relu): Sequential(\n",
       "          (0): BatchNorm1d(128, eps=1e-05, momentum=0.1, affine=True, track_running_stats=True)\n",
       "          (1): ReLU()\n",
       "        )\n",
       "      )\n",
       "      (1): Shortcut(\n",
       "        (act_fn): ReLU(inplace=True)\n",
       "        (conv): Conv1d(128, 128, kernel_size=(1,), stride=(1,), bias=False)\n",
       "        (bn): BatchNorm1d(128, eps=1e-05, momentum=0.1, affine=True, track_running_stats=True)\n",
       "      )\n",
       "    )\n",
       "  )\n",
       "  (6): AdaptiveConcatPool1d(\n",
       "    (ap): AdaptiveAvgPool1d(output_size=1)\n",
       "    (mp): AdaptiveMaxPool1d(output_size=1)\n",
       "  )\n",
       "  (7): Flatten()\n",
       "  (8): Linear(in_features=256, out_features=37, bias=True)\n",
       ")"
      ]
     },
     "execution_count": null,
     "metadata": {},
     "output_type": "execute_result"
    }
   ],
   "source": [
    "model"
   ]
  },
  {
   "cell_type": "code",
   "execution_count": null,
   "metadata": {},
   "outputs": [
    {
     "data": {
      "text/plain": [
       "torch.Size([32, 37])"
      ]
     },
     "execution_count": null,
     "metadata": {},
     "output_type": "execute_result"
    }
   ],
   "source": [
    "model(tx).shape"
   ]
  },
  {
   "cell_type": "code",
   "execution_count": null,
   "metadata": {},
   "outputs": [],
   "source": [
    "learn_res = fastai.basic_train.Learner(db, \n",
    "                                       model, \n",
    "                                       loss_func = CrossEntropyFlat(), \n",
    "                                       metrics=[error_rate],\n",
    "                                       wd=1e-2)"
   ]
  },
  {
   "cell_type": "code",
   "execution_count": null,
   "metadata": {},
   "outputs": [
    {
     "data": {
      "text/html": [],
      "text/plain": [
       "<IPython.core.display.HTML object>"
      ]
     },
     "metadata": {},
     "output_type": "display_data"
    },
    {
     "name": "stdout",
     "output_type": "stream",
     "text": [
      "LR Finder is complete, type {learner_name}.recorder.plot() to see the graph.\n",
      "Min numerical gradient: 6.92E-06\n",
      "Min loss divided by 10: 3.31E-03\n"
     ]
    },
    {
     "data": {
      "image/png": "[encoded data removed]",
      "text/plain": [
       "<Figure size 432x288 with 1 Axes>"
      ]
     },
     "metadata": {
      "needs_background": "light"
     },
     "output_type": "display_data"
    }
   ],
   "source": [
    "learn_res.lr_find(); learn_res.recorder.plot(suggestion=True)"
   ]
  },
  {
   "cell_type": "code",
   "execution_count": null,
   "metadata": {},
   "outputs": [
    {
     "data": {
      "text/html": [
       "\n",
       "    <div>\n",
       "        <style>\n",
       "            /* Turns off some styling */\n",
       "            progress {\n",
       "                /* gets rid of default border in Firefox and Opera. */\n",
       "                border: none;\n",
       "                /* Needs to be in here for Safari polyfill so background images work as expected. */\n",
       "                background-size: auto;\n",
       "            }\n",
       "            .progress-bar-interrupted, .progress-bar-interrupted::-webkit-progress-bar {\n",
       "                background: #F44336;\n",
       "            }\n",
       "        </style>\n",
       "      <progress value='24' class='' max='40', style='width:300px; height:20px; vertical-align: middle;'></progress>\n",
       "      60.00% [24/40 00:48<00:32]\n",
       "    </div>\n",
       "    \n",
       "<table border=\"1\" class=\"dataframe\">\n",
       "  <thead>\n",
       "    <tr style=\"text-align: left;\">\n",
       "      <th>epoch</th>\n",
       "      <th>train_loss</th>\n",
       "      <th>valid_loss</th>\n",
       "      <th>error_rate</th>\n",
       "      <th>time</th>\n",
       "    </tr>\n",
       "  </thead>\n",
       "  <tbody>\n",
       "    <tr>\n",
       "      <td>0</td>\n",
       "      <td>4.020611</td>\n",
       "      <td>3.623675</td>\n",
       "      <td>0.964194</td>\n",
       "      <td>00:02</td>\n",
       "    </tr>\n",
       "    <tr>\n",
       "      <td>1</td>\n",
       "      <td>3.687622</td>\n",
       "      <td>3.517063</td>\n",
       "      <td>0.943734</td>\n",
       "      <td>00:02</td>\n",
       "    </tr>\n",
       "    <tr>\n",
       "      <td>2</td>\n",
       "      <td>3.446941</td>\n",
       "      <td>3.508390</td>\n",
       "      <td>0.938619</td>\n",
       "      <td>00:02</td>\n",
       "    </tr>\n",
       "    <tr>\n",
       "      <td>3</td>\n",
       "      <td>3.269463</td>\n",
       "      <td>2.943579</td>\n",
       "      <td>0.864450</td>\n",
       "      <td>00:01</td>\n",
       "    </tr>\n",
       "    <tr>\n",
       "      <td>4</td>\n",
       "      <td>3.077104</td>\n",
       "      <td>2.736858</td>\n",
       "      <td>0.772379</td>\n",
       "      <td>00:01</td>\n",
       "    </tr>\n",
       "    <tr>\n",
       "      <td>5</td>\n",
       "      <td>2.871743</td>\n",
       "      <td>2.521662</td>\n",
       "      <td>0.767263</td>\n",
       "      <td>00:02</td>\n",
       "    </tr>\n",
       "    <tr>\n",
       "      <td>6</td>\n",
       "      <td>2.688266</td>\n",
       "      <td>3.425415</td>\n",
       "      <td>0.867008</td>\n",
       "      <td>00:02</td>\n",
       "    </tr>\n",
       "    <tr>\n",
       "      <td>7</td>\n",
       "      <td>2.522440</td>\n",
       "      <td>3.396404</td>\n",
       "      <td>0.836317</td>\n",
       "      <td>00:02</td>\n",
       "    </tr>\n",
       "    <tr>\n",
       "      <td>8</td>\n",
       "      <td>2.391127</td>\n",
       "      <td>2.624297</td>\n",
       "      <td>0.741688</td>\n",
       "      <td>00:02</td>\n",
       "    </tr>\n",
       "    <tr>\n",
       "      <td>9</td>\n",
       "      <td>2.232706</td>\n",
       "      <td>3.013608</td>\n",
       "      <td>0.808184</td>\n",
       "      <td>00:02</td>\n",
       "    </tr>\n",
       "    <tr>\n",
       "      <td>10</td>\n",
       "      <td>2.093447</td>\n",
       "      <td>1.859640</td>\n",
       "      <td>0.557545</td>\n",
       "      <td>00:02</td>\n",
       "    </tr>\n",
       "    <tr>\n",
       "      <td>11</td>\n",
       "      <td>1.968648</td>\n",
       "      <td>3.187675</td>\n",
       "      <td>0.759591</td>\n",
       "      <td>00:02</td>\n",
       "    </tr>\n",
       "    <tr>\n",
       "      <td>12</td>\n",
       "      <td>1.865173</td>\n",
       "      <td>2.099992</td>\n",
       "      <td>0.662404</td>\n",
       "      <td>00:02</td>\n",
       "    </tr>\n",
       "    <tr>\n",
       "      <td>13</td>\n",
       "      <td>1.758522</td>\n",
       "      <td>1.573210</td>\n",
       "      <td>0.526854</td>\n",
       "      <td>00:02</td>\n",
       "    </tr>\n",
       "    <tr>\n",
       "      <td>14</td>\n",
       "      <td>1.654589</td>\n",
       "      <td>2.227793</td>\n",
       "      <td>0.675192</td>\n",
       "      <td>00:02</td>\n",
       "    </tr>\n",
       "    <tr>\n",
       "      <td>15</td>\n",
       "      <td>1.532979</td>\n",
       "      <td>1.387426</td>\n",
       "      <td>0.416880</td>\n",
       "      <td>00:02</td>\n",
       "    </tr>\n",
       "    <tr>\n",
       "      <td>16</td>\n",
       "      <td>1.457224</td>\n",
       "      <td>1.904948</td>\n",
       "      <td>0.583120</td>\n",
       "      <td>00:02</td>\n",
       "    </tr>\n",
       "    <tr>\n",
       "      <td>17</td>\n",
       "      <td>1.377694</td>\n",
       "      <td>1.281412</td>\n",
       "      <td>0.409207</td>\n",
       "      <td>00:01</td>\n",
       "    </tr>\n",
       "    <tr>\n",
       "      <td>18</td>\n",
       "      <td>1.297535</td>\n",
       "      <td>1.347747</td>\n",
       "      <td>0.480818</td>\n",
       "      <td>00:02</td>\n",
       "    </tr>\n",
       "    <tr>\n",
       "      <td>19</td>\n",
       "      <td>1.215835</td>\n",
       "      <td>1.344877</td>\n",
       "      <td>0.468031</td>\n",
       "      <td>00:01</td>\n",
       "    </tr>\n",
       "    <tr>\n",
       "      <td>20</td>\n",
       "      <td>1.133921</td>\n",
       "      <td>1.101022</td>\n",
       "      <td>0.324808</td>\n",
       "      <td>00:02</td>\n",
       "    </tr>\n",
       "    <tr>\n",
       "      <td>21</td>\n",
       "      <td>1.055096</td>\n",
       "      <td>1.422436</td>\n",
       "      <td>0.445013</td>\n",
       "      <td>00:02</td>\n",
       "    </tr>\n",
       "    <tr>\n",
       "      <td>22</td>\n",
       "      <td>1.005284</td>\n",
       "      <td>1.046663</td>\n",
       "      <td>0.294118</td>\n",
       "      <td>00:02</td>\n",
       "    </tr>\n",
       "    <tr>\n",
       "      <td>23</td>\n",
       "      <td>0.953102</td>\n",
       "      <td>1.382370</td>\n",
       "      <td>0.455243</td>\n",
       "      <td>00:02</td>\n",
       "    </tr>\n",
       "  </tbody>\n",
       "</table><p>\n",
       "\n",
       "    <div>\n",
       "        <style>\n",
       "            /* Turns off some styling */\n",
       "            progress {\n",
       "                /* gets rid of default border in Firefox and Opera. */\n",
       "                border: none;\n",
       "                /* Needs to be in here for Safari polyfill so background images work as expected. */\n",
       "                background-size: auto;\n",
       "            }\n",
       "            .progress-bar-interrupted, .progress-bar-interrupted::-webkit-progress-bar {\n",
       "                background: #F44336;\n",
       "            }\n",
       "        </style>\n",
       "      <progress value='0' class='progress-bar-interrupted' max='13', style='width:300px; height:20px; vertical-align: middle;'></progress>\n",
       "      Interrupted\n",
       "    </div>\n",
       "    "
      ],
      "text/plain": [
       "<IPython.core.display.HTML object>"
      ]
     },
     "metadata": {},
     "output_type": "display_data"
    },
    {
     "ename": "KeyboardInterrupt",
     "evalue": "",
     "output_type": "error",
     "traceback": [
      "\u001b[0;31m---------------------------------------------------------------------------\u001b[0m",
      "\u001b[0;31mKeyboardInterrupt\u001b[0m                         Traceback (most recent call last)",
      "\u001b[0;32m<ipython-input-20-ffc474362069>\u001b[0m in \u001b[0;36m<module>\u001b[0;34m\u001b[0m\n\u001b[0;32m----> 1\u001b[0;31m \u001b[0mlearn_res\u001b[0m\u001b[0;34m.\u001b[0m\u001b[0mfit\u001b[0m\u001b[0;34m(\u001b[0m\u001b[0;36m40\u001b[0m\u001b[0;34m,\u001b[0m \u001b[0;36m1e-3\u001b[0m\u001b[0;34m)\u001b[0m\u001b[0;34m\u001b[0m\u001b[0;34m\u001b[0m\u001b[0m\n\u001b[0m",
      "\u001b[0;32m~/anaconda3/envs/timeseries/lib/python3.7/site-packages/fastai/basic_train.py\u001b[0m in \u001b[0;36mfit\u001b[0;34m(self, epochs, lr, wd, callbacks)\u001b[0m\n\u001b[1;32m    198\u001b[0m         \u001b[0;32melse\u001b[0m\u001b[0;34m:\u001b[0m \u001b[0mself\u001b[0m\u001b[0;34m.\u001b[0m\u001b[0mopt\u001b[0m\u001b[0;34m.\u001b[0m\u001b[0mlr\u001b[0m\u001b[0;34m,\u001b[0m\u001b[0mself\u001b[0m\u001b[0;34m.\u001b[0m\u001b[0mopt\u001b[0m\u001b[0;34m.\u001b[0m\u001b[0mwd\u001b[0m \u001b[0;34m=\u001b[0m \u001b[0mlr\u001b[0m\u001b[0;34m,\u001b[0m\u001b[0mwd\u001b[0m\u001b[0;34m\u001b[0m\u001b[0;34m\u001b[0m\u001b[0m\n\u001b[1;32m    199\u001b[0m         \u001b[0mcallbacks\u001b[0m \u001b[0;34m=\u001b[0m \u001b[0;34m[\u001b[0m\u001b[0mcb\u001b[0m\u001b[0;34m(\u001b[0m\u001b[0mself\u001b[0m\u001b[0;34m)\u001b[0m \u001b[0;32mfor\u001b[0m \u001b[0mcb\u001b[0m \u001b[0;32min\u001b[0m \u001b[0mself\u001b[0m\u001b[0;34m.\u001b[0m\u001b[0mcallback_fns\u001b[0m \u001b[0;34m+\u001b[0m \u001b[0mlistify\u001b[0m\u001b[0;34m(\u001b[0m\u001b[0mdefaults\u001b[0m\u001b[0;34m.\u001b[0m\u001b[0mextra_callback_fns\u001b[0m\u001b[0;34m)\u001b[0m\u001b[0;34m]\u001b[0m \u001b[0;34m+\u001b[0m \u001b[0mlistify\u001b[0m\u001b[0;34m(\u001b[0m\u001b[0mcallbacks\u001b[0m\u001b[0;34m)\u001b[0m\u001b[0;34m\u001b[0m\u001b[0;34m\u001b[0m\u001b[0m\n\u001b[0;32m--> 200\u001b[0;31m         \u001b[0mfit\u001b[0m\u001b[0;34m(\u001b[0m\u001b[0mepochs\u001b[0m\u001b[0;34m,\u001b[0m \u001b[0mself\u001b[0m\u001b[0;34m,\u001b[0m \u001b[0mmetrics\u001b[0m\u001b[0;34m=\u001b[0m\u001b[0mself\u001b[0m\u001b[0;34m.\u001b[0m\u001b[0mmetrics\u001b[0m\u001b[0;34m,\u001b[0m \u001b[0mcallbacks\u001b[0m\u001b[0;34m=\u001b[0m\u001b[0mself\u001b[0m\u001b[0;34m.\u001b[0m\u001b[0mcallbacks\u001b[0m\u001b[0;34m+\u001b[0m\u001b[0mcallbacks\u001b[0m\u001b[0;34m)\u001b[0m\u001b[0;34m\u001b[0m\u001b[0;34m\u001b[0m\u001b[0m\n\u001b[0m\u001b[1;32m    201\u001b[0m \u001b[0;34m\u001b[0m\u001b[0m\n\u001b[1;32m    202\u001b[0m     \u001b[0;32mdef\u001b[0m \u001b[0mcreate_opt\u001b[0m\u001b[0;34m(\u001b[0m\u001b[0mself\u001b[0m\u001b[0;34m,\u001b[0m \u001b[0mlr\u001b[0m\u001b[0;34m:\u001b[0m\u001b[0mFloats\u001b[0m\u001b[0;34m,\u001b[0m \u001b[0mwd\u001b[0m\u001b[0;34m:\u001b[0m\u001b[0mFloats\u001b[0m\u001b[0;34m=\u001b[0m\u001b[0;36m0.\u001b[0m\u001b[0;34m)\u001b[0m\u001b[0;34m->\u001b[0m\u001b[0;32mNone\u001b[0m\u001b[0;34m:\u001b[0m\u001b[0;34m\u001b[0m\u001b[0;34m\u001b[0m\u001b[0m\n",
      "\u001b[0;32m~/anaconda3/envs/timeseries/lib/python3.7/site-packages/fastai/basic_train.py\u001b[0m in \u001b[0;36mfit\u001b[0;34m(epochs, learn, callbacks, metrics)\u001b[0m\n\u001b[1;32m    104\u001b[0m             \u001b[0;32mif\u001b[0m \u001b[0;32mnot\u001b[0m \u001b[0mcb_handler\u001b[0m\u001b[0;34m.\u001b[0m\u001b[0mskip_validate\u001b[0m \u001b[0;32mand\u001b[0m \u001b[0;32mnot\u001b[0m \u001b[0mlearn\u001b[0m\u001b[0;34m.\u001b[0m\u001b[0mdata\u001b[0m\u001b[0;34m.\u001b[0m\u001b[0mempty_val\u001b[0m\u001b[0;34m:\u001b[0m\u001b[0;34m\u001b[0m\u001b[0;34m\u001b[0m\u001b[0m\n\u001b[1;32m    105\u001b[0m                 val_loss = validate(learn.model, learn.data.valid_dl, loss_func=learn.loss_func,\n\u001b[0;32m--> 106\u001b[0;31m                                        cb_handler=cb_handler, pbar=pbar)\n\u001b[0m\u001b[1;32m    107\u001b[0m             \u001b[0;32melse\u001b[0m\u001b[0;34m:\u001b[0m \u001b[0mval_loss\u001b[0m\u001b[0;34m=\u001b[0m\u001b[0;32mNone\u001b[0m\u001b[0;34m\u001b[0m\u001b[0;34m\u001b[0m\u001b[0m\n\u001b[1;32m    108\u001b[0m             \u001b[0;32mif\u001b[0m \u001b[0mcb_handler\u001b[0m\u001b[0;34m.\u001b[0m\u001b[0mon_epoch_end\u001b[0m\u001b[0;34m(\u001b[0m\u001b[0mval_loss\u001b[0m\u001b[0;34m)\u001b[0m\u001b[0;34m:\u001b[0m \u001b[0;32mbreak\u001b[0m\u001b[0;34m\u001b[0m\u001b[0;34m\u001b[0m\u001b[0m\n",
      "\u001b[0;32m~/anaconda3/envs/timeseries/lib/python3.7/site-packages/fastai/basic_train.py\u001b[0m in \u001b[0;36mvalidate\u001b[0;34m(model, dl, loss_func, cb_handler, pbar, average, n_batch)\u001b[0m\n\u001b[1;32m     55\u001b[0m         \u001b[0mval_losses\u001b[0m\u001b[0;34m,\u001b[0m\u001b[0mnums\u001b[0m \u001b[0;34m=\u001b[0m \u001b[0;34m[\u001b[0m\u001b[0;34m]\u001b[0m\u001b[0;34m,\u001b[0m\u001b[0;34m[\u001b[0m\u001b[0;34m]\u001b[0m\u001b[0;34m\u001b[0m\u001b[0;34m\u001b[0m\u001b[0m\n\u001b[1;32m     56\u001b[0m         \u001b[0;32mif\u001b[0m \u001b[0mcb_handler\u001b[0m\u001b[0;34m:\u001b[0m \u001b[0mcb_handler\u001b[0m\u001b[0;34m.\u001b[0m\u001b[0mset_dl\u001b[0m\u001b[0;34m(\u001b[0m\u001b[0mdl\u001b[0m\u001b[0;34m)\u001b[0m\u001b[0;34m\u001b[0m\u001b[0;34m\u001b[0m\u001b[0m\n\u001b[0;32m---> 57\u001b[0;31m         \u001b[0;32mfor\u001b[0m \u001b[0mxb\u001b[0m\u001b[0;34m,\u001b[0m\u001b[0myb\u001b[0m \u001b[0;32min\u001b[0m \u001b[0mprogress_bar\u001b[0m\u001b[0;34m(\u001b[0m\u001b[0mdl\u001b[0m\u001b[0;34m,\u001b[0m \u001b[0mparent\u001b[0m\u001b[0;34m=\u001b[0m\u001b[0mpbar\u001b[0m\u001b[0;34m,\u001b[0m \u001b[0mleave\u001b[0m\u001b[0;34m=\u001b[0m\u001b[0;34m(\u001b[0m\u001b[0mpbar\u001b[0m \u001b[0;32mis\u001b[0m \u001b[0;32mnot\u001b[0m \u001b[0;32mNone\u001b[0m\u001b[0;34m)\u001b[0m\u001b[0;34m)\u001b[0m\u001b[0;34m:\u001b[0m\u001b[0;34m\u001b[0m\u001b[0;34m\u001b[0m\u001b[0m\n\u001b[0m\u001b[1;32m     58\u001b[0m             \u001b[0;32mif\u001b[0m \u001b[0mcb_handler\u001b[0m\u001b[0;34m:\u001b[0m \u001b[0mxb\u001b[0m\u001b[0;34m,\u001b[0m \u001b[0myb\u001b[0m \u001b[0;34m=\u001b[0m \u001b[0mcb_handler\u001b[0m\u001b[0;34m.\u001b[0m\u001b[0mon_batch_begin\u001b[0m\u001b[0;34m(\u001b[0m\u001b[0mxb\u001b[0m\u001b[0;34m,\u001b[0m \u001b[0myb\u001b[0m\u001b[0;34m,\u001b[0m \u001b[0mtrain\u001b[0m\u001b[0;34m=\u001b[0m\u001b[0;32mFalse\u001b[0m\u001b[0;34m)\u001b[0m\u001b[0;34m\u001b[0m\u001b[0;34m\u001b[0m\u001b[0m\n\u001b[1;32m     59\u001b[0m             \u001b[0mval_loss\u001b[0m \u001b[0;34m=\u001b[0m \u001b[0mloss_batch\u001b[0m\u001b[0;34m(\u001b[0m\u001b[0mmodel\u001b[0m\u001b[0;34m,\u001b[0m \u001b[0mxb\u001b[0m\u001b[0;34m,\u001b[0m \u001b[0myb\u001b[0m\u001b[0;34m,\u001b[0m \u001b[0mloss_func\u001b[0m\u001b[0;34m,\u001b[0m \u001b[0mcb_handler\u001b[0m\u001b[0;34m=\u001b[0m\u001b[0mcb_handler\u001b[0m\u001b[0;34m)\u001b[0m\u001b[0;34m\u001b[0m\u001b[0;34m\u001b[0m\u001b[0m\n",
      "\u001b[0;32m~/anaconda3/envs/timeseries/lib/python3.7/site-packages/fastprogress/fastprogress.py\u001b[0m in \u001b[0;36m__iter__\u001b[0;34m(self)\u001b[0m\n\u001b[1;32m     70\u001b[0m         \u001b[0mself\u001b[0m\u001b[0;34m.\u001b[0m\u001b[0mupdate\u001b[0m\u001b[0;34m(\u001b[0m\u001b[0;36m0\u001b[0m\u001b[0;34m)\u001b[0m\u001b[0;34m\u001b[0m\u001b[0;34m\u001b[0m\u001b[0m\n\u001b[1;32m     71\u001b[0m         \u001b[0;32mtry\u001b[0m\u001b[0;34m:\u001b[0m\u001b[0;34m\u001b[0m\u001b[0;34m\u001b[0m\u001b[0m\n\u001b[0;32m---> 72\u001b[0;31m             \u001b[0;32mfor\u001b[0m \u001b[0mi\u001b[0m\u001b[0;34m,\u001b[0m\u001b[0mo\u001b[0m \u001b[0;32min\u001b[0m \u001b[0menumerate\u001b[0m\u001b[0;34m(\u001b[0m\u001b[0mself\u001b[0m\u001b[0;34m.\u001b[0m\u001b[0m_gen\u001b[0m\u001b[0;34m)\u001b[0m\u001b[0;34m:\u001b[0m\u001b[0;34m\u001b[0m\u001b[0;34m\u001b[0m\u001b[0m\n\u001b[0m\u001b[1;32m     73\u001b[0m                 \u001b[0;32mif\u001b[0m \u001b[0mi\u001b[0m \u001b[0;34m>=\u001b[0m \u001b[0mself\u001b[0m\u001b[0;34m.\u001b[0m\u001b[0mtotal\u001b[0m\u001b[0;34m:\u001b[0m \u001b[0;32mbreak\u001b[0m\u001b[0;34m\u001b[0m\u001b[0;34m\u001b[0m\u001b[0m\n\u001b[1;32m     74\u001b[0m                 \u001b[0;32myield\u001b[0m \u001b[0mo\u001b[0m\u001b[0;34m\u001b[0m\u001b[0;34m\u001b[0m\u001b[0m\n",
      "\u001b[0;32m~/anaconda3/envs/timeseries/lib/python3.7/site-packages/fastai/basic_data.py\u001b[0m in \u001b[0;36m__iter__\u001b[0;34m(self)\u001b[0m\n\u001b[1;32m     73\u001b[0m     \u001b[0;32mdef\u001b[0m \u001b[0m__iter__\u001b[0m\u001b[0;34m(\u001b[0m\u001b[0mself\u001b[0m\u001b[0;34m)\u001b[0m\u001b[0;34m:\u001b[0m\u001b[0;34m\u001b[0m\u001b[0;34m\u001b[0m\u001b[0m\n\u001b[1;32m     74\u001b[0m         \u001b[0;34m\"Process and returns items from `DataLoader`.\"\u001b[0m\u001b[0;34m\u001b[0m\u001b[0;34m\u001b[0m\u001b[0m\n\u001b[0;32m---> 75\u001b[0;31m         \u001b[0;32mfor\u001b[0m \u001b[0mb\u001b[0m \u001b[0;32min\u001b[0m \u001b[0mself\u001b[0m\u001b[0;34m.\u001b[0m\u001b[0mdl\u001b[0m\u001b[0;34m:\u001b[0m \u001b[0;32myield\u001b[0m \u001b[0mself\u001b[0m\u001b[0;34m.\u001b[0m\u001b[0mproc_batch\u001b[0m\u001b[0;34m(\u001b[0m\u001b[0mb\u001b[0m\u001b[0;34m)\u001b[0m\u001b[0;34m\u001b[0m\u001b[0;34m\u001b[0m\u001b[0m\n\u001b[0m\u001b[1;32m     76\u001b[0m \u001b[0;34m\u001b[0m\u001b[0m\n\u001b[1;32m     77\u001b[0m     \u001b[0;34m@\u001b[0m\u001b[0mclassmethod\u001b[0m\u001b[0;34m\u001b[0m\u001b[0;34m\u001b[0m\u001b[0m\n",
      "\u001b[0;32m~/anaconda3/envs/timeseries/lib/python3.7/site-packages/torch/utils/data/dataloader.py\u001b[0m in \u001b[0;36m__next__\u001b[0;34m(self)\u001b[0m\n\u001b[1;32m    791\u001b[0m             \u001b[0;32melse\u001b[0m\u001b[0;34m:\u001b[0m\u001b[0;34m\u001b[0m\u001b[0;34m\u001b[0m\u001b[0m\n\u001b[1;32m    792\u001b[0m                 \u001b[0;31m# no valid `self.rcvd_idx` is found (i.e., didn't break)\u001b[0m\u001b[0;34m\u001b[0m\u001b[0;34m\u001b[0m\u001b[0;34m\u001b[0m\u001b[0m\n\u001b[0;32m--> 793\u001b[0;31m                 \u001b[0mself\u001b[0m\u001b[0;34m.\u001b[0m\u001b[0m_shutdown_workers\u001b[0m\u001b[0;34m(\u001b[0m\u001b[0;34m)\u001b[0m\u001b[0;34m\u001b[0m\u001b[0;34m\u001b[0m\u001b[0m\n\u001b[0m\u001b[1;32m    794\u001b[0m                 \u001b[0;32mraise\u001b[0m \u001b[0mStopIteration\u001b[0m\u001b[0;34m\u001b[0m\u001b[0;34m\u001b[0m\u001b[0m\n\u001b[1;32m    795\u001b[0m \u001b[0;34m\u001b[0m\u001b[0m\n",
      "\u001b[0;32m~/anaconda3/envs/timeseries/lib/python3.7/site-packages/torch/utils/data/dataloader.py\u001b[0m in \u001b[0;36m_shutdown_workers\u001b[0;34m(self)\u001b[0m\n\u001b[1;32m    904\u001b[0m                         \u001b[0mself\u001b[0m\u001b[0;34m.\u001b[0m\u001b[0m_shutdown_worker\u001b[0m\u001b[0;34m(\u001b[0m\u001b[0mworker_id\u001b[0m\u001b[0;34m)\u001b[0m\u001b[0;34m\u001b[0m\u001b[0;34m\u001b[0m\u001b[0m\n\u001b[1;32m    905\u001b[0m                 \u001b[0;32mfor\u001b[0m \u001b[0mw\u001b[0m \u001b[0;32min\u001b[0m \u001b[0mself\u001b[0m\u001b[0;34m.\u001b[0m\u001b[0mworkers\u001b[0m\u001b[0;34m:\u001b[0m\u001b[0;34m\u001b[0m\u001b[0;34m\u001b[0m\u001b[0m\n\u001b[0;32m--> 906\u001b[0;31m                     \u001b[0mw\u001b[0m\u001b[0;34m.\u001b[0m\u001b[0mjoin\u001b[0m\u001b[0;34m(\u001b[0m\u001b[0;34m)\u001b[0m\u001b[0;34m\u001b[0m\u001b[0;34m\u001b[0m\u001b[0m\n\u001b[0m\u001b[1;32m    907\u001b[0m                 \u001b[0;32mfor\u001b[0m \u001b[0mq\u001b[0m \u001b[0;32min\u001b[0m \u001b[0mself\u001b[0m\u001b[0;34m.\u001b[0m\u001b[0mindex_queues\u001b[0m\u001b[0;34m:\u001b[0m\u001b[0;34m\u001b[0m\u001b[0;34m\u001b[0m\u001b[0m\n\u001b[1;32m    908\u001b[0m                     \u001b[0mq\u001b[0m\u001b[0;34m.\u001b[0m\u001b[0mcancel_join_thread\u001b[0m\u001b[0;34m(\u001b[0m\u001b[0;34m)\u001b[0m\u001b[0;34m\u001b[0m\u001b[0;34m\u001b[0m\u001b[0m\n",
      "\u001b[0;32m~/anaconda3/envs/timeseries/lib/python3.7/multiprocessing/process.py\u001b[0m in \u001b[0;36mjoin\u001b[0;34m(self, timeout)\u001b[0m\n\u001b[1;32m    138\u001b[0m         \u001b[0;32massert\u001b[0m \u001b[0mself\u001b[0m\u001b[0;34m.\u001b[0m\u001b[0m_parent_pid\u001b[0m \u001b[0;34m==\u001b[0m \u001b[0mos\u001b[0m\u001b[0;34m.\u001b[0m\u001b[0mgetpid\u001b[0m\u001b[0;34m(\u001b[0m\u001b[0;34m)\u001b[0m\u001b[0;34m,\u001b[0m \u001b[0;34m'can only join a child process'\u001b[0m\u001b[0;34m\u001b[0m\u001b[0;34m\u001b[0m\u001b[0m\n\u001b[1;32m    139\u001b[0m         \u001b[0;32massert\u001b[0m \u001b[0mself\u001b[0m\u001b[0;34m.\u001b[0m\u001b[0m_popen\u001b[0m \u001b[0;32mis\u001b[0m \u001b[0;32mnot\u001b[0m \u001b[0;32mNone\u001b[0m\u001b[0;34m,\u001b[0m \u001b[0;34m'can only join a started process'\u001b[0m\u001b[0;34m\u001b[0m\u001b[0;34m\u001b[0m\u001b[0m\n\u001b[0;32m--> 140\u001b[0;31m         \u001b[0mres\u001b[0m \u001b[0;34m=\u001b[0m \u001b[0mself\u001b[0m\u001b[0;34m.\u001b[0m\u001b[0m_popen\u001b[0m\u001b[0;34m.\u001b[0m\u001b[0mwait\u001b[0m\u001b[0;34m(\u001b[0m\u001b[0mtimeout\u001b[0m\u001b[0;34m)\u001b[0m\u001b[0;34m\u001b[0m\u001b[0;34m\u001b[0m\u001b[0m\n\u001b[0m\u001b[1;32m    141\u001b[0m         \u001b[0;32mif\u001b[0m \u001b[0mres\u001b[0m \u001b[0;32mis\u001b[0m \u001b[0;32mnot\u001b[0m \u001b[0;32mNone\u001b[0m\u001b[0;34m:\u001b[0m\u001b[0;34m\u001b[0m\u001b[0;34m\u001b[0m\u001b[0m\n\u001b[1;32m    142\u001b[0m             \u001b[0m_children\u001b[0m\u001b[0;34m.\u001b[0m\u001b[0mdiscard\u001b[0m\u001b[0;34m(\u001b[0m\u001b[0mself\u001b[0m\u001b[0;34m)\u001b[0m\u001b[0;34m\u001b[0m\u001b[0;34m\u001b[0m\u001b[0m\n",
      "\u001b[0;32m~/anaconda3/envs/timeseries/lib/python3.7/multiprocessing/popen_fork.py\u001b[0m in \u001b[0;36mwait\u001b[0;34m(self, timeout)\u001b[0m\n\u001b[1;32m     46\u001b[0m                     \u001b[0;32mreturn\u001b[0m \u001b[0;32mNone\u001b[0m\u001b[0;34m\u001b[0m\u001b[0;34m\u001b[0m\u001b[0m\n\u001b[1;32m     47\u001b[0m             \u001b[0;31m# This shouldn't block if wait() returned successfully.\u001b[0m\u001b[0;34m\u001b[0m\u001b[0;34m\u001b[0m\u001b[0;34m\u001b[0m\u001b[0m\n\u001b[0;32m---> 48\u001b[0;31m             \u001b[0;32mreturn\u001b[0m \u001b[0mself\u001b[0m\u001b[0;34m.\u001b[0m\u001b[0mpoll\u001b[0m\u001b[0;34m(\u001b[0m\u001b[0mos\u001b[0m\u001b[0;34m.\u001b[0m\u001b[0mWNOHANG\u001b[0m \u001b[0;32mif\u001b[0m \u001b[0mtimeout\u001b[0m \u001b[0;34m==\u001b[0m \u001b[0;36m0.0\u001b[0m \u001b[0;32melse\u001b[0m \u001b[0;36m0\u001b[0m\u001b[0;34m)\u001b[0m\u001b[0;34m\u001b[0m\u001b[0;34m\u001b[0m\u001b[0m\n\u001b[0m\u001b[1;32m     49\u001b[0m         \u001b[0;32mreturn\u001b[0m \u001b[0mself\u001b[0m\u001b[0;34m.\u001b[0m\u001b[0mreturncode\u001b[0m\u001b[0;34m\u001b[0m\u001b[0;34m\u001b[0m\u001b[0m\n\u001b[1;32m     50\u001b[0m \u001b[0;34m\u001b[0m\u001b[0m\n",
      "\u001b[0;32m~/anaconda3/envs/timeseries/lib/python3.7/multiprocessing/popen_fork.py\u001b[0m in \u001b[0;36mpoll\u001b[0;34m(self, flag)\u001b[0m\n\u001b[1;32m     26\u001b[0m         \u001b[0;32mif\u001b[0m \u001b[0mself\u001b[0m\u001b[0;34m.\u001b[0m\u001b[0mreturncode\u001b[0m \u001b[0;32mis\u001b[0m \u001b[0;32mNone\u001b[0m\u001b[0;34m:\u001b[0m\u001b[0;34m\u001b[0m\u001b[0;34m\u001b[0m\u001b[0m\n\u001b[1;32m     27\u001b[0m             \u001b[0;32mtry\u001b[0m\u001b[0;34m:\u001b[0m\u001b[0;34m\u001b[0m\u001b[0;34m\u001b[0m\u001b[0m\n\u001b[0;32m---> 28\u001b[0;31m                 \u001b[0mpid\u001b[0m\u001b[0;34m,\u001b[0m \u001b[0msts\u001b[0m \u001b[0;34m=\u001b[0m \u001b[0mos\u001b[0m\u001b[0;34m.\u001b[0m\u001b[0mwaitpid\u001b[0m\u001b[0;34m(\u001b[0m\u001b[0mself\u001b[0m\u001b[0;34m.\u001b[0m\u001b[0mpid\u001b[0m\u001b[0;34m,\u001b[0m \u001b[0mflag\u001b[0m\u001b[0;34m)\u001b[0m\u001b[0;34m\u001b[0m\u001b[0;34m\u001b[0m\u001b[0m\n\u001b[0m\u001b[1;32m     29\u001b[0m             \u001b[0;32mexcept\u001b[0m \u001b[0mOSError\u001b[0m \u001b[0;32mas\u001b[0m \u001b[0me\u001b[0m\u001b[0;34m:\u001b[0m\u001b[0;34m\u001b[0m\u001b[0;34m\u001b[0m\u001b[0m\n\u001b[1;32m     30\u001b[0m                 \u001b[0;31m# Child process not yet created. See #1731717\u001b[0m\u001b[0;34m\u001b[0m\u001b[0;34m\u001b[0m\u001b[0;34m\u001b[0m\u001b[0m\n",
      "\u001b[0;31mKeyboardInterrupt\u001b[0m: "
     ]
    }
   ],
   "source": [
    "learn_res.fit(40, 1e-3)"
   ]
  },
  {
   "cell_type": "code",
   "execution_count": null,
   "metadata": {},
   "outputs": [],
   "source": [
    "p, t = learn_res.get_preds()"
   ]
  },
  {
   "cell_type": "code",
   "execution_count": null,
   "metadata": {},
   "outputs": [
    {
     "data": {
      "text/plain": [
       "tensor(0.4501)"
      ]
     },
     "execution_count": null,
     "metadata": {},
     "output_type": "execute_result"
    }
   ],
   "source": [
    "error_rate(p,t)"
   ]
  },
  {
   "cell_type": "code",
   "execution_count": null,
   "metadata": {},
   "outputs": [],
   "source": [
    "def get_cm(p, t): return confusion_matrix(t, p.softmax(dim=1).argmax(1))"
   ]
  },
  {
   "cell_type": "markdown",
   "metadata": {},
   "source": [
    "Confusion Matrix"
   ]
  },
  {
   "cell_type": "code",
   "execution_count": null,
   "metadata": {},
   "outputs": [
    {
     "data": {
      "text/plain": [
       "<matplotlib.axes._subplots.AxesSubplot at 0x7f4d985a5510>"
      ]
     },
     "execution_count": null,
     "metadata": {},
     "output_type": "execute_result"
    },
    {
     "data": {
      "image/png": "[encoded data removed]",
      "text/plain": [
       "<Figure size 432x288 with 2 Axes>"
      ]
     },
     "metadata": {
      "needs_background": "light"
     },
     "output_type": "display_data"
    }
   ],
   "source": [
    "sns.heatmap(get_cm(p,t), cmap='inferno')"
   ]
  },
  {
   "cell_type": "code",
   "execution_count": null,
   "metadata": {},
   "outputs": [],
   "source": []
  }
 ],
 "metadata": {
  "kernelspec": {
   "display_name": "Python 3",
   "language": "python",
   "name": "python3"
  }
 },
 "nbformat": 4,
 "nbformat_minor": 4
}
