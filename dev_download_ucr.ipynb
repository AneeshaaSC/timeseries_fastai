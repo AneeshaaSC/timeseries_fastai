{
 "cells": [
  {
   "cell_type": "code",
   "execution_count": 1,
   "metadata": {},
   "outputs": [],
   "source": [
    "%load_ext autoreload\n",
    "%autoreload 2"
   ]
  },
  {
   "cell_type": "code",
   "execution_count": 2,
   "metadata": {},
   "outputs": [],
   "source": [
    "from pathlib import Path\n",
    "from download import *"
   ]
  },
  {
   "cell_type": "code",
   "execution_count": 3,
   "metadata": {},
   "outputs": [],
   "source": [
    "url = 'http://www.timeseriesclassification.com/Downloads/Archives/Univariate2018_arff.zip'"
   ]
  },
  {
   "cell_type": "code",
   "execution_count": 4,
   "metadata": {},
   "outputs": [
    {
     "data": {
      "text/plain": [
       "PosixPath('/home/tc256760/tmp/Univariate2018_arff.zip')"
      ]
     },
     "execution_count": 4,
     "metadata": {},
     "output_type": "execute_result"
    }
   ],
   "source": [
    "filename = url2path(url); filename"
   ]
  },
  {
   "cell_type": "code",
   "execution_count": 6,
   "metadata": {
    "scrolled": false
   },
   "outputs": [
    {
     "data": {
      "text/plain": [
       "PosixPath('/home/tc256760/Documents/TimeSeries_fastai/Univariate_arff')"
      ]
     },
     "execution_count": 6,
     "metadata": {},
     "output_type": "execute_result"
    }
   ],
   "source": [
    "unzip_data(url)"
   ]
  },
  {
   "cell_type": "code",
   "execution_count": 79,
   "metadata": {},
   "outputs": [],
   "source": [
    "dest = Path('/home/tc256760/Documents/TimeSeries_fastai/Univariate_arff')\n",
    "fname = Path('/home/tc256760/tmp/Univariate2018_arff.zip')"
   ]
  },
  {
   "cell_type": "code",
   "execution_count": 80,
   "metadata": {},
   "outputs": [
    {
     "data": {
      "text/plain": [
       "True"
      ]
     },
     "execution_count": 80,
     "metadata": {},
     "output_type": "execute_result"
    }
   ],
   "source": [
    "dest.exists()"
   ]
  },
  {
   "cell_type": "code",
   "execution_count": 69,
   "metadata": {},
   "outputs": [],
   "source": [
    "import zipfile"
   ]
  },
  {
   "cell_type": "code",
   "execution_count": 70,
   "metadata": {},
   "outputs": [],
   "source": [
    "zip_ref = zipfile.ZipFile(fname, 'r')"
   ]
  },
  {
   "cell_type": "code",
   "execution_count": 8,
   "metadata": {},
   "outputs": [],
   "source": [
    "import pandas as pd"
   ]
  },
  {
   "cell_type": "code",
   "execution_count": 14,
   "metadata": {},
   "outputs": [],
   "source": [
    "summary = pd.read_csv('/home/tc256760/Documents/TimeSeries_fastai/Univariate_arff/SummaryData.csv', index_col=0)"
   ]
  },
  {
   "cell_type": "code",
   "execution_count": 15,
   "metadata": {},
   "outputs": [
    {
     "data": {
      "text/html": [
       "<div>\n",
       "<style scoped>\n",
       "    .dataframe tbody tr th:only-of-type {\n",
       "        vertical-align: middle;\n",
       "    }\n",
       "\n",
       "    .dataframe tbody tr th {\n",
       "        vertical-align: top;\n",
       "    }\n",
       "\n",
       "    .dataframe thead th {\n",
       "        text-align: right;\n",
       "    }\n",
       "</style>\n",
       "<table border=\"1\" class=\"dataframe\">\n",
       "  <thead>\n",
       "    <tr style=\"text-align: right;\">\n",
       "      <th></th>\n",
       "      <th>numTrainCases</th>\n",
       "      <th>numTestCases</th>\n",
       "      <th>seriesLength</th>\n",
       "      <th>numClasses</th>\n",
       "    </tr>\n",
       "    <tr>\n",
       "      <th>problem</th>\n",
       "      <th></th>\n",
       "      <th></th>\n",
       "      <th></th>\n",
       "      <th></th>\n",
       "    </tr>\n",
       "  </thead>\n",
       "  <tbody>\n",
       "    <tr>\n",
       "      <td>ACSF1</td>\n",
       "      <td>100</td>\n",
       "      <td>1001460</td>\n",
       "      <td>10</td>\n",
       "      <td>NaN</td>\n",
       "    </tr>\n",
       "    <tr>\n",
       "      <td>Adiac</td>\n",
       "      <td>390</td>\n",
       "      <td>391176</td>\n",
       "      <td>37</td>\n",
       "      <td>NaN</td>\n",
       "    </tr>\n",
       "    <tr>\n",
       "      <td>AllGestureWiimoteX</td>\n",
       "      <td>300</td>\n",
       "      <td>700500</td>\n",
       "      <td>10</td>\n",
       "      <td>NaN</td>\n",
       "    </tr>\n",
       "    <tr>\n",
       "      <td>AllGestureWiimoteY</td>\n",
       "      <td>300</td>\n",
       "      <td>700500</td>\n",
       "      <td>10</td>\n",
       "      <td>NaN</td>\n",
       "    </tr>\n",
       "    <tr>\n",
       "      <td>AllGestureWiimoteZ</td>\n",
       "      <td>300</td>\n",
       "      <td>700500</td>\n",
       "      <td>10</td>\n",
       "      <td>NaN</td>\n",
       "    </tr>\n",
       "  </tbody>\n",
       "</table>\n",
       "</div>"
      ],
      "text/plain": [
       "                    numTrainCases  numTestCases  seriesLength  numClasses\n",
       "problem                                                                  \n",
       "ACSF1                         100       1001460            10         NaN\n",
       "Adiac                         390        391176            37         NaN\n",
       "AllGestureWiimoteX            300        700500            10         NaN\n",
       "AllGestureWiimoteY            300        700500            10         NaN\n",
       "AllGestureWiimoteZ            300        700500            10         NaN"
      ]
     },
     "execution_count": 15,
     "metadata": {},
     "output_type": "execute_result"
    }
   ],
   "source": [
    "summary.head()"
   ]
  },
  {
   "cell_type": "code",
   "execution_count": 16,
   "metadata": {},
   "outputs": [],
   "source": [
    "flist = summary.index"
   ]
  },
  {
   "cell_type": "code",
   "execution_count": 20,
   "metadata": {},
   "outputs": [
    {
     "data": {
      "text/plain": [
       "numTrainCases        100.0\n",
       "numTestCases     1001460.0\n",
       "seriesLength          10.0\n",
       "numClasses             NaN\n",
       "Name: ACSF1, dtype: float64"
      ]
     },
     "execution_count": 20,
     "metadata": {},
     "output_type": "execute_result"
    }
   ],
   "source": [
    "summary.loc[flist[0]]"
   ]
  },
  {
   "cell_type": "code",
   "execution_count": 57,
   "metadata": {},
   "outputs": [],
   "source": [
    "res = pd.read_csv('results.csv')"
   ]
  },
  {
   "cell_type": "code",
   "execution_count": 59,
   "metadata": {},
   "outputs": [
    {
     "data": {
      "text/html": [
       "<div>\n",
       "<style scoped>\n",
       "    .dataframe tbody tr th:only-of-type {\n",
       "        vertical-align: middle;\n",
       "    }\n",
       "\n",
       "    .dataframe tbody tr th {\n",
       "        vertical-align: top;\n",
       "    }\n",
       "\n",
       "    .dataframe thead th {\n",
       "        text-align: right;\n",
       "    }\n",
       "</style>\n",
       "<table border=\"1\" class=\"dataframe\">\n",
       "  <thead>\n",
       "    <tr style=\"text-align: right;\">\n",
       "      <th></th>\n",
       "      <th>task</th>\n",
       "      <th>error_rate</th>\n",
       "    </tr>\n",
       "  </thead>\n",
       "  <tbody>\n",
       "    <tr>\n",
       "      <td>0</td>\n",
       "      <td>ACSF1</td>\n",
       "      <td>0.190000</td>\n",
       "    </tr>\n",
       "    <tr>\n",
       "      <td>1</td>\n",
       "      <td>Adiac</td>\n",
       "      <td>0.199488</td>\n",
       "    </tr>\n",
       "    <tr>\n",
       "      <td>2</td>\n",
       "      <td>AllGestureWiimoteX</td>\n",
       "      <td>0.900000</td>\n",
       "    </tr>\n",
       "    <tr>\n",
       "      <td>3</td>\n",
       "      <td>AllGestureWiimoteY</td>\n",
       "      <td>0.900000</td>\n",
       "    </tr>\n",
       "    <tr>\n",
       "      <td>4</td>\n",
       "      <td>AllGestureWiimoteZ</td>\n",
       "      <td>0.900000</td>\n",
       "    </tr>\n",
       "    <tr>\n",
       "      <td>5</td>\n",
       "      <td>ArrowHead</td>\n",
       "      <td>0.262857</td>\n",
       "    </tr>\n",
       "    <tr>\n",
       "      <td>6</td>\n",
       "      <td>Beef</td>\n",
       "      <td>0.366667</td>\n",
       "    </tr>\n",
       "    <tr>\n",
       "      <td>7</td>\n",
       "      <td>BeetleFly</td>\n",
       "      <td>0.050000</td>\n",
       "    </tr>\n",
       "    <tr>\n",
       "      <td>8</td>\n",
       "      <td>BirdChicken</td>\n",
       "      <td>0.000000</td>\n",
       "    </tr>\n",
       "    <tr>\n",
       "      <td>9</td>\n",
       "      <td>BME</td>\n",
       "      <td>0.093333</td>\n",
       "    </tr>\n",
       "  </tbody>\n",
       "</table>\n",
       "</div>"
      ],
      "text/plain": [
       "                 task  error_rate\n",
       "0               ACSF1    0.190000\n",
       "1               Adiac    0.199488\n",
       "2  AllGestureWiimoteX    0.900000\n",
       "3  AllGestureWiimoteY    0.900000\n",
       "4  AllGestureWiimoteZ    0.900000\n",
       "5           ArrowHead    0.262857\n",
       "6                Beef    0.366667\n",
       "7           BeetleFly    0.050000\n",
       "8         BirdChicken    0.000000\n",
       "9                 BME    0.093333"
      ]
     },
     "execution_count": 59,
     "metadata": {},
     "output_type": "execute_result"
    }
   ],
   "source": [
    "res.head(10)"
   ]
  },
  {
   "cell_type": "code",
   "execution_count": 26,
   "metadata": {},
   "outputs": [],
   "source": [
    "d = {'ACSF1': 0.10000002384185791, 'Adiac': 0.23273658752441406, 'AllGestureWiimoteX': 0.8999999761581421, 'AllGestureWiimoteY': 0.8999999761581421, 'AllGestureWiimoteZ': 0.8999999761581421, 'ArrowHead': 0.22285711765289307, 'Beef': 0.3333333134651184, 'BeetleFly': 0.1499999761581421, 'BirdChicken': 0.19999998807907104, 'BME': 0.11333334445953369, 'Car': 0.13333332538604736, 'CBF': 0.023333311080932617, 'Chinatown': 0.05539357662200928, 'ChlorineConcentration': 0.24244791269302368, 'CinCECGTorso': 0.23188406229019165, 'Coffee': 0.0, 'Computers': 0.20800000429153442, 'CricketX': 0.28717947006225586, 'CricketY': 0.29487180709838867, 'CricketZ': 0.2512820363044739, 'Crop': 0.24160712957382202, 'DiatomSizeReduction': 0.1993464231491089, 'DistalPhalanxOutlineAgeGroup': 0.26618707180023193, 'DistalPhalanxOutlineCorrect': 0.2028985619544983, 'DistalPhalanxTW': 0.2949640154838562, 'DodgerLoopDay': 0.875, 'DodgerLoopGame': 0.52173912525177, 'DodgerLoopWeekend': 0.739130437374115, 'Earthquakes': 0.28776979446411133, 'ECG200': 0.12000000476837158, 'ECG5000': 0.06000000238418579, 'ElectricDevices': 0.29308778047561646, 'EOGHorizontalSignal': 0.43370163440704346, 'EOGVerticalSignal': 0.5883978009223938, 'EthanolLevel': 0.33399999141693115, 'FaceAll': 0.19881659746170044, 'FaceFour': 0.09090906381607056, 'FacesUCR': 0.1014634370803833, 'FiftyWords': 0.5010988712310791, 'Fish': 0.02857142686843872, 'FordA': 0.06515151262283325, 'FordB': 0.2024691104888916, 'FreezerRegularTrain': 0.004561424255371094, 'FreezerSmallTrain': 0.019999980926513672, 'Fungi': 0.6344085931777954, 'GestureMidAirD1': 0.9615384340286255, 'GestureMidAirD2': 0.9615384340286255, 'GestureMidAirD3': 0.9615384340286255, 'GesturePebbleZ1': 0.8430232405662537, 'GesturePebbleZ2': 0.8417721390724182, 'GunPoint': 0.013333320617675781, 'GunPointAgeSpan': 0.0063291192054748535, 'GunPointMaleVersusFemale': 0.003164529800415039, 'GunPointOldVersusYoung': 0.0, 'Ham': 0.3047618865966797, 'HandOutlines': 0.062162160873413086, 'Haptics': 0.4967532753944397, 'Herring': 0.234375, 'HouseTwenty': 0.03361344337463379, 'InlineSkate': 0.5436363220214844, 'InsectEPGRegularTrain': 0.0, 'InsectWingbeatSound': 0.5818182229995728, 'ItalyPowerDemand': 0.03790086507797241, 'LargeKitchenAppliances': 0.10399997234344482, 'Lightning2': 0.1803278923034668, 'Lightning7': 0.232876718044281, 'Mallat': 0.03368872404098511, 'Meat': 0.03333336114883423, 'MedicalImages': 0.2407894730567932, 'MelbournePedestrian': 0.8995490074157715, 'MiddlePhalanxOutlineAgeGroup': 0.40259742736816406, 'MiddlePhalanxOutlineCorrect': 0.16151201725006104, 'MiddlePhalanxTW': 0.5064935088157654, 'MixedShapesRegularTrain': 0.05154639482498169, 'MixedShapesSmallTrain': 0.12865978479385376, 'MoteStrain': 0.11980831623077393, 'OliveOil': 0.13333332538604736, 'OSULeaf': 0.11157023906707764, 'PhalangesOutlinesCorrect': 0.1655011773109436, 'Phoneme': 0.7014768123626709, 'PickupGestureWiimoteZ': 0.8999999761581421, 'PigAirwayPressure': 0.504807710647583, 'PigArtPressure': 0.1586538553237915, 'PigCVP': 0.6009615659713745, 'PLAID': 0.8398510217666626, 'Plane': 0.0, 'PowerCons': 0.07777780294418335, 'ProximalPhalanxOutlineAgeGroup': 0.14146339893341064, 'ProximalPhalanxOutlineCorrect': 0.0824742317199707, 'ProximalPhalanxTW': 0.21463412046432495, 'RefrigerationDevices': 0.45333331823349, 'Rock': 0.7799999713897705, 'ScreenType': 0.4266666769981384, 'SemgHandGenderCh2': 0.1499999761581421, 'SemgHandMovementCh2': 0.448888897895813, 'SemgHandSubjectCh2': 0.3399999737739563, 'ShakeGestureWiimoteZ': 0.8999999761581421, 'ShapeletSim': 0.011111140251159668, 'ShapesAll': 0.12666666507720947, 'SmallKitchenAppliances': 0.19466668367385864, 'SmoothSubspace': 0.04666668176651001, 'SonyAIBORobotSurface1': 0.07321131229400635, 'SonyAIBORobotSurface2': 0.06086045503616333, 'StarLightCurves': 0.02731907367706299, 'Strawberry': 0.0162162184715271, 'SwedishLeaf': 0.04799997806549072, 'SyntheticControl': 0.016666650772094727, 'ToeSegmentation1': 0.043859660625457764, 'ToeSegmentation2': 0.10000002384185791, 'Trace': 0.0, 'TwoPatterns': 0.09224998950958252, 'UMD': 0.006944417953491211, 'UWaveGestureLibraryAll': 0.20295923948287964, 'UWaveGestureLibraryX': 0.2487437129020691, 'UWaveGestureLibraryY': 0.3542713522911072, 'UWaveGestureLibraryZ': 0.2841987609863281, 'Wafer': 0.005678117275238037, 'WordSynonyms': 0.44670844078063965, 'Worms': 0.1818181872367859, 'WormsTwoClass': 0.16883116960525513, 'Yoga': 0.13099998235702515}"
   ]
  },
  {
   "cell_type": "code",
   "execution_count": 52,
   "metadata": {},
   "outputs": [],
   "source": [
    "res = pd.Series(d, name='error_rate')"
   ]
  },
  {
   "cell_type": "code",
   "execution_count": 53,
   "metadata": {},
   "outputs": [
    {
     "data": {
      "text/plain": [
       "task\n",
       "ACSF1                 0.100000\n",
       "Adiac                 0.232737\n",
       "AllGestureWiimoteX    0.900000\n",
       "AllGestureWiimoteY    0.900000\n",
       "AllGestureWiimoteZ    0.900000\n",
       "Name: error_rate, dtype: float64"
      ]
     },
     "execution_count": 53,
     "metadata": {},
     "output_type": "execute_result"
    }
   ],
   "source": [
    "res.head()"
   ]
  },
  {
   "cell_type": "code",
   "execution_count": 72,
   "metadata": {},
   "outputs": [],
   "source": [
    "results = pd.read_csv('results.csv', index_col=0)"
   ]
  },
  {
   "cell_type": "code",
   "execution_count": 73,
   "metadata": {},
   "outputs": [
    {
     "data": {
      "text/html": [
       "<div>\n",
       "<style scoped>\n",
       "    .dataframe tbody tr th:only-of-type {\n",
       "        vertical-align: middle;\n",
       "    }\n",
       "\n",
       "    .dataframe tbody tr th {\n",
       "        vertical-align: top;\n",
       "    }\n",
       "\n",
       "    .dataframe thead th {\n",
       "        text-align: right;\n",
       "    }\n",
       "</style>\n",
       "<table border=\"1\" class=\"dataframe\">\n",
       "  <thead>\n",
       "    <tr style=\"text-align: right;\">\n",
       "      <th></th>\n",
       "      <th>MLP</th>\n",
       "      <th>FCN</th>\n",
       "      <th>resnet</th>\n",
       "    </tr>\n",
       "    <tr>\n",
       "      <th>problem</th>\n",
       "      <th></th>\n",
       "      <th></th>\n",
       "      <th></th>\n",
       "    </tr>\n",
       "  </thead>\n",
       "  <tbody>\n",
       "    <tr>\n",
       "      <td>ACSF1</td>\n",
       "      <td>0.420000</td>\n",
       "      <td>0.200000</td>\n",
       "      <td>0.200000</td>\n",
       "    </tr>\n",
       "    <tr>\n",
       "      <td>Adiac</td>\n",
       "      <td>0.286445</td>\n",
       "      <td>0.212276</td>\n",
       "      <td>0.219949</td>\n",
       "    </tr>\n",
       "    <tr>\n",
       "      <td>AllGestureWiimoteX</td>\n",
       "      <td>0.900000</td>\n",
       "      <td>0.900000</td>\n",
       "      <td>0.900000</td>\n",
       "    </tr>\n",
       "    <tr>\n",
       "      <td>AllGestureWiimoteY</td>\n",
       "      <td>0.900000</td>\n",
       "      <td>0.900000</td>\n",
       "      <td>0.900000</td>\n",
       "    </tr>\n",
       "    <tr>\n",
       "      <td>AllGestureWiimoteZ</td>\n",
       "      <td>0.900000</td>\n",
       "      <td>0.900000</td>\n",
       "      <td>0.900000</td>\n",
       "    </tr>\n",
       "  </tbody>\n",
       "</table>\n",
       "</div>"
      ],
      "text/plain": [
       "                         MLP       FCN    resnet\n",
       "problem                                         \n",
       "ACSF1               0.420000  0.200000  0.200000\n",
       "Adiac               0.286445  0.212276  0.219949\n",
       "AllGestureWiimoteX  0.900000  0.900000  0.900000\n",
       "AllGestureWiimoteY  0.900000  0.900000  0.900000\n",
       "AllGestureWiimoteZ  0.900000  0.900000  0.900000"
      ]
     },
     "execution_count": 73,
     "metadata": {},
     "output_type": "execute_result"
    }
   ],
   "source": [
    "results.head()"
   ]
  },
  {
   "cell_type": "code",
   "execution_count": 74,
   "metadata": {},
   "outputs": [],
   "source": [
    "from tabulate import tabulate"
   ]
  },
  {
   "cell_type": "code",
   "execution_count": 77,
   "metadata": {},
   "outputs": [
    {
     "name": "stdout",
     "output_type": "stream",
     "text": [
      "|                                |          MLP |          FCN |       resnet |\n",
      "|:-------------------------------|-------------:|-------------:|-------------:|\n",
      "| ACSF1                          |   0.42       |   0.2        |   0.2        |\n",
      "| Adiac                          |   0.286445   |   0.212276   |   0.219949   |\n",
      "| AllGestureWiimoteX             |   0.9        |   0.9        |   0.9        |\n",
      "| AllGestureWiimoteY             |   0.9        |   0.9        |   0.9        |\n",
      "| AllGestureWiimoteZ             |   0.9        |   0.9        |   0.9        |\n",
      "| ArrowHead                      |   0.325714   |   0.342857   |   0.274286   |\n",
      "| Beef                           |   0.4        |   0.366667   |   0.333333   |\n",
      "| BeetleFly                      |   0.1        |   0.05       |   0.1        |\n",
      "| BirdChicken                    |   0.2        |   0.05       |   0.05       |\n",
      "| BME                            |   0.0466667  |   0.126667   |   0.0466667  |\n",
      "| Car                            |   0.116667   |   0.183333   |   0.166667   |\n",
      "| CBF                            |   0.123333   |   0.00333333 |   0          |\n",
      "| Chinatown                      |   0.0174927  |   0.0116618  |   0.0145773  |\n",
      "| ChlorineConcentration          |   0.404687   |   0.311979   |   0.292448   |\n",
      "| CinCECGTorso                   |   0.641304   |   0.369565   |   0.328986   |\n",
      "| Coffee                         |   0          |   0          |   0          |\n",
      "| Computers                      |   0.364      |   0.212      |   0.232      |\n",
      "| CricketX                       |   0.692308   |   0.197436   |   0.220513   |\n",
      "| CricketY                       |   0.594872   |   0.217949   |   0.212821   |\n",
      "| CricketZ                       |   0.682051   |   0.174359   |   0.174359   |\n",
      "| Crop                           |   0.355      |   0.229167   |   0.224583   |\n",
      "| DiatomSizeReduction            |   0.0163399  |   0.0686275  |   0.0359477  |\n",
      "| DistalPhalanxOutlineAgeGroup   |   0.273381   |   0.251799   |   0.230216   |\n",
      "| DistalPhalanxOutlineCorrect    |   0.289855   |   0.206522   |   0.202899   |\n",
      "| DistalPhalanxTW                |   0.323741   |   0.266187   |   0.28777    |\n",
      "| DodgerLoopDay                  |   0.85       |   0.85       |   0.85       |\n",
      "| DodgerLoopGame                 |   0.478261   |   0.478261   |   0.478261   |\n",
      "| DodgerLoopWeekend              |   0.26087    |   0.26087    |   0.26087    |\n",
      "| Earthquakes                    |   0.244604   |   0.23741    |   0.251799   |\n",
      "| ECG200                         |   0.16       |   0.07       |   0.06       |\n",
      "| ECG5000                        |   0.06       |   0.0553333  |   0.0542222  |\n",
      "| ECGFiveDays                    | nan          | nan          | nan          |\n",
      "| ElectricDevices                |   0.529244   |   0.268707   |   0.268966   |\n",
      "| EOGHorizontalSignal            |   0.58011    |   0.350829   |   0.353591   |\n",
      "| EOGVerticalSignal              |   0.662983   |   0.513812   |   0.516575   |\n",
      "| EthanolLevel                   |   0.278      |   0.342      |   0.284      |\n",
      "| FaceAll                        |   0.219527   |   0.091716   |   0.0639053  |\n",
      "| FaceFour                       |   0.125      |   0.0909091  |   0.0909091  |\n",
      "| FacesUCR                       |   0.261951   |   0.042439   |   0.0482927  |\n",
      "| FiftyWords                     |   0.391209   |   0.325275   |   0.320879   |\n",
      "| Fish                           |   0.131429   |   0.0628571  |   0.0342857  |\n",
      "| FordA                          |   0.469697   |   0.0606061  |   0.0613636  |\n",
      "| FordB                          |   0.466667   |   0.181481   |   0.188889   |\n",
      "| FreezerRegularTrain            |   0.00350877 |   0.00140351 |   0.00140351 |\n",
      "| FreezerSmallTrain              |   0.164561   |   0.0224561  |   0.0298246  |\n",
      "| Fungi                          |   0.516129   |   0.311828   |   0.284946   |\n",
      "| GestureMidAirD1                |   0.961538   |   0.961538   |   0.961538   |\n",
      "| GestureMidAirD2                |   0.961538   |   0.961538   |   0.961538   |\n",
      "| GestureMidAirD3                |   0.961538   |   0.961538   |   0.961538   |\n",
      "| GesturePebbleZ1                |   0.837209   |   0.837209   |   0.837209   |\n",
      "| GesturePebbleZ2                |   0.848101   |   0.848101   |   0.848101   |\n",
      "| GunPoint                       |   0.206667   |   0.0266667  |   0.00666667 |\n",
      "| GunPointAgeSpan                |   0.110759   |   0.0379747  |   0.0316456  |\n",
      "| GunPointMaleVersusFemale       |   0.00949367 |   0          |   0          |\n",
      "| GunPointOldVersusYoung         |   0          |   0          |   0          |\n",
      "| Ham                            | nan          | nan          | nan          |\n",
      "| HandOutlines                   |   0.1        |   0.12973    |   0.0513513  |\n",
      "| Haptics                        |   0.516234   |   0.525974   |   0.535714   |\n",
      "| Herring                        |   0.265625   |   0.375      |   0.28125    |\n",
      "| HouseTwenty                    |   0.302521   |   0.109244   |   0.0504202  |\n",
      "| InlineSkate                    |   0.718182   |   0.621818   |   0.629091   |\n",
      "| InsectEPGRegularTrain          |   0.168675   |   0          |   0          |\n",
      "| InsectEPGSmallTrain            | nan          | nan          | nan          |\n",
      "| InsectWingbeatSound            |   0.371212   |   0.511111   |   0.494444   |\n",
      "| ItalyPowerDemand               |   0.0272109  |   0.0301263  |   0.0272109  |\n",
      "| LargeKitchenAppliances         |   0.605333   |   0.088      |   0.0906667  |\n",
      "| Lightning2                     |   0.278689   |   0.163934   |   0.163934   |\n",
      "| Lightning7                     |   0.328767   |   0.123288   |   0.0821918  |\n",
      "| Mallat                         | nan          | nan          | nan          |\n",
      "| Meat                           |   0          |   0.05       |   0.0333333  |\n",
      "| MedicalImages                  |   0.393421   |   0.228947   |   0.209211   |\n",
      "| MelbournePedestrian            |   0.899549   |   0.899549   |   0.899549   |\n",
      "| MiddlePhalanxOutlineAgeGroup   |   0.344156   |   0.344156   |   0.337662   |\n",
      "| MiddlePhalanxOutlineCorrect    |   0.309278   |   0.154639   |   0.158076   |\n",
      "| MiddlePhalanxTW                |   0.37013    |   0.435065   |   0.441558   |\n",
      "| MixedShapesRegularTrain        |   0.16701    |   0.0441237  |   0.0428866  |\n",
      "| MixedShapesSmallTrain          |   0.188041   |   0.101443   |   0.105155   |\n",
      "| MoteStrain                     |   0.130192   |   0.107029   |   0.114217   |\n",
      "| NonInvasiveFatalECGThorax1     | nan          | nan          | nan          |\n",
      "| NonInvasiveFatalECGThorax2     | nan          | nan          | nan          |\n",
      "| OliveOil                       |   0.0666667  |   0.133333   |   0.233333   |\n",
      "| OSULeaf                        |   0.533058   |   0.0165289  |   0.0206612  |\n",
      "| PhalangesOutlinesCorrect       |   0.320513   |   0.167832   |   0.155012   |\n",
      "| Phoneme                        |   0.904536   |   0.682489   |   0.691983   |\n",
      "| PickupGestureWiimoteZ          |   0.9        |   0.9        |   0.9        |\n",
      "| PigAirwayPressure              |   0.923077   |   0.802885   |   0.673077   |\n",
      "| PigArtPressure                 |   0.841346   |   0.418269   |   0.360577   |\n",
      "| PigCVP                         |   0.899038   |   0.774038   |   0.778846   |\n",
      "| PLAID                          |   0.938547   |   0.938547   |   0.938547   |\n",
      "| Plane                          | nan          | nan          | nan          |\n",
      "| PowerCons                      |   0          |   0.0722222  |   0.0666667  |\n",
      "| ProximalPhalanxOutlineAgeGroup |   0.131707   |   0.131707   |   0.121951   |\n",
      "| ProximalPhalanxOutlineCorrect  |   0.14433    |   0.0756014  |   0.0721649  |\n",
      "| ProximalPhalanxTW              |   0.185366   |   0.195122   |   0.190244   |\n",
      "| RefrigerationDevices           |   0.624      |   0.429333   |   0.410667   |\n",
      "| Rock                           |   0.28       |   0.32       |   0.62       |\n",
      "| ScreenType                     |   0.56       |   0.424      |   0.394667   |\n",
      "| SemgHandGenderCh2              |   0.12       |   0.145      |   0.138333   |\n",
      "| SemgHandMovementCh2            |   0.511111   |   0.415556   |   0.415556   |\n",
      "| SemgHandSubjectCh2             |   0.168889   |   0.277778   |   0.288889   |\n",
      "| ShakeGestureWiimoteZ           |   0.9        |   0.9        |   0.9        |\n",
      "| ShapeletSim                    |   0.455556   |   0.0111111  |   0.0111111  |\n",
      "| ShapesAll                      |   0.37       |   0.118333   |   0.108333   |\n",
      "| SmallKitchenAppliances         |   0.584      |   0.213333   |   0.216      |\n",
      "| SmoothSubspace                 |   0.106667   |   0.00666667 |   0          |\n",
      "| SonyAIBORobotSurface1          |   0.281198   |   0.0266223  |   0.0415973  |\n",
      "| SonyAIBORobotSurface2          | nan          | nan          | nan          |\n",
      "| StarLightCurves                |   0.123118   |   0.0245265  |   0.0258621  |\n",
      "| Strawberry                     |   0.0540541  |   0.0297297  |   0.0324324  |\n",
      "| SwedishLeaf                    |   0.144      |   0.0368     |   0.0432     |\n",
      "| Symbols                        | nan          | nan          | nan          |\n",
      "| SyntheticControl               |   0.136667   |   0          |   0          |\n",
      "| ToeSegmentation1               |   0.421053   |   0.0394737  |   0.0482456  |\n",
      "| ToeSegmentation2               |   0.323077   |   0.123077   |   0.0923077  |\n",
      "| Trace                          |   0.21       |   0          |   0          |\n",
      "| TwoLeadECG                     | nan          | nan          | nan          |\n",
      "| TwoPatterns                    |   0.1635     |   0.0335     |   0.01125    |\n",
      "| UMD                            |   0.0763889  |   0.131944   |   0.277778   |\n",
      "| UWaveGestureLibraryAll         |   0.10804    |   0.144612   |   0.136237   |\n",
      "| UWaveGestureLibraryX           |   0.3512     |   0.218035   |   0.20603    |\n",
      "| UWaveGestureLibraryY           |   0.384143   |   0.311279   |   0.307649   |\n",
      "| UWaveGestureLibraryZ           |   0.426857   |   0.268565   |   0.259631   |\n",
      "| Wafer                          |   0.048183   |   0.00210902 |   0.00243348 |\n",
      "| Wine                           | nan          | nan          | nan          |\n",
      "| WordSynonyms                   |   0.534483   |   0.401254   |   0.394984   |\n",
      "| Worms                          |   0.571429   |   0.168831   |   0.142857   |\n",
      "| WormsTwoClass                  |   0.363636   |   0.168831   |   0.194805   |\n",
      "| Yoga                           |   0.367      |   0.166667   |   0.159      |\n"
     ]
    }
   ],
   "source": [
    "print(tabulate(results,  tablefmt=\"pipe\", headers=results.columns))"
   ]
  },
  {
   "cell_type": "code",
   "execution_count": null,
   "metadata": {},
   "outputs": [],
   "source": []
  }
 ],
 "metadata": {
  "kernelspec": {
   "display_name": "Python 3",
   "language": "python",
   "name": "python3"
  },
  "language_info": {
   "codemirror_mode": {
    "name": "ipython",
    "version": 3
   },
   "file_extension": ".py",
   "mimetype": "text/x-python",
   "name": "python",
   "nbconvert_exporter": "python",
   "pygments_lexer": "ipython3",
   "version": "3.7.4"
  }
 },
 "nbformat": 4,
 "nbformat_minor": 2
}
