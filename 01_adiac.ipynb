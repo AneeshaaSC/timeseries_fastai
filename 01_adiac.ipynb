{
 "cells": [
  {
   "cell_type": "code",
   "execution_count": 1,
   "metadata": {},
   "outputs": [],
   "source": [
    "%load_ext autoreload\n",
    "%autoreload 2"
   ]
  },
  {
   "cell_type": "code",
   "execution_count": 2,
   "metadata": {},
   "outputs": [],
   "source": [
    "import seaborn as sns\n",
    "import pandas as pd\n",
    "from pathlib import Path\n",
    "from utils import *\n",
    "from ucr import *\n",
    "from models import *\n",
    "from sklearn.metrics import confusion_matrix\n",
    "\n",
    "import torch\n",
    "import torch.nn as nn\n",
    "import fastai\n",
    "from fastai.vision import *"
   ]
  },
  {
   "cell_type": "code",
   "execution_count": 52,
   "metadata": {},
   "outputs": [],
   "source": [
    "task = 'Adiac'"
   ]
  },
  {
   "cell_type": "code",
   "execution_count": 53,
   "metadata": {},
   "outputs": [],
   "source": [
    "# DATAPATH = Path.cwd()/'Univariate_arff' #if not Adiac\n",
    "DATAPATH = Path.cwd()"
   ]
  },
  {
   "cell_type": "code",
   "execution_count": 54,
   "metadata": {},
   "outputs": [
    {
     "data": {
      "text/plain": [
       "[PosixPath('/home/tc256760/Documents/TimeSeries_fastai/.git'),\n",
       " PosixPath('/home/tc256760/Documents/TimeSeries_fastai/.gitignore'),\n",
       " PosixPath('/home/tc256760/Documents/TimeSeries_fastai/.ipynb_checkpoints'),\n",
       " PosixPath('/home/tc256760/Documents/TimeSeries_fastai/.vscode'),\n",
       " PosixPath('/home/tc256760/Documents/TimeSeries_fastai/01_adiac-inception.ipynb'),\n",
       " PosixPath('/home/tc256760/Documents/TimeSeries_fastai/01_adiac.ipynb'),\n",
       " PosixPath('/home/tc256760/Documents/TimeSeries_fastai/02_adiac_inception_resnet.ipynb'),\n",
       " PosixPath('/home/tc256760/Documents/TimeSeries_fastai/Adiac'),\n",
       " PosixPath('/home/tc256760/Documents/TimeSeries_fastai/README.md'),\n",
       " PosixPath('/home/tc256760/Documents/TimeSeries_fastai/Univariate_arff'),\n",
       " PosixPath('/home/tc256760/Documents/TimeSeries_fastai/__pycache__'),\n",
       " PosixPath('/home/tc256760/Documents/TimeSeries_fastai/dev_merge.ipynb'),\n",
       " PosixPath('/home/tc256760/Documents/TimeSeries_fastai/dev_nbs'),\n",
       " PosixPath('/home/tc256760/Documents/TimeSeries_fastai/download.py'),\n",
       " PosixPath('/home/tc256760/Documents/TimeSeries_fastai/environment.yml'),\n",
       " PosixPath('/home/tc256760/Documents/TimeSeries_fastai/functions_lbfgs'),\n",
       " PosixPath('/home/tc256760/Documents/TimeSeries_fastai/inception.py'),\n",
       " PosixPath('/home/tc256760/Documents/TimeSeries_fastai/models'),\n",
       " PosixPath('/home/tc256760/Documents/TimeSeries_fastai/models.py'),\n",
       " PosixPath('/home/tc256760/Documents/TimeSeries_fastai/results.csv'),\n",
       " PosixPath('/home/tc256760/Documents/TimeSeries_fastai/results_Adiac_mlp.csv'),\n",
       " PosixPath('/home/tc256760/Documents/TimeSeries_fastai/results_ECGFiveDays_MLP-FCN-resnet-iresnet-inception.csv'),\n",
       " PosixPath('/home/tc256760/Documents/TimeSeries_fastai/results_InsectEPGSmallTrain_MLP-FCN-resnet-iresnet-inception.csv'),\n",
       " PosixPath('/home/tc256760/Documents/TimeSeries_fastai/results_NonInvasiveFatalECGThorax1_MLP-FCN-resnet-iresnet-inception.csv'),\n",
       " PosixPath('/home/tc256760/Documents/TimeSeries_fastai/results_NonInvasiveFetalECGThorax1_MLP-FCN-resnet-iresnet-inception.csv'),\n",
       " PosixPath('/home/tc256760/Documents/TimeSeries_fastai/results_NonInvasiveFetalECGThorax2_MLP-FCN-resnet-iresnet-inception.csv'),\n",
       " PosixPath('/home/tc256760/Documents/TimeSeries_fastai/results_Symbols_MLP-FCN-resnet-iresnet-inception.csv'),\n",
       " PosixPath('/home/tc256760/Documents/TimeSeries_fastai/results_Wine_MLP-FCN-resnet-iresnet-inception.csv'),\n",
       " PosixPath('/home/tc256760/Documents/TimeSeries_fastai/results_Wine_mlp.csv'),\n",
       " PosixPath('/home/tc256760/Documents/TimeSeries_fastai/results_all_v3.csv'),\n",
       " PosixPath('/home/tc256760/Documents/TimeSeries_fastai/ucr.py'),\n",
       " PosixPath('/home/tc256760/Documents/TimeSeries_fastai/utils.py')]"
      ]
     },
     "execution_count": 54,
     "metadata": {},
     "output_type": "execute_result"
    }
   ],
   "source": [
    "sorted(list(DATAPATH.iterdir()))"
   ]
  },
  {
   "cell_type": "code",
   "execution_count": 55,
   "metadata": {
    "scrolled": true
   },
   "outputs": [
    {
     "name": "stdout",
     "output_type": "stream",
     "text": [
      "Loading files from: /home/tc256760/Documents/TimeSeries_fastai/Adiac\n"
     ]
    }
   ],
   "source": [
    "df_train, df_test = load_df(DATAPATH, task)"
   ]
  },
  {
   "cell_type": "code",
   "execution_count": 56,
   "metadata": {},
   "outputs": [
    {
     "data": {
      "text/plain": [
       "37"
      ]
     },
     "execution_count": 56,
     "metadata": {},
     "output_type": "execute_result"
    }
   ],
   "source": [
    "num_classes = df_train.target.nunique(); num_classes"
   ]
  },
  {
   "cell_type": "markdown",
   "metadata": {},
   "source": [
    "# DL"
   ]
  },
  {
   "cell_type": "code",
   "execution_count": 57,
   "metadata": {},
   "outputs": [],
   "source": [
    "x_train, y_train, x_test, y_test = process_dfs(df_train, df_test)"
   ]
  },
  {
   "cell_type": "code",
   "execution_count": 58,
   "metadata": {},
   "outputs": [
    {
     "data": {
      "text/plain": [
       "((390, 176), (391, 176))"
      ]
     },
     "execution_count": 58,
     "metadata": {},
     "output_type": "execute_result"
    }
   ],
   "source": [
    "x_train.shape, x_test.shape"
   ]
  },
  {
   "cell_type": "code",
   "execution_count": 59,
   "metadata": {},
   "outputs": [],
   "source": [
    "tr_ds, val_ds = to_TDS(x_train, y_train), to_TDS(x_test, y_test)"
   ]
  },
  {
   "cell_type": "code",
   "execution_count": 62,
   "metadata": {},
   "outputs": [
    {
     "data": {
      "text/plain": [
       "32"
      ]
     },
     "execution_count": 62,
     "metadata": {},
     "output_type": "execute_result"
    }
   ],
   "source": [
    "bs = max_bs(len(tr_ds)); bs"
   ]
  },
  {
   "cell_type": "code",
   "execution_count": 63,
   "metadata": {},
   "outputs": [],
   "source": [
    "db = create_databunch(tr_ds, val_ds, bs)"
   ]
  },
  {
   "cell_type": "markdown",
   "metadata": {},
   "source": [
    "Testing dims at input/output"
   ]
  },
  {
   "cell_type": "markdown",
   "metadata": {},
   "source": [
    "## Resnet 1D"
   ]
  },
  {
   "cell_type": "code",
   "execution_count": 70,
   "metadata": {},
   "outputs": [
    {
     "name": "stdout",
     "output_type": "stream",
     "text": [
      "torch.Size([32, 1, 176]) torch.Size([32])\n"
     ]
    }
   ],
   "source": [
    "tx, ty = next(iter(db.train_dl))\n",
    "print(tx.shape, ty.shape)"
   ]
  },
  {
   "cell_type": "code",
   "execution_count": 71,
   "metadata": {
    "scrolled": true
   },
   "outputs": [],
   "source": [
    "# model = create_resnet(1, num_classes, conv_sizes=[64, 128, 256], stride=1)"
   ]
  },
  {
   "cell_type": "code",
   "execution_count": 72,
   "metadata": {},
   "outputs": [],
   "source": [
    "model = create_mlp(x_train[0].shape[0], num_classes)"
   ]
  },
  {
   "cell_type": "code",
   "execution_count": 73,
   "metadata": {},
   "outputs": [],
   "source": [
    "# model = create_fcn(1, num_classes)"
   ]
  },
  {
   "cell_type": "code",
   "execution_count": 74,
   "metadata": {},
   "outputs": [
    {
     "data": {
      "text/plain": [
       "Sequential(\n",
       "  (0): Flatten()\n",
       "  (1): BatchNorm1d(176, eps=1e-05, momentum=0.1, affine=True, track_running_stats=True)\n",
       "  (2): Dropout(p=0.2, inplace=False)\n",
       "  (3): Linear(in_features=176, out_features=500, bias=True)\n",
       "  (4): ReLU(inplace=True)\n",
       "  (5): BatchNorm1d(500, eps=1e-05, momentum=0.1, affine=True, track_running_stats=True)\n",
       "  (6): Dropout(p=0.2, inplace=False)\n",
       "  (7): Linear(in_features=500, out_features=500, bias=True)\n",
       "  (8): ReLU(inplace=True)\n",
       "  (9): BatchNorm1d(500, eps=1e-05, momentum=0.1, affine=True, track_running_stats=True)\n",
       "  (10): Dropout(p=0.2, inplace=False)\n",
       "  (11): Linear(in_features=500, out_features=500, bias=True)\n",
       "  (12): ReLU(inplace=True)\n",
       "  (13): BatchNorm1d(500, eps=1e-05, momentum=0.1, affine=True, track_running_stats=True)\n",
       "  (14): Dropout(p=0.2, inplace=False)\n",
       "  (15): Linear(in_features=500, out_features=37, bias=True)\n",
       ")"
      ]
     },
     "execution_count": 74,
     "metadata": {},
     "output_type": "execute_result"
    }
   ],
   "source": [
    "model"
   ]
  },
  {
   "cell_type": "markdown",
   "metadata": {},
   "source": [
    "Sanity check"
   ]
  },
  {
   "cell_type": "code",
   "execution_count": 77,
   "metadata": {},
   "outputs": [
    {
     "data": {
      "text/plain": [
       "torch.Size([32, 37])"
      ]
     },
     "execution_count": 77,
     "metadata": {},
     "output_type": "execute_result"
    }
   ],
   "source": [
    "model.cuda()(tx).shape  #should be (bs, num_classes)"
   ]
  },
  {
   "cell_type": "code",
   "execution_count": 69,
   "metadata": {},
   "outputs": [],
   "source": [
    "learn_res = fastai.basic_train.Learner(db, \n",
    "                                       model, \n",
    "                                       loss_func = CrossEntropyFlat(), \n",
    "                                       metrics=[error_rate],\n",
    "                                       wd=1e-2)"
   ]
  },
  {
   "cell_type": "code",
   "execution_count": 21,
   "metadata": {},
   "outputs": [
    {
     "data": {
      "text/html": [],
      "text/plain": [
       "<IPython.core.display.HTML object>"
      ]
     },
     "metadata": {},
     "output_type": "display_data"
    },
    {
     "name": "stdout",
     "output_type": "stream",
     "text": [
      "LR Finder is complete, type {learner_name}.recorder.plot() to see the graph.\n"
     ]
    },
    {
     "data": {
      "image/png": "[encoded data removed]",
      "text/plain": [
       "<Figure size 432x288 with 1 Axes>"
      ]
     },
     "metadata": {
      "needs_background": "light"
     },
     "output_type": "display_data"
    }
   ],
   "source": [
    "learn_res.lr_find(); learn_res.recorder.plot()"
   ]
  },
  {
   "cell_type": "code",
   "execution_count": 23,
   "metadata": {
    "scrolled": true
   },
   "outputs": [
    {
     "data": {
      "text/html": [
       "<table border=\"1\" class=\"dataframe\">\n",
       "  <thead>\n",
       "    <tr style=\"text-align: left;\">\n",
       "      <th>epoch</th>\n",
       "      <th>train_loss</th>\n",
       "      <th>valid_loss</th>\n",
       "      <th>error_rate</th>\n",
       "      <th>time</th>\n",
       "    </tr>\n",
       "  </thead>\n",
       "  <tbody>\n",
       "    <tr>\n",
       "      <td>0</td>\n",
       "      <td>2.435443</td>\n",
       "      <td>1.483845</td>\n",
       "      <td>0.366921</td>\n",
       "      <td>00:00</td>\n",
       "    </tr>\n",
       "    <tr>\n",
       "      <td>1</td>\n",
       "      <td>1.516080</td>\n",
       "      <td>0.711866</td>\n",
       "      <td>0.174046</td>\n",
       "      <td>00:00</td>\n",
       "    </tr>\n",
       "    <tr>\n",
       "      <td>2</td>\n",
       "      <td>0.989930</td>\n",
       "      <td>0.524560</td>\n",
       "      <td>0.177099</td>\n",
       "      <td>00:00</td>\n",
       "    </tr>\n",
       "    <tr>\n",
       "      <td>3</td>\n",
       "      <td>0.795682</td>\n",
       "      <td>0.513879</td>\n",
       "      <td>0.177608</td>\n",
       "      <td>00:00</td>\n",
       "    </tr>\n",
       "    <tr>\n",
       "      <td>4</td>\n",
       "      <td>0.757448</td>\n",
       "      <td>0.554152</td>\n",
       "      <td>0.179135</td>\n",
       "      <td>00:00</td>\n",
       "    </tr>\n",
       "    <tr>\n",
       "      <td>5</td>\n",
       "      <td>0.776508</td>\n",
       "      <td>0.633539</td>\n",
       "      <td>0.210687</td>\n",
       "      <td>00:00</td>\n",
       "    </tr>\n",
       "    <tr>\n",
       "      <td>6</td>\n",
       "      <td>0.827521</td>\n",
       "      <td>0.610802</td>\n",
       "      <td>0.188295</td>\n",
       "      <td>00:00</td>\n",
       "    </tr>\n",
       "    <tr>\n",
       "      <td>7</td>\n",
       "      <td>0.848001</td>\n",
       "      <td>0.705214</td>\n",
       "      <td>0.231552</td>\n",
       "      <td>00:00</td>\n",
       "    </tr>\n",
       "    <tr>\n",
       "      <td>8</td>\n",
       "      <td>0.794026</td>\n",
       "      <td>0.531333</td>\n",
       "      <td>0.165394</td>\n",
       "      <td>00:00</td>\n",
       "    </tr>\n",
       "    <tr>\n",
       "      <td>9</td>\n",
       "      <td>0.740811</td>\n",
       "      <td>0.653032</td>\n",
       "      <td>0.190331</td>\n",
       "      <td>00:00</td>\n",
       "    </tr>\n",
       "    <tr>\n",
       "      <td>10</td>\n",
       "      <td>0.734660</td>\n",
       "      <td>0.570555</td>\n",
       "      <td>0.157252</td>\n",
       "      <td>00:00</td>\n",
       "    </tr>\n",
       "    <tr>\n",
       "      <td>11</td>\n",
       "      <td>0.709848</td>\n",
       "      <td>0.539618</td>\n",
       "      <td>0.153181</td>\n",
       "      <td>00:00</td>\n",
       "    </tr>\n",
       "    <tr>\n",
       "      <td>12</td>\n",
       "      <td>0.708828</td>\n",
       "      <td>0.583812</td>\n",
       "      <td>0.177608</td>\n",
       "      <td>00:00</td>\n",
       "    </tr>\n",
       "    <tr>\n",
       "      <td>13</td>\n",
       "      <td>0.595797</td>\n",
       "      <td>0.426097</td>\n",
       "      <td>0.122137</td>\n",
       "      <td>00:00</td>\n",
       "    </tr>\n",
       "    <tr>\n",
       "      <td>14</td>\n",
       "      <td>0.618858</td>\n",
       "      <td>0.420002</td>\n",
       "      <td>0.138931</td>\n",
       "      <td>00:00</td>\n",
       "    </tr>\n",
       "    <tr>\n",
       "      <td>15</td>\n",
       "      <td>0.563130</td>\n",
       "      <td>0.575328</td>\n",
       "      <td>0.145038</td>\n",
       "      <td>00:00</td>\n",
       "    </tr>\n",
       "    <tr>\n",
       "      <td>16</td>\n",
       "      <td>0.527270</td>\n",
       "      <td>0.404437</td>\n",
       "      <td>0.122137</td>\n",
       "      <td>00:00</td>\n",
       "    </tr>\n",
       "    <tr>\n",
       "      <td>17</td>\n",
       "      <td>0.475586</td>\n",
       "      <td>0.402345</td>\n",
       "      <td>0.130789</td>\n",
       "      <td>00:00</td>\n",
       "    </tr>\n",
       "    <tr>\n",
       "      <td>18</td>\n",
       "      <td>0.474805</td>\n",
       "      <td>0.580974</td>\n",
       "      <td>0.168448</td>\n",
       "      <td>00:00</td>\n",
       "    </tr>\n",
       "    <tr>\n",
       "      <td>19</td>\n",
       "      <td>0.426901</td>\n",
       "      <td>0.414798</td>\n",
       "      <td>0.117557</td>\n",
       "      <td>00:00</td>\n",
       "    </tr>\n",
       "    <tr>\n",
       "      <td>20</td>\n",
       "      <td>0.387615</td>\n",
       "      <td>0.360853</td>\n",
       "      <td>0.114504</td>\n",
       "      <td>00:00</td>\n",
       "    </tr>\n",
       "    <tr>\n",
       "      <td>21</td>\n",
       "      <td>0.423446</td>\n",
       "      <td>0.430730</td>\n",
       "      <td>0.131807</td>\n",
       "      <td>00:00</td>\n",
       "    </tr>\n",
       "    <tr>\n",
       "      <td>22</td>\n",
       "      <td>0.355157</td>\n",
       "      <td>0.360048</td>\n",
       "      <td>0.098219</td>\n",
       "      <td>00:00</td>\n",
       "    </tr>\n",
       "    <tr>\n",
       "      <td>23</td>\n",
       "      <td>0.296424</td>\n",
       "      <td>0.428314</td>\n",
       "      <td>0.108397</td>\n",
       "      <td>00:00</td>\n",
       "    </tr>\n",
       "    <tr>\n",
       "      <td>24</td>\n",
       "      <td>0.301941</td>\n",
       "      <td>0.360196</td>\n",
       "      <td>0.094656</td>\n",
       "      <td>00:00</td>\n",
       "    </tr>\n",
       "    <tr>\n",
       "      <td>25</td>\n",
       "      <td>0.291659</td>\n",
       "      <td>0.318522</td>\n",
       "      <td>0.081934</td>\n",
       "      <td>00:00</td>\n",
       "    </tr>\n",
       "    <tr>\n",
       "      <td>26</td>\n",
       "      <td>0.292767</td>\n",
       "      <td>0.333577</td>\n",
       "      <td>0.095165</td>\n",
       "      <td>00:00</td>\n",
       "    </tr>\n",
       "    <tr>\n",
       "      <td>27</td>\n",
       "      <td>0.267316</td>\n",
       "      <td>0.284039</td>\n",
       "      <td>0.075827</td>\n",
       "      <td>00:00</td>\n",
       "    </tr>\n",
       "    <tr>\n",
       "      <td>28</td>\n",
       "      <td>0.238655</td>\n",
       "      <td>0.311890</td>\n",
       "      <td>0.084987</td>\n",
       "      <td>00:00</td>\n",
       "    </tr>\n",
       "    <tr>\n",
       "      <td>29</td>\n",
       "      <td>0.215425</td>\n",
       "      <td>0.292408</td>\n",
       "      <td>0.066158</td>\n",
       "      <td>00:00</td>\n",
       "    </tr>\n",
       "    <tr>\n",
       "      <td>30</td>\n",
       "      <td>0.186249</td>\n",
       "      <td>0.302329</td>\n",
       "      <td>0.079898</td>\n",
       "      <td>00:00</td>\n",
       "    </tr>\n",
       "    <tr>\n",
       "      <td>31</td>\n",
       "      <td>0.198867</td>\n",
       "      <td>0.282845</td>\n",
       "      <td>0.070229</td>\n",
       "      <td>00:00</td>\n",
       "    </tr>\n",
       "    <tr>\n",
       "      <td>32</td>\n",
       "      <td>0.195454</td>\n",
       "      <td>0.296231</td>\n",
       "      <td>0.077863</td>\n",
       "      <td>00:00</td>\n",
       "    </tr>\n",
       "    <tr>\n",
       "      <td>33</td>\n",
       "      <td>0.183839</td>\n",
       "      <td>0.259979</td>\n",
       "      <td>0.065649</td>\n",
       "      <td>00:00</td>\n",
       "    </tr>\n",
       "    <tr>\n",
       "      <td>34</td>\n",
       "      <td>0.152673</td>\n",
       "      <td>0.264086</td>\n",
       "      <td>0.064122</td>\n",
       "      <td>00:00</td>\n",
       "    </tr>\n",
       "    <tr>\n",
       "      <td>35</td>\n",
       "      <td>0.131018</td>\n",
       "      <td>0.261696</td>\n",
       "      <td>0.063104</td>\n",
       "      <td>00:00</td>\n",
       "    </tr>\n",
       "    <tr>\n",
       "      <td>36</td>\n",
       "      <td>0.134812</td>\n",
       "      <td>0.272159</td>\n",
       "      <td>0.065649</td>\n",
       "      <td>00:00</td>\n",
       "    </tr>\n",
       "    <tr>\n",
       "      <td>37</td>\n",
       "      <td>0.113265</td>\n",
       "      <td>0.273353</td>\n",
       "      <td>0.072774</td>\n",
       "      <td>00:00</td>\n",
       "    </tr>\n",
       "    <tr>\n",
       "      <td>38</td>\n",
       "      <td>0.139682</td>\n",
       "      <td>0.270041</td>\n",
       "      <td>0.065649</td>\n",
       "      <td>00:00</td>\n",
       "    </tr>\n",
       "    <tr>\n",
       "      <td>39</td>\n",
       "      <td>0.132113</td>\n",
       "      <td>0.259921</td>\n",
       "      <td>0.068702</td>\n",
       "      <td>00:00</td>\n",
       "    </tr>\n",
       "  </tbody>\n",
       "</table>"
      ],
      "text/plain": [
       "<IPython.core.display.HTML object>"
      ]
     },
     "metadata": {},
     "output_type": "display_data"
    }
   ],
   "source": [
    "learn_res.fit_one_cycle(40, 5e-3)"
   ]
  },
  {
   "cell_type": "code",
   "execution_count": 35,
   "metadata": {},
   "outputs": [],
   "source": [
    "err = torch.stack([t[0] for t in learn_res.recorder.metrics]).min()  "
   ]
  },
  {
   "cell_type": "code",
   "execution_count": 36,
   "metadata": {},
   "outputs": [
    {
     "data": {
      "text/plain": [
       "tensor(0.2037)"
      ]
     },
     "execution_count": 36,
     "metadata": {},
     "output_type": "execute_result"
    }
   ],
   "source": [
    "err"
   ]
  },
  {
   "cell_type": "code",
   "execution_count": 33,
   "metadata": {},
   "outputs": [],
   "source": [
    "p, t = learn_res.get_preds()"
   ]
  },
  {
   "cell_type": "code",
   "execution_count": 34,
   "metadata": {},
   "outputs": [
    {
     "data": {
      "text/plain": [
       "tensor(0.2778)"
      ]
     },
     "execution_count": 34,
     "metadata": {},
     "output_type": "execute_result"
    }
   ],
   "source": [
    "error_rate(p,t)"
   ]
  },
  {
   "cell_type": "code",
   "execution_count": 30,
   "metadata": {},
   "outputs": [],
   "source": [
    "def get_cm(p, t): return confusion_matrix(t, p.softmax(dim=1).argmax(1))"
   ]
  },
  {
   "cell_type": "markdown",
   "metadata": {},
   "source": [
    "Confusion Matrix"
   ]
  },
  {
   "cell_type": "code",
   "execution_count": 31,
   "metadata": {},
   "outputs": [
    {
     "data": {
      "text/plain": [
       "<matplotlib.axes._subplots.AxesSubplot at 0x7fd3394d8490>"
      ]
     },
     "execution_count": 31,
     "metadata": {},
     "output_type": "execute_result"
    },
    {
     "data": {
      "image/png": "[encoded data removed]",
      "text/plain": [
       "<Figure size 432x288 with 2 Axes>"
      ]
     },
     "metadata": {
      "needs_background": "light"
     },
     "output_type": "display_data"
    }
   ],
   "source": [
    "sns.heatmap(get_cm(p,t), cmap='inferno')"
   ]
  },
  {
   "cell_type": "code",
   "execution_count": null,
   "metadata": {},
   "outputs": [],
   "source": []
  }
 ],
 "metadata": {
  "kernelspec": {
   "display_name": "Python 3",
   "language": "python",
   "name": "python3"
  },
  "language_info": {
   "codemirror_mode": {
    "name": "ipython",
    "version": 3
   },
   "file_extension": ".py",
   "mimetype": "text/x-python",
   "name": "python",
   "nbconvert_exporter": "python",
   "pygments_lexer": "ipython3",
   "version": "3.7.4"
  }
 },
 "nbformat": 4,
 "nbformat_minor": 4
}
