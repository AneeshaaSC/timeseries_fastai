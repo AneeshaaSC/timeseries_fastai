{
 "cells": [
  {
   "cell_type": "code",
   "execution_count": 1,
   "metadata": {},
   "outputs": [],
   "source": [
    "import seaborn as sns\n",
    "import pandas as pd\n",
    "from pathlib import Path\n",
    "from utils import *\n",
    "from resnet import create_resnet\n",
    "from sklearn.metrics import confusion_matrix\n",
    "\n",
    "import torch\n",
    "import torch.nn as nn\n",
    "import fastai\n",
    "from fastai.vision import *"
   ]
  },
  {
   "cell_type": "code",
   "execution_count": 2,
   "metadata": {},
   "outputs": [],
   "source": [
    "DATAPATH = Path.cwd()/'Univariate_arff'"
   ]
  },
  {
   "cell_type": "code",
   "execution_count": 3,
   "metadata": {},
   "outputs": [
    {
     "data": {
      "text/plain": [
       "[PosixPath('/home/tc256760/Documents/TimeSeries_fastai/Univariate_arff/ACSF1'),\n",
       " PosixPath('/home/tc256760/Documents/TimeSeries_fastai/Univariate_arff/Adiac'),\n",
       " PosixPath('/home/tc256760/Documents/TimeSeries_fastai/Univariate_arff/AllGestureWiimoteX'),\n",
       " PosixPath('/home/tc256760/Documents/TimeSeries_fastai/Univariate_arff/AllGestureWiimoteY'),\n",
       " PosixPath('/home/tc256760/Documents/TimeSeries_fastai/Univariate_arff/AllGestureWiimoteZ'),\n",
       " PosixPath('/home/tc256760/Documents/TimeSeries_fastai/Univariate_arff/ArrowHead'),\n",
       " PosixPath('/home/tc256760/Documents/TimeSeries_fastai/Univariate_arff/BME'),\n",
       " PosixPath('/home/tc256760/Documents/TimeSeries_fastai/Univariate_arff/Beef'),\n",
       " PosixPath('/home/tc256760/Documents/TimeSeries_fastai/Univariate_arff/BeetleFly'),\n",
       " PosixPath('/home/tc256760/Documents/TimeSeries_fastai/Univariate_arff/BirdChicken'),\n",
       " PosixPath('/home/tc256760/Documents/TimeSeries_fastai/Univariate_arff/CBF'),\n",
       " PosixPath('/home/tc256760/Documents/TimeSeries_fastai/Univariate_arff/Car'),\n",
       " PosixPath('/home/tc256760/Documents/TimeSeries_fastai/Univariate_arff/Chinatown'),\n",
       " PosixPath('/home/tc256760/Documents/TimeSeries_fastai/Univariate_arff/ChlorineConcentration'),\n",
       " PosixPath('/home/tc256760/Documents/TimeSeries_fastai/Univariate_arff/CinCECGTorso'),\n",
       " PosixPath('/home/tc256760/Documents/TimeSeries_fastai/Univariate_arff/Coffee'),\n",
       " PosixPath('/home/tc256760/Documents/TimeSeries_fastai/Univariate_arff/Computers'),\n",
       " PosixPath('/home/tc256760/Documents/TimeSeries_fastai/Univariate_arff/CricketX'),\n",
       " PosixPath('/home/tc256760/Documents/TimeSeries_fastai/Univariate_arff/CricketY'),\n",
       " PosixPath('/home/tc256760/Documents/TimeSeries_fastai/Univariate_arff/CricketZ'),\n",
       " PosixPath('/home/tc256760/Documents/TimeSeries_fastai/Univariate_arff/Crop'),\n",
       " PosixPath('/home/tc256760/Documents/TimeSeries_fastai/Univariate_arff/DataSummaryExpanded_NoMissingVals.xlsx'),\n",
       " PosixPath('/home/tc256760/Documents/TimeSeries_fastai/Univariate_arff/DataSummaryExpanded_v03.xlsx'),\n",
       " PosixPath('/home/tc256760/Documents/TimeSeries_fastai/Univariate_arff/DiatomSizeReduction'),\n",
       " PosixPath('/home/tc256760/Documents/TimeSeries_fastai/Univariate_arff/DistalPhalanxOutlineAgeGroup'),\n",
       " PosixPath('/home/tc256760/Documents/TimeSeries_fastai/Univariate_arff/DistalPhalanxOutlineCorrect'),\n",
       " PosixPath('/home/tc256760/Documents/TimeSeries_fastai/Univariate_arff/DistalPhalanxTW'),\n",
       " PosixPath('/home/tc256760/Documents/TimeSeries_fastai/Univariate_arff/DodgerLoopDay'),\n",
       " PosixPath('/home/tc256760/Documents/TimeSeries_fastai/Univariate_arff/DodgerLoopGame'),\n",
       " PosixPath('/home/tc256760/Documents/TimeSeries_fastai/Univariate_arff/DodgerLoopWeekend'),\n",
       " PosixPath('/home/tc256760/Documents/TimeSeries_fastai/Univariate_arff/ECG200'),\n",
       " PosixPath('/home/tc256760/Documents/TimeSeries_fastai/Univariate_arff/ECG5000'),\n",
       " PosixPath('/home/tc256760/Documents/TimeSeries_fastai/Univariate_arff/ECGFiveDays'),\n",
       " PosixPath('/home/tc256760/Documents/TimeSeries_fastai/Univariate_arff/EOGHorizontalSignal'),\n",
       " PosixPath('/home/tc256760/Documents/TimeSeries_fastai/Univariate_arff/EOGVerticalSignal'),\n",
       " PosixPath('/home/tc256760/Documents/TimeSeries_fastai/Univariate_arff/Earthquakes'),\n",
       " PosixPath('/home/tc256760/Documents/TimeSeries_fastai/Univariate_arff/ElectricDevices'),\n",
       " PosixPath('/home/tc256760/Documents/TimeSeries_fastai/Univariate_arff/EthanolLevel'),\n",
       " PosixPath('/home/tc256760/Documents/TimeSeries_fastai/Univariate_arff/FaceAll'),\n",
       " PosixPath('/home/tc256760/Documents/TimeSeries_fastai/Univariate_arff/FaceFour'),\n",
       " PosixPath('/home/tc256760/Documents/TimeSeries_fastai/Univariate_arff/FacesUCR'),\n",
       " PosixPath('/home/tc256760/Documents/TimeSeries_fastai/Univariate_arff/FiftyWords'),\n",
       " PosixPath('/home/tc256760/Documents/TimeSeries_fastai/Univariate_arff/Fish'),\n",
       " PosixPath('/home/tc256760/Documents/TimeSeries_fastai/Univariate_arff/FordA'),\n",
       " PosixPath('/home/tc256760/Documents/TimeSeries_fastai/Univariate_arff/FordB'),\n",
       " PosixPath('/home/tc256760/Documents/TimeSeries_fastai/Univariate_arff/FreezerRegularTrain'),\n",
       " PosixPath('/home/tc256760/Documents/TimeSeries_fastai/Univariate_arff/FreezerSmallTrain'),\n",
       " PosixPath('/home/tc256760/Documents/TimeSeries_fastai/Univariate_arff/Fungi'),\n",
       " PosixPath('/home/tc256760/Documents/TimeSeries_fastai/Univariate_arff/GestureMidAirD1'),\n",
       " PosixPath('/home/tc256760/Documents/TimeSeries_fastai/Univariate_arff/GestureMidAirD2'),\n",
       " PosixPath('/home/tc256760/Documents/TimeSeries_fastai/Univariate_arff/GestureMidAirD3'),\n",
       " PosixPath('/home/tc256760/Documents/TimeSeries_fastai/Univariate_arff/GesturePebbleZ1'),\n",
       " PosixPath('/home/tc256760/Documents/TimeSeries_fastai/Univariate_arff/GesturePebbleZ2'),\n",
       " PosixPath('/home/tc256760/Documents/TimeSeries_fastai/Univariate_arff/GunPoint'),\n",
       " PosixPath('/home/tc256760/Documents/TimeSeries_fastai/Univariate_arff/GunPointAgeSpan'),\n",
       " PosixPath('/home/tc256760/Documents/TimeSeries_fastai/Univariate_arff/GunPointMaleVersusFemale'),\n",
       " PosixPath('/home/tc256760/Documents/TimeSeries_fastai/Univariate_arff/GunPointOldVersusYoung'),\n",
       " PosixPath('/home/tc256760/Documents/TimeSeries_fastai/Univariate_arff/Ham'),\n",
       " PosixPath('/home/tc256760/Documents/TimeSeries_fastai/Univariate_arff/HandOutlines'),\n",
       " PosixPath('/home/tc256760/Documents/TimeSeries_fastai/Univariate_arff/Haptics'),\n",
       " PosixPath('/home/tc256760/Documents/TimeSeries_fastai/Univariate_arff/Herring'),\n",
       " PosixPath('/home/tc256760/Documents/TimeSeries_fastai/Univariate_arff/HouseTwenty'),\n",
       " PosixPath('/home/tc256760/Documents/TimeSeries_fastai/Univariate_arff/InlineSkate'),\n",
       " PosixPath('/home/tc256760/Documents/TimeSeries_fastai/Univariate_arff/InsectEPGRegularTrain'),\n",
       " PosixPath('/home/tc256760/Documents/TimeSeries_fastai/Univariate_arff/InsectEPGSmallTrain'),\n",
       " PosixPath('/home/tc256760/Documents/TimeSeries_fastai/Univariate_arff/InsectWingbeatSound'),\n",
       " PosixPath('/home/tc256760/Documents/TimeSeries_fastai/Univariate_arff/ItalyPowerDemand'),\n",
       " PosixPath('/home/tc256760/Documents/TimeSeries_fastai/Univariate_arff/LargeKitchenAppliances'),\n",
       " PosixPath('/home/tc256760/Documents/TimeSeries_fastai/Univariate_arff/Lightning2'),\n",
       " PosixPath('/home/tc256760/Documents/TimeSeries_fastai/Univariate_arff/Lightning7'),\n",
       " PosixPath('/home/tc256760/Documents/TimeSeries_fastai/Univariate_arff/Mallat'),\n",
       " PosixPath('/home/tc256760/Documents/TimeSeries_fastai/Univariate_arff/Meat'),\n",
       " PosixPath('/home/tc256760/Documents/TimeSeries_fastai/Univariate_arff/MedicalImages'),\n",
       " PosixPath('/home/tc256760/Documents/TimeSeries_fastai/Univariate_arff/MelbournePedestrian'),\n",
       " PosixPath('/home/tc256760/Documents/TimeSeries_fastai/Univariate_arff/MiddlePhalanxOutlineAgeGroup'),\n",
       " PosixPath('/home/tc256760/Documents/TimeSeries_fastai/Univariate_arff/MiddlePhalanxOutlineCorrect'),\n",
       " PosixPath('/home/tc256760/Documents/TimeSeries_fastai/Univariate_arff/MiddlePhalanxTW'),\n",
       " PosixPath('/home/tc256760/Documents/TimeSeries_fastai/Univariate_arff/MixedShapesRegularTrain'),\n",
       " PosixPath('/home/tc256760/Documents/TimeSeries_fastai/Univariate_arff/MixedShapesSmallTrain'),\n",
       " PosixPath('/home/tc256760/Documents/TimeSeries_fastai/Univariate_arff/MoteStrain'),\n",
       " PosixPath('/home/tc256760/Documents/TimeSeries_fastai/Univariate_arff/NonInvasiveFetalECGThorax1'),\n",
       " PosixPath('/home/tc256760/Documents/TimeSeries_fastai/Univariate_arff/NonInvasiveFetalECGThorax2'),\n",
       " PosixPath('/home/tc256760/Documents/TimeSeries_fastai/Univariate_arff/OSULeaf'),\n",
       " PosixPath('/home/tc256760/Documents/TimeSeries_fastai/Univariate_arff/OliveOil'),\n",
       " PosixPath('/home/tc256760/Documents/TimeSeries_fastai/Univariate_arff/PLAID'),\n",
       " PosixPath('/home/tc256760/Documents/TimeSeries_fastai/Univariate_arff/PhalangesOutlinesCorrect'),\n",
       " PosixPath('/home/tc256760/Documents/TimeSeries_fastai/Univariate_arff/Phoneme'),\n",
       " PosixPath('/home/tc256760/Documents/TimeSeries_fastai/Univariate_arff/PickupGestureWiimoteZ'),\n",
       " PosixPath('/home/tc256760/Documents/TimeSeries_fastai/Univariate_arff/Pictures'),\n",
       " PosixPath('/home/tc256760/Documents/TimeSeries_fastai/Univariate_arff/PigAirwayPressure'),\n",
       " PosixPath('/home/tc256760/Documents/TimeSeries_fastai/Univariate_arff/PigArtPressure'),\n",
       " PosixPath('/home/tc256760/Documents/TimeSeries_fastai/Univariate_arff/PigCVP'),\n",
       " PosixPath('/home/tc256760/Documents/TimeSeries_fastai/Univariate_arff/Plane'),\n",
       " PosixPath('/home/tc256760/Documents/TimeSeries_fastai/Univariate_arff/PowerCons'),\n",
       " PosixPath('/home/tc256760/Documents/TimeSeries_fastai/Univariate_arff/ProximalPhalanxOutlineAgeGroup'),\n",
       " PosixPath('/home/tc256760/Documents/TimeSeries_fastai/Univariate_arff/ProximalPhalanxOutlineCorrect'),\n",
       " PosixPath('/home/tc256760/Documents/TimeSeries_fastai/Univariate_arff/ProximalPhalanxTW'),\n",
       " PosixPath('/home/tc256760/Documents/TimeSeries_fastai/Univariate_arff/RefrigerationDevices'),\n",
       " PosixPath('/home/tc256760/Documents/TimeSeries_fastai/Univariate_arff/Rock'),\n",
       " PosixPath('/home/tc256760/Documents/TimeSeries_fastai/Univariate_arff/ScreenType'),\n",
       " PosixPath('/home/tc256760/Documents/TimeSeries_fastai/Univariate_arff/SemgHandGenderCh2'),\n",
       " PosixPath('/home/tc256760/Documents/TimeSeries_fastai/Univariate_arff/SemgHandMovementCh2'),\n",
       " PosixPath('/home/tc256760/Documents/TimeSeries_fastai/Univariate_arff/SemgHandSubjectCh2'),\n",
       " PosixPath('/home/tc256760/Documents/TimeSeries_fastai/Univariate_arff/ShakeGestureWiimoteZ'),\n",
       " PosixPath('/home/tc256760/Documents/TimeSeries_fastai/Univariate_arff/ShapeletSim'),\n",
       " PosixPath('/home/tc256760/Documents/TimeSeries_fastai/Univariate_arff/ShapesAll'),\n",
       " PosixPath('/home/tc256760/Documents/TimeSeries_fastai/Univariate_arff/SmallKitchenAppliances'),\n",
       " PosixPath('/home/tc256760/Documents/TimeSeries_fastai/Univariate_arff/SmoothSubspace'),\n",
       " PosixPath('/home/tc256760/Documents/TimeSeries_fastai/Univariate_arff/SonyAIBORobotSurface1'),\n",
       " PosixPath('/home/tc256760/Documents/TimeSeries_fastai/Univariate_arff/SonyAIBORobotSurface2'),\n",
       " PosixPath('/home/tc256760/Documents/TimeSeries_fastai/Univariate_arff/StarLightCurves'),\n",
       " PosixPath('/home/tc256760/Documents/TimeSeries_fastai/Univariate_arff/Strawberry'),\n",
       " PosixPath('/home/tc256760/Documents/TimeSeries_fastai/Univariate_arff/SummaryData.csv'),\n",
       " PosixPath('/home/tc256760/Documents/TimeSeries_fastai/Univariate_arff/SwedishLeaf'),\n",
       " PosixPath('/home/tc256760/Documents/TimeSeries_fastai/Univariate_arff/Symbols'),\n",
       " PosixPath('/home/tc256760/Documents/TimeSeries_fastai/Univariate_arff/SyntheticControl'),\n",
       " PosixPath('/home/tc256760/Documents/TimeSeries_fastai/Univariate_arff/ToeSegmentation1'),\n",
       " PosixPath('/home/tc256760/Documents/TimeSeries_fastai/Univariate_arff/ToeSegmentation2'),\n",
       " PosixPath('/home/tc256760/Documents/TimeSeries_fastai/Univariate_arff/Trace'),\n",
       " PosixPath('/home/tc256760/Documents/TimeSeries_fastai/Univariate_arff/TwoClassProblems.csv'),\n",
       " PosixPath('/home/tc256760/Documents/TimeSeries_fastai/Univariate_arff/TwoLeadECG'),\n",
       " PosixPath('/home/tc256760/Documents/TimeSeries_fastai/Univariate_arff/TwoPatterns'),\n",
       " PosixPath('/home/tc256760/Documents/TimeSeries_fastai/Univariate_arff/UMD'),\n",
       " PosixPath('/home/tc256760/Documents/TimeSeries_fastai/Univariate_arff/UWaveGestureLibraryAll'),\n",
       " PosixPath('/home/tc256760/Documents/TimeSeries_fastai/Univariate_arff/UWaveGestureLibraryX'),\n",
       " PosixPath('/home/tc256760/Documents/TimeSeries_fastai/Univariate_arff/UWaveGestureLibraryY'),\n",
       " PosixPath('/home/tc256760/Documents/TimeSeries_fastai/Univariate_arff/UWaveGestureLibraryZ'),\n",
       " PosixPath('/home/tc256760/Documents/TimeSeries_fastai/Univariate_arff/Wafer'),\n",
       " PosixPath('/home/tc256760/Documents/TimeSeries_fastai/Univariate_arff/Wine'),\n",
       " PosixPath('/home/tc256760/Documents/TimeSeries_fastai/Univariate_arff/WordSynonyms'),\n",
       " PosixPath('/home/tc256760/Documents/TimeSeries_fastai/Univariate_arff/Worms'),\n",
       " PosixPath('/home/tc256760/Documents/TimeSeries_fastai/Univariate_arff/WormsTwoClass'),\n",
       " PosixPath('/home/tc256760/Documents/TimeSeries_fastai/Univariate_arff/Yoga'),\n",
       " PosixPath('/home/tc256760/Documents/TimeSeries_fastai/Univariate_arff/dataset.csv'),\n",
       " PosixPath('/home/tc256760/Documents/TimeSeries_fastai/Univariate_arff/newProblemsUpload.csv')]"
      ]
     },
     "execution_count": 3,
     "metadata": {},
     "output_type": "execute_result"
    }
   ],
   "source": [
    "sorted(list(DATAPATH.iterdir()))"
   ]
  },
  {
   "cell_type": "code",
   "execution_count": 4,
   "metadata": {
    "scrolled": true
   },
   "outputs": [],
   "source": [
    "task = 'Adiac'\n",
    "df_train, df_test = load_df(DATAPATH, task)"
   ]
  },
  {
   "cell_type": "code",
   "execution_count": 5,
   "metadata": {},
   "outputs": [
    {
     "data": {
      "text/plain": [
       "37"
      ]
     },
     "execution_count": 5,
     "metadata": {},
     "output_type": "execute_result"
    }
   ],
   "source": [
    "num_classes = df_train.target.nunique(); num_classes"
   ]
  },
  {
   "cell_type": "code",
   "execution_count": 6,
   "metadata": {},
   "outputs": [],
   "source": [
    "def process_dfs(df_train, df_test):\n",
    "    x_train, y_train = df_train.values[:,:-1].astype('float'), df_train.values[:,-1].astype('int')\n",
    "    x_test, y_test = df_test.values[:,:-1].astype('float'), df_test.values[:,-1].astype('int')\n",
    "\n",
    "    x_train_mean = x_train.mean()\n",
    "    x_train_std = x_train.std()\n",
    "\n",
    "    x_train = (x_train - x_train_mean)/(x_train_std)\n",
    "    x_test = (x_test - x_train_mean)/(x_train_std)\n",
    "\n",
    "    y_train = (y_train - y_train.min())/(y_train.max()-y_train.min())*(num_classes-1)\n",
    "    y_test = (y_test - y_test.min())/(y_test.max()-y_test.min())*(num_classes-1)\n",
    "    return x_train, y_train, x_test, y_test"
   ]
  },
  {
   "cell_type": "markdown",
   "metadata": {},
   "source": [
    "# DL"
   ]
  },
  {
   "cell_type": "code",
   "execution_count": 7,
   "metadata": {},
   "outputs": [],
   "source": [
    "def to_TDS(x, y):\n",
    "    return TensorDataset(torch.Tensor(x).unsqueeze(dim=1),  torch.Tensor(y).long())\n",
    "\n",
    "def create_databunch(tr_ds, val_ds, bs=64):\n",
    "    train_dl = DataLoader(tr_ds, batch_size=bs, shuffle=True)\n",
    "    valid_dl = DataLoader(val_ds, batch_size=bs, shuffle=True)\n",
    "    return DataBunch(train_dl, valid_dl)"
   ]
  },
  {
   "cell_type": "code",
   "execution_count": 8,
   "metadata": {},
   "outputs": [],
   "source": [
    "x_train, y_train, x_test, y_test = process_dfs(df_train, df_test)"
   ]
  },
  {
   "cell_type": "code",
   "execution_count": 10,
   "metadata": {},
   "outputs": [
    {
     "data": {
      "text/plain": [
       "((390, 176), (391, 176))"
      ]
     },
     "execution_count": 10,
     "metadata": {},
     "output_type": "execute_result"
    }
   ],
   "source": [
    "x_train.shape, x_test.shape"
   ]
  },
  {
   "cell_type": "code",
   "execution_count": 11,
   "metadata": {},
   "outputs": [],
   "source": [
    "tr_ds, val_ds = to_TDS(x_train, y_train), to_TDS(x_test, y_test)"
   ]
  },
  {
   "cell_type": "code",
   "execution_count": 12,
   "metadata": {},
   "outputs": [],
   "source": [
    "db = create_databunch(tr_ds, val_ds, 64)"
   ]
  },
  {
   "cell_type": "markdown",
   "metadata": {},
   "source": [
    "Testing dims at input/output"
   ]
  },
  {
   "cell_type": "code",
   "execution_count": 13,
   "metadata": {},
   "outputs": [],
   "source": [
    "tx, ty = next(iter(db.train_dl))"
   ]
  },
  {
   "cell_type": "code",
   "execution_count": 14,
   "metadata": {},
   "outputs": [
    {
     "data": {
      "text/plain": [
       "(torch.Size([64, 1, 176]), torch.Size([64]))"
      ]
     },
     "execution_count": 14,
     "metadata": {},
     "output_type": "execute_result"
    }
   ],
   "source": [
    "tx.shape, ty.shape"
   ]
  },
  {
   "cell_type": "markdown",
   "metadata": {},
   "source": [
    "## Resnet 1D"
   ]
  },
  {
   "cell_type": "code",
   "execution_count": 15,
   "metadata": {
    "scrolled": true
   },
   "outputs": [
    {
     "data": {
      "text/plain": [
       "Sequential(\n",
       "  (0): Sequential(\n",
       "    (0): Conv1d(1, 64, kernel_size=(9,), stride=(1,), padding=(4,), bias=False)\n",
       "    (1): ReLU(inplace=True)\n",
       "    (2): BatchNorm1d(64, eps=1e-05, momentum=0.1, affine=True, track_running_stats=True)\n",
       "  )\n",
       "  (1): SequentialEx(\n",
       "    (layers): ModuleList(\n",
       "      (0): Sequential(\n",
       "        (0): Conv1d(64, 64, kernel_size=(5,), stride=(1,), padding=(2,), bias=False)\n",
       "        (1): ReLU(inplace=True)\n",
       "        (2): BatchNorm1d(64, eps=1e-05, momentum=0.1, affine=True, track_running_stats=True)\n",
       "      )\n",
       "      (1): Sequential(\n",
       "        (0): Conv1d(64, 64, kernel_size=(3,), stride=(1,), padding=(1,), bias=False)\n",
       "        (1): ReLU(inplace=True)\n",
       "        (2): BatchNorm1d(64, eps=1e-05, momentum=0.1, affine=True, track_running_stats=True)\n",
       "      )\n",
       "      (2): MergeLayer()\n",
       "    )\n",
       "  )\n",
       "  (2): Sequential(\n",
       "    (0): Conv1d(64, 128, kernel_size=(9,), stride=(1,), padding=(4,), bias=False)\n",
       "    (1): ReLU(inplace=True)\n",
       "    (2): BatchNorm1d(128, eps=1e-05, momentum=0.1, affine=True, track_running_stats=True)\n",
       "  )\n",
       "  (3): SequentialEx(\n",
       "    (layers): ModuleList(\n",
       "      (0): Sequential(\n",
       "        (0): Conv1d(128, 128, kernel_size=(5,), stride=(1,), padding=(2,), bias=False)\n",
       "        (1): ReLU(inplace=True)\n",
       "        (2): BatchNorm1d(128, eps=1e-05, momentum=0.1, affine=True, track_running_stats=True)\n",
       "      )\n",
       "      (1): Sequential(\n",
       "        (0): Conv1d(128, 128, kernel_size=(3,), stride=(1,), padding=(1,), bias=False)\n",
       "        (1): ReLU(inplace=True)\n",
       "        (2): BatchNorm1d(128, eps=1e-05, momentum=0.1, affine=True, track_running_stats=True)\n",
       "      )\n",
       "      (2): MergeLayer()\n",
       "    )\n",
       "  )\n",
       "  (4): Sequential(\n",
       "    (0): Conv1d(128, 128, kernel_size=(9,), stride=(1,), padding=(4,), bias=False)\n",
       "    (1): ReLU(inplace=True)\n",
       "    (2): BatchNorm1d(128, eps=1e-05, momentum=0.1, affine=True, track_running_stats=True)\n",
       "  )\n",
       "  (5): SequentialEx(\n",
       "    (layers): ModuleList(\n",
       "      (0): Sequential(\n",
       "        (0): Conv1d(128, 128, kernel_size=(5,), stride=(1,), padding=(2,), bias=False)\n",
       "        (1): ReLU(inplace=True)\n",
       "        (2): BatchNorm1d(128, eps=1e-05, momentum=0.1, affine=True, track_running_stats=True)\n",
       "      )\n",
       "      (1): Sequential(\n",
       "        (0): Conv1d(128, 128, kernel_size=(3,), stride=(1,), padding=(1,), bias=False)\n",
       "        (1): ReLU(inplace=True)\n",
       "        (2): BatchNorm1d(128, eps=1e-05, momentum=0.1, affine=True, track_running_stats=True)\n",
       "      )\n",
       "      (2): MergeLayer()\n",
       "    )\n",
       "  )\n",
       "  (6): AdaptiveConcatPool1d(\n",
       "    (ap): AdaptiveAvgPool1d(output_size=1)\n",
       "    (mp): AdaptiveMaxPool1d(output_size=1)\n",
       "  )\n",
       "  (7): Flatten()\n",
       "  (8): BatchNorm1d(256, eps=1e-05, momentum=0.1, affine=True, track_running_stats=True)\n",
       "  (9): Dropout(p=0.1, inplace=False)\n",
       "  (10): Linear(in_features=256, out_features=3, bias=True)\n",
       ")"
      ]
     },
     "execution_count": 15,
     "metadata": {},
     "output_type": "execute_result"
    }
   ],
   "source": [
    "model = create_resnet(1, num_classes); model"
   ]
  },
  {
   "cell_type": "code",
   "execution_count": 16,
   "metadata": {},
   "outputs": [],
   "source": [
    "learn_res = fastai.basic_train.Learner(db, \n",
    "                                       model, \n",
    "                                       loss_func = CrossEntropyFlat(), \n",
    "                                       metrics=[error_rate],\n",
    "                                       wd=1e-2)"
   ]
  },
  {
   "cell_type": "code",
   "execution_count": 17,
   "metadata": {},
   "outputs": [
    {
     "data": {
      "text/html": [],
      "text/plain": [
       "<IPython.core.display.HTML object>"
      ]
     },
     "metadata": {},
     "output_type": "display_data"
    },
    {
     "name": "stdout",
     "output_type": "stream",
     "text": [
      "LR Finder is complete, type {learner_name}.recorder.plot() to see the graph.\n"
     ]
    },
    {
     "data": {
      "image/png": "[encoded data removed]",
      "text/plain": [
       "<Figure size 432x288 with 1 Axes>"
      ]
     },
     "metadata": {
      "needs_background": "light"
     },
     "output_type": "display_data"
    }
   ],
   "source": [
    "learn_res.lr_find(); learn_res.recorder.plot()"
   ]
  },
  {
   "cell_type": "code",
   "execution_count": 18,
   "metadata": {
    "scrolled": true
   },
   "outputs": [
    {
     "data": {
      "text/html": [
       "<table border=\"1\" class=\"dataframe\">\n",
       "  <thead>\n",
       "    <tr style=\"text-align: left;\">\n",
       "      <th>epoch</th>\n",
       "      <th>train_loss</th>\n",
       "      <th>valid_loss</th>\n",
       "      <th>error_rate</th>\n",
       "      <th>time</th>\n",
       "    </tr>\n",
       "  </thead>\n",
       "  <tbody>\n",
       "    <tr>\n",
       "      <td>0</td>\n",
       "      <td>0.512832</td>\n",
       "      <td>0.894321</td>\n",
       "      <td>0.565444</td>\n",
       "      <td>00:01</td>\n",
       "    </tr>\n",
       "    <tr>\n",
       "      <td>1</td>\n",
       "      <td>0.330662</td>\n",
       "      <td>0.459436</td>\n",
       "      <td>0.150194</td>\n",
       "      <td>00:01</td>\n",
       "    </tr>\n",
       "    <tr>\n",
       "      <td>2</td>\n",
       "      <td>0.266749</td>\n",
       "      <td>0.305511</td>\n",
       "      <td>0.145580</td>\n",
       "      <td>00:01</td>\n",
       "    </tr>\n",
       "    <tr>\n",
       "      <td>3</td>\n",
       "      <td>0.226188</td>\n",
       "      <td>0.275346</td>\n",
       "      <td>0.116076</td>\n",
       "      <td>00:01</td>\n",
       "    </tr>\n",
       "    <tr>\n",
       "      <td>4</td>\n",
       "      <td>0.192768</td>\n",
       "      <td>0.122676</td>\n",
       "      <td>0.025498</td>\n",
       "      <td>00:01</td>\n",
       "    </tr>\n",
       "    <tr>\n",
       "      <td>5</td>\n",
       "      <td>0.171055</td>\n",
       "      <td>0.135361</td>\n",
       "      <td>0.040675</td>\n",
       "      <td>00:01</td>\n",
       "    </tr>\n",
       "    <tr>\n",
       "      <td>6</td>\n",
       "      <td>0.146778</td>\n",
       "      <td>0.106762</td>\n",
       "      <td>0.029019</td>\n",
       "      <td>00:01</td>\n",
       "    </tr>\n",
       "    <tr>\n",
       "      <td>7</td>\n",
       "      <td>0.124685</td>\n",
       "      <td>0.102081</td>\n",
       "      <td>0.030840</td>\n",
       "      <td>00:01</td>\n",
       "    </tr>\n",
       "    <tr>\n",
       "      <td>8</td>\n",
       "      <td>0.110319</td>\n",
       "      <td>0.099244</td>\n",
       "      <td>0.028169</td>\n",
       "      <td>00:01</td>\n",
       "    </tr>\n",
       "    <tr>\n",
       "      <td>9</td>\n",
       "      <td>0.097802</td>\n",
       "      <td>0.094529</td>\n",
       "      <td>0.025983</td>\n",
       "      <td>00:01</td>\n",
       "    </tr>\n",
       "  </tbody>\n",
       "</table>"
      ],
      "text/plain": [
       "<IPython.core.display.HTML object>"
      ]
     },
     "metadata": {},
     "output_type": "display_data"
    }
   ],
   "source": [
    "learn_res.fit_one_cycle(10, 1e-3)"
   ]
  },
  {
   "cell_type": "code",
   "execution_count": 19,
   "metadata": {},
   "outputs": [],
   "source": [
    "p, t = learn_res.get_preds()"
   ]
  },
  {
   "cell_type": "code",
   "execution_count": 20,
   "metadata": {},
   "outputs": [
    {
     "data": {
      "text/plain": [
       "tensor(0.0260)"
      ]
     },
     "execution_count": 20,
     "metadata": {},
     "output_type": "execute_result"
    }
   ],
   "source": [
    "error_rate(p,t)"
   ]
  },
  {
   "cell_type": "code",
   "execution_count": 22,
   "metadata": {},
   "outputs": [],
   "source": [
    "def get_cm(p, t): return confusion_matrix(t, p.softmax(dim=1).argmax(1))"
   ]
  },
  {
   "cell_type": "markdown",
   "metadata": {},
   "source": [
    "Confusion Matrix"
   ]
  },
  {
   "cell_type": "code",
   "execution_count": 23,
   "metadata": {},
   "outputs": [
    {
     "data": {
      "text/plain": [
       "<matplotlib.axes._subplots.AxesSubplot at 0x7f685a87d710>"
      ]
     },
     "execution_count": 23,
     "metadata": {},
     "output_type": "execute_result"
    },
    {
     "data": {
      "image/png": "[encoded data removed]",
      "text/plain": [
       "<Figure size 432x288 with 2 Axes>"
      ]
     },
     "metadata": {
      "needs_background": "light"
     },
     "output_type": "display_data"
    }
   ],
   "source": [
    "sns.heatmap(get_cm(p,t), cmap='inferno')"
   ]
  },
  {
   "cell_type": "code",
   "execution_count": null,
   "metadata": {},
   "outputs": [],
   "source": []
  }
 ],
 "metadata": {
  "kernelspec": {
   "display_name": "Python 3",
   "language": "python",
   "name": "python3"
  },
  "language_info": {
   "codemirror_mode": {
    "name": "ipython",
    "version": 3
   },
   "file_extension": ".py",
   "mimetype": "text/x-python",
   "name": "python",
   "nbconvert_exporter": "python",
   "pygments_lexer": "ipython3",
   "version": "3.7.4"
  }
 },
 "nbformat": 4,
 "nbformat_minor": 4
}
