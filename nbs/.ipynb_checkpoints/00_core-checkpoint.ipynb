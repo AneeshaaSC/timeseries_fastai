{
 "cells": [
  {
   "cell_type": "code",
   "execution_count": null,
   "metadata": {},
   "outputs": [],
   "source": [
    "#default_exp core\n",
    "#default_cls_lvl 3"
   ]
  },
  {
   "cell_type": "code",
   "execution_count": null,
   "metadata": {},
   "outputs": [],
   "source": [
    "#export\n",
    "from fastai2.torch_basics import *\n",
    "from fastai2.data.all import *"
   ]
  },
  {
   "cell_type": "code",
   "execution_count": null,
   "metadata": {},
   "outputs": [],
   "source": [
    "#export\n",
    "import pandas as pd\n",
    "from fastcore.all import *\n",
    "from scipy.io import arff"
   ]
  },
  {
   "cell_type": "markdown",
   "metadata": {},
   "source": [
    "# Core\n",
    "\n",
    "> Basic timeseries opening/processing funcs."
   ]
  },
  {
   "cell_type": "code",
   "execution_count": null,
   "metadata": {},
   "outputs": [],
   "source": [
    "#hide\n",
    "from nbdev.showdoc import *"
   ]
  },
  {
   "cell_type": "code",
   "execution_count": null,
   "metadata": {},
   "outputs": [],
   "source": [
    "#export\n",
    "def no_emp_dim(x):\n",
    "    if len(x.shape)==1 :\n",
    "        x = x[None,:]\n",
    "    return np.vstack(x)"
   ]
  },
  {
   "cell_type": "code",
   "execution_count": null,
   "metadata": {},
   "outputs": [],
   "source": [
    "#export\n",
    "def maybe_unsqueeze(x):\n",
    "    return tensor(x).unsqueeze(0) if len(x.shape)==1 else tensor(x)"
   ]
  },
  {
   "cell_type": "code",
   "execution_count": null,
   "metadata": {},
   "outputs": [],
   "source": [
    "#export\n",
    "def show_array(array, ax=None, figsize=None, title=None, ctx=None, tx=None, **kwargs):\n",
    "    \"Show an array on `ax`.\"\n",
    "    # Handle pytorch axis order\n",
    "    if hasattrs(array, ('data','cpu','permute')):\n",
    "        array = array.data.cpu()\n",
    "    elif not isinstance(array,np.ndarray):\n",
    "        array=array(array)\n",
    "    arrays = no_emp_dim(array)\n",
    "    ax = ifnone(ax,ctx)\n",
    "    if figsize is None: figsize = (5,5)\n",
    "    if ax is None: _,ax = plt.subplots(figsize=figsize)\n",
    "    tx = ifnone(tx,np.arange(arrays[0].shape[0]))\n",
    "    label = kwargs.pop('label', 'x')\n",
    "    for a, c in zip(arrays, ['b', 'c', 'm', 'y', 'k',]):\n",
    "        ax.plot(tx, a, '-*'+c,label=label, **kwargs)\n",
    "    if title is not None: ax.set_title(title)\n",
    "    ax.legend()\n",
    "    return ax"
   ]
  },
  {
   "cell_type": "code",
   "execution_count": null,
   "metadata": {},
   "outputs": [
    {
     "data": {
      "text/plain": [
       "<matplotlib.axes._subplots.AxesSubplot at 0x7f993ae1a390>"
      ]
     },
     "execution_count": null,
     "metadata": {},
     "output_type": "execute_result"
    },
    {
     "data": {
      "image/png": "[encoded data removed]",
      "text/plain": [
       "<Figure size 360x360 with 1 Axes>"
      ]
     },
     "metadata": {
      "needs_background": "light"
     },
     "output_type": "display_data"
    }
   ],
   "source": [
    "show_array(np.arange(10))"
   ]
  },
  {
   "cell_type": "code",
   "execution_count": null,
   "metadata": {},
   "outputs": [],
   "source": [
    "# export\n",
    "class TSeries(TensorBase):\n",
    "    \"Basic Timeseries class\"\n",
    "#     def __init__(self, x):\n",
    "#         super().__init__(maybe_unsqueeze(x))\n",
    "        \n",
    "    @classmethod\n",
    "    def create(cls, x): \n",
    "        return cls(maybe_unsqueeze(x))\n",
    "    \n",
    "    @property\n",
    "    def channels(self): return self.shape[0]\n",
    "    \n",
    "    @property\n",
    "    def len(self): return self.shape[-1]\n",
    "    \n",
    "    def __repr__(self):\n",
    "        return f'TSeries(ch={self.channels}, len={self.len})'\n",
    "    \n",
    "    def show(self, ctx=None, **kwargs):\n",
    "        return show_array(self, ctx=ctx, **kwargs)"
   ]
  },
  {
   "cell_type": "code",
   "execution_count": null,
   "metadata": {},
   "outputs": [],
   "source": [
    "a = np.arange(10)+np.random.randn(10)"
   ]
  },
  {
   "cell_type": "code",
   "execution_count": null,
   "metadata": {},
   "outputs": [],
   "source": [
    "ts2 = TSeries(maybe_unsqueeze(a))"
   ]
  },
  {
   "cell_type": "code",
   "execution_count": null,
   "metadata": {},
   "outputs": [
    {
     "data": {
      "text/plain": [
       "tensor([[-1.1788,  0.6934,  3.4595,  3.8474,  4.6957,  5.1585,  5.1044,  8.1481,\n",
       "          9.2512,  7.4253]])"
      ]
     },
     "execution_count": null,
     "metadata": {},
     "output_type": "execute_result"
    }
   ],
   "source": [
    "ts2.data"
   ]
  },
  {
   "cell_type": "code",
   "execution_count": null,
   "metadata": {},
   "outputs": [
    {
     "data": {
      "text/plain": [
       "TSeries(ch=1, len=10)"
      ]
     },
     "execution_count": null,
     "metadata": {},
     "output_type": "execute_result"
    }
   ],
   "source": [
    "ts2"
   ]
  },
  {
   "cell_type": "code",
   "execution_count": null,
   "metadata": {},
   "outputs": [
    {
     "data": {
      "text/plain": [
       "<matplotlib.axes._subplots.AxesSubplot at 0x7f9939cc6690>"
      ]
     },
     "execution_count": null,
     "metadata": {},
     "output_type": "execute_result"
    },
    {
     "data": {
      "image/png": "[encoded data removed]",
      "text/plain": [
       "<Figure size 360x360 with 1 Axes>"
      ]
     },
     "metadata": {
      "needs_background": "light"
     },
     "output_type": "display_data"
    }
   ],
   "source": [
    "ts2.show()"
   ]
  },
  {
   "cell_type": "markdown",
   "metadata": {},
   "source": [
    "## UCR\n",
    "> The 2018 UCR 128-timeseries dataset"
   ]
  },
  {
   "cell_type": "code",
   "execution_count": null,
   "metadata": {},
   "outputs": [],
   "source": [
    "#export\n",
    "URLs.UCR = 'http://www.timeseriesclassification.com/Downloads/Archives/Univariate2018_arff.zip'"
   ]
  },
  {
   "cell_type": "code",
   "execution_count": null,
   "metadata": {},
   "outputs": [
    {
     "data": {
      "text/plain": [
       "'http://www.timeseriesclassification.com/Downloads/Archives/Univariate2018_arff.zip'"
      ]
     },
     "execution_count": null,
     "metadata": {},
     "output_type": "execute_result"
    }
   ],
   "source": [
    "URLs.UCR"
   ]
  },
  {
   "cell_type": "code",
   "execution_count": null,
   "metadata": {},
   "outputs": [],
   "source": [
    "#export\n",
    "def get_ucr():\n",
    "    \"zipped file has different name as .zip\"\n",
    "    ucr_path_2018 = untar_data(URLs.UCR)\n",
    "    return ucr_path_2018.parent/ucr_path_2018.name.replace('2018', '')"
   ]
  },
  {
   "cell_type": "code",
   "execution_count": null,
   "metadata": {},
   "outputs": [],
   "source": [
    "ucr_path = get_ucr()"
   ]
  },
  {
   "cell_type": "code",
   "execution_count": null,
   "metadata": {},
   "outputs": [
    {
     "data": {
      "text/plain": [
       "(#135) [Path('/home/tc256760/.fastai/data/Univariate_arff/PowerCons'),Path('/home/tc256760/.fastai/data/Univariate_arff/PhalangesOutlinesCorrect'),Path('/home/tc256760/.fastai/data/Univariate_arff/Herring'),Path('/home/tc256760/.fastai/data/Univariate_arff/ElectricDevices'),Path('/home/tc256760/.fastai/data/Univariate_arff/CBF'),Path('/home/tc256760/.fastai/data/Univariate_arff/Plane'),Path('/home/tc256760/.fastai/data/Univariate_arff/DataSummaryExpanded_v03.xlsx'),Path('/home/tc256760/.fastai/data/Univariate_arff/MiddlePhalanxTW'),Path('/home/tc256760/.fastai/data/Univariate_arff/ECG5000'),Path('/home/tc256760/.fastai/data/Univariate_arff/CricketZ')...]"
      ]
     },
     "execution_count": null,
     "metadata": {},
     "output_type": "execute_result"
    }
   ],
   "source": [
    "ucr_path.ls()"
   ]
  },
  {
   "cell_type": "code",
   "execution_count": null,
   "metadata": {},
   "outputs": [],
   "source": [
    "adiac_path = ucr_path/'Adiac'"
   ]
  },
  {
   "cell_type": "code",
   "execution_count": null,
   "metadata": {},
   "outputs": [
    {
     "data": {
      "text/plain": [
       "(#5) [Path('/home/tc256760/.fastai/data/Univariate_arff/Adiac/Adiac.txt'),Path('/home/tc256760/.fastai/data/Univariate_arff/Adiac/Adiac_TEST.arff'),Path('/home/tc256760/.fastai/data/Univariate_arff/Adiac/Adiac_TEST.txt'),Path('/home/tc256760/.fastai/data/Univariate_arff/Adiac/Adiac_TRAIN.txt'),Path('/home/tc256760/.fastai/data/Univariate_arff/Adiac/Adiac_TRAIN.arff')]"
      ]
     },
     "execution_count": null,
     "metadata": {},
     "output_type": "execute_result"
    }
   ],
   "source": [
    "adiac_path.ls()"
   ]
  },
  {
   "cell_type": "code",
   "execution_count": null,
   "metadata": {},
   "outputs": [],
   "source": [
    "# \"this functions are based on https://github.com/mb4310/Time-Series\"\n",
    "#export\n",
    "def load_df_ucr(path, task):\n",
    "    \"Loads arff files from UCR\"\n",
    "    try:\n",
    "        print(f'Loading files from: {path}/{task}')\n",
    "        dfs = []\n",
    "        for file in ['TRAIN', 'TEST']:\n",
    "            filename = f'{task}/{task}_{file}.arff'\n",
    "            data = arff.loadarff(str(path/filename))\n",
    "            dfs.append(pd.DataFrame(data[0]))\n",
    "        return dfs\n",
    "    except:\n",
    "        print('Error loading files')"
   ]
  },
  {
   "cell_type": "code",
   "execution_count": null,
   "metadata": {},
   "outputs": [
    {
     "name": "stdout",
     "output_type": "stream",
     "text": [
      "Loading files from: /home/tc256760/.fastai/data/Univariate_arff/Adiac\n"
     ]
    }
   ],
   "source": [
    "df_train, df_test = load_df_ucr(ucr_path, 'Adiac')"
   ]
  },
  {
   "cell_type": "code",
   "execution_count": null,
   "metadata": {},
   "outputs": [
    {
     "data": {
      "text/html": [
       "<div>\n",
       "<style scoped>\n",
       "    .dataframe tbody tr th:only-of-type {\n",
       "        vertical-align: middle;\n",
       "    }\n",
       "\n",
       "    .dataframe tbody tr th {\n",
       "        vertical-align: top;\n",
       "    }\n",
       "\n",
       "    .dataframe thead th {\n",
       "        text-align: right;\n",
       "    }\n",
       "</style>\n",
       "<table border=\"1\" class=\"dataframe\">\n",
       "  <thead>\n",
       "    <tr style=\"text-align: right;\">\n",
       "      <th></th>\n",
       "      <th>att1</th>\n",
       "      <th>att2</th>\n",
       "      <th>att3</th>\n",
       "      <th>att4</th>\n",
       "      <th>att5</th>\n",
       "      <th>att6</th>\n",
       "      <th>att7</th>\n",
       "      <th>att8</th>\n",
       "      <th>att9</th>\n",
       "      <th>att10</th>\n",
       "      <th>...</th>\n",
       "      <th>att168</th>\n",
       "      <th>att169</th>\n",
       "      <th>att170</th>\n",
       "      <th>att171</th>\n",
       "      <th>att172</th>\n",
       "      <th>att173</th>\n",
       "      <th>att174</th>\n",
       "      <th>att175</th>\n",
       "      <th>att176</th>\n",
       "      <th>target</th>\n",
       "    </tr>\n",
       "  </thead>\n",
       "  <tbody>\n",
       "    <tr>\n",
       "      <th>0</th>\n",
       "      <td>1.598007</td>\n",
       "      <td>1.599439</td>\n",
       "      <td>1.570529</td>\n",
       "      <td>1.550474</td>\n",
       "      <td>1.507371</td>\n",
       "      <td>1.434341</td>\n",
       "      <td>1.368986</td>\n",
       "      <td>1.305294</td>\n",
       "      <td>1.210305</td>\n",
       "      <td>1.116653</td>\n",
       "      <td>...</td>\n",
       "      <td>1.120906</td>\n",
       "      <td>1.217175</td>\n",
       "      <td>1.312530</td>\n",
       "      <td>1.402920</td>\n",
       "      <td>1.481043</td>\n",
       "      <td>1.521012</td>\n",
       "      <td>1.564154</td>\n",
       "      <td>1.570855</td>\n",
       "      <td>1.592890</td>\n",
       "      <td>b'22'</td>\n",
       "    </tr>\n",
       "    <tr>\n",
       "      <th>1</th>\n",
       "      <td>1.701146</td>\n",
       "      <td>1.670645</td>\n",
       "      <td>1.618884</td>\n",
       "      <td>1.546805</td>\n",
       "      <td>1.475469</td>\n",
       "      <td>1.391209</td>\n",
       "      <td>1.305882</td>\n",
       "      <td>1.237313</td>\n",
       "      <td>1.153414</td>\n",
       "      <td>1.069690</td>\n",
       "      <td>...</td>\n",
       "      <td>1.012163</td>\n",
       "      <td>1.097360</td>\n",
       "      <td>1.182578</td>\n",
       "      <td>1.266291</td>\n",
       "      <td>1.350571</td>\n",
       "      <td>1.435160</td>\n",
       "      <td>1.519737</td>\n",
       "      <td>1.602518</td>\n",
       "      <td>1.670190</td>\n",
       "      <td>b'28'</td>\n",
       "    </tr>\n",
       "    <tr>\n",
       "      <th>2</th>\n",
       "      <td>1.722342</td>\n",
       "      <td>1.695329</td>\n",
       "      <td>1.656946</td>\n",
       "      <td>1.606312</td>\n",
       "      <td>1.511824</td>\n",
       "      <td>1.414148</td>\n",
       "      <td>1.313688</td>\n",
       "      <td>1.213234</td>\n",
       "      <td>1.112978</td>\n",
       "      <td>1.015081</td>\n",
       "      <td>...</td>\n",
       "      <td>1.065598</td>\n",
       "      <td>1.164750</td>\n",
       "      <td>1.263924</td>\n",
       "      <td>1.364303</td>\n",
       "      <td>1.463511</td>\n",
       "      <td>1.547307</td>\n",
       "      <td>1.641809</td>\n",
       "      <td>1.694973</td>\n",
       "      <td>1.708488</td>\n",
       "      <td>b'21'</td>\n",
       "    </tr>\n",
       "    <tr>\n",
       "      <th>3</th>\n",
       "      <td>1.726263</td>\n",
       "      <td>1.659836</td>\n",
       "      <td>1.573108</td>\n",
       "      <td>1.496264</td>\n",
       "      <td>1.409070</td>\n",
       "      <td>1.332443</td>\n",
       "      <td>1.245742</td>\n",
       "      <td>1.158882</td>\n",
       "      <td>1.073361</td>\n",
       "      <td>0.987165</td>\n",
       "      <td>...</td>\n",
       "      <td>1.114440</td>\n",
       "      <td>1.199608</td>\n",
       "      <td>1.275380</td>\n",
       "      <td>1.362258</td>\n",
       "      <td>1.448567</td>\n",
       "      <td>1.535131</td>\n",
       "      <td>1.622158</td>\n",
       "      <td>1.707838</td>\n",
       "      <td>1.739027</td>\n",
       "      <td>b'15'</td>\n",
       "    </tr>\n",
       "    <tr>\n",
       "      <th>4</th>\n",
       "      <td>1.778976</td>\n",
       "      <td>1.761203</td>\n",
       "      <td>1.703084</td>\n",
       "      <td>1.610572</td>\n",
       "      <td>1.492088</td>\n",
       "      <td>1.368654</td>\n",
       "      <td>1.244761</td>\n",
       "      <td>1.120900</td>\n",
       "      <td>1.010762</td>\n",
       "      <td>0.900168</td>\n",
       "      <td>...</td>\n",
       "      <td>1.165685</td>\n",
       "      <td>1.285657</td>\n",
       "      <td>1.408878</td>\n",
       "      <td>1.507983</td>\n",
       "      <td>1.623643</td>\n",
       "      <td>1.713606</td>\n",
       "      <td>1.766389</td>\n",
       "      <td>1.783633</td>\n",
       "      <td>1.758625</td>\n",
       "      <td>b'2'</td>\n",
       "    </tr>\n",
       "  </tbody>\n",
       "</table>\n",
       "<p>5 rows × 177 columns</p>\n",
       "</div>"
      ],
      "text/plain": [
       "       att1      att2      att3      att4      att5      att6      att7  \\\n",
       "0  1.598007  1.599439  1.570529  1.550474  1.507371  1.434341  1.368986   \n",
       "1  1.701146  1.670645  1.618884  1.546805  1.475469  1.391209  1.305882   \n",
       "2  1.722342  1.695329  1.656946  1.606312  1.511824  1.414148  1.313688   \n",
       "3  1.726263  1.659836  1.573108  1.496264  1.409070  1.332443  1.245742   \n",
       "4  1.778976  1.761203  1.703084  1.610572  1.492088  1.368654  1.244761   \n",
       "\n",
       "       att8      att9     att10  ...    att168    att169    att170    att171  \\\n",
       "0  1.305294  1.210305  1.116653  ...  1.120906  1.217175  1.312530  1.402920   \n",
       "1  1.237313  1.153414  1.069690  ...  1.012163  1.097360  1.182578  1.266291   \n",
       "2  1.213234  1.112978  1.015081  ...  1.065598  1.164750  1.263924  1.364303   \n",
       "3  1.158882  1.073361  0.987165  ...  1.114440  1.199608  1.275380  1.362258   \n",
       "4  1.120900  1.010762  0.900168  ...  1.165685  1.285657  1.408878  1.507983   \n",
       "\n",
       "     att172    att173    att174    att175    att176  target  \n",
       "0  1.481043  1.521012  1.564154  1.570855  1.592890   b'22'  \n",
       "1  1.350571  1.435160  1.519737  1.602518  1.670190   b'28'  \n",
       "2  1.463511  1.547307  1.641809  1.694973  1.708488   b'21'  \n",
       "3  1.448567  1.535131  1.622158  1.707838  1.739027   b'15'  \n",
       "4  1.623643  1.713606  1.766389  1.783633  1.758625    b'2'  \n",
       "\n",
       "[5 rows x 177 columns]"
      ]
     },
     "execution_count": null,
     "metadata": {},
     "output_type": "execute_result"
    }
   ],
   "source": [
    "df_train.head()"
   ]
  },
  {
   "cell_type": "markdown",
   "metadata": {},
   "source": [
    "## Datasets"
   ]
  },
  {
   "cell_type": "code",
   "execution_count": null,
   "metadata": {},
   "outputs": [],
   "source": [
    "#export\n",
    "def get_x(row):\n",
    "    return row.values[:-1].astype('float32')\n",
    "def get_y(row):\n",
    "    return int(row.values[-1])"
   ]
  },
  {
   "cell_type": "code",
   "execution_count": null,
   "metadata": {},
   "outputs": [
    {
     "data": {
      "text/plain": [
       "<matplotlib.axes._subplots.AxesSubplot at 0x7fce4608c4d0>"
      ]
     },
     "execution_count": null,
     "metadata": {},
     "output_type": "execute_result"
    },
    {
     "data": {
      "image/png": "[encoded data removed]",
      "text/plain": [
       "<Figure size 360x360 with 1 Axes>"
      ]
     },
     "metadata": {
      "needs_background": "light"
     },
     "output_type": "display_data"
    }
   ],
   "source": [
    "TSeries(get_x(df_train.iloc[0])).show()"
   ]
  },
  {
   "cell_type": "code",
   "execution_count": null,
   "metadata": {},
   "outputs": [],
   "source": [
    "train_ds = Datasets(df_train, tfms=[[get_x, TSeries.create], [get_y, Categorize()]])\n",
    "test_ds = Datasets(df_test, tfms=[[get_x, TSeries.create], [get_y, Categorize()]])"
   ]
  },
  {
   "cell_type": "code",
   "execution_count": null,
   "metadata": {},
   "outputs": [
    {
     "data": {
      "text/plain": [
       "(#390) [(TSeries(ch=1, len=176), TensorCategory(21)),(TSeries(ch=1, len=176), TensorCategory(27)),(TSeries(ch=1, len=176), TensorCategory(20)),(TSeries(ch=1, len=176), TensorCategory(14)),(TSeries(ch=1, len=176), TensorCategory(1)),(TSeries(ch=1, len=176), TensorCategory(17)),(TSeries(ch=1, len=176), TensorCategory(20)),(TSeries(ch=1, len=176), TensorCategory(35)),(TSeries(ch=1, len=176), TensorCategory(10)),(TSeries(ch=1, len=176), TensorCategory(20))...]"
      ]
     },
     "execution_count": null,
     "metadata": {},
     "output_type": "execute_result"
    }
   ],
   "source": [
    "train_ds"
   ]
  },
  {
   "cell_type": "code",
   "execution_count": null,
   "metadata": {},
   "outputs": [
    {
     "data": {
      "text/plain": [
       "(#391) [(TSeries(ch=1, len=176), TensorCategory(15)),(TSeries(ch=1, len=176), TensorCategory(35)),(TSeries(ch=1, len=176), TensorCategory(33)),(TSeries(ch=1, len=176), TensorCategory(21)),(TSeries(ch=1, len=176), TensorCategory(15)),(TSeries(ch=1, len=176), TensorCategory(30)),(TSeries(ch=1, len=176), TensorCategory(23)),(TSeries(ch=1, len=176), TensorCategory(1)),(TSeries(ch=1, len=176), TensorCategory(29)),(TSeries(ch=1, len=176), TensorCategory(13))...]"
      ]
     },
     "execution_count": null,
     "metadata": {},
     "output_type": "execute_result"
    }
   ],
   "source": [
    "test_ds"
   ]
  },
  {
   "cell_type": "code",
   "execution_count": null,
   "metadata": {},
   "outputs": [],
   "source": [
    "train_dl = TfmdDL(train_ds, bs=2)"
   ]
  },
  {
   "cell_type": "code",
   "execution_count": null,
   "metadata": {},
   "outputs": [
    {
     "data": {
      "image/png": "[encoded data removed]",
      "text/plain": [
       "<Figure size 360x360 with 1 Axes>"
      ]
     },
     "metadata": {
      "needs_background": "light"
     },
     "output_type": "display_data"
    },
    {
     "data": {
      "image/png": "[encoded data removed]",
      "text/plain": [
       "<Figure size 360x360 with 1 Axes>"
      ]
     },
     "metadata": {
      "needs_background": "light"
     },
     "output_type": "display_data"
    }
   ],
   "source": [
    "train_dl.show_batch()"
   ]
  },
  {
   "cell_type": "code",
   "execution_count": null,
   "metadata": {},
   "outputs": [],
   "source": [
    "train_dl = DataLoader(train_ds, bs=32)\n",
    "test_dl = DataLoader(test_ds, bs=32)"
   ]
  },
  {
   "cell_type": "code",
   "execution_count": null,
   "metadata": {},
   "outputs": [],
   "source": [
    "dls = DataLoaders(train_dl, test_dl)"
   ]
  },
  {
   "cell_type": "code",
   "execution_count": null,
   "metadata": {},
   "outputs": [],
   "source": []
  },
  {
   "cell_type": "code",
   "execution_count": null,
   "metadata": {},
   "outputs": [],
   "source": []
  },
  {
   "cell_type": "code",
   "execution_count": null,
   "metadata": {},
   "outputs": [],
   "source": []
  },
  {
   "cell_type": "code",
   "execution_count": null,
   "metadata": {},
   "outputs": [],
   "source": []
  },
  {
   "cell_type": "markdown",
   "metadata": {},
   "source": [
    "## DataBlock"
   ]
  },
  {
   "cell_type": "code",
   "execution_count": null,
   "metadata": {},
   "outputs": [],
   "source": [
    "def TSBlock(cls=TSeries): return TransformBlock(cls)"
   ]
  },
  {
   "cell_type": "code",
   "execution_count": null,
   "metadata": {},
   "outputs": [],
   "source": [
    "dblock = DataBlock(blocks=(TSBlock, CategoryBlock),\n",
    "                   get_x=get_x,\n",
    "                   get_y=get_y,\n",
    "                   splitter=RandomSplitter(0.2))"
   ]
  },
  {
   "cell_type": "code",
   "execution_count": null,
   "metadata": {},
   "outputs": [],
   "source": [
    "# dblock.dataloaders(df_train)"
   ]
  },
  {
   "cell_type": "markdown",
   "metadata": {},
   "source": [
    "# Export -"
   ]
  },
  {
   "cell_type": "code",
   "execution_count": null,
   "metadata": {},
   "outputs": [
    {
     "name": "stdout",
     "output_type": "stream",
     "text": [
      "Converted 00_core.ipynb.\n",
      "Converted 02_models.inception.ipynb.\n",
      "Converted 99_index.ipynb.\n",
      "Converted index.ipynb.\n"
     ]
    }
   ],
   "source": [
    "# hide\n",
    "from nbdev.export import *\n",
    "notebook2script()"
   ]
  },
  {
   "cell_type": "code",
   "execution_count": null,
   "metadata": {},
   "outputs": [],
   "source": []
  },
  {
   "cell_type": "code",
   "execution_count": null,
   "metadata": {},
   "outputs": [],
   "source": []
  }
 ],
 "metadata": {
  "kernelspec": {
   "display_name": "Python 3",
   "language": "python",
   "name": "python3"
  }
 },
 "nbformat": 4,
 "nbformat_minor": 2
}
