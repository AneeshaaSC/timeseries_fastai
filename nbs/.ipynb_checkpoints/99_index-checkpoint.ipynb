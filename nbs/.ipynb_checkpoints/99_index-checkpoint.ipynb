{
 "cells": [
  {
   "cell_type": "markdown",
   "metadata": {},
   "source": [
    "# timeseries_fastai\n",
    ">This repository aims to implement TimeSeries classification/regression algorithms. It makes extensive use of fastai training methods."
   ]
  },
  {
   "cell_type": "markdown",
   "metadata": {},
   "source": [
    "## Installation"
   ]
  },
  {
   "cell_type": "markdown",
   "metadata": {},
   "source": [
    "In short, if you have anaconda, execute:\n",
    "\n",
    "`$ pip install fastai_timeseries`"
   ]
  },
  {
   "cell_type": "markdown",
   "metadata": {},
   "source": [
    "## Time Series Classification from Scratch with Deep Neural Networks: A Strong Baseline\n",
    "The original paper repo is [here](https://github.com/cauchyturing/UCR_Time_Series_Classification_Deep_Learning_Baseline) is implemented in Keras/Tf."
   ]
  },
  {
   "cell_type": "markdown",
   "metadata": {},
   "source": [
    "- Notebook 01: This is a basic notebook that implements the Deep Learning models proposed in [Time Series Classification from Scratch with Deep Neural Networks: A Strong Baseline](https://arxiv.org/abs/1611.06455). "
   ]
  },
  {
   "cell_type": "markdown",
   "metadata": {},
   "source": [
    "## InceptionTime: Finding AlexNet for Time SeriesClassification\n",
    "The original paper repo is [here](https://github.com/hfawaz/InceptionTime)"
   ]
  },
  {
   "cell_type": "markdown",
   "metadata": {},
   "source": [
    "- Notebook 02: Added InceptionTime architecture from [InceptionTime: Finding AlexNet for Time SeriesClassification](https://arxiv.org/pdf/1909.04939.pdf). Need to check if the implementation is identical to paper, please comment."
   ]
  },
  {
   "cell_type": "markdown",
   "metadata": {},
   "source": [
    "## Getting Started"
   ]
  },
  {
   "cell_type": "code",
   "execution_count": null,
   "metadata": {},
   "outputs": [],
   "source": [
    "from timeseries_fastai.core import *\n",
    "from timeseries_fastai.data import *\n",
    "from timeseries_fastai.models import *"
   ]
  },
  {
   "cell_type": "code",
   "execution_count": null,
   "metadata": {},
   "outputs": [],
   "source": [
    "ucr_path = untar_data(URLs.UCR)"
   ]
  },
  {
   "cell_type": "code",
   "execution_count": null,
   "metadata": {},
   "outputs": [
    {
     "data": {
      "text/plain": [
       "Path('/home/tc256760/.fastai/data/Univariate2018_arff/St')"
      ]
     },
     "execution_count": null,
     "metadata": {},
     "output_type": "execute_result"
    }
   ],
   "source": [
    "ucr_path/'St'"
   ]
  },
  {
   "cell_type": "code",
   "execution_count": null,
   "metadata": {},
   "outputs": [
    {
     "name": "stdout",
     "output_type": "stream",
     "text": [
      "Loading files from: /home/tc256760/.fastai/data/Univariate2018_arff/StarLightCurves\n"
     ]
    }
   ],
   "source": [
    "df_train, df_test = load_df_ucr(ucr_path, 'StarLightCurves')"
   ]
  },
  {
   "cell_type": "code",
   "execution_count": null,
   "metadata": {},
   "outputs": [],
   "source": [
    "df = stack_train_valid(df_train, df_test)"
   ]
  },
  {
   "cell_type": "code",
   "execution_count": null,
   "metadata": {},
   "outputs": [],
   "source": [
    "x_cols = df.columns[0:-2].to_list()"
   ]
  },
  {
   "cell_type": "code",
   "execution_count": null,
   "metadata": {},
   "outputs": [
    {
     "data": {
      "text/html": [
       "<div>\n",
       "<style scoped>\n",
       "    .dataframe tbody tr th:only-of-type {\n",
       "        vertical-align: middle;\n",
       "    }\n",
       "\n",
       "    .dataframe tbody tr th {\n",
       "        vertical-align: top;\n",
       "    }\n",
       "\n",
       "    .dataframe thead th {\n",
       "        text-align: right;\n",
       "    }\n",
       "</style>\n",
       "<table border=\"1\" class=\"dataframe\">\n",
       "  <thead>\n",
       "    <tr style=\"text-align: right;\">\n",
       "      <th></th>\n",
       "      <th>att1</th>\n",
       "      <th>att2</th>\n",
       "      <th>att3</th>\n",
       "      <th>att4</th>\n",
       "      <th>att5</th>\n",
       "      <th>att6</th>\n",
       "      <th>att7</th>\n",
       "      <th>att8</th>\n",
       "      <th>att9</th>\n",
       "      <th>att10</th>\n",
       "      <th>...</th>\n",
       "      <th>att1017</th>\n",
       "      <th>att1018</th>\n",
       "      <th>att1019</th>\n",
       "      <th>att1020</th>\n",
       "      <th>att1021</th>\n",
       "      <th>att1022</th>\n",
       "      <th>att1023</th>\n",
       "      <th>att1024</th>\n",
       "      <th>target</th>\n",
       "      <th>valid_col</th>\n",
       "    </tr>\n",
       "  </thead>\n",
       "  <tbody>\n",
       "    <tr>\n",
       "      <th>0</th>\n",
       "      <td>0.537303</td>\n",
       "      <td>0.531103</td>\n",
       "      <td>0.528503</td>\n",
       "      <td>0.529403</td>\n",
       "      <td>0.533603</td>\n",
       "      <td>0.540903</td>\n",
       "      <td>0.551103</td>\n",
       "      <td>0.564003</td>\n",
       "      <td>0.579603</td>\n",
       "      <td>0.597603</td>\n",
       "      <td>...</td>\n",
       "      <td>0.545903</td>\n",
       "      <td>0.543903</td>\n",
       "      <td>0.541003</td>\n",
       "      <td>0.537203</td>\n",
       "      <td>0.532303</td>\n",
       "      <td>0.526403</td>\n",
       "      <td>0.519503</td>\n",
       "      <td>0.511403</td>\n",
       "      <td>b'3'</td>\n",
       "      <td>False</td>\n",
       "    </tr>\n",
       "    <tr>\n",
       "      <th>1</th>\n",
       "      <td>0.588398</td>\n",
       "      <td>0.593898</td>\n",
       "      <td>0.599098</td>\n",
       "      <td>0.604098</td>\n",
       "      <td>0.608798</td>\n",
       "      <td>0.613397</td>\n",
       "      <td>0.617797</td>\n",
       "      <td>0.622097</td>\n",
       "      <td>0.626097</td>\n",
       "      <td>0.630097</td>\n",
       "      <td>...</td>\n",
       "      <td>0.246499</td>\n",
       "      <td>0.256199</td>\n",
       "      <td>0.266499</td>\n",
       "      <td>0.277399</td>\n",
       "      <td>0.288799</td>\n",
       "      <td>0.300899</td>\n",
       "      <td>0.313599</td>\n",
       "      <td>0.326899</td>\n",
       "      <td>b'3'</td>\n",
       "      <td>False</td>\n",
       "    </tr>\n",
       "    <tr>\n",
       "      <th>2</th>\n",
       "      <td>-0.049900</td>\n",
       "      <td>-0.041500</td>\n",
       "      <td>-0.033400</td>\n",
       "      <td>-0.025600</td>\n",
       "      <td>-0.018100</td>\n",
       "      <td>-0.010800</td>\n",
       "      <td>-0.003800</td>\n",
       "      <td>0.003000</td>\n",
       "      <td>0.009600</td>\n",
       "      <td>0.015900</td>\n",
       "      <td>...</td>\n",
       "      <td>-0.161601</td>\n",
       "      <td>-0.149201</td>\n",
       "      <td>-0.136401</td>\n",
       "      <td>-0.123201</td>\n",
       "      <td>-0.109701</td>\n",
       "      <td>-0.095901</td>\n",
       "      <td>-0.081701</td>\n",
       "      <td>-0.067100</td>\n",
       "      <td>b'1'</td>\n",
       "      <td>False</td>\n",
       "    </tr>\n",
       "    <tr>\n",
       "      <th>3</th>\n",
       "      <td>1.337005</td>\n",
       "      <td>1.319805</td>\n",
       "      <td>1.302905</td>\n",
       "      <td>1.286305</td>\n",
       "      <td>1.270005</td>\n",
       "      <td>1.254005</td>\n",
       "      <td>1.238304</td>\n",
       "      <td>1.223005</td>\n",
       "      <td>1.208104</td>\n",
       "      <td>1.193504</td>\n",
       "      <td>...</td>\n",
       "      <td>1.298505</td>\n",
       "      <td>1.307705</td>\n",
       "      <td>1.316505</td>\n",
       "      <td>1.324905</td>\n",
       "      <td>1.332805</td>\n",
       "      <td>1.340205</td>\n",
       "      <td>1.347005</td>\n",
       "      <td>1.353205</td>\n",
       "      <td>b'3'</td>\n",
       "      <td>False</td>\n",
       "    </tr>\n",
       "    <tr>\n",
       "      <th>4</th>\n",
       "      <td>0.769801</td>\n",
       "      <td>0.775301</td>\n",
       "      <td>0.780401</td>\n",
       "      <td>0.785101</td>\n",
       "      <td>0.789401</td>\n",
       "      <td>0.793301</td>\n",
       "      <td>0.796801</td>\n",
       "      <td>0.799901</td>\n",
       "      <td>0.802601</td>\n",
       "      <td>0.805101</td>\n",
       "      <td>...</td>\n",
       "      <td>0.744501</td>\n",
       "      <td>0.747301</td>\n",
       "      <td>0.750701</td>\n",
       "      <td>0.754801</td>\n",
       "      <td>0.759501</td>\n",
       "      <td>0.765001</td>\n",
       "      <td>0.771301</td>\n",
       "      <td>0.778401</td>\n",
       "      <td>b'3'</td>\n",
       "      <td>False</td>\n",
       "    </tr>\n",
       "    <tr>\n",
       "      <th>...</th>\n",
       "      <td>...</td>\n",
       "      <td>...</td>\n",
       "      <td>...</td>\n",
       "      <td>...</td>\n",
       "      <td>...</td>\n",
       "      <td>...</td>\n",
       "      <td>...</td>\n",
       "      <td>...</td>\n",
       "      <td>...</td>\n",
       "      <td>...</td>\n",
       "      <td>...</td>\n",
       "      <td>...</td>\n",
       "      <td>...</td>\n",
       "      <td>...</td>\n",
       "      <td>...</td>\n",
       "      <td>...</td>\n",
       "      <td>...</td>\n",
       "      <td>...</td>\n",
       "      <td>...</td>\n",
       "      <td>...</td>\n",
       "      <td>...</td>\n",
       "    </tr>\n",
       "    <tr>\n",
       "      <th>9231</th>\n",
       "      <td>0.723503</td>\n",
       "      <td>0.722803</td>\n",
       "      <td>0.722803</td>\n",
       "      <td>0.723603</td>\n",
       "      <td>0.725203</td>\n",
       "      <td>0.727403</td>\n",
       "      <td>0.730303</td>\n",
       "      <td>0.733903</td>\n",
       "      <td>0.738003</td>\n",
       "      <td>0.742803</td>\n",
       "      <td>...</td>\n",
       "      <td>0.671702</td>\n",
       "      <td>0.675702</td>\n",
       "      <td>0.680402</td>\n",
       "      <td>0.686102</td>\n",
       "      <td>0.692602</td>\n",
       "      <td>0.700002</td>\n",
       "      <td>0.708403</td>\n",
       "      <td>0.717803</td>\n",
       "      <td>b'3'</td>\n",
       "      <td>True</td>\n",
       "    </tr>\n",
       "    <tr>\n",
       "      <th>9232</th>\n",
       "      <td>0.629604</td>\n",
       "      <td>0.636304</td>\n",
       "      <td>0.643404</td>\n",
       "      <td>0.650704</td>\n",
       "      <td>0.658304</td>\n",
       "      <td>0.666204</td>\n",
       "      <td>0.674304</td>\n",
       "      <td>0.682504</td>\n",
       "      <td>0.691004</td>\n",
       "      <td>0.699604</td>\n",
       "      <td>...</td>\n",
       "      <td>0.603804</td>\n",
       "      <td>0.603204</td>\n",
       "      <td>0.602104</td>\n",
       "      <td>0.600404</td>\n",
       "      <td>0.598204</td>\n",
       "      <td>0.595404</td>\n",
       "      <td>0.592004</td>\n",
       "      <td>0.588104</td>\n",
       "      <td>b'3'</td>\n",
       "      <td>True</td>\n",
       "    </tr>\n",
       "    <tr>\n",
       "      <th>9233</th>\n",
       "      <td>0.602902</td>\n",
       "      <td>0.604202</td>\n",
       "      <td>0.605802</td>\n",
       "      <td>0.607502</td>\n",
       "      <td>0.609402</td>\n",
       "      <td>0.611402</td>\n",
       "      <td>0.613502</td>\n",
       "      <td>0.615902</td>\n",
       "      <td>0.618302</td>\n",
       "      <td>0.620902</td>\n",
       "      <td>...</td>\n",
       "      <td>0.544002</td>\n",
       "      <td>0.549502</td>\n",
       "      <td>0.555002</td>\n",
       "      <td>0.560502</td>\n",
       "      <td>0.566002</td>\n",
       "      <td>0.571402</td>\n",
       "      <td>0.576802</td>\n",
       "      <td>0.582202</td>\n",
       "      <td>b'1'</td>\n",
       "      <td>True</td>\n",
       "    </tr>\n",
       "    <tr>\n",
       "      <th>9234</th>\n",
       "      <td>-0.525899</td>\n",
       "      <td>-0.532599</td>\n",
       "      <td>-0.538699</td>\n",
       "      <td>-0.544299</td>\n",
       "      <td>-0.549399</td>\n",
       "      <td>-0.553999</td>\n",
       "      <td>-0.558199</td>\n",
       "      <td>-0.561899</td>\n",
       "      <td>-0.565199</td>\n",
       "      <td>-0.568099</td>\n",
       "      <td>...</td>\n",
       "      <td>-0.339999</td>\n",
       "      <td>-0.364799</td>\n",
       "      <td>-0.391999</td>\n",
       "      <td>-0.421799</td>\n",
       "      <td>-0.454199</td>\n",
       "      <td>-0.489399</td>\n",
       "      <td>-0.527399</td>\n",
       "      <td>-0.568299</td>\n",
       "      <td>b'2'</td>\n",
       "      <td>True</td>\n",
       "    </tr>\n",
       "    <tr>\n",
       "      <th>9235</th>\n",
       "      <td>-0.224100</td>\n",
       "      <td>-0.223200</td>\n",
       "      <td>-0.219900</td>\n",
       "      <td>-0.214400</td>\n",
       "      <td>-0.206600</td>\n",
       "      <td>-0.196800</td>\n",
       "      <td>-0.185000</td>\n",
       "      <td>-0.171300</td>\n",
       "      <td>-0.155800</td>\n",
       "      <td>-0.138600</td>\n",
       "      <td>...</td>\n",
       "      <td>-0.279800</td>\n",
       "      <td>-0.273400</td>\n",
       "      <td>-0.268500</td>\n",
       "      <td>-0.265300</td>\n",
       "      <td>-0.263800</td>\n",
       "      <td>-0.264100</td>\n",
       "      <td>-0.266300</td>\n",
       "      <td>-0.270600</td>\n",
       "      <td>b'3'</td>\n",
       "      <td>True</td>\n",
       "    </tr>\n",
       "  </tbody>\n",
       "</table>\n",
       "<p>9236 rows × 1026 columns</p>\n",
       "</div>"
      ],
      "text/plain": [
       "          att1      att2      att3      att4      att5      att6      att7  \\\n",
       "0     0.537303  0.531103  0.528503  0.529403  0.533603  0.540903  0.551103   \n",
       "1     0.588398  0.593898  0.599098  0.604098  0.608798  0.613397  0.617797   \n",
       "2    -0.049900 -0.041500 -0.033400 -0.025600 -0.018100 -0.010800 -0.003800   \n",
       "3     1.337005  1.319805  1.302905  1.286305  1.270005  1.254005  1.238304   \n",
       "4     0.769801  0.775301  0.780401  0.785101  0.789401  0.793301  0.796801   \n",
       "...        ...       ...       ...       ...       ...       ...       ...   \n",
       "9231  0.723503  0.722803  0.722803  0.723603  0.725203  0.727403  0.730303   \n",
       "9232  0.629604  0.636304  0.643404  0.650704  0.658304  0.666204  0.674304   \n",
       "9233  0.602902  0.604202  0.605802  0.607502  0.609402  0.611402  0.613502   \n",
       "9234 -0.525899 -0.532599 -0.538699 -0.544299 -0.549399 -0.553999 -0.558199   \n",
       "9235 -0.224100 -0.223200 -0.219900 -0.214400 -0.206600 -0.196800 -0.185000   \n",
       "\n",
       "          att8      att9     att10  ...   att1017   att1018   att1019  \\\n",
       "0     0.564003  0.579603  0.597603  ...  0.545903  0.543903  0.541003   \n",
       "1     0.622097  0.626097  0.630097  ...  0.246499  0.256199  0.266499   \n",
       "2     0.003000  0.009600  0.015900  ... -0.161601 -0.149201 -0.136401   \n",
       "3     1.223005  1.208104  1.193504  ...  1.298505  1.307705  1.316505   \n",
       "4     0.799901  0.802601  0.805101  ...  0.744501  0.747301  0.750701   \n",
       "...        ...       ...       ...  ...       ...       ...       ...   \n",
       "9231  0.733903  0.738003  0.742803  ...  0.671702  0.675702  0.680402   \n",
       "9232  0.682504  0.691004  0.699604  ...  0.603804  0.603204  0.602104   \n",
       "9233  0.615902  0.618302  0.620902  ...  0.544002  0.549502  0.555002   \n",
       "9234 -0.561899 -0.565199 -0.568099  ... -0.339999 -0.364799 -0.391999   \n",
       "9235 -0.171300 -0.155800 -0.138600  ... -0.279800 -0.273400 -0.268500   \n",
       "\n",
       "       att1020   att1021   att1022   att1023   att1024  target  valid_col  \n",
       "0     0.537203  0.532303  0.526403  0.519503  0.511403    b'3'      False  \n",
       "1     0.277399  0.288799  0.300899  0.313599  0.326899    b'3'      False  \n",
       "2    -0.123201 -0.109701 -0.095901 -0.081701 -0.067100    b'1'      False  \n",
       "3     1.324905  1.332805  1.340205  1.347005  1.353205    b'3'      False  \n",
       "4     0.754801  0.759501  0.765001  0.771301  0.778401    b'3'      False  \n",
       "...        ...       ...       ...       ...       ...     ...        ...  \n",
       "9231  0.686102  0.692602  0.700002  0.708403  0.717803    b'3'       True  \n",
       "9232  0.600404  0.598204  0.595404  0.592004  0.588104    b'3'       True  \n",
       "9233  0.560502  0.566002  0.571402  0.576802  0.582202    b'1'       True  \n",
       "9234 -0.421799 -0.454199 -0.489399 -0.527399 -0.568299    b'2'       True  \n",
       "9235 -0.265300 -0.263800 -0.264100 -0.266300 -0.270600    b'3'       True  \n",
       "\n",
       "[9236 rows x 1026 columns]"
      ]
     },
     "execution_count": null,
     "metadata": {},
     "output_type": "execute_result"
    }
   ],
   "source": [
    "df"
   ]
  },
  {
   "cell_type": "code",
   "execution_count": null,
   "metadata": {},
   "outputs": [
    {
     "data": {
      "text/plain": [
       "array([b'3', b'1', b'2'], dtype=object)"
      ]
     },
     "execution_count": null,
     "metadata": {},
     "output_type": "execute_result"
    }
   ],
   "source": [
    "df.target.unique()"
   ]
  },
  {
   "cell_type": "code",
   "execution_count": null,
   "metadata": {},
   "outputs": [],
   "source": [
    "dls = TSDataLoaders.from_df(df, x_cols=x_cols, label_col='target', valid_col='valid_col', bs=16)"
   ]
  },
  {
   "cell_type": "code",
   "execution_count": null,
   "metadata": {},
   "outputs": [],
   "source": [
    "inception = create_inception(1, len(dls.vocab))"
   ]
  },
  {
   "cell_type": "code",
   "execution_count": null,
   "metadata": {},
   "outputs": [],
   "source": [
    "learn = Learner(dls, inception, metrics=[accuracy])"
   ]
  },
  {
   "cell_type": "code",
   "execution_count": null,
   "metadata": {},
   "outputs": [
    {
     "data": {
      "text/html": [
       "\n",
       "    <div>\n",
       "        <style>\n",
       "            /* Turns off some styling */\n",
       "            progress {\n",
       "                /* gets rid of default border in Firefox and Opera. */\n",
       "                border: none;\n",
       "                /* Needs to be in here for Safari polyfill so background images work as expected. */\n",
       "                background-size: auto;\n",
       "            }\n",
       "            .progress-bar-interrupted, .progress-bar-interrupted::-webkit-progress-bar {\n",
       "                background: #F44336;\n",
       "            }\n",
       "        </style>\n",
       "      <progress value='4' class='' max='5', style='width:300px; height:20px; vertical-align: middle;'></progress>\n",
       "      80.00% [4/5 01:02<00:15]\n",
       "    </div>\n",
       "    \n",
       "<table border=\"1\" class=\"dataframe\">\n",
       "  <thead>\n",
       "    <tr style=\"text-align: left;\">\n",
       "      <th>epoch</th>\n",
       "      <th>train_loss</th>\n",
       "      <th>valid_loss</th>\n",
       "      <th>accuracy</th>\n",
       "      <th>time</th>\n",
       "    </tr>\n",
       "  </thead>\n",
       "  <tbody>\n",
       "    <tr>\n",
       "      <td>0</td>\n",
       "      <td>0.290253</td>\n",
       "      <td>0.220855</td>\n",
       "      <td>0.912579</td>\n",
       "      <td>00:16</td>\n",
       "    </tr>\n",
       "    <tr>\n",
       "      <td>1</td>\n",
       "      <td>0.220386</td>\n",
       "      <td>0.244730</td>\n",
       "      <td>0.916586</td>\n",
       "      <td>00:15</td>\n",
       "    </tr>\n",
       "    <tr>\n",
       "      <td>2</td>\n",
       "      <td>0.163574</td>\n",
       "      <td>0.119654</td>\n",
       "      <td>0.968310</td>\n",
       "      <td>00:15</td>\n",
       "    </tr>\n",
       "    <tr>\n",
       "      <td>3</td>\n",
       "      <td>0.121743</td>\n",
       "      <td>0.099851</td>\n",
       "      <td>0.971710</td>\n",
       "      <td>00:15</td>\n",
       "    </tr>\n",
       "  </tbody>\n",
       "</table><p>\n",
       "\n",
       "    <div>\n",
       "        <style>\n",
       "            /* Turns off some styling */\n",
       "            progress {\n",
       "                /* gets rid of default border in Firefox and Opera. */\n",
       "                border: none;\n",
       "                /* Needs to be in here for Safari polyfill so background images work as expected. */\n",
       "                background-size: auto;\n",
       "            }\n",
       "            .progress-bar-interrupted, .progress-bar-interrupted::-webkit-progress-bar {\n",
       "                background: #F44336;\n",
       "            }\n",
       "        </style>\n",
       "      <progress value='237' class='' max='515', style='width:300px; height:20px; vertical-align: middle;'></progress>\n",
       "      46.02% [237/515 00:06<00:07 0.1007]\n",
       "    </div>\n",
       "    "
      ],
      "text/plain": [
       "<IPython.core.display.HTML object>"
      ]
     },
     "metadata": {},
     "output_type": "display_data"
    }
   ],
   "source": [
    "learn.fit_one_cycle(5, 1e-3)"
   ]
  },
  {
   "cell_type": "code",
   "execution_count": null,
   "metadata": {},
   "outputs": [],
   "source": [
    "interp = ClassificationInterpretation.from_learner(learn)"
   ]
  },
  {
   "cell_type": "code",
   "execution_count": null,
   "metadata": {},
   "outputs": [],
   "source": [
    "interp.plot_confusion_matrix(figsize=(10,10))"
   ]
  },
  {
   "cell_type": "markdown",
   "metadata": {},
   "source": [
    "# Export -"
   ]
  },
  {
   "cell_type": "code",
   "execution_count": null,
   "metadata": {},
   "outputs": [],
   "source": [
    "# hide\n",
    "from nbdev.export import *\n",
    "notebook2script()"
   ]
  },
  {
   "cell_type": "code",
   "execution_count": null,
   "metadata": {},
   "outputs": [],
   "source": []
  }
 ],
 "metadata": {
  "kernelspec": {
   "display_name": "Python 3",
   "language": "python",
   "name": "python3"
  }
 },
 "nbformat": 4,
 "nbformat_minor": 4
}
