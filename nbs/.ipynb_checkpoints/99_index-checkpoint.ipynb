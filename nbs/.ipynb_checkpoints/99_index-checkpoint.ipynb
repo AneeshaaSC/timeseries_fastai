{
 "cells": [
  {
   "cell_type": "markdown",
   "metadata": {},
   "source": [
    "# timeseries_fastai"
   ]
  },
  {
   "cell_type": "markdown",
   "metadata": {},
   "source": [
    "This is a port to fastai2 from this repo"
   ]
  },
  {
   "cell_type": "markdown",
   "metadata": {},
   "source": [
    "## Getting Started"
   ]
  },
  {
   "cell_type": "code",
   "execution_count": null,
   "metadata": {},
   "outputs": [],
   "source": [
    "from fastai2.basics import *\n",
    "from timeseries_fastai.core import *\n",
    "from timeseries_fastai.models.inception import *"
   ]
  },
  {
   "cell_type": "code",
   "execution_count": null,
   "metadata": {},
   "outputs": [],
   "source": [
    "ucr_path = get_ucr()"
   ]
  },
  {
   "cell_type": "code",
   "execution_count": null,
   "metadata": {},
   "outputs": [
    {
     "name": "stdout",
     "output_type": "stream",
     "text": [
      "Loading files from: /home/tc256760/.fastai/data/Univariate_arff/Adiac\n"
     ]
    }
   ],
   "source": [
    "df_train, df_test = load_df_ucr(ucr_path, 'Adiac')"
   ]
  },
  {
   "cell_type": "code",
   "execution_count": null,
   "metadata": {},
   "outputs": [],
   "source": [
    "train_ds = Datasets(df_train, tfms=[[get_x, TSeries.create], [get_y, Categorize()]])\n",
    "test_ds = Datasets(df_test, tfms=[[get_x, TSeries.create], [get_y, Categorize()]])"
   ]
  },
  {
   "cell_type": "code",
   "execution_count": null,
   "metadata": {},
   "outputs": [],
   "source": [
    "train_dl = DataLoader(train_ds, bs=16)\n",
    "test_dl = DataLoader(test_ds, bs=16)"
   ]
  },
  {
   "cell_type": "code",
   "execution_count": null,
   "metadata": {},
   "outputs": [],
   "source": [
    "inception = create_inception(1, 37)"
   ]
  },
  {
   "cell_type": "code",
   "execution_count": null,
   "metadata": {},
   "outputs": [],
   "source": [
    "dls = DataLoaders(train_dl, test_dl).cuda()"
   ]
  },
  {
   "cell_type": "code",
   "execution_count": null,
   "metadata": {},
   "outputs": [],
   "source": [
    "learn = Learner(dls, inception, metrics=[accuracy])"
   ]
  },
  {
   "cell_type": "code",
   "execution_count": null,
   "metadata": {},
   "outputs": [
    {
     "name": "stdout",
     "output_type": "stream",
     "text": [
      "(#5) [0,0.6611166596412659,1.2537293434143066,0.6419437527656555,'00:00']\n",
      "(#5) [1,0.5424780249595642,1.678171157836914,0.5703324675559998,'00:00']\n",
      "(#5) [2,0.4812489151954651,1.9760288000106812,0.4961636960506439,'00:01']\n",
      "(#5) [3,0.4385603368282318,1.30227792263031,0.6291559934616089,'00:00']\n",
      "(#5) [4,0.4088814854621887,1.302911639213562,0.6112532019615173,'00:00']\n",
      "(#5) [5,0.3767516314983368,1.2119171619415283,0.6496163606643677,'00:00']\n",
      "(#5) [6,0.3706248700618744,1.655565857887268,0.5421994924545288,'00:00']\n",
      "(#5) [7,0.4003402888774872,2.066509962081909,0.5268542170524597,'00:00']\n",
      "(#5) [8,0.41464415192604065,2.0287322998046875,0.4910486042499542,'00:00']\n",
      "(#5) [9,0.38299134373664856,1.0245169401168823,0.7212276458740234,'00:00']\n",
      "(#5) [10,0.369015097618103,0.9738338589668274,0.7161125540733337,'00:00']\n",
      "(#5) [11,0.3495746850967407,1.5241612195968628,0.5907928347587585,'00:00']\n",
      "(#5) [12,0.32542890310287476,0.9442324638366699,0.739130437374115,'00:00']\n",
      "(#5) [13,0.294718474149704,1.0307501554489136,0.7263427376747131,'00:00']\n",
      "(#5) [14,0.28048789501190186,1.167475938796997,0.6777493357658386,'00:00']\n",
      "(#5) [15,0.28234609961509705,1.0571337938308716,0.6854220032691956,'00:00']\n",
      "(#5) [16,0.2518707513809204,1.58203125,0.6010230183601379,'00:00']\n",
      "(#5) [17,0.22255031764507294,1.0521678924560547,0.7237851619720459,'00:00']\n",
      "(#5) [18,0.21178781986236572,1.1878429651260376,0.6803069114685059,'00:00']\n",
      "(#5) [19,0.2104271501302719,1.1070195436477661,0.7007672786712646,'00:00']\n",
      "(#5) [20,0.20347991585731506,1.333085536956787,0.6368286609649658,'00:00']\n",
      "(#5) [21,0.19762584567070007,1.0352559089660645,0.7161125540733337,'00:00']\n",
      "(#5) [22,0.19849863648414612,1.1295298337936401,0.6905370950698853,'00:00']\n",
      "(#5) [23,0.21399374306201935,2.2132513523101807,0.5601022839546204,'00:00']\n",
      "(#5) [24,0.23785829544067383,1.1381645202636719,0.695652186870575,'00:00']\n"
     ]
    }
   ],
   "source": [
    "learn.fit(25, 0.001)"
   ]
  },
  {
   "cell_type": "code",
   "execution_count": null,
   "metadata": {},
   "outputs": [],
   "source": []
  }
 ],
 "metadata": {
  "kernelspec": {
   "display_name": "Python 3",
   "language": "python",
   "name": "python3"
  }
 },
 "nbformat": 4,
 "nbformat_minor": 4
}
