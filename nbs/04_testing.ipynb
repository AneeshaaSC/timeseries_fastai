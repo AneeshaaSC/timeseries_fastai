{
 "cells": [
  {
   "cell_type": "code",
   "execution_count": null,
   "metadata": {},
   "outputs": [],
   "source": [
    "from timeseries_fastai.imports import *\n",
    "from timeseries_fastai.core import *"
   ]
  },
  {
   "cell_type": "markdown",
   "metadata": {},
   "source": [
    "# Benchmark tests\n",
    ">Which approach is faster?"
   ]
  },
  {
   "cell_type": "code",
   "execution_count": null,
   "metadata": {},
   "outputs": [],
   "source": [
    "ucr_path = get_ucr()"
   ]
  },
  {
   "cell_type": "code",
   "execution_count": null,
   "metadata": {},
   "outputs": [
    {
     "name": "stdout",
     "output_type": "stream",
     "text": [
      "Loading files from: /home/tc256760/.fastai/data/Univariate2018_arff/StarLightCurves\n"
     ]
    }
   ],
   "source": [
    "df_train, df_test = load_df_ucr(ucr_path, 'StarLightCurves')"
   ]
  },
  {
   "cell_type": "code",
   "execution_count": null,
   "metadata": {},
   "outputs": [
    {
     "data": {
      "text/html": [
       "<div>\n",
       "<style scoped>\n",
       "    .dataframe tbody tr th:only-of-type {\n",
       "        vertical-align: middle;\n",
       "    }\n",
       "\n",
       "    .dataframe tbody tr th {\n",
       "        vertical-align: top;\n",
       "    }\n",
       "\n",
       "    .dataframe thead th {\n",
       "        text-align: right;\n",
       "    }\n",
       "</style>\n",
       "<table border=\"1\" class=\"dataframe\">\n",
       "  <thead>\n",
       "    <tr style=\"text-align: right;\">\n",
       "      <th></th>\n",
       "      <th>att1</th>\n",
       "      <th>att2</th>\n",
       "      <th>att3</th>\n",
       "      <th>att4</th>\n",
       "      <th>att5</th>\n",
       "      <th>att6</th>\n",
       "      <th>att7</th>\n",
       "      <th>att8</th>\n",
       "      <th>att9</th>\n",
       "      <th>att10</th>\n",
       "      <th>...</th>\n",
       "      <th>att1016</th>\n",
       "      <th>att1017</th>\n",
       "      <th>att1018</th>\n",
       "      <th>att1019</th>\n",
       "      <th>att1020</th>\n",
       "      <th>att1021</th>\n",
       "      <th>att1022</th>\n",
       "      <th>att1023</th>\n",
       "      <th>att1024</th>\n",
       "      <th>target</th>\n",
       "    </tr>\n",
       "  </thead>\n",
       "  <tbody>\n",
       "    <tr>\n",
       "      <th>0</th>\n",
       "      <td>0.537303</td>\n",
       "      <td>0.531103</td>\n",
       "      <td>0.528503</td>\n",
       "      <td>0.529403</td>\n",
       "      <td>0.533603</td>\n",
       "      <td>0.540903</td>\n",
       "      <td>0.551103</td>\n",
       "      <td>0.564003</td>\n",
       "      <td>0.579603</td>\n",
       "      <td>0.597603</td>\n",
       "      <td>...</td>\n",
       "      <td>0.546903</td>\n",
       "      <td>0.545903</td>\n",
       "      <td>0.543903</td>\n",
       "      <td>0.541003</td>\n",
       "      <td>0.537203</td>\n",
       "      <td>0.532303</td>\n",
       "      <td>0.526403</td>\n",
       "      <td>0.519503</td>\n",
       "      <td>0.511403</td>\n",
       "      <td>b'3'</td>\n",
       "    </tr>\n",
       "    <tr>\n",
       "      <th>1</th>\n",
       "      <td>0.588398</td>\n",
       "      <td>0.593898</td>\n",
       "      <td>0.599098</td>\n",
       "      <td>0.604098</td>\n",
       "      <td>0.608798</td>\n",
       "      <td>0.613397</td>\n",
       "      <td>0.617797</td>\n",
       "      <td>0.622097</td>\n",
       "      <td>0.626097</td>\n",
       "      <td>0.630097</td>\n",
       "      <td>...</td>\n",
       "      <td>0.237399</td>\n",
       "      <td>0.246499</td>\n",
       "      <td>0.256199</td>\n",
       "      <td>0.266499</td>\n",
       "      <td>0.277399</td>\n",
       "      <td>0.288799</td>\n",
       "      <td>0.300899</td>\n",
       "      <td>0.313599</td>\n",
       "      <td>0.326899</td>\n",
       "      <td>b'3'</td>\n",
       "    </tr>\n",
       "    <tr>\n",
       "      <th>2</th>\n",
       "      <td>-0.049900</td>\n",
       "      <td>-0.041500</td>\n",
       "      <td>-0.033400</td>\n",
       "      <td>-0.025600</td>\n",
       "      <td>-0.018100</td>\n",
       "      <td>-0.010800</td>\n",
       "      <td>-0.003800</td>\n",
       "      <td>0.003000</td>\n",
       "      <td>0.009600</td>\n",
       "      <td>0.015900</td>\n",
       "      <td>...</td>\n",
       "      <td>-0.173801</td>\n",
       "      <td>-0.161601</td>\n",
       "      <td>-0.149201</td>\n",
       "      <td>-0.136401</td>\n",
       "      <td>-0.123201</td>\n",
       "      <td>-0.109701</td>\n",
       "      <td>-0.095901</td>\n",
       "      <td>-0.081701</td>\n",
       "      <td>-0.067100</td>\n",
       "      <td>b'1'</td>\n",
       "    </tr>\n",
       "    <tr>\n",
       "      <th>3</th>\n",
       "      <td>1.337005</td>\n",
       "      <td>1.319805</td>\n",
       "      <td>1.302905</td>\n",
       "      <td>1.286305</td>\n",
       "      <td>1.270005</td>\n",
       "      <td>1.254005</td>\n",
       "      <td>1.238304</td>\n",
       "      <td>1.223005</td>\n",
       "      <td>1.208104</td>\n",
       "      <td>1.193504</td>\n",
       "      <td>...</td>\n",
       "      <td>1.288905</td>\n",
       "      <td>1.298505</td>\n",
       "      <td>1.307705</td>\n",
       "      <td>1.316505</td>\n",
       "      <td>1.324905</td>\n",
       "      <td>1.332805</td>\n",
       "      <td>1.340205</td>\n",
       "      <td>1.347005</td>\n",
       "      <td>1.353205</td>\n",
       "      <td>b'3'</td>\n",
       "    </tr>\n",
       "    <tr>\n",
       "      <th>4</th>\n",
       "      <td>0.769801</td>\n",
       "      <td>0.775301</td>\n",
       "      <td>0.780401</td>\n",
       "      <td>0.785101</td>\n",
       "      <td>0.789401</td>\n",
       "      <td>0.793301</td>\n",
       "      <td>0.796801</td>\n",
       "      <td>0.799901</td>\n",
       "      <td>0.802601</td>\n",
       "      <td>0.805101</td>\n",
       "      <td>...</td>\n",
       "      <td>0.742401</td>\n",
       "      <td>0.744501</td>\n",
       "      <td>0.747301</td>\n",
       "      <td>0.750701</td>\n",
       "      <td>0.754801</td>\n",
       "      <td>0.759501</td>\n",
       "      <td>0.765001</td>\n",
       "      <td>0.771301</td>\n",
       "      <td>0.778401</td>\n",
       "      <td>b'3'</td>\n",
       "    </tr>\n",
       "  </tbody>\n",
       "</table>\n",
       "<p>5 rows × 1025 columns</p>\n",
       "</div>"
      ],
      "text/plain": [
       "       att1      att2      att3      att4      att5      att6      att7  \\\n",
       "0  0.537303  0.531103  0.528503  0.529403  0.533603  0.540903  0.551103   \n",
       "1  0.588398  0.593898  0.599098  0.604098  0.608798  0.613397  0.617797   \n",
       "2 -0.049900 -0.041500 -0.033400 -0.025600 -0.018100 -0.010800 -0.003800   \n",
       "3  1.337005  1.319805  1.302905  1.286305  1.270005  1.254005  1.238304   \n",
       "4  0.769801  0.775301  0.780401  0.785101  0.789401  0.793301  0.796801   \n",
       "\n",
       "       att8      att9     att10  ...   att1016   att1017   att1018   att1019  \\\n",
       "0  0.564003  0.579603  0.597603  ...  0.546903  0.545903  0.543903  0.541003   \n",
       "1  0.622097  0.626097  0.630097  ...  0.237399  0.246499  0.256199  0.266499   \n",
       "2  0.003000  0.009600  0.015900  ... -0.173801 -0.161601 -0.149201 -0.136401   \n",
       "3  1.223005  1.208104  1.193504  ...  1.288905  1.298505  1.307705  1.316505   \n",
       "4  0.799901  0.802601  0.805101  ...  0.742401  0.744501  0.747301  0.750701   \n",
       "\n",
       "    att1020   att1021   att1022   att1023   att1024  target  \n",
       "0  0.537203  0.532303  0.526403  0.519503  0.511403    b'3'  \n",
       "1  0.277399  0.288799  0.300899  0.313599  0.326899    b'3'  \n",
       "2 -0.123201 -0.109701 -0.095901 -0.081701 -0.067100    b'1'  \n",
       "3  1.324905  1.332805  1.340205  1.347005  1.353205    b'3'  \n",
       "4  0.754801  0.759501  0.765001  0.771301  0.778401    b'3'  \n",
       "\n",
       "[5 rows x 1025 columns]"
      ]
     },
     "execution_count": null,
     "metadata": {},
     "output_type": "execute_result"
    }
   ],
   "source": [
    "df_train.head()"
   ]
  },
  {
   "cell_type": "code",
   "execution_count": null,
   "metadata": {},
   "outputs": [
    {
     "data": {
      "text/plain": [
       "['att1', 'att2', 'att3', 'att4', 'att5']"
      ]
     },
     "execution_count": null,
     "metadata": {},
     "output_type": "execute_result"
    }
   ],
   "source": [
    "x_cols = df_train.columns[slice(0,-1)].to_list()\n",
    "x_cols[0:5]"
   ]
  },
  {
   "cell_type": "markdown",
   "metadata": {},
   "source": [
    "## Tabular based DL"
   ]
  },
  {
   "cell_type": "code",
   "execution_count": null,
   "metadata": {},
   "outputs": [],
   "source": [
    "from timeseries_fastai.tabular import *"
   ]
  },
  {
   "cell_type": "code",
   "execution_count": null,
   "metadata": {},
   "outputs": [],
   "source": [
    "df_main = stack_train_valid(df_train, df_test)\n",
    "splits=[range_of(df_train), list(range(len(df_train), len(df_main)))]\n",
    "to = TSPandas(df_main, Normalize, x_names=x_cols, y_names='target', splits=splits)"
   ]
  },
  {
   "cell_type": "code",
   "execution_count": null,
   "metadata": {},
   "outputs": [],
   "source": [
    "dls = to.dataloaders(32, 128)"
   ]
  },
  {
   "cell_type": "markdown",
   "metadata": {},
   "source": [
    "My very basic performance test"
   ]
  },
  {
   "cell_type": "code",
   "execution_count": null,
   "metadata": {},
   "outputs": [],
   "source": [
    "def cycle_dl(dl):\n",
    "    for x,y in iter(dl):\n",
    "        pass"
   ]
  },
  {
   "cell_type": "code",
   "execution_count": null,
   "metadata": {},
   "outputs": [
    {
     "name": "stdout",
     "output_type": "stream",
     "text": [
      "CPU times: user 741 ms, sys: 1.42 ms, total: 742 ms\n",
      "Wall time: 188 ms\n"
     ]
    }
   ],
   "source": [
    "%time cycle_dl(dls.valid)"
   ]
  },
  {
   "cell_type": "markdown",
   "metadata": {},
   "source": [
    "# Row by Row pandas DataLoader\n",
    "> as defined on notebook 01"
   ]
  },
  {
   "cell_type": "code",
   "execution_count": null,
   "metadata": {},
   "outputs": [],
   "source": [
    "from timeseries_fastai.data import *"
   ]
  },
  {
   "cell_type": "code",
   "execution_count": null,
   "metadata": {},
   "outputs": [],
   "source": [
    "tsdls = TSDataLoaders.from_dfs(df_train, df_test, x_cols=x_cols, label_col='target', bs=32, val_bs=128)"
   ]
  },
  {
   "cell_type": "code",
   "execution_count": null,
   "metadata": {},
   "outputs": [
    {
     "name": "stdout",
     "output_type": "stream",
     "text": [
      "CPU times: user 115 ms, sys: 630 ms, total: 745 ms\n",
      "Wall time: 8.27 s\n"
     ]
    }
   ],
   "source": [
    "%time cycle_dl(tsdls.valid)"
   ]
  },
  {
   "cell_type": "markdown",
   "metadata": {},
   "source": [
    "# Naive approach"
   ]
  },
  {
   "cell_type": "code",
   "execution_count": null,
   "metadata": {},
   "outputs": [
    {
     "data": {
      "text/plain": [
       "att1      -0.569701\n",
       "att2      -0.567901\n",
       "att3      -0.565901\n",
       "att4      -0.563701\n",
       "att5      -0.561501\n",
       "             ...   \n",
       "att1021   -0.543001\n",
       "att1022   -0.548501\n",
       "att1023   -0.554501\n",
       "att1024   -0.560801\n",
       "target         b'2'\n",
       "Name: 0, Length: 1025, dtype: object"
      ]
     },
     "execution_count": null,
     "metadata": {},
     "output_type": "execute_result"
    }
   ],
   "source": [
    "tfl = TfmdLists(df_test, [noop])\n",
    "tfl[0]"
   ]
  },
  {
   "cell_type": "code",
   "execution_count": null,
   "metadata": {},
   "outputs": [],
   "source": [
    "def get_x(row): return row.values[:1024].astype(np.float32)"
   ]
  },
  {
   "cell_type": "code",
   "execution_count": null,
   "metadata": {},
   "outputs": [
    {
     "data": {
      "text/plain": [
       "array([-0.56970096, -0.56790096, -0.565901  , ..., -0.5485009 ,\n",
       "       -0.55450094, -0.56080097], dtype=float32)"
      ]
     },
     "execution_count": null,
     "metadata": {},
     "output_type": "execute_result"
    }
   ],
   "source": [
    "get_x(df_test.iloc[0])"
   ]
  },
  {
   "cell_type": "code",
   "execution_count": null,
   "metadata": {},
   "outputs": [
    {
     "data": {
      "text/plain": [
       "array([0.5373029 , 0.53110296, 0.52850294, ..., 0.52640295, 0.51950294,\n",
       "       0.51140296], dtype=float32)"
      ]
     },
     "execution_count": null,
     "metadata": {},
     "output_type": "execute_result"
    }
   ],
   "source": [
    "tfl = TfmdLists(df_main, [get_x])\n",
    "tfl[0]"
   ]
  },
  {
   "cell_type": "code",
   "execution_count": null,
   "metadata": {},
   "outputs": [],
   "source": [
    "def get_y(row): return row.values[1024]"
   ]
  },
  {
   "cell_type": "code",
   "execution_count": null,
   "metadata": {},
   "outputs": [
    {
     "data": {
      "text/plain": [
       "b'2'"
      ]
     },
     "execution_count": null,
     "metadata": {},
     "output_type": "execute_result"
    }
   ],
   "source": [
    "get_y(df_test.iloc[0])"
   ]
  },
  {
   "cell_type": "code",
   "execution_count": null,
   "metadata": {},
   "outputs": [],
   "source": [
    "tfl_y = TfmdLists(df_test, [get_y])"
   ]
  },
  {
   "cell_type": "code",
   "execution_count": null,
   "metadata": {},
   "outputs": [
    {
     "data": {
      "text/plain": [
       "b'2'"
      ]
     },
     "execution_count": null,
     "metadata": {},
     "output_type": "execute_result"
    }
   ],
   "source": [
    "tfl_y[0]"
   ]
  },
  {
   "cell_type": "markdown",
   "metadata": {},
   "source": [
    "SLOW: It is the Categorize setup:"
   ]
  },
  {
   "cell_type": "code",
   "execution_count": null,
   "metadata": {},
   "outputs": [
    {
     "name": "stdout",
     "output_type": "stream",
     "text": [
      "CPU times: user 4 s, sys: 77.5 ms, total: 4.07 s\n",
      "Wall time: 3.8 s\n"
     ]
    }
   ],
   "source": [
    "%time tfl_y = TfmdLists(df_test, [get_y, Categorize])"
   ]
  },
  {
   "cell_type": "markdown",
   "metadata": {},
   "source": [
    "### Let's check the Pipeline"
   ]
  },
  {
   "cell_type": "code",
   "execution_count": null,
   "metadata": {},
   "outputs": [],
   "source": [
    "cat = Categorize()\n",
    "cat.setup(L(get_y(row) for index, row in df_test.iterrows()))"
   ]
  },
  {
   "cell_type": "code",
   "execution_count": null,
   "metadata": {},
   "outputs": [],
   "source": [
    "pipe = Pipeline([get_y, cat])"
   ]
  },
  {
   "cell_type": "code",
   "execution_count": null,
   "metadata": {},
   "outputs": [],
   "source": [
    "%time [pipe(df_test.iloc[i]) for i in range_of(df_test)]"
   ]
  },
  {
   "cell_type": "markdown",
   "metadata": {},
   "source": [
    "### Two tfmdLists stacked together, A Dataset"
   ]
  },
  {
   "cell_type": "code",
   "execution_count": null,
   "metadata": {},
   "outputs": [
    {
     "data": {
      "text/plain": [
       "(array([-0.56970096, -0.56790096, -0.565901  , ..., -0.5485009 ,\n",
       "        -0.55450094, -0.56080097], dtype=float32),\n",
       " TensorCategory(1))"
      ]
     },
     "execution_count": null,
     "metadata": {},
     "output_type": "execute_result"
    }
   ],
   "source": [
    "ds = Datasets(df_test, [[get_x], [get_y,Categorize]])\n",
    "ds[0]"
   ]
  },
  {
   "cell_type": "code",
   "execution_count": null,
   "metadata": {},
   "outputs": [],
   "source": [
    "dl = DataLoader(ds, bs=128)"
   ]
  },
  {
   "cell_type": "code",
   "execution_count": null,
   "metadata": {},
   "outputs": [
    {
     "name": "stdout",
     "output_type": "stream",
     "text": [
      "CPU times: user 8.08 s, sys: 428 µs, total: 8.09 s\n",
      "Wall time: 8.07 s\n"
     ]
    }
   ],
   "source": [
    "%time cycle_dl(dl)"
   ]
  },
  {
   "cell_type": "markdown",
   "metadata": {},
   "source": [
    "# DBlock\n",
    ">Somewhat faster"
   ]
  },
  {
   "cell_type": "code",
   "execution_count": null,
   "metadata": {},
   "outputs": [],
   "source": [
    "dblock = DataBlock(\n",
    "    get_x = get_x,\n",
    "    get_y = (get_y, Categorize),\n",
    "    splitter=ColSplitter('valid_col') # having a validation set is crucial for any task,\n",
    ")  "
   ]
  },
  {
   "cell_type": "code",
   "execution_count": null,
   "metadata": {},
   "outputs": [],
   "source": [
    "dbdls = dblock.dataloaders(df_main, bs=32, val_bs=128)"
   ]
  },
  {
   "cell_type": "code",
   "execution_count": null,
   "metadata": {},
   "outputs": [
    {
     "name": "stdout",
     "output_type": "stream",
     "text": [
      "CPU times: user 128 ms, sys: 613 ms, total: 741 ms\n",
      "Wall time: 2.23 s\n"
     ]
    }
   ],
   "source": [
    "%time cycle_dl(dbdls.valid)"
   ]
  },
  {
   "cell_type": "markdown",
   "metadata": {},
   "source": [
    "somewhat faster, don't know why!"
   ]
  },
  {
   "cell_type": "code",
   "execution_count": null,
   "metadata": {},
   "outputs": [
    {
     "data": {
      "text/plain": [
       "(#9236) [(array([0.5373029 , 0.53110296, 0.52850294, ..., 0.52640295, 0.51950294,\n",
       "       0.51140296], dtype=float32), TensorCategory(2)),(array([0.5883976 , 0.5938976 , 0.59909755, ..., 0.30089882, 0.31359878,\n",
       "       0.32689872], dtype=float32), TensorCategory(2)),(array([-0.04990044, -0.04150042, -0.03340039, ..., -0.09590058,\n",
       "       -0.08170054, -0.0671005 ], dtype=float32), TensorCategory(0)),(array([1.3370049, 1.3198048, 1.3029048, ..., 1.340205 , 1.3470049,\n",
       "       1.353205 ], dtype=float32), TensorCategory(2)),(array([0.76980066, 0.7753006 , 0.78040063, ..., 0.76500064, 0.7713006 ,\n",
       "       0.77840066], dtype=float32), TensorCategory(2)),(array([-0.41120073, -0.41930076, -0.42610076, ..., -0.45580086,\n",
       "       -0.46380088, -0.4728009 ], dtype=float32), TensorCategory(1)),(array([0.7147005 , 0.7171005 , 0.7189005 , ..., 0.74120045, 0.73590046,\n",
       "       0.7304005 ], dtype=float32), TensorCategory(2)),(array([-0.6439008 , -0.64870083, -0.65320086, ..., -0.63650084,\n",
       "       -0.6361008 , -0.63580084], dtype=float32), TensorCategory(1)),(array([0.86189663, 0.8727966 , 0.8826966 , ..., 0.8326967 , 0.8362967 ,\n",
       "       0.8405967 ], dtype=float32), TensorCategory(2)),(array([0.64899826, 0.64639825, 0.64389825, ..., 0.63929826, 0.64599824,\n",
       "       0.6518982 ], dtype=float32), TensorCategory(2))...]"
      ]
     },
     "execution_count": null,
     "metadata": {},
     "output_type": "execute_result"
    }
   ],
   "source": [
    "ds = dblock.datasets(df_main)\n",
    "ds"
   ]
  },
  {
   "cell_type": "markdown",
   "metadata": {},
   "source": [
    "Categorize is slow on this column maybe?"
   ]
  },
  {
   "cell_type": "code",
   "execution_count": null,
   "metadata": {},
   "outputs": [
    {
     "name": "stdout",
     "output_type": "stream",
     "text": [
      "248 µs ± 1.48 µs per loop (mean ± std. dev. of 7 runs, 1000 loops each)\n"
     ]
    }
   ],
   "source": [
    "%timeit vocab = CategoryMap(df_main['target'])"
   ]
  },
  {
   "cell_type": "code",
   "execution_count": null,
   "metadata": {},
   "outputs": [
    {
     "name": "stdout",
     "output_type": "stream",
     "text": [
      "599 µs ± 1.46 µs per loop (mean ± std. dev. of 7 runs, 1000 loops each)\n"
     ]
    }
   ],
   "source": [
    "%timeit vocab = CategoryMap([v for v in df_main['target']])"
   ]
  },
  {
   "cell_type": "code",
   "execution_count": null,
   "metadata": {},
   "outputs": [
    {
     "data": {
      "text/plain": [
       "{b'1': 0, b'2': 1, b'3': 2}"
      ]
     },
     "execution_count": null,
     "metadata": {},
     "output_type": "execute_result"
    }
   ],
   "source": [
    "vocab.o2i"
   ]
  },
  {
   "cell_type": "markdown",
   "metadata": {},
   "source": [
    "# Categorize setup is slow over a big DataFrame.\n",
    "- Why the map is slow later then?"
   ]
  },
  {
   "cell_type": "code",
   "execution_count": null,
   "metadata": {},
   "outputs": [],
   "source": []
  }
 ],
 "metadata": {
  "kernelspec": {
   "display_name": "Python 3",
   "language": "python",
   "name": "python3"
  }
 },
 "nbformat": 4,
 "nbformat_minor": 4
}
