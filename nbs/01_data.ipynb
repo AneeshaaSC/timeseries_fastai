{
 "cells": [
  {
   "cell_type": "code",
   "execution_count": null,
   "metadata": {},
   "outputs": [],
   "source": [
    "#default_exp data"
   ]
  },
  {
   "cell_type": "code",
   "execution_count": null,
   "metadata": {},
   "outputs": [],
   "source": [
    "#export\n",
    "from timeseries_fastai.imports import *\n",
    "from timeseries_fastai.core import *\n",
    "from fastai2.basics import *\n",
    "from fastai2.torch_core import *\n",
    "from fastai2.vision.data import get_grid"
   ]
  },
  {
   "cell_type": "markdown",
   "metadata": {},
   "source": [
    "# Data\n",
    "> DataBlock API to construct the DataLoaders"
   ]
  },
  {
   "cell_type": "code",
   "execution_count": null,
   "metadata": {},
   "outputs": [],
   "source": [
    "#hide\n",
    "from nbdev.showdoc import show_doc"
   ]
  },
  {
   "cell_type": "markdown",
   "metadata": {},
   "source": [
    "We will create a DataBlock to process our UCR datasets"
   ]
  },
  {
   "cell_type": "code",
   "execution_count": null,
   "metadata": {},
   "outputs": [],
   "source": [
    "ucr_path = untar_data(URLs.UCR)"
   ]
  },
  {
   "cell_type": "code",
   "execution_count": null,
   "metadata": {},
   "outputs": [
    {
     "name": "stdout",
     "output_type": "stream",
     "text": [
      "Loading files from: /home/tc256760/.fastai/data/Univariate2018_arff/StarLightCurves\n"
     ]
    }
   ],
   "source": [
    "df_train, df_test = load_df_ucr(ucr_path, 'StarLightCurves')"
   ]
  },
  {
   "cell_type": "code",
   "execution_count": null,
   "metadata": {},
   "outputs": [
    {
     "data": {
      "text/html": [
       "<div>\n",
       "<style scoped>\n",
       "    .dataframe tbody tr th:only-of-type {\n",
       "        vertical-align: middle;\n",
       "    }\n",
       "\n",
       "    .dataframe tbody tr th {\n",
       "        vertical-align: top;\n",
       "    }\n",
       "\n",
       "    .dataframe thead th {\n",
       "        text-align: right;\n",
       "    }\n",
       "</style>\n",
       "<table border=\"1\" class=\"dataframe\">\n",
       "  <thead>\n",
       "    <tr style=\"text-align: right;\">\n",
       "      <th></th>\n",
       "      <th>att1</th>\n",
       "      <th>att2</th>\n",
       "      <th>att3</th>\n",
       "      <th>att4</th>\n",
       "      <th>att5</th>\n",
       "      <th>att6</th>\n",
       "      <th>att7</th>\n",
       "      <th>att8</th>\n",
       "      <th>att9</th>\n",
       "      <th>att10</th>\n",
       "      <th>...</th>\n",
       "      <th>att1016</th>\n",
       "      <th>att1017</th>\n",
       "      <th>att1018</th>\n",
       "      <th>att1019</th>\n",
       "      <th>att1020</th>\n",
       "      <th>att1021</th>\n",
       "      <th>att1022</th>\n",
       "      <th>att1023</th>\n",
       "      <th>att1024</th>\n",
       "      <th>target</th>\n",
       "    </tr>\n",
       "  </thead>\n",
       "  <tbody>\n",
       "    <tr>\n",
       "      <th>0</th>\n",
       "      <td>0.537303</td>\n",
       "      <td>0.531103</td>\n",
       "      <td>0.528503</td>\n",
       "      <td>0.529403</td>\n",
       "      <td>0.533603</td>\n",
       "      <td>0.540903</td>\n",
       "      <td>0.551103</td>\n",
       "      <td>0.564003</td>\n",
       "      <td>0.579603</td>\n",
       "      <td>0.597603</td>\n",
       "      <td>...</td>\n",
       "      <td>0.546903</td>\n",
       "      <td>0.545903</td>\n",
       "      <td>0.543903</td>\n",
       "      <td>0.541003</td>\n",
       "      <td>0.537203</td>\n",
       "      <td>0.532303</td>\n",
       "      <td>0.526403</td>\n",
       "      <td>0.519503</td>\n",
       "      <td>0.511403</td>\n",
       "      <td>b'3'</td>\n",
       "    </tr>\n",
       "    <tr>\n",
       "      <th>1</th>\n",
       "      <td>0.588398</td>\n",
       "      <td>0.593898</td>\n",
       "      <td>0.599098</td>\n",
       "      <td>0.604098</td>\n",
       "      <td>0.608798</td>\n",
       "      <td>0.613397</td>\n",
       "      <td>0.617797</td>\n",
       "      <td>0.622097</td>\n",
       "      <td>0.626097</td>\n",
       "      <td>0.630097</td>\n",
       "      <td>...</td>\n",
       "      <td>0.237399</td>\n",
       "      <td>0.246499</td>\n",
       "      <td>0.256199</td>\n",
       "      <td>0.266499</td>\n",
       "      <td>0.277399</td>\n",
       "      <td>0.288799</td>\n",
       "      <td>0.300899</td>\n",
       "      <td>0.313599</td>\n",
       "      <td>0.326899</td>\n",
       "      <td>b'3'</td>\n",
       "    </tr>\n",
       "    <tr>\n",
       "      <th>2</th>\n",
       "      <td>-0.049900</td>\n",
       "      <td>-0.041500</td>\n",
       "      <td>-0.033400</td>\n",
       "      <td>-0.025600</td>\n",
       "      <td>-0.018100</td>\n",
       "      <td>-0.010800</td>\n",
       "      <td>-0.003800</td>\n",
       "      <td>0.003000</td>\n",
       "      <td>0.009600</td>\n",
       "      <td>0.015900</td>\n",
       "      <td>...</td>\n",
       "      <td>-0.173801</td>\n",
       "      <td>-0.161601</td>\n",
       "      <td>-0.149201</td>\n",
       "      <td>-0.136401</td>\n",
       "      <td>-0.123201</td>\n",
       "      <td>-0.109701</td>\n",
       "      <td>-0.095901</td>\n",
       "      <td>-0.081701</td>\n",
       "      <td>-0.067100</td>\n",
       "      <td>b'1'</td>\n",
       "    </tr>\n",
       "    <tr>\n",
       "      <th>3</th>\n",
       "      <td>1.337005</td>\n",
       "      <td>1.319805</td>\n",
       "      <td>1.302905</td>\n",
       "      <td>1.286305</td>\n",
       "      <td>1.270005</td>\n",
       "      <td>1.254005</td>\n",
       "      <td>1.238304</td>\n",
       "      <td>1.223005</td>\n",
       "      <td>1.208104</td>\n",
       "      <td>1.193504</td>\n",
       "      <td>...</td>\n",
       "      <td>1.288905</td>\n",
       "      <td>1.298505</td>\n",
       "      <td>1.307705</td>\n",
       "      <td>1.316505</td>\n",
       "      <td>1.324905</td>\n",
       "      <td>1.332805</td>\n",
       "      <td>1.340205</td>\n",
       "      <td>1.347005</td>\n",
       "      <td>1.353205</td>\n",
       "      <td>b'3'</td>\n",
       "    </tr>\n",
       "    <tr>\n",
       "      <th>4</th>\n",
       "      <td>0.769801</td>\n",
       "      <td>0.775301</td>\n",
       "      <td>0.780401</td>\n",
       "      <td>0.785101</td>\n",
       "      <td>0.789401</td>\n",
       "      <td>0.793301</td>\n",
       "      <td>0.796801</td>\n",
       "      <td>0.799901</td>\n",
       "      <td>0.802601</td>\n",
       "      <td>0.805101</td>\n",
       "      <td>...</td>\n",
       "      <td>0.742401</td>\n",
       "      <td>0.744501</td>\n",
       "      <td>0.747301</td>\n",
       "      <td>0.750701</td>\n",
       "      <td>0.754801</td>\n",
       "      <td>0.759501</td>\n",
       "      <td>0.765001</td>\n",
       "      <td>0.771301</td>\n",
       "      <td>0.778401</td>\n",
       "      <td>b'3'</td>\n",
       "    </tr>\n",
       "  </tbody>\n",
       "</table>\n",
       "<p>5 rows × 1025 columns</p>\n",
       "</div>"
      ],
      "text/plain": [
       "       att1      att2      att3      att4      att5      att6      att7  \\\n",
       "0  0.537303  0.531103  0.528503  0.529403  0.533603  0.540903  0.551103   \n",
       "1  0.588398  0.593898  0.599098  0.604098  0.608798  0.613397  0.617797   \n",
       "2 -0.049900 -0.041500 -0.033400 -0.025600 -0.018100 -0.010800 -0.003800   \n",
       "3  1.337005  1.319805  1.302905  1.286305  1.270005  1.254005  1.238304   \n",
       "4  0.769801  0.775301  0.780401  0.785101  0.789401  0.793301  0.796801   \n",
       "\n",
       "       att8      att9     att10  ...   att1016   att1017   att1018   att1019  \\\n",
       "0  0.564003  0.579603  0.597603  ...  0.546903  0.545903  0.543903  0.541003   \n",
       "1  0.622097  0.626097  0.630097  ...  0.237399  0.246499  0.256199  0.266499   \n",
       "2  0.003000  0.009600  0.015900  ... -0.173801 -0.161601 -0.149201 -0.136401   \n",
       "3  1.223005  1.208104  1.193504  ...  1.288905  1.298505  1.307705  1.316505   \n",
       "4  0.799901  0.802601  0.805101  ...  0.742401  0.744501  0.747301  0.750701   \n",
       "\n",
       "    att1020   att1021   att1022   att1023   att1024  target  \n",
       "0  0.537203  0.532303  0.526403  0.519503  0.511403    b'3'  \n",
       "1  0.277399  0.288799  0.300899  0.313599  0.326899    b'3'  \n",
       "2 -0.123201 -0.109701 -0.095901 -0.081701 -0.067100    b'1'  \n",
       "3  1.324905  1.332805  1.340205  1.347005  1.353205    b'3'  \n",
       "4  0.754801  0.759501  0.765001  0.771301  0.778401    b'3'  \n",
       "\n",
       "[5 rows x 1025 columns]"
      ]
     },
     "execution_count": null,
     "metadata": {},
     "output_type": "execute_result"
    }
   ],
   "source": [
    "df_train.head()"
   ]
  },
  {
   "cell_type": "code",
   "execution_count": null,
   "metadata": {},
   "outputs": [
    {
     "data": {
      "text/plain": [
       "['att1', 'att2', 'att3', 'att4', 'att5']"
      ]
     },
     "execution_count": null,
     "metadata": {},
     "output_type": "execute_result"
    }
   ],
   "source": [
    "x_cols = df_train.columns[slice(0,-1)].to_list()\n",
    "x_cols[0:5]"
   ]
  },
  {
   "cell_type": "code",
   "execution_count": null,
   "metadata": {},
   "outputs": [],
   "source": [
    "#export\n",
    "def TSBlock(cls=TSeries): \n",
    "    \"A TimeSeries Block to process one timeseries\"\n",
    "    return TransformBlock(type_tfms=cls.create)"
   ]
  },
  {
   "cell_type": "code",
   "execution_count": null,
   "metadata": {},
   "outputs": [],
   "source": [
    "dblock = DataBlock(blocks=(TSBlock, CategoryBlock),\n",
    "                           get_x=lambda o: o[x_cols].astype(np.float32),\n",
    "                           get_y=ColReader('target'),\n",
    "                           splitter=RandomSplitter(0.2))"
   ]
  },
  {
   "cell_type": "markdown",
   "metadata": {},
   "source": [
    "A good way to debug the Block is using summary:"
   ]
  },
  {
   "cell_type": "code",
   "execution_count": null,
   "metadata": {},
   "outputs": [
    {
     "name": "stdout",
     "output_type": "stream",
     "text": [
      "Setting-up type transforms pipelines\n",
      "Collecting items from          att1      att2      att3      att4      att5      att6      att7  \\\n",
      "0    0.537303  0.531103  0.528503  0.529403  0.533603  0.540903  0.551103   \n",
      "1    0.588398  0.593898  0.599098  0.604098  0.608798  0.613397  0.617797   \n",
      "2   -0.049900 -0.041500 -0.033400 -0.025600 -0.018100 -0.010800 -0.003800   \n",
      "3    1.337005  1.319805  1.302905  1.286305  1.270005  1.254005  1.238304   \n",
      "4    0.769801  0.775301  0.780401  0.785101  0.789401  0.793301  0.796801   \n",
      "..        ...       ...       ...       ...       ...       ...       ...   \n",
      "995 -0.751000 -0.749100 -0.747100 -0.745200 -0.743300 -0.741500 -0.739600   \n",
      "996  0.867600  0.860300  0.853300  0.846500  0.840100  0.834000  0.828100   \n",
      "997  0.087398  0.097398  0.107698  0.118298  0.129298  0.140398  0.151898   \n",
      "998  0.664799  0.654799  0.646099  0.638599  0.632299  0.627199  0.623099   \n",
      "999  0.563602  0.569502  0.574902  0.579702  0.583902  0.587702  0.591002   \n",
      "\n",
      "         att8      att9     att10  ...   att1016   att1017   att1018  \\\n",
      "0    0.564003  0.579603  0.597603  ...  0.546903  0.545903  0.543903   \n",
      "1    0.622097  0.626097  0.630097  ...  0.237399  0.246499  0.256199   \n",
      "2    0.003000  0.009600  0.015900  ... -0.173801 -0.161601 -0.149201   \n",
      "3    1.223005  1.208104  1.193504  ...  1.288905  1.298505  1.307705   \n",
      "4    0.799901  0.802601  0.805101  ...  0.742401  0.744501  0.747301   \n",
      "..        ...       ...       ...  ...       ...       ...       ...   \n",
      "995 -0.737800 -0.735900 -0.734100  ... -0.768600 -0.766100 -0.763500   \n",
      "996  0.822600  0.817400  0.812500  ...  0.847500  0.849800  0.852100   \n",
      "997  0.163498  0.175398  0.187498  ...  0.012198  0.022098  0.032398   \n",
      "998  0.619999  0.617899  0.616699  ...  0.699299  0.698899  0.698099   \n",
      "999  0.593802  0.596202  0.598302  ...  0.176101  0.203402  0.233902   \n",
      "\n",
      "      att1019   att1020   att1021   att1022   att1023   att1024  target  \n",
      "0    0.541003  0.537203  0.532303  0.526403  0.519503  0.511403    b'3'  \n",
      "1    0.266499  0.277399  0.288799  0.300899  0.313599  0.326899    b'3'  \n",
      "2   -0.136401 -0.123201 -0.109701 -0.095901 -0.081701 -0.067100    b'1'  \n",
      "3    1.316505  1.324905  1.332805  1.340205  1.347005  1.353205    b'3'  \n",
      "4    0.750701  0.754801  0.759501  0.765001  0.771301  0.778401    b'3'  \n",
      "..        ...       ...       ...       ...       ...       ...     ...  \n",
      "995 -0.760700 -0.757800 -0.754700 -0.751500 -0.748100 -0.744600    b'2'  \n",
      "996  0.854400  0.856800  0.859200  0.861700  0.864100  0.866600    b'3'  \n",
      "997  0.042898  0.053798  0.065098  0.076698  0.088698  0.101098    b'1'  \n",
      "998  0.696899  0.695299  0.693299  0.690799  0.687799  0.684399    b'3'  \n",
      "999  0.267602  0.304802  0.345602  0.390102  0.438302  0.490602    b'3'  \n",
      "\n",
      "[1000 rows x 1025 columns]\n",
      "Found 1000 items\n",
      "2 datasets of sizes 800,200\n",
      "Setting up Pipeline: <lambda> -> TSeries.create\n",
      "Setting up Pipeline: ColReader -> Categorize\n",
      "\n",
      "Building one sample\n",
      "  Pipeline: <lambda> -> TSeries.create\n",
      "    starting from\n",
      "      att1       1.0183\n",
      "att2       1.0157\n",
      "att3       1.0132\n",
      "att4       1.0107\n",
      "att5       1.0082\n",
      "            ...  \n",
      "att1021    1.0826\n",
      "att1022    1.0655\n",
      "att1023    1.0459\n",
      "att1024    1.0235\n",
      "target       b'3'\n",
      "Name: 436, Length: 1025, dtype: object\n",
      "    applying <lambda> gives\n",
      "      att1       1.018299\n",
      "att2       1.015699\n",
      "att3       1.013198\n",
      "att4       1.010699\n",
      "att5       1.008198\n",
      "             ...   \n",
      "att1020    1.097099\n",
      "att1021    1.082599\n",
      "att1022    1.065499\n",
      "att1023    1.045899\n",
      "att1024    1.023499\n",
      "Name: 436, Length: 1024, dtype: float32\n",
      "    applying TSeries.create gives\n",
      "      TSeries of size 1x1024\n",
      "  Pipeline: ColReader -> Categorize\n",
      "    starting from\n",
      "      att1       1.0183\n",
      "att2       1.0157\n",
      "att3       1.0132\n",
      "att4       1.0107\n",
      "att5       1.0082\n",
      "            ...  \n",
      "att1021    1.0826\n",
      "att1022    1.0655\n",
      "att1023    1.0459\n",
      "att1024    1.0235\n",
      "target       b'3'\n",
      "Name: 436, Length: 1025, dtype: object\n",
      "    applying ColReader gives\n",
      "      b'3'\n",
      "    applying Categorize gives\n",
      "      TensorCategory(2)\n",
      "\n",
      "Final sample: (TSeries(ch=1, len=1024), TensorCategory(2))\n",
      "\n",
      "\n",
      "Setting up after_item: Pipeline: ToTensor\n",
      "Setting up before_batch: Pipeline: \n",
      "Setting up after_batch: Pipeline: \n",
      "\n",
      "Building one batch\n",
      "Applying item_tfms to the first sample:\n",
      "  Pipeline: ToTensor\n",
      "    starting from\n",
      "      (TSeries of size 1x1024, TensorCategory(2))\n",
      "    applying ToTensor gives\n",
      "      (TSeries of size 1x1024, TensorCategory(2))\n",
      "\n",
      "Adding the next 3 samples\n",
      "\n",
      "No before_batch transform to apply\n",
      "\n",
      "Collating items in a batch\n",
      "\n",
      "No batch_tfms to apply\n"
     ]
    }
   ],
   "source": [
    "dblock.summary(df_train)"
   ]
  },
  {
   "cell_type": "code",
   "execution_count": null,
   "metadata": {},
   "outputs": [],
   "source": [
    "dls = dblock.dataloaders(df_train, bs=4)"
   ]
  },
  {
   "cell_type": "markdown",
   "metadata": {},
   "source": [
    "The `show_batch` method is not very practical, let's redefine it on the `DataLoader` class"
   ]
  },
  {
   "cell_type": "code",
   "execution_count": null,
   "metadata": {},
   "outputs": [
    {
     "data": {
      "image/png": "[encoded data removed]",
      "text/plain": [
       "<Figure size 432x504 with 4 Axes>"
      ]
     },
     "metadata": {
      "needs_background": "light"
     },
     "output_type": "display_data"
    }
   ],
   "source": [
    "dls.show_batch()"
   ]
  },
  {
   "cell_type": "markdown",
   "metadata": {},
   "source": [
    "A handy function to stack `df_train` and `df_valid` together, adds column to know which is which."
   ]
  },
  {
   "cell_type": "code",
   "execution_count": null,
   "metadata": {},
   "outputs": [],
   "source": [
    "#export\n",
    "def stack_train_valid(df_train, df_valid):\n",
    "    \"Stack df_train and df_valid, adds `valid_col`=True/False for df_valid/df_train\"\n",
    "    return pd.concat([df_train.assign(valid_col=False), df_valid.assign(valid_col=True)]).reset_index(drop=True)"
   ]
  },
  {
   "cell_type": "markdown",
   "metadata": {},
   "source": [
    "## DataLoaders\n",
    "> A custom TSeries DataLoaders class"
   ]
  },
  {
   "cell_type": "code",
   "execution_count": null,
   "metadata": {},
   "outputs": [],
   "source": [
    "#export\n",
    "class TSDataLoaders(DataLoaders):\n",
    "    \"A TimeSeries DataLoader\"\n",
    "    @classmethod\n",
    "    @delegates(DataLoaders.from_dblock)\n",
    "    def from_df(cls, df, path='.', valid_pct=0.2, seed=None, x_cols=None, label_col=None,\n",
    "                y_block=None, valid_col=None, item_tfms=None, batch_tfms=None, **kwargs):\n",
    "        \"Create a DataLoader from a pandas DataFrame\"\n",
    "        y_block = ifnone(y_block, CategoryBlock)\n",
    "        splitter = RandomSplitter(valid_pct, seed=seed) if valid_col is None else ColSplitter(valid_col)\n",
    "        dblock = DataBlock(blocks=(TSBlock, y_block),\n",
    "                           get_x=lambda o: o[x_cols].astype(np.float32),\n",
    "                           get_y=ColReader(label_col),\n",
    "                           splitter=splitter,\n",
    "                           item_tfms=item_tfms, \n",
    "                           batch_tfms=batch_tfms)\n",
    "        return cls.from_dblock(dblock, df, path=path, **kwargs)\n",
    "    @classmethod\n",
    "    @delegates(DataLoaders.from_dblock)\n",
    "    def from_dfs(cls, df_train, df_valid, path='.', x_cols=None, label_col=None,\n",
    "                y_block=None, item_tfms=None, batch_tfms=None, **kwargs):\n",
    "        \"Create a DataLoader from a df_train and df_valid\"\n",
    "        df = stack_train_valid(df_train, df_valid)\n",
    "        return cls.from_df(df, path, x_cols=x_cols, valid_col='valid_col', label_col=label_col,\n",
    "                y_block=y_block, item_tfms=item_tfms, batch_tfms=batch_tfms,**kwargs)"
   ]
  },
  {
   "cell_type": "markdown",
   "metadata": {},
   "source": [
    "Overchaging `show_batch` function to add grid spacing."
   ]
  },
  {
   "cell_type": "code",
   "execution_count": null,
   "metadata": {},
   "outputs": [],
   "source": [
    "#export\n",
    "@typedispatch\n",
    "def show_batch(x: TSeries, y, samples, ctxs=None, max_n=10,rows=None, cols=None, figsize=None, **kwargs):\n",
    "    \"Show batch for TSeries objects\"\n",
    "    if ctxs is None: ctxs = get_grid(min(len(samples), max_n), rows=rows, cols=cols, add_vert=1, figsize=figsize)\n",
    "    ctxs = show_batch[object](x, y, samples=samples, ctxs=ctxs, max_n=max_n, **kwargs)\n",
    "    return ctxs"
   ]
  },
  {
   "cell_type": "markdown",
   "metadata": {},
   "source": [
    "Let's test the DataLoader"
   ]
  },
  {
   "cell_type": "code",
   "execution_count": null,
   "metadata": {},
   "outputs": [
    {
     "data": {
      "text/markdown": [
       "<h4 id=\"TSDataLoaders.from_dfs\" class=\"doc_header\"><code>TSDataLoaders.from_dfs</code><a href=\"__main__.py#L18\" class=\"source_link\" style=\"float:right\">[source]</a></h4>\n",
       "\n",
       "> <code>TSDataLoaders.from_dfs</code>(**`df_train`**, **`df_valid`**, **`path`**=*`'.'`*, **`x_cols`**=*`None`*, **`label_col`**=*`None`*, **`y_block`**=*`None`*, **`item_tfms`**=*`None`*, **`batch_tfms`**=*`None`*, **`bs`**=*`64`*, **`val_bs`**=*`None`*, **`shuffle_train`**=*`True`*, **`device`**=*`None`*)\n",
       "\n",
       "Create a DataLoader from a df_train and df_valid"
      ],
      "text/plain": [
       "<IPython.core.display.Markdown object>"
      ]
     },
     "metadata": {},
     "output_type": "display_data"
    }
   ],
   "source": [
    "show_doc(TSDataLoaders.from_dfs)"
   ]
  },
  {
   "cell_type": "code",
   "execution_count": null,
   "metadata": {},
   "outputs": [],
   "source": [
    "dls = TSDataLoaders.from_dfs(df_train, df_test, x_cols=x_cols, label_col='target', bs=16)"
   ]
  },
  {
   "cell_type": "code",
   "execution_count": null,
   "metadata": {},
   "outputs": [
    {
     "data": {
      "image/png": "[encoded data removed]",
      "text/plain": [
       "<Figure size 648x720 with 9 Axes>"
      ]
     },
     "metadata": {
      "needs_background": "light"
     },
     "output_type": "display_data"
    }
   ],
   "source": [
    "dls.show_batch()"
   ]
  },
  {
   "cell_type": "markdown",
   "metadata": {},
   "source": [
    "# Export -"
   ]
  },
  {
   "cell_type": "code",
   "execution_count": null,
   "metadata": {},
   "outputs": [
    {
     "name": "stdout",
     "output_type": "stream",
     "text": [
      "Converted 00_core.ipynb.\n",
      "Converted 01_data.ipynb.\n",
      "Converted 02_models.ipynb.\n",
      "Converted 99_index.ipynb.\n"
     ]
    }
   ],
   "source": [
    "# hide\n",
    "from nbdev.export import *\n",
    "notebook2script()"
   ]
  },
  {
   "cell_type": "code",
   "execution_count": null,
   "metadata": {},
   "outputs": [],
   "source": []
  }
 ],
 "metadata": {
  "kernelspec": {
   "display_name": "Python 3",
   "language": "python",
   "name": "python3"
  }
 },
 "nbformat": 4,
 "nbformat_minor": 4
}
