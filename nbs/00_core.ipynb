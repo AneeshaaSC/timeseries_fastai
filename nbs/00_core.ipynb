{
 "cells": [
  {
   "cell_type": "code",
   "execution_count": null,
   "metadata": {},
   "outputs": [],
   "source": [
    "#default_exp core\n",
    "#default_cls_lvl 3"
   ]
  },
  {
   "cell_type": "code",
   "execution_count": null,
   "metadata": {},
   "outputs": [],
   "source": [
    "#export\n",
    "from fastcore.test import *\n",
    "from timeseries_fastai.imports import *"
   ]
  },
  {
   "cell_type": "code",
   "execution_count": null,
   "metadata": {},
   "outputs": [],
   "source": [
    "#export\n",
    "import pandas as pd\n",
    "from fastcore.all import *\n",
    "from scipy.io import arff"
   ]
  },
  {
   "cell_type": "markdown",
   "metadata": {},
   "source": [
    "# Core\n",
    "\n",
    "> Basic timeseries opening/processing funcs."
   ]
  },
  {
   "cell_type": "code",
   "execution_count": null,
   "metadata": {},
   "outputs": [],
   "source": [
    "#hide\n",
    "from nbdev.showdoc import *"
   ]
  },
  {
   "cell_type": "code",
   "execution_count": null,
   "metadata": {},
   "outputs": [],
   "source": [
    "#export\n",
    "def maybe_unsqueeze(x):\n",
    "    \"Add empty dimension if it is a rank 1 tensor/array\"\n",
    "    if isinstance(x, np.ndarray): return x[None,:] if len(x.shape)==1 else x\n",
    "    if isinstance(x, Tensor): return x.unsqueeze(0) if len(x.shape)==1 else x\n",
    "    else: return None"
   ]
  },
  {
   "cell_type": "code",
   "execution_count": null,
   "metadata": {},
   "outputs": [],
   "source": [
    "a = np.random.random(10)\n",
    "test_eq((1,10), maybe_unsqueeze(a).shape)\n",
    "test_eq((1,10), maybe_unsqueeze(maybe_unsqueeze(a)).shape) #do nothing\n",
    "\n",
    "t = torch.rand(10)\n",
    "test_eq((1,10), maybe_unsqueeze(t).shape)\n",
    "test_eq((1,10), maybe_unsqueeze(maybe_unsqueeze(t)).shape) #do nothing"
   ]
  },
  {
   "cell_type": "markdown",
   "metadata": {},
   "source": [
    "A time series is just an array of 1 dimesion."
   ]
  },
  {
   "cell_type": "code",
   "execution_count": null,
   "metadata": {},
   "outputs": [],
   "source": [
    "#export\n",
    "def show_array(array, ax=None, figsize=None, title=None, ctx=None, tx=None, **kwargs):\n",
    "    \"Show an array on `ax`.\"\n",
    "    # Handle pytorch axis order\n",
    "    if hasattrs(array, ('data','cpu','permute')):\n",
    "        array = array.data.cpu()\n",
    "    elif not isinstance(array,np.ndarray):\n",
    "        array=array(array)\n",
    "    arrays = maybe_unsqueeze(array)\n",
    "    ax = ifnone(ax,ctx)\n",
    "    if figsize is None: figsize = (5,5)\n",
    "    if ax is None: _,ax = plt.subplots(figsize=figsize)\n",
    "    tx = ifnone(tx,np.arange(arrays[0].shape[0]))\n",
    "    label = kwargs.pop('label', 'x')\n",
    "    for a, c in zip(arrays, ['b', 'c', 'm', 'y', 'k',]):\n",
    "        ax.plot(tx, a, '-'+c,label=label, **kwargs)\n",
    "    if title is not None: ax.set_title(title)\n",
    "    ax.legend()\n",
    "    return ax"
   ]
  },
  {
   "cell_type": "markdown",
   "metadata": {},
   "source": [
    "A simple array of 1 channel is `np.arange(10)`."
   ]
  },
  {
   "cell_type": "code",
   "execution_count": null,
   "metadata": {},
   "outputs": [
    {
     "data": {
      "image/png": "[encoded data removed]",
      "text/plain": [
       "<Figure size 360x360 with 1 Axes>"
      ]
     },
     "metadata": {
      "needs_background": "light"
     },
     "output_type": "display_data"
    }
   ],
   "source": [
    "show_array(np.arange(10));"
   ]
  },
  {
   "cell_type": "code",
   "execution_count": null,
   "metadata": {},
   "outputs": [],
   "source": [
    "# export\n",
    "class TSeries(TensorBase):\n",
    "    \"Basic Timeseries wrapper\"  \n",
    "    @classmethod\n",
    "    def create(cls, x): \n",
    "        return cls(maybe_unsqueeze(x))\n",
    "    \n",
    "    @property\n",
    "    def channels(self): return self.shape[0]\n",
    "    \n",
    "    @property\n",
    "    def len(self): return self.shape[-1]\n",
    "    \n",
    "    def __repr__(self):\n",
    "        return f'TSeries(ch={self.channels}, len={self.len})'\n",
    "    \n",
    "    def show(self, ctx=None, **kwargs):\n",
    "        return show_array(self, ctx=ctx, **kwargs)"
   ]
  },
  {
   "cell_type": "markdown",
   "metadata": {},
   "source": [
    "We can add some noise for the fun"
   ]
  },
  {
   "cell_type": "code",
   "execution_count": null,
   "metadata": {},
   "outputs": [],
   "source": [
    "a = np.arange(10)+np.random.randn(10)"
   ]
  },
  {
   "cell_type": "code",
   "execution_count": null,
   "metadata": {},
   "outputs": [
    {
     "data": {
      "text/plain": [
       "(10,)"
      ]
     },
     "execution_count": null,
     "metadata": {},
     "output_type": "execute_result"
    }
   ],
   "source": [
    "a.shape"
   ]
  },
  {
   "cell_type": "markdown",
   "metadata": {},
   "source": [
    "As we want to make explicit that is a one channel timeseries, we will `unsqueeze` the first dimension."
   ]
  },
  {
   "cell_type": "code",
   "execution_count": null,
   "metadata": {},
   "outputs": [],
   "source": [
    "ts = TSeries.create(a)"
   ]
  },
  {
   "cell_type": "code",
   "execution_count": null,
   "metadata": {},
   "outputs": [
    {
     "data": {
      "text/plain": [
       "tensor([[1.4567, 0.5052, 0.0580, 5.2371, 4.3004, 3.2941, 7.9446, 7.4105, 9.0190,\n",
       "         7.9733]])"
      ]
     },
     "execution_count": null,
     "metadata": {},
     "output_type": "execute_result"
    }
   ],
   "source": [
    "ts.data"
   ]
  },
  {
   "cell_type": "code",
   "execution_count": null,
   "metadata": {},
   "outputs": [
    {
     "data": {
      "text/plain": [
       "torch.Size([1, 10])"
      ]
     },
     "execution_count": null,
     "metadata": {},
     "output_type": "execute_result"
    }
   ],
   "source": [
    "ts.shape"
   ]
  },
  {
   "cell_type": "code",
   "execution_count": null,
   "metadata": {},
   "outputs": [
    {
     "data": {
      "image/png": "[encoded data removed]",
      "text/plain": [
       "<Figure size 360x360 with 1 Axes>"
      ]
     },
     "metadata": {
      "needs_background": "light"
     },
     "output_type": "display_data"
    }
   ],
   "source": [
    "ts.show();"
   ]
  },
  {
   "cell_type": "code",
   "execution_count": null,
   "metadata": {},
   "outputs": [
    {
     "data": {
      "text/plain": [
       "tensor(4.7199)"
      ]
     },
     "execution_count": null,
     "metadata": {},
     "output_type": "execute_result"
    }
   ],
   "source": [
    "ts.data.mean()"
   ]
  },
  {
   "cell_type": "code",
   "execution_count": null,
   "metadata": {},
   "outputs": [],
   "source": [
    "@patch\n",
    "def encodes(self:Normalize, x:TSeries): return (x - self.mean) / self.std\n",
    "\n",
    "@patch\n",
    "def encodes(self: Normalize, x:TSeries): \n",
    "    f = to_cpu if x.device.type=='cpu' else noop\n",
    "    return (x*f(self.std) + f(self.mean))"
   ]
  },
  {
   "cell_type": "code",
   "execution_count": null,
   "metadata": {},
   "outputs": [],
   "source": [
    "nrm = Normalize(ts.data.mean(), ts.data.std())"
   ]
  },
  {
   "cell_type": "code",
   "execution_count": null,
   "metadata": {},
   "outputs": [
    {
     "data": {
      "text/plain": [
       "<AxesSubplot:>"
      ]
     },
     "execution_count": null,
     "metadata": {},
     "output_type": "execute_result"
    },
    {
     "data": {
      "image/png": "[encoded data removed]",
      "text/plain": [
       "<Figure size 360x360 with 1 Axes>"
      ]
     },
     "metadata": {
      "needs_background": "light"
     },
     "output_type": "display_data"
    }
   ],
   "source": [
    "((ts-nrm.mean)/ts.data.std()).show()"
   ]
  },
  {
   "cell_type": "code",
   "execution_count": null,
   "metadata": {},
   "outputs": [
    {
     "data": {
      "image/png": "[encoded data removed]",
      "text/plain": [
       "<Figure size 360x360 with 1 Axes>"
      ]
     },
     "metadata": {
      "needs_background": "light"
     },
     "output_type": "display_data"
    }
   ],
   "source": [
    "nrm.encodes(ts).show();"
   ]
  },
  {
   "cell_type": "markdown",
   "metadata": {},
   "source": [
    "## UCR\n",
    "> The 2018 UCR 128-timeseries dataset\n",
    "\n",
    "This is the dataset used to benchmark algorithms for Timeseries classification."
   ]
  },
  {
   "cell_type": "code",
   "execution_count": null,
   "metadata": {},
   "outputs": [],
   "source": [
    "#export\n",
    "URLs.UCR = 'http://www.timeseriesclassification.com/Downloads/Archives/Univariate2018_arff.zip'"
   ]
  },
  {
   "cell_type": "code",
   "execution_count": null,
   "metadata": {},
   "outputs": [
    {
     "data": {
      "text/plain": [
       "'http://www.timeseriesclassification.com/Downloads/Archives/Univariate2018_arff.zip'"
      ]
     },
     "execution_count": null,
     "metadata": {},
     "output_type": "execute_result"
    }
   ],
   "source": [
    "URLs.UCR"
   ]
  },
  {
   "cell_type": "code",
   "execution_count": null,
   "metadata": {},
   "outputs": [],
   "source": [
    "ucr_path = untar_data(URLs.UCR)"
   ]
  },
  {
   "cell_type": "markdown",
   "metadata": {},
   "source": [
    "Each sub task is on a subfolde with task name. For instance we will select 'Adiac' ."
   ]
  },
  {
   "cell_type": "code",
   "execution_count": null,
   "metadata": {},
   "outputs": [
    {
     "data": {
      "text/plain": [
       "(#135) [Path('/home/tcapelle/.fastai/data/Univariate2018_arff/GestureMidAirD2'),Path('/home/tcapelle/.fastai/data/Univariate2018_arff/Adiac'),Path('/home/tcapelle/.fastai/data/Univariate2018_arff/CinCECGTorso'),Path('/home/tcapelle/.fastai/data/Univariate2018_arff/LargeKitchenAppliances'),Path('/home/tcapelle/.fastai/data/Univariate2018_arff/MixedShapesRegularTrain'),Path('/home/tcapelle/.fastai/data/Univariate2018_arff/ShakeGestureWiimoteZ'),Path('/home/tcapelle/.fastai/data/Univariate2018_arff/SmallKitchenAppliances'),Path('/home/tcapelle/.fastai/data/Univariate2018_arff/CricketY'),Path('/home/tcapelle/.fastai/data/Univariate2018_arff/ToeSegmentation2'),Path('/home/tcapelle/.fastai/data/Univariate2018_arff/EOGVerticalSignal')...]"
      ]
     },
     "execution_count": null,
     "metadata": {},
     "output_type": "execute_result"
    }
   ],
   "source": [
    "ucr_path.ls()"
   ]
  },
  {
   "cell_type": "code",
   "execution_count": null,
   "metadata": {},
   "outputs": [],
   "source": [
    "adiac_path = ucr_path/'Adiac'"
   ]
  },
  {
   "cell_type": "code",
   "execution_count": null,
   "metadata": {},
   "outputs": [
    {
     "data": {
      "text/plain": [
       "(#5) [Path('/home/tcapelle/.fastai/data/Univariate2018_arff/Adiac/Adiac_TEST.txt'),Path('/home/tcapelle/.fastai/data/Univariate2018_arff/Adiac/Adiac_TEST.arff'),Path('/home/tcapelle/.fastai/data/Univariate2018_arff/Adiac/Adiac_TRAIN.arff'),Path('/home/tcapelle/.fastai/data/Univariate2018_arff/Adiac/Adiac_TRAIN.txt'),Path('/home/tcapelle/.fastai/data/Univariate2018_arff/Adiac/Adiac.txt')]"
      ]
     },
     "execution_count": null,
     "metadata": {},
     "output_type": "execute_result"
    }
   ],
   "source": [
    "adiac_path.ls()"
   ]
  },
  {
   "cell_type": "markdown",
   "metadata": {},
   "source": [
    "We can find `.csv` and `.arff` files on this copy of the dataset. We will read the `.arff` files using a helper function. We will store them on pandas DataFrame's"
   ]
  },
  {
   "cell_type": "code",
   "execution_count": null,
   "metadata": {},
   "outputs": [],
   "source": [
    "#export\n",
    "# \"this functions are based on https://github.com/mb4310/Time-Series\"\n",
    "def load_df_ucr(path, task):\n",
    "    \"Loads arff files from UCR pandas dfs\"\n",
    "    try:\n",
    "        print(f'Loading files from: {path}/{task}')\n",
    "        dfs = []\n",
    "        for file in ['TRAIN', 'TEST']:\n",
    "            filename = f'{task}/{task}_{file}.arff'\n",
    "            data = arff.loadarff(str(path/filename))\n",
    "            dfs.append(pd.DataFrame(data[0]))\n",
    "        return dfs\n",
    "    except:\n",
    "        print(f'Error loading files: {path}/{task}')"
   ]
  },
  {
   "cell_type": "code",
   "execution_count": null,
   "metadata": {},
   "outputs": [
    {
     "name": "stdout",
     "output_type": "stream",
     "text": [
      "Loading files from: /home/tcapelle/.fastai/data/Univariate2018_arff/StarLightCurves\n"
     ]
    }
   ],
   "source": [
    "df_train, df_test = load_df_ucr(ucr_path, 'StarLightCurves')"
   ]
  },
  {
   "cell_type": "code",
   "execution_count": null,
   "metadata": {},
   "outputs": [
    {
     "data": {
      "text/html": [
       "<div>\n",
       "<style scoped>\n",
       "    .dataframe tbody tr th:only-of-type {\n",
       "        vertical-align: middle;\n",
       "    }\n",
       "\n",
       "    .dataframe tbody tr th {\n",
       "        vertical-align: top;\n",
       "    }\n",
       "\n",
       "    .dataframe thead th {\n",
       "        text-align: right;\n",
       "    }\n",
       "</style>\n",
       "<table border=\"1\" class=\"dataframe\">\n",
       "  <thead>\n",
       "    <tr style=\"text-align: right;\">\n",
       "      <th></th>\n",
       "      <th>att1</th>\n",
       "      <th>att2</th>\n",
       "      <th>att3</th>\n",
       "      <th>att4</th>\n",
       "      <th>att5</th>\n",
       "      <th>att6</th>\n",
       "      <th>att7</th>\n",
       "      <th>att8</th>\n",
       "      <th>att9</th>\n",
       "      <th>att10</th>\n",
       "      <th>...</th>\n",
       "      <th>att1016</th>\n",
       "      <th>att1017</th>\n",
       "      <th>att1018</th>\n",
       "      <th>att1019</th>\n",
       "      <th>att1020</th>\n",
       "      <th>att1021</th>\n",
       "      <th>att1022</th>\n",
       "      <th>att1023</th>\n",
       "      <th>att1024</th>\n",
       "      <th>target</th>\n",
       "    </tr>\n",
       "  </thead>\n",
       "  <tbody>\n",
       "    <tr>\n",
       "      <th>0</th>\n",
       "      <td>0.537303</td>\n",
       "      <td>0.531103</td>\n",
       "      <td>0.528503</td>\n",
       "      <td>0.529403</td>\n",
       "      <td>0.533603</td>\n",
       "      <td>0.540903</td>\n",
       "      <td>0.551103</td>\n",
       "      <td>0.564003</td>\n",
       "      <td>0.579603</td>\n",
       "      <td>0.597603</td>\n",
       "      <td>...</td>\n",
       "      <td>0.546903</td>\n",
       "      <td>0.545903</td>\n",
       "      <td>0.543903</td>\n",
       "      <td>0.541003</td>\n",
       "      <td>0.537203</td>\n",
       "      <td>0.532303</td>\n",
       "      <td>0.526403</td>\n",
       "      <td>0.519503</td>\n",
       "      <td>0.511403</td>\n",
       "      <td>b'3'</td>\n",
       "    </tr>\n",
       "    <tr>\n",
       "      <th>1</th>\n",
       "      <td>0.588398</td>\n",
       "      <td>0.593898</td>\n",
       "      <td>0.599098</td>\n",
       "      <td>0.604098</td>\n",
       "      <td>0.608798</td>\n",
       "      <td>0.613397</td>\n",
       "      <td>0.617797</td>\n",
       "      <td>0.622097</td>\n",
       "      <td>0.626097</td>\n",
       "      <td>0.630097</td>\n",
       "      <td>...</td>\n",
       "      <td>0.237399</td>\n",
       "      <td>0.246499</td>\n",
       "      <td>0.256199</td>\n",
       "      <td>0.266499</td>\n",
       "      <td>0.277399</td>\n",
       "      <td>0.288799</td>\n",
       "      <td>0.300899</td>\n",
       "      <td>0.313599</td>\n",
       "      <td>0.326899</td>\n",
       "      <td>b'3'</td>\n",
       "    </tr>\n",
       "    <tr>\n",
       "      <th>2</th>\n",
       "      <td>-0.049900</td>\n",
       "      <td>-0.041500</td>\n",
       "      <td>-0.033400</td>\n",
       "      <td>-0.025600</td>\n",
       "      <td>-0.018100</td>\n",
       "      <td>-0.010800</td>\n",
       "      <td>-0.003800</td>\n",
       "      <td>0.003000</td>\n",
       "      <td>0.009600</td>\n",
       "      <td>0.015900</td>\n",
       "      <td>...</td>\n",
       "      <td>-0.173801</td>\n",
       "      <td>-0.161601</td>\n",
       "      <td>-0.149201</td>\n",
       "      <td>-0.136401</td>\n",
       "      <td>-0.123201</td>\n",
       "      <td>-0.109701</td>\n",
       "      <td>-0.095901</td>\n",
       "      <td>-0.081701</td>\n",
       "      <td>-0.067100</td>\n",
       "      <td>b'1'</td>\n",
       "    </tr>\n",
       "    <tr>\n",
       "      <th>3</th>\n",
       "      <td>1.337005</td>\n",
       "      <td>1.319805</td>\n",
       "      <td>1.302905</td>\n",
       "      <td>1.286305</td>\n",
       "      <td>1.270005</td>\n",
       "      <td>1.254005</td>\n",
       "      <td>1.238304</td>\n",
       "      <td>1.223005</td>\n",
       "      <td>1.208104</td>\n",
       "      <td>1.193504</td>\n",
       "      <td>...</td>\n",
       "      <td>1.288905</td>\n",
       "      <td>1.298505</td>\n",
       "      <td>1.307705</td>\n",
       "      <td>1.316505</td>\n",
       "      <td>1.324905</td>\n",
       "      <td>1.332805</td>\n",
       "      <td>1.340205</td>\n",
       "      <td>1.347005</td>\n",
       "      <td>1.353205</td>\n",
       "      <td>b'3'</td>\n",
       "    </tr>\n",
       "    <tr>\n",
       "      <th>4</th>\n",
       "      <td>0.769801</td>\n",
       "      <td>0.775301</td>\n",
       "      <td>0.780401</td>\n",
       "      <td>0.785101</td>\n",
       "      <td>0.789401</td>\n",
       "      <td>0.793301</td>\n",
       "      <td>0.796801</td>\n",
       "      <td>0.799901</td>\n",
       "      <td>0.802601</td>\n",
       "      <td>0.805101</td>\n",
       "      <td>...</td>\n",
       "      <td>0.742401</td>\n",
       "      <td>0.744501</td>\n",
       "      <td>0.747301</td>\n",
       "      <td>0.750701</td>\n",
       "      <td>0.754801</td>\n",
       "      <td>0.759501</td>\n",
       "      <td>0.765001</td>\n",
       "      <td>0.771301</td>\n",
       "      <td>0.778401</td>\n",
       "      <td>b'3'</td>\n",
       "    </tr>\n",
       "  </tbody>\n",
       "</table>\n",
       "<p>5 rows × 1025 columns</p>\n",
       "</div>"
      ],
      "text/plain": [
       "       att1      att2      att3      att4      att5      att6      att7  \\\n",
       "0  0.537303  0.531103  0.528503  0.529403  0.533603  0.540903  0.551103   \n",
       "1  0.588398  0.593898  0.599098  0.604098  0.608798  0.613397  0.617797   \n",
       "2 -0.049900 -0.041500 -0.033400 -0.025600 -0.018100 -0.010800 -0.003800   \n",
       "3  1.337005  1.319805  1.302905  1.286305  1.270005  1.254005  1.238304   \n",
       "4  0.769801  0.775301  0.780401  0.785101  0.789401  0.793301  0.796801   \n",
       "\n",
       "       att8      att9     att10  ...   att1016   att1017   att1018   att1019  \\\n",
       "0  0.564003  0.579603  0.597603  ...  0.546903  0.545903  0.543903  0.541003   \n",
       "1  0.622097  0.626097  0.630097  ...  0.237399  0.246499  0.256199  0.266499   \n",
       "2  0.003000  0.009600  0.015900  ... -0.173801 -0.161601 -0.149201 -0.136401   \n",
       "3  1.223005  1.208104  1.193504  ...  1.288905  1.298505  1.307705  1.316505   \n",
       "4  0.799901  0.802601  0.805101  ...  0.742401  0.744501  0.747301  0.750701   \n",
       "\n",
       "    att1020   att1021   att1022   att1023   att1024  target  \n",
       "0  0.537203  0.532303  0.526403  0.519503  0.511403    b'3'  \n",
       "1  0.277399  0.288799  0.300899  0.313599  0.326899    b'3'  \n",
       "2 -0.123201 -0.109701 -0.095901 -0.081701 -0.067100    b'1'  \n",
       "3  1.324905  1.332805  1.340205  1.347005  1.353205    b'3'  \n",
       "4  0.754801  0.759501  0.765001  0.771301  0.778401    b'3'  \n",
       "\n",
       "[5 rows x 1025 columns]"
      ]
     },
     "execution_count": null,
     "metadata": {},
     "output_type": "execute_result"
    }
   ],
   "source": [
    "df_train.head()"
   ]
  },
  {
   "cell_type": "code",
   "execution_count": null,
   "metadata": {},
   "outputs": [],
   "source": [
    "#export\n",
    "# \"this functions are based on https://github.com/mb4310/Time-Series\"\n",
    "def load_np_ucr(path, task):\n",
    "    \"Loads arff files from UCR into np arrays\"\n",
    "    try:\n",
    "        print(f'Loading files from: {path}/{task}')\n",
    "        arrays = []\n",
    "        for file in ['TRAIN', 'TEST']:\n",
    "            filename = f'{task}/{task}_{file}.arff'\n",
    "            data = arff.loadarff(str(path/filename))\n",
    "            x,y = [],[]\n",
    "            for r in data[0]:\n",
    "                r = list(r)\n",
    "                x.append(r[0:-1])\n",
    "                y.append(r[-1])\n",
    "            x = array(x, dtype=np.float)\n",
    "            y = array(y, dtype=np.int)\n",
    "            arrays += [x,y]\n",
    "        return arrays\n",
    "    except:\n",
    "        print(f'Error loading files: {path}/{task}')"
   ]
  },
  {
   "cell_type": "code",
   "execution_count": null,
   "metadata": {},
   "outputs": [
    {
     "name": "stdout",
     "output_type": "stream",
     "text": [
      "Loading files from: /home/tcapelle/.fastai/data/Univariate2018_arff/StarLightCurves\n"
     ]
    }
   ],
   "source": [
    "x_train, y_train, x_test, y_test = load_np_ucr(ucr_path, 'StarLightCurves')"
   ]
  },
  {
   "cell_type": "code",
   "execution_count": null,
   "metadata": {},
   "outputs": [],
   "source": [
    "test_eq(len(x_train), len(y_train))\n",
    "test_eq(len(x_test), len(y_test))"
   ]
  },
  {
   "cell_type": "markdown",
   "metadata": {},
   "source": [
    "## Datasets"
   ]
  },
  {
   "cell_type": "markdown",
   "metadata": {},
   "source": [
    "Loading from `DataFrames`"
   ]
  },
  {
   "cell_type": "code",
   "execution_count": null,
   "metadata": {},
   "outputs": [],
   "source": [
    "def get_x(row):\n",
    "    return row.values[:-1].astype('float32')\n",
    "def get_y(row):\n",
    "    return int(row.values[-1])"
   ]
  },
  {
   "cell_type": "code",
   "execution_count": null,
   "metadata": {},
   "outputs": [
    {
     "data": {
      "text/plain": [
       "['att1', 'att2', 'att3', 'att4', 'att5']"
      ]
     },
     "execution_count": null,
     "metadata": {},
     "output_type": "execute_result"
    }
   ],
   "source": [
    "x_cols = df_train.columns[slice(0,-1)].to_list()\n",
    "x_cols[0:5]"
   ]
  },
  {
   "cell_type": "code",
   "execution_count": null,
   "metadata": {},
   "outputs": [
    {
     "data": {
      "image/png": "[encoded data removed]",
      "text/plain": [
       "<Figure size 360x360 with 1 Axes>"
      ]
     },
     "metadata": {
      "needs_background": "light"
     },
     "output_type": "display_data"
    }
   ],
   "source": [
    "TSeries(get_x(df_train.iloc[0])).show();"
   ]
  },
  {
   "cell_type": "code",
   "execution_count": null,
   "metadata": {},
   "outputs": [],
   "source": [
    "splits = [list(range(len(df_train))), list(range(len(df_train), len(df_train)+len(df_test)))]"
   ]
  },
  {
   "cell_type": "code",
   "execution_count": null,
   "metadata": {},
   "outputs": [],
   "source": [
    "ds = Datasets(pd.concat([df_train, df_test]).reset_index(drop=True), \n",
    "                    tfms=[[get_x, TSeries.create], [get_y, Categorize()]],\n",
    "                    splits=splits, \n",
    "                   )"
   ]
  },
  {
   "cell_type": "code",
   "execution_count": null,
   "metadata": {},
   "outputs": [
    {
     "data": {
      "text/plain": [
       "(#8236) [(TSeries(ch=1, len=1024), TensorCategory(1)),(TSeries(ch=1, len=1024), TensorCategory(2)),(TSeries(ch=1, len=1024), TensorCategory(2)),(TSeries(ch=1, len=1024), TensorCategory(0)),(TSeries(ch=1, len=1024), TensorCategory(1)),(TSeries(ch=1, len=1024), TensorCategory(2)),(TSeries(ch=1, len=1024), TensorCategory(2)),(TSeries(ch=1, len=1024), TensorCategory(2)),(TSeries(ch=1, len=1024), TensorCategory(1)),(TSeries(ch=1, len=1024), TensorCategory(2))...]"
      ]
     },
     "execution_count": null,
     "metadata": {},
     "output_type": "execute_result"
    }
   ],
   "source": [
    "ds.valid"
   ]
  },
  {
   "cell_type": "code",
   "execution_count": null,
   "metadata": {},
   "outputs": [],
   "source": [
    "dls = ds.dataloaders(bs=2)"
   ]
  },
  {
   "cell_type": "code",
   "execution_count": null,
   "metadata": {},
   "outputs": [
    {
     "data": {
      "image/png": "[encoded data removed]",
      "text/plain": [
       "<Figure size 360x360 with 1 Axes>"
      ]
     },
     "metadata": {
      "needs_background": "light"
     },
     "output_type": "display_data"
    },
    {
     "data": {
      "image/png": "[encoded data removed]",
      "text/plain": [
       "<Figure size 360x360 with 1 Axes>"
      ]
     },
     "metadata": {
      "needs_background": "light"
     },
     "output_type": "display_data"
    }
   ],
   "source": [
    "dls.show_batch()"
   ]
  },
  {
   "cell_type": "markdown",
   "metadata": {},
   "source": [
    "## Loading from arrays:"
   ]
  },
  {
   "cell_type": "code",
   "execution_count": null,
   "metadata": {},
   "outputs": [],
   "source": [
    "class NumpyDataset(torch.utils.data.Dataset):\n",
    "    def __init__(self, X, y=None):\n",
    "        self.X, self.y = X, y\n",
    "\n",
    "    def __getitem__(self, idx):\n",
    "        if self.y is None: return (self.X[idx], )\n",
    "        else: return (TSeries.create(self.X[idx]), TensorCategory(self.y[idx]))\n",
    "\n",
    "    def __len__(self):\n",
    "        return len(self.X)"
   ]
  },
  {
   "cell_type": "code",
   "execution_count": null,
   "metadata": {},
   "outputs": [],
   "source": [
    "ds_train = NumpyDataset(x_train, y_train)\n",
    "ds_valid = NumpyDataset(x_test, y_test)"
   ]
  },
  {
   "cell_type": "code",
   "execution_count": null,
   "metadata": {},
   "outputs": [
    {
     "data": {
      "text/plain": [
       "torch.Size([1, 1024])"
      ]
     },
     "execution_count": null,
     "metadata": {},
     "output_type": "execute_result"
    }
   ],
   "source": [
    "ds_train[0][0].data.shape"
   ]
  },
  {
   "cell_type": "code",
   "execution_count": null,
   "metadata": {},
   "outputs": [],
   "source": [
    "dls = DataLoaders.from_dsets(ds_train, ds_valid, bs=8)"
   ]
  },
  {
   "cell_type": "code",
   "execution_count": null,
   "metadata": {},
   "outputs": [
    {
     "data": {
      "text/plain": [
       "(TSeries(ch=8, len=1024), TensorCategory([2, 3, 3, 2, 3, 3, 3, 2]))"
      ]
     },
     "execution_count": null,
     "metadata": {},
     "output_type": "execute_result"
    }
   ],
   "source": [
    "dls.train.one_batch()"
   ]
  },
  {
   "cell_type": "code",
   "execution_count": null,
   "metadata": {},
   "outputs": [],
   "source": [
    "def cycle_dl(dl):\n",
    "    for x,y in iter(dl):\n",
    "        pass"
   ]
  },
  {
   "cell_type": "code",
   "execution_count": null,
   "metadata": {},
   "outputs": [
    {
     "name": "stdout",
     "output_type": "stream",
     "text": [
      "CPU times: user 421 ms, sys: 462 ms, total: 883 ms\n",
      "Wall time: 1.04 s\n"
     ]
    }
   ],
   "source": [
    "%time cycle_dl(dls.valid)"
   ]
  },
  {
   "cell_type": "code",
   "execution_count": null,
   "metadata": {},
   "outputs": [],
   "source": [
    "class TSTransform(Transform):\n",
    "    def __init__(self, x, y):\n",
    "        self.x, self.y = x, y\n",
    "        \n",
    "    def encodes(self, i):\n",
    "        return (TSeries.create(self.x[i]), TensorCategory(self.y[i]))"
   ]
  },
  {
   "cell_type": "code",
   "execution_count": null,
   "metadata": {},
   "outputs": [],
   "source": [
    "train_tl = TfmdLists(range_of(x_train), TSTransform(x_train, y_train))\n",
    "valid_tl = TfmdLists(range_of(x_test), TSTransform(x_test, y_test))"
   ]
  },
  {
   "cell_type": "code",
   "execution_count": null,
   "metadata": {},
   "outputs": [
    {
     "data": {
      "text/plain": [
       "(#5) [(TSeries(ch=1, len=1024), TensorCategory(3)),(TSeries(ch=1, len=1024), TensorCategory(3)),(TSeries(ch=1, len=1024), TensorCategory(1)),(TSeries(ch=1, len=1024), TensorCategory(3)),(TSeries(ch=1, len=1024), TensorCategory(3))]"
      ]
     },
     "execution_count": null,
     "metadata": {},
     "output_type": "execute_result"
    }
   ],
   "source": [
    "train_tl[0:5]"
   ]
  },
  {
   "cell_type": "code",
   "execution_count": null,
   "metadata": {},
   "outputs": [],
   "source": [
    "dls = DataLoaders.from_dsets(train_tl, valid_tl, bs=8)"
   ]
  },
  {
   "cell_type": "code",
   "execution_count": null,
   "metadata": {},
   "outputs": [],
   "source": [
    "tx, ty = dls.one_batch()"
   ]
  },
  {
   "cell_type": "code",
   "execution_count": null,
   "metadata": {},
   "outputs": [
    {
     "name": "stdout",
     "output_type": "stream",
     "text": [
      "1.05 s ± 15 ms per loop (mean ± std. dev. of 7 runs, 1 loop each)\n"
     ]
    }
   ],
   "source": [
    "%timeit cycle_dl(dls.valid)"
   ]
  },
  {
   "cell_type": "code",
   "execution_count": null,
   "metadata": {},
   "outputs": [],
   "source": [
    "val_dl =TfmdDL(valid_tl, bs=8)"
   ]
  },
  {
   "cell_type": "code",
   "execution_count": null,
   "metadata": {},
   "outputs": [
    {
     "name": "stdout",
     "output_type": "stream",
     "text": [
      "1.03 s ± 26.6 ms per loop (mean ± std. dev. of 7 runs, 1 loop each)\n"
     ]
    }
   ],
   "source": [
    "%timeit cycle_dl(val_dl)"
   ]
  },
  {
   "cell_type": "code",
   "execution_count": null,
   "metadata": {},
   "outputs": [],
   "source": [
    "class Slicer:\n",
    "    \"slice numpy ds\"\n",
    "    def __init__(self,to): self.to = to\n",
    "    def __getitem__(self, idxs):\n",
    "        return self.to.new(*self.to[idxs])\n",
    "\n",
    "class NumpyDataset2():\n",
    "    def __init__(self, X, y=None):\n",
    "        self.X, self.y = X, y\n",
    "\n",
    "    def __getitem__(self, idx):\n",
    "        if self.y is None: return (self.X[idx], )\n",
    "        else: return (self.X[idx], self.y[idx])\n",
    "\n",
    "    def __len__(self):\n",
    "        return len(self.X)\n",
    "\n",
    "    @property\n",
    "    def slicer(self):\n",
    "        return Slicer(self)\n",
    "\n",
    "    def new(self, X, y):\n",
    "        return type(self)(X, y)"
   ]
  },
  {
   "cell_type": "code",
   "execution_count": null,
   "metadata": {},
   "outputs": [],
   "source": [
    "ds = NumpyDataset2(x_train,y_train)"
   ]
  },
  {
   "cell_type": "code",
   "execution_count": null,
   "metadata": {},
   "outputs": [
    {
     "data": {
      "text/plain": [
       "<__main__.NumpyDataset2 at 0x7fb892455610>"
      ]
     },
     "execution_count": null,
     "metadata": {},
     "output_type": "execute_result"
    }
   ],
   "source": [
    "ds.slicer[0:3]"
   ]
  },
  {
   "cell_type": "code",
   "execution_count": null,
   "metadata": {},
   "outputs": [],
   "source": [
    "class ReadTSBatch(ItemTransform):\n",
    "    def __init__(self, to): self.to = to\n",
    "\n",
    "    def encodes(self, to):\n",
    "        res = (tensor(to.X).float(), )\n",
    "        res = res + (tensor(to.y),)\n",
    "        # if to.device is not None: res = to_device(res, to.device)\n",
    "        return res\n"
   ]
  },
  {
   "cell_type": "code",
   "execution_count": null,
   "metadata": {},
   "outputs": [],
   "source": [
    "rtsb = ReadTSBatch(ds)\n",
    "tx,ty = rtsb.encodes(ds.slicer[0:8])"
   ]
  },
  {
   "cell_type": "code",
   "execution_count": null,
   "metadata": {},
   "outputs": [
    {
     "data": {
      "text/plain": [
       "(torch.Size([8, 1024]), torch.Size([8]))"
      ]
     },
     "execution_count": null,
     "metadata": {},
     "output_type": "execute_result"
    }
   ],
   "source": [
    "tx.shape, ty.shape"
   ]
  },
  {
   "cell_type": "code",
   "execution_count": null,
   "metadata": {},
   "outputs": [],
   "source": [
    "class TSDataloader(TfmdDL):\n",
    "    do_item = noops\n",
    "    def __init__(self, dataset, bs=16, shuffle=False, after_batch=None, num_workers=0, **kwargs):\n",
    "        if after_batch is None: after_batch = L(TransformBlock().batch_tfms)+ReadTSBatch(dataset)\n",
    "        super().__init__(dataset, bs=bs, shuffle=shuffle, after_batch=after_batch, num_workers=num_workers, **kwargs)\n",
    "\n",
    "    def create_batch(self, b): return self.dataset.slicer[b]"
   ]
  },
  {
   "cell_type": "code",
   "execution_count": null,
   "metadata": {},
   "outputs": [],
   "source": [
    "dl = TSDataloader(ds, 8)"
   ]
  },
  {
   "cell_type": "code",
   "execution_count": null,
   "metadata": {},
   "outputs": [
    {
     "name": "stdout",
     "output_type": "stream",
     "text": [
      "8.65 ms ± 31.3 µs per loop (mean ± std. dev. of 7 runs, 100 loops each)\n"
     ]
    }
   ],
   "source": [
    "%timeit cycle_dl(dl)"
   ]
  },
  {
   "cell_type": "code",
   "execution_count": null,
   "metadata": {},
   "outputs": [
    {
     "data": {
      "text/plain": [
       "1000"
      ]
     },
     "execution_count": null,
     "metadata": {},
     "output_type": "execute_result"
    }
   ],
   "source": [
    "len(dl.dataset)"
   ]
  },
  {
   "cell_type": "markdown",
   "metadata": {},
   "source": [
    "# Export -"
   ]
  },
  {
   "cell_type": "code",
   "execution_count": null,
   "metadata": {},
   "outputs": [
    {
     "name": "stdout",
     "output_type": "stream",
     "text": [
      "Converted 00_core.ipynb.\n",
      "Converted 01_data.ipynb.\n",
      "Converted 02_models.ipynb.\n",
      "Converted 03_tabular.ipynb.\n",
      "Converted 04_testing.ipynb.\n",
      "Converted 99_index.ipynb.\n"
     ]
    }
   ],
   "source": [
    "# hide\n",
    "from nbdev.export import *\n",
    "notebook2script()"
   ]
  },
  {
   "cell_type": "code",
   "execution_count": null,
   "metadata": {},
   "outputs": [],
   "source": []
  }
 ],
 "metadata": {
  "kernelspec": {
   "display_name": "Python 3",
   "language": "python",
   "name": "python3"
  }
 },
 "nbformat": 4,
 "nbformat_minor": 4
}
